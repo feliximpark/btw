{
 "cells": [
  {
   "cell_type": "code",
   "execution_count": 1,
   "metadata": {},
   "outputs": [],
   "source": [
    "import pandas as pd\n",
    "import numpy as np"
   ]
  },
  {
   "cell_type": "markdown",
   "metadata": {},
   "source": [
    "## Creating Dataframe with fake data\n",
    "Dafür nehmen wir die Ergebnisse der letzten Landtagswahl und lassen das ganze zufällig schwanken. \n",
    "Das ist zwar teilweise verfälschend, weil wir dort andere Gebietszuschnitte hatten... \n",
    "... aber das müssen wir jetzt mal so hinnehmen. \n",
    "\n",
    "\n",
    "\n"
   ]
  },
  {
   "cell_type": "code",
   "execution_count": 8,
   "metadata": {},
   "outputs": [],
   "source": [
    "ddwahl = pd.read_csv(\"./Rohdaten/Gesamtergebnis_LWT19_WahlbezirkeDD.csv\", encoding= \"cp1252\", sep=\";\")\n",
    "#testdaten_wahl = pd.read_csv(\"./Daten_clean/ergebnisse_lt2019.csv\", encoding=\"utf-8\", sep=\";\")"
   ]
  },
  {
   "cell_type": "code",
   "execution_count": 15,
   "metadata": {},
   "outputs": [
    {
     "ename": "KeyError",
     "evalue": "\"None of [Int64Index([    1100,     2100,     2200,     2400,     3100,     3200,\\n                3300,     3401,     3402,     4100,\\n            ...\\n               94001,    94002,    95000,    96000,    97000,    98001,\\n               98002,    98003,    99010, 14612000],\\n           dtype='int64', length=505)] are in the [columns]\"",
     "output_type": "error",
     "traceback": [
      "\u001b[1;31m---------------------------------------------------------------------------\u001b[0m",
      "\u001b[1;31mKeyError\u001b[0m                                  Traceback (most recent call last)",
      "\u001b[1;32m<ipython-input-15-2a226fe17bab>\u001b[0m in \u001b[0;36m<module>\u001b[1;34m\u001b[0m\n\u001b[1;32m----> 1\u001b[1;33m \u001b[0mprint\u001b[0m\u001b[1;33m(\u001b[0m\u001b[0mlen\u001b[0m\u001b[1;33m(\u001b[0m\u001b[0mddwahl\u001b[0m\u001b[1;33m[\u001b[0m\u001b[0mddwahl\u001b[0m\u001b[1;33m[\u001b[0m\u001b[1;34m\"Wahlbezirk\"\u001b[0m\u001b[1;33m]\u001b[0m\u001b[1;33m]\u001b[0m\u001b[1;33m)\u001b[0m\u001b[1;33m)\u001b[0m\u001b[1;33m\u001b[0m\u001b[1;33m\u001b[0m\u001b[0m\n\u001b[0m",
      "\u001b[1;32m~\\Anaconda3\\lib\\site-packages\\pandas\\core\\frame.py\u001b[0m in \u001b[0;36m__getitem__\u001b[1;34m(self, key)\u001b[0m\n\u001b[0;32m   2932\u001b[0m                 \u001b[0mkey\u001b[0m \u001b[1;33m=\u001b[0m \u001b[0mlist\u001b[0m\u001b[1;33m(\u001b[0m\u001b[0mkey\u001b[0m\u001b[1;33m)\u001b[0m\u001b[1;33m\u001b[0m\u001b[1;33m\u001b[0m\u001b[0m\n\u001b[0;32m   2933\u001b[0m             indexer = self.loc._convert_to_indexer(key, axis=1,\n\u001b[1;32m-> 2934\u001b[1;33m                                                    raise_missing=True)\n\u001b[0m\u001b[0;32m   2935\u001b[0m \u001b[1;33m\u001b[0m\u001b[0m\n\u001b[0;32m   2936\u001b[0m         \u001b[1;31m# take() does not accept boolean indexers\u001b[0m\u001b[1;33m\u001b[0m\u001b[1;33m\u001b[0m\u001b[1;33m\u001b[0m\u001b[0m\n",
      "\u001b[1;32m~\\Anaconda3\\lib\\site-packages\\pandas\\core\\indexing.py\u001b[0m in \u001b[0;36m_convert_to_indexer\u001b[1;34m(self, obj, axis, is_setter, raise_missing)\u001b[0m\n\u001b[0;32m   1352\u001b[0m                 kwargs = {'raise_missing': True if is_setter else\n\u001b[0;32m   1353\u001b[0m                           raise_missing}\n\u001b[1;32m-> 1354\u001b[1;33m                 \u001b[1;32mreturn\u001b[0m \u001b[0mself\u001b[0m\u001b[1;33m.\u001b[0m\u001b[0m_get_listlike_indexer\u001b[0m\u001b[1;33m(\u001b[0m\u001b[0mobj\u001b[0m\u001b[1;33m,\u001b[0m \u001b[0maxis\u001b[0m\u001b[1;33m,\u001b[0m \u001b[1;33m**\u001b[0m\u001b[0mkwargs\u001b[0m\u001b[1;33m)\u001b[0m\u001b[1;33m[\u001b[0m\u001b[1;36m1\u001b[0m\u001b[1;33m]\u001b[0m\u001b[1;33m\u001b[0m\u001b[1;33m\u001b[0m\u001b[0m\n\u001b[0m\u001b[0;32m   1355\u001b[0m         \u001b[1;32melse\u001b[0m\u001b[1;33m:\u001b[0m\u001b[1;33m\u001b[0m\u001b[1;33m\u001b[0m\u001b[0m\n\u001b[0;32m   1356\u001b[0m             \u001b[1;32mtry\u001b[0m\u001b[1;33m:\u001b[0m\u001b[1;33m\u001b[0m\u001b[1;33m\u001b[0m\u001b[0m\n",
      "\u001b[1;32m~\\Anaconda3\\lib\\site-packages\\pandas\\core\\indexing.py\u001b[0m in \u001b[0;36m_get_listlike_indexer\u001b[1;34m(self, key, axis, raise_missing)\u001b[0m\n\u001b[0;32m   1159\u001b[0m         self._validate_read_indexer(keyarr, indexer,\n\u001b[0;32m   1160\u001b[0m                                     \u001b[0mo\u001b[0m\u001b[1;33m.\u001b[0m\u001b[0m_get_axis_number\u001b[0m\u001b[1;33m(\u001b[0m\u001b[0maxis\u001b[0m\u001b[1;33m)\u001b[0m\u001b[1;33m,\u001b[0m\u001b[1;33m\u001b[0m\u001b[1;33m\u001b[0m\u001b[0m\n\u001b[1;32m-> 1161\u001b[1;33m                                     raise_missing=raise_missing)\n\u001b[0m\u001b[0;32m   1162\u001b[0m         \u001b[1;32mreturn\u001b[0m \u001b[0mkeyarr\u001b[0m\u001b[1;33m,\u001b[0m \u001b[0mindexer\u001b[0m\u001b[1;33m\u001b[0m\u001b[1;33m\u001b[0m\u001b[0m\n\u001b[0;32m   1163\u001b[0m \u001b[1;33m\u001b[0m\u001b[0m\n",
      "\u001b[1;32m~\\Anaconda3\\lib\\site-packages\\pandas\\core\\indexing.py\u001b[0m in \u001b[0;36m_validate_read_indexer\u001b[1;34m(self, key, indexer, axis, raise_missing)\u001b[0m\n\u001b[0;32m   1244\u001b[0m                 raise KeyError(\n\u001b[0;32m   1245\u001b[0m                     u\"None of [{key}] are in the [{axis}]\".format(\n\u001b[1;32m-> 1246\u001b[1;33m                         key=key, axis=self.obj._get_axis_name(axis)))\n\u001b[0m\u001b[0;32m   1247\u001b[0m \u001b[1;33m\u001b[0m\u001b[0m\n\u001b[0;32m   1248\u001b[0m             \u001b[1;31m# We (temporarily) allow for some missing keys with .loc, except in\u001b[0m\u001b[1;33m\u001b[0m\u001b[1;33m\u001b[0m\u001b[1;33m\u001b[0m\u001b[0m\n",
      "\u001b[1;31mKeyError\u001b[0m: \"None of [Int64Index([    1100,     2100,     2200,     2400,     3100,     3200,\\n                3300,     3401,     3402,     4100,\\n            ...\\n               94001,    94002,    95000,    96000,    97000,    98001,\\n               98002,    98003,    99010, 14612000],\\n           dtype='int64', length=505)] are in the [columns]\""
     ]
    }
   ],
   "source": []
  },
  {
   "cell_type": "markdown",
   "metadata": {},
   "source": [
    "\n"
   ]
  },
  {
   "cell_type": "markdown",
   "metadata": {
    "collapsed": true
   },
   "source": [
    "### Merge mit den historischen Wahldaten"
   ]
  },
  {
   "cell_type": "code",
   "execution_count": 24,
   "metadata": {},
   "outputs": [],
   "source": [
    "# Ausspielen\n",
    "ddwahl.to_csv(\"./Daten_clean/dd_lt_2019.csv\",encoding=\"utf-8\", sep=\";\")"
   ]
  },
  {
   "cell_type": "code",
   "execution_count": 23,
   "metadata": {},
   "outputs": [
    {
     "data": {
      "text/html": [
       "<div>\n",
       "<style scoped>\n",
       "    .dataframe tbody tr th:only-of-type {\n",
       "        vertical-align: middle;\n",
       "    }\n",
       "\n",
       "    .dataframe tbody tr th {\n",
       "        vertical-align: top;\n",
       "    }\n",
       "\n",
       "    .dataframe thead th {\n",
       "        text-align: right;\n",
       "    }\n",
       "</style>\n",
       "<table border=\"1\" class=\"dataframe\">\n",
       "  <thead>\n",
       "    <tr style=\"text-align: right;\">\n",
       "      <th></th>\n",
       "      <th>Wahlbezirk</th>\n",
       "      <th>Wahlkreis</th>\n",
       "      <th>Wahlberechtigte</th>\n",
       "      <th>Wähler</th>\n",
       "      <th>gültige_1</th>\n",
       "      <th>CDU_1</th>\n",
       "      <th>DIE LINKE_1</th>\n",
       "      <th>SPD_1</th>\n",
       "      <th>AfD_1</th>\n",
       "      <th>GRÜNE_1</th>\n",
       "      <th>...</th>\n",
       "      <th>PIRATEN_2 Deutschland</th>\n",
       "      <th>Die PARTEI_2</th>\n",
       "      <th>BüSo_2</th>\n",
       "      <th>ADPM_2</th>\n",
       "      <th>Blaue #TeamPetry_2</th>\n",
       "      <th>KPD_2</th>\n",
       "      <th>ÖDP_2</th>\n",
       "      <th>Die Humanisten_2</th>\n",
       "      <th>PDV_2</th>\n",
       "      <th>Gesundheitsforschung_2</th>\n",
       "    </tr>\n",
       "  </thead>\n",
       "  <tbody>\n",
       "    <tr>\n",
       "      <th>0</th>\n",
       "      <td>01100</td>\n",
       "      <td>45.0</td>\n",
       "      <td>1333</td>\n",
       "      <td>506</td>\n",
       "      <td>501</td>\n",
       "      <td>139</td>\n",
       "      <td>110</td>\n",
       "      <td>26</td>\n",
       "      <td>85</td>\n",
       "      <td>93</td>\n",
       "      <td>...</td>\n",
       "      <td>2</td>\n",
       "      <td>17</td>\n",
       "      <td>0</td>\n",
       "      <td>0</td>\n",
       "      <td>2</td>\n",
       "      <td>0</td>\n",
       "      <td>1</td>\n",
       "      <td>6</td>\n",
       "      <td>0</td>\n",
       "      <td>3</td>\n",
       "    </tr>\n",
       "    <tr>\n",
       "      <th>1</th>\n",
       "      <td>02100</td>\n",
       "      <td>45.0</td>\n",
       "      <td>1332</td>\n",
       "      <td>498</td>\n",
       "      <td>492</td>\n",
       "      <td>87</td>\n",
       "      <td>145</td>\n",
       "      <td>31</td>\n",
       "      <td>79</td>\n",
       "      <td>100</td>\n",
       "      <td>...</td>\n",
       "      <td>9</td>\n",
       "      <td>19</td>\n",
       "      <td>1</td>\n",
       "      <td>0</td>\n",
       "      <td>0</td>\n",
       "      <td>1</td>\n",
       "      <td>5</td>\n",
       "      <td>2</td>\n",
       "      <td>0</td>\n",
       "      <td>2</td>\n",
       "    </tr>\n",
       "    <tr>\n",
       "      <th>2</th>\n",
       "      <td>02200</td>\n",
       "      <td>45.0</td>\n",
       "      <td>1700</td>\n",
       "      <td>658</td>\n",
       "      <td>646</td>\n",
       "      <td>161</td>\n",
       "      <td>152</td>\n",
       "      <td>33</td>\n",
       "      <td>141</td>\n",
       "      <td>100</td>\n",
       "      <td>...</td>\n",
       "      <td>6</td>\n",
       "      <td>15</td>\n",
       "      <td>1</td>\n",
       "      <td>0</td>\n",
       "      <td>2</td>\n",
       "      <td>2</td>\n",
       "      <td>7</td>\n",
       "      <td>9</td>\n",
       "      <td>1</td>\n",
       "      <td>2</td>\n",
       "    </tr>\n",
       "    <tr>\n",
       "      <th>3</th>\n",
       "      <td>02400</td>\n",
       "      <td>45.0</td>\n",
       "      <td>1390</td>\n",
       "      <td>489</td>\n",
       "      <td>485</td>\n",
       "      <td>134</td>\n",
       "      <td>78</td>\n",
       "      <td>38</td>\n",
       "      <td>138</td>\n",
       "      <td>52</td>\n",
       "      <td>...</td>\n",
       "      <td>3</td>\n",
       "      <td>7</td>\n",
       "      <td>1</td>\n",
       "      <td>0</td>\n",
       "      <td>1</td>\n",
       "      <td>0</td>\n",
       "      <td>4</td>\n",
       "      <td>0</td>\n",
       "      <td>0</td>\n",
       "      <td>4</td>\n",
       "    </tr>\n",
       "    <tr>\n",
       "      <th>4</th>\n",
       "      <td>03100</td>\n",
       "      <td>45.0</td>\n",
       "      <td>1219</td>\n",
       "      <td>501</td>\n",
       "      <td>492</td>\n",
       "      <td>121</td>\n",
       "      <td>85</td>\n",
       "      <td>34</td>\n",
       "      <td>111</td>\n",
       "      <td>84</td>\n",
       "      <td>...</td>\n",
       "      <td>6</td>\n",
       "      <td>17</td>\n",
       "      <td>2</td>\n",
       "      <td>2</td>\n",
       "      <td>1</td>\n",
       "      <td>0</td>\n",
       "      <td>2</td>\n",
       "      <td>6</td>\n",
       "      <td>1</td>\n",
       "      <td>2</td>\n",
       "    </tr>\n",
       "  </tbody>\n",
       "</table>\n",
       "<p>5 rows × 33 columns</p>\n",
       "</div>"
      ],
      "text/plain": [
       "  Wahlbezirk  Wahlkreis  Wahlberechtigte  Wähler  gültige_1  CDU_1  \\\n",
       "0      01100       45.0             1333     506        501    139   \n",
       "1      02100       45.0             1332     498        492     87   \n",
       "2      02200       45.0             1700     658        646    161   \n",
       "3      02400       45.0             1390     489        485    134   \n",
       "4      03100       45.0             1219     501        492    121   \n",
       "\n",
       "   DIE LINKE_1  SPD_1  AfD_1  GRÜNE_1  ...  PIRATEN_2 Deutschland  \\\n",
       "0          110     26     85       93  ...                      2   \n",
       "1          145     31     79      100  ...                      9   \n",
       "2          152     33    141      100  ...                      6   \n",
       "3           78     38    138       52  ...                      3   \n",
       "4           85     34    111       84  ...                      6   \n",
       "\n",
       "   Die PARTEI_2  BüSo_2  ADPM_2  Blaue #TeamPetry_2  KPD_2  ÖDP_2  \\\n",
       "0            17       0       0                   2      0      1   \n",
       "1            19       1       0                   0      1      5   \n",
       "2            15       1       0                   2      2      7   \n",
       "3             7       1       0                   1      0      4   \n",
       "4            17       2       2                   1      0      2   \n",
       "\n",
       "   Die Humanisten_2  PDV_2  Gesundheitsforschung_2  \n",
       "0                 6      0                       3  \n",
       "1                 2      0                       2  \n",
       "2                 9      1                       2  \n",
       "3                 0      0                       4  \n",
       "4                 6      1                       2  \n",
       "\n",
       "[5 rows x 33 columns]"
      ]
     },
     "execution_count": 23,
     "metadata": {},
     "output_type": "execute_result"
    }
   ],
   "source": [
    "ddwahl.head()"
   ]
  },
  {
   "cell_type": "code",
   "execution_count": 19,
   "metadata": {},
   "outputs": [],
   "source": [
    "ddwahl[\"Wahlbezirk\"] = ddwahl[\"Wahlbezirk\"].apply(str)"
   ]
  },
  {
   "cell_type": "code",
   "execution_count": 22,
   "metadata": {},
   "outputs": [
    {
     "name": "stdout",
     "output_type": "stream",
     "text": [
      "01100\n",
      "02100\n",
      "02200\n",
      "02400\n",
      "03100\n",
      "03200\n",
      "03300\n",
      "03401\n",
      "03402\n",
      "04100\n",
      "04200\n",
      "04300\n",
      "04400\n",
      "04500\n",
      "04600\n",
      "05101\n",
      "05102\n",
      "05200\n",
      "05301\n",
      "05302\n",
      "06100\n",
      "06200\n",
      "06300\n",
      "06400\n",
      "06500\n",
      "06600\n",
      "06700\n",
      "06800\n",
      "07100\n",
      "07200\n",
      "07300\n",
      "07400\n",
      "07500\n",
      "07600\n",
      "07700\n",
      "07800\n",
      "07900\n",
      "01000\n",
      "02001\n",
      "02002\n",
      "03001\n",
      "03002\n",
      "04001\n",
      "04002\n",
      "05001\n",
      "05002\n",
      "06001\n",
      "06002\n",
      "06003\n",
      "07001\n",
      "07002\n",
      "07003\n"
     ]
    }
   ],
   "source": [
    "for i in ddwahl.index:\n",
    "    zahl = ddwahl.at[i, \"Wahlbezirk\"]\n",
    "    if len(zahl)==4: \n",
    "        ddwahl.at[i, \"Wahlbezirk\"] = \"0\"+zahl\n",
    "        print(ddwahl.at[i, \"Wahlbezirk\"])"
   ]
  },
  {
   "cell_type": "code",
   "execution_count": null,
   "metadata": {},
   "outputs": [],
   "source": []
  },
  {
   "cell_type": "code",
   "execution_count": 18,
   "metadata": {},
   "outputs": [
    {
     "ename": "KeyError",
     "evalue": "\"['Schaar_1', 'DIE LINKE_1', 'pro Deutschland_2', 'WAGNER_1', 'DSU_1', 'Konrad Skatula_1', 'Freie Bürger Leipzig_1', 'WV MFU_1', 'DIE LINKE_2', 'DSU_2'] not in index\"",
     "output_type": "error",
     "traceback": [
      "\u001b[1;31m---------------------------------------------------------------------------\u001b[0m",
      "\u001b[1;31mKeyError\u001b[0m                                  Traceback (most recent call last)",
      "\u001b[1;32m<ipython-input-18-7475f0260d9f>\u001b[0m in \u001b[0;36m<module>\u001b[1;34m\u001b[0m\n\u001b[0;32m     26\u001b[0m        'Die PARTEI_2_LW2014']\n\u001b[0;32m     27\u001b[0m \u001b[1;33m\u001b[0m\u001b[0m\n\u001b[1;32m---> 28\u001b[1;33m \u001b[0mtest_wahl_aus_lw2014_und_historischen_daten\u001b[0m\u001b[1;33m[\u001b[0m\u001b[0mcols\u001b[0m\u001b[1;33m]\u001b[0m \u001b[1;33m=\u001b[0m \u001b[0mtest_wahl_aus_lw2014_und_historischen_daten\u001b[0m\u001b[1;33m[\u001b[0m\u001b[0mcols\u001b[0m\u001b[1;33m]\u001b[0m\u001b[1;33m.\u001b[0m\u001b[0mfillna\u001b[0m\u001b[1;33m(\u001b[0m\u001b[1;36m0\u001b[0m\u001b[1;33m)\u001b[0m\u001b[1;33m.\u001b[0m\u001b[0mastype\u001b[0m\u001b[1;33m(\u001b[0m\u001b[0mnp\u001b[0m\u001b[1;33m.\u001b[0m\u001b[0mint64\u001b[0m\u001b[1;33m)\u001b[0m\u001b[1;33m\u001b[0m\u001b[1;33m\u001b[0m\u001b[0m\n\u001b[0m",
      "\u001b[1;32m~\\Anaconda3\\lib\\site-packages\\pandas\\core\\frame.py\u001b[0m in \u001b[0;36m__getitem__\u001b[1;34m(self, key)\u001b[0m\n\u001b[0;32m   2932\u001b[0m                 \u001b[0mkey\u001b[0m \u001b[1;33m=\u001b[0m \u001b[0mlist\u001b[0m\u001b[1;33m(\u001b[0m\u001b[0mkey\u001b[0m\u001b[1;33m)\u001b[0m\u001b[1;33m\u001b[0m\u001b[1;33m\u001b[0m\u001b[0m\n\u001b[0;32m   2933\u001b[0m             indexer = self.loc._convert_to_indexer(key, axis=1,\n\u001b[1;32m-> 2934\u001b[1;33m                                                    raise_missing=True)\n\u001b[0m\u001b[0;32m   2935\u001b[0m \u001b[1;33m\u001b[0m\u001b[0m\n\u001b[0;32m   2936\u001b[0m         \u001b[1;31m# take() does not accept boolean indexers\u001b[0m\u001b[1;33m\u001b[0m\u001b[1;33m\u001b[0m\u001b[1;33m\u001b[0m\u001b[0m\n",
      "\u001b[1;32m~\\Anaconda3\\lib\\site-packages\\pandas\\core\\indexing.py\u001b[0m in \u001b[0;36m_convert_to_indexer\u001b[1;34m(self, obj, axis, is_setter, raise_missing)\u001b[0m\n\u001b[0;32m   1352\u001b[0m                 kwargs = {'raise_missing': True if is_setter else\n\u001b[0;32m   1353\u001b[0m                           raise_missing}\n\u001b[1;32m-> 1354\u001b[1;33m                 \u001b[1;32mreturn\u001b[0m \u001b[0mself\u001b[0m\u001b[1;33m.\u001b[0m\u001b[0m_get_listlike_indexer\u001b[0m\u001b[1;33m(\u001b[0m\u001b[0mobj\u001b[0m\u001b[1;33m,\u001b[0m \u001b[0maxis\u001b[0m\u001b[1;33m,\u001b[0m \u001b[1;33m**\u001b[0m\u001b[0mkwargs\u001b[0m\u001b[1;33m)\u001b[0m\u001b[1;33m[\u001b[0m\u001b[1;36m1\u001b[0m\u001b[1;33m]\u001b[0m\u001b[1;33m\u001b[0m\u001b[1;33m\u001b[0m\u001b[0m\n\u001b[0m\u001b[0;32m   1355\u001b[0m         \u001b[1;32melse\u001b[0m\u001b[1;33m:\u001b[0m\u001b[1;33m\u001b[0m\u001b[1;33m\u001b[0m\u001b[0m\n\u001b[0;32m   1356\u001b[0m             \u001b[1;32mtry\u001b[0m\u001b[1;33m:\u001b[0m\u001b[1;33m\u001b[0m\u001b[1;33m\u001b[0m\u001b[0m\n",
      "\u001b[1;32m~\\Anaconda3\\lib\\site-packages\\pandas\\core\\indexing.py\u001b[0m in \u001b[0;36m_get_listlike_indexer\u001b[1;34m(self, key, axis, raise_missing)\u001b[0m\n\u001b[0;32m   1159\u001b[0m         self._validate_read_indexer(keyarr, indexer,\n\u001b[0;32m   1160\u001b[0m                                     \u001b[0mo\u001b[0m\u001b[1;33m.\u001b[0m\u001b[0m_get_axis_number\u001b[0m\u001b[1;33m(\u001b[0m\u001b[0maxis\u001b[0m\u001b[1;33m)\u001b[0m\u001b[1;33m,\u001b[0m\u001b[1;33m\u001b[0m\u001b[1;33m\u001b[0m\u001b[0m\n\u001b[1;32m-> 1161\u001b[1;33m                                     raise_missing=raise_missing)\n\u001b[0m\u001b[0;32m   1162\u001b[0m         \u001b[1;32mreturn\u001b[0m \u001b[0mkeyarr\u001b[0m\u001b[1;33m,\u001b[0m \u001b[0mindexer\u001b[0m\u001b[1;33m\u001b[0m\u001b[1;33m\u001b[0m\u001b[0m\n\u001b[0;32m   1163\u001b[0m \u001b[1;33m\u001b[0m\u001b[0m\n",
      "\u001b[1;32m~\\Anaconda3\\lib\\site-packages\\pandas\\core\\indexing.py\u001b[0m in \u001b[0;36m_validate_read_indexer\u001b[1;34m(self, key, indexer, axis, raise_missing)\u001b[0m\n\u001b[0;32m   1250\u001b[0m             \u001b[1;32mif\u001b[0m \u001b[1;32mnot\u001b[0m\u001b[1;33m(\u001b[0m\u001b[0mself\u001b[0m\u001b[1;33m.\u001b[0m\u001b[0mname\u001b[0m \u001b[1;33m==\u001b[0m \u001b[1;34m'loc'\u001b[0m \u001b[1;32mand\u001b[0m \u001b[1;32mnot\u001b[0m \u001b[0mraise_missing\u001b[0m\u001b[1;33m)\u001b[0m\u001b[1;33m:\u001b[0m\u001b[1;33m\u001b[0m\u001b[1;33m\u001b[0m\u001b[0m\n\u001b[0;32m   1251\u001b[0m                 \u001b[0mnot_found\u001b[0m \u001b[1;33m=\u001b[0m \u001b[0mlist\u001b[0m\u001b[1;33m(\u001b[0m\u001b[0mset\u001b[0m\u001b[1;33m(\u001b[0m\u001b[0mkey\u001b[0m\u001b[1;33m)\u001b[0m \u001b[1;33m-\u001b[0m \u001b[0mset\u001b[0m\u001b[1;33m(\u001b[0m\u001b[0max\u001b[0m\u001b[1;33m)\u001b[0m\u001b[1;33m)\u001b[0m\u001b[1;33m\u001b[0m\u001b[1;33m\u001b[0m\u001b[0m\n\u001b[1;32m-> 1252\u001b[1;33m                 \u001b[1;32mraise\u001b[0m \u001b[0mKeyError\u001b[0m\u001b[1;33m(\u001b[0m\u001b[1;34m\"{} not in index\"\u001b[0m\u001b[1;33m.\u001b[0m\u001b[0mformat\u001b[0m\u001b[1;33m(\u001b[0m\u001b[0mnot_found\u001b[0m\u001b[1;33m)\u001b[0m\u001b[1;33m)\u001b[0m\u001b[1;33m\u001b[0m\u001b[1;33m\u001b[0m\u001b[0m\n\u001b[0m\u001b[0;32m   1253\u001b[0m \u001b[1;33m\u001b[0m\u001b[0m\n\u001b[0;32m   1254\u001b[0m             \u001b[1;31m# we skip the warning on Categorical/Interval\u001b[0m\u001b[1;33m\u001b[0m\u001b[1;33m\u001b[0m\u001b[1;33m\u001b[0m\u001b[0m\n",
      "\u001b[1;31mKeyError\u001b[0m: \"['Schaar_1', 'DIE LINKE_1', 'pro Deutschland_2', 'WAGNER_1', 'DSU_1', 'Konrad Skatula_1', 'Freie Bürger Leipzig_1', 'WV MFU_1', 'DIE LINKE_2', 'DSU_2'] not in index\""
     ]
    }
   ],
   "source": [
    "# alte Version, vielleicht mal aufbewahren\n",
    "\n",
    "\n",
    "# cols = ['WK-Nr', 'AGS', 'Wahlberechtigte', 'Wähler', 'gültige_1',\n",
    "#        'CDU_1', 'DIE LINKE_1', 'SPD_1', 'FDP_1', 'GRÜNE_1', 'NPD_1',\n",
    "#        'PIRATEN_1', 'BüSo_1', 'DSU_1', 'AfD_1', 'FREIE WÄHLER_1',\n",
    "#        'Die PARTEI_1', 'Freie Bürger Leipzig_1', 'Konrad Skatula_1',\n",
    "#        'Schaar_1', 'WAGNER_1', 'WV MFU_1', 'gültige_2', 'CDU_2', 'DIE LINKE_2',\n",
    "#        'SPD_2', 'FDP_2', 'GRÜNE_2', 'NPD_2', 'Tierschutzpartei_2', 'PIRATEN_2',\n",
    "#        'BüSo_2', 'DSU_2', 'AfD_2', 'pro Deutschland_2', 'FREIE WÄHLER_2',\n",
    "#        'Die PARTEI_2', 'Unnamed: 0_y', 'Wahlberechtigte_EW2019',\n",
    "#        'Wähler_EW2019', 'gültige_EW2019', 'CDU_EW2019', 'DIE LINKE_EW2019',\n",
    "#        'SPD_EW2019', 'AfD_EW2019', 'GRÜNE_EW2019', 'FDP_EW2019',\n",
    "#        'FREIE WÄHLER_EW2019', 'Wahlberechtigte_BW2017', 'Wähler_BW2017',\n",
    "#        'gültige_2_BW2017', 'CDU_2_BW2017', 'DIE LINKE_2_BW2017',\n",
    "#        'SPD_2_BW2017', 'AfD_2_BW2017', 'GRÜNE_2_BW2017', 'FDP_2_BW2017',\n",
    "#        'FREIE WÄHLER_2_BW2017', 'WK-Nr_LW2014', \n",
    "#        'Wahlberechtigte_LW2014', 'Wähler_LW2014', 'gültige_1_LW2014',\n",
    "#        'CDU_1_LW2014', 'DIE LINKE_1_LW2014', 'SPD_1_LW2014', 'FDP_1_LW2014',\n",
    "#        'GRÜNE_1_LW2014', 'NPD_1_LW2014', 'PIRATEN_1_LW2014', 'BüSo_1_LW2014',\n",
    "#        'DSU_1_LW2014', 'AfD_1_LW2014', 'FREIE WÄHLER_1_LW2014',\n",
    "#        'Die PARTEI_1_LW2014', 'Freie Bürger Leipzig_1_LW2014',\n",
    "#        'Konrad Skatula_1_LW2014', 'Schaar_1_LW2014', 'WAGNER_1_LW2014',\n",
    "#        'WV MFU_1_LW2014', 'gültige_2_LW2014', 'CDU_2_LW2014',\n",
    "#        'DIE LINKE_2_LW2014', 'SPD_2_LW2014', 'FDP_2_LW2014', 'GRÜNE_2_LW2014',\n",
    "#        'NPD_2_LW2014', 'Tierschutzpartei_2_LW2014', 'PIRATEN_2_LW2014',\n",
    "#        'BüSo_2_LW2014', 'DSU_2_LW2014', 'AfD_2_LW2014',\n",
    "#        'pro Deutschland_2_LW2014', 'FREIE WÄHLER_2_LW2014',\n",
    "#        'Die PARTEI_2_LW2014']\n",
    "\n",
    "# test_wahl_aus_lw2014_und_historischen_daten[cols] = test_wahl_aus_lw2014_und_historischen_daten[cols].fillna(0).astype(np.int64)"
   ]
  },
  {
   "cell_type": "code",
   "execution_count": null,
   "metadata": {
    "collapsed": true
   },
   "outputs": [],
   "source": []
  }
 ],
 "metadata": {
  "hide_input": false,
  "kernelspec": {
   "display_name": "Python 3",
   "language": "python",
   "name": "python3"
  },
  "language_info": {
   "codemirror_mode": {
    "name": "ipython",
    "version": 3
   },
   "file_extension": ".py",
   "mimetype": "text/x-python",
   "name": "python",
   "nbconvert_exporter": "python",
   "pygments_lexer": "ipython3",
   "version": "3.9.5"
  },
  "toc": {
   "base_numbering": 1,
   "nav_menu": {},
   "number_sections": true,
   "sideBar": true,
   "skip_h1_title": false,
   "title_cell": "Table of Contents",
   "title_sidebar": "Contents",
   "toc_cell": false,
   "toc_position": {},
   "toc_section_display": true,
   "toc_window_display": false
  },
  "varInspector": {
   "cols": {
    "lenName": 16,
    "lenType": 16,
    "lenVar": 40
   },
   "kernels_config": {
    "python": {
     "delete_cmd_postfix": "",
     "delete_cmd_prefix": "del ",
     "library": "var_list.py",
     "varRefreshCmd": "print(var_dic_list())"
    },
    "r": {
     "delete_cmd_postfix": ") ",
     "delete_cmd_prefix": "rm(",
     "library": "var_list.r",
     "varRefreshCmd": "cat(var_dic_list()) "
    }
   },
   "types_to_exclude": [
    "module",
    "function",
    "builtin_function_or_method",
    "instance",
    "_Feature"
   ],
   "window_display": false
  }
 },
 "nbformat": 4,
 "nbformat_minor": 2
}
