{
 "cells": [
  {
   "cell_type": "code",
   "execution_count": 108,
   "metadata": {
    "collapsed": true
   },
   "outputs": [],
   "source": [
    "import pandas as pd\n",
    "import numpy as np"
   ]
  },
  {
   "cell_type": "markdown",
   "metadata": {},
   "source": [
    "## Vorbereitung Landtagswahl 2014"
   ]
  },
  {
   "cell_type": "markdown",
   "metadata": {},
   "source": [
    "## Achtung: Wir verwenden für alle Zahlen int64!!!\n",
    "\n",
    "Müssen wir am Ende vor der Ausspielung uwandeln. "
   ]
  },
  {
   "cell_type": "code",
   "execution_count": 109,
   "metadata": {
    "collapsed": true
   },
   "outputs": [],
   "source": [
    "df_lw_2014 = pd.read_excel(\"./Rohdaten/LW_2014_original.xlsx\", sheet_name=\"LW14_Ergebnisse_GE_TG\")"
   ]
  },
  {
   "cell_type": "code",
   "execution_count": 110,
   "metadata": {
    "collapsed": true
   },
   "outputs": [],
   "source": [
    "# für Leipzig, Dresden, Chemnitz und Zwickau zusammengerechnete Werte pro Stadt ausspielen\n",
    "# ist wichtig für die Karte, damit wir die Kommunen einheitlich färben können. \n",
    "\n",
    "#Leipzig\n",
    "le = df_lw_2014[df_lw_2014[\"Ortname\"].str.contains(\"Leipzig\")]\n",
    "leipzig = le.sum()\n",
    "leipzig_series = pd.Series(leipzig)\n",
    "leipzig_series[\"WK-Nr\"] = 2733\n",
    "leipzig_series[\"WK-Name\"] = \"Leipzig 1-7\"\n",
    "leipzig_series[\"AGS\"] = 14713000\n",
    "#Lösche die einzelnen Wahlkreise aus der Datei, da diese ansonsten falsche Gesamtzahlen aufweist... \n",
    "df_lw_2014 = df_lw_2014[~df_lw_2014[\"Ortname\"].str.contains(\"Leipzig\")]\n"
   ]
  },
  {
   "cell_type": "code",
   "execution_count": 111,
   "metadata": {},
   "outputs": [
    {
     "data": {
      "text/plain": [
       "(439, 44)"
      ]
     },
     "execution_count": 111,
     "metadata": {},
     "output_type": "execute_result"
    }
   ],
   "source": [
    "df_lw_2014.shape"
   ]
  },
  {
   "cell_type": "code",
   "execution_count": 112,
   "metadata": {
    "collapsed": true
   },
   "outputs": [],
   "source": [
    "#Dresden\n",
    "dr = df_lw_2014[df_lw_2014[\"Ortname\"].str.contains(\"Dresden\")]\n",
    "dresden = dr.sum() \n",
    "dresden_series = pd.Series(dresden)\n",
    "dresden_series[\"WK-Nr\"] = 4147\n",
    "dresden_series[\"WK-Name\"] = \"Dresden 1-7\"\n",
    "dresden_series[\"AGS\"] = 14612000\n",
    "df_lw_2014 = df_lw_2014[~df_lw_2014[\"Ortname\"].str.contains(\"Dresden\")]"
   ]
  },
  {
   "cell_type": "code",
   "execution_count": 113,
   "metadata": {
    "collapsed": true
   },
   "outputs": [],
   "source": [
    "# Zwickau\n",
    "zw = df_lw_2014[df_lw_2014[\"Ortname\"].str.contains(\"Zwickau\")]\n",
    "zwickau = zw.sum() \n",
    "zwickau_series = pd.Series(zwickau)\n",
    "zwickau_series[\"WK-Nr\"] = 6677\n",
    "zwickau_series[\"WK-Name\"] = \"Zwickau 2-3\"\n",
    "zwickau_series[\"AGS\"] = 14524330\n",
    "df_lw_2014 = df_lw_2014[~df_lw_2014[\"Ortname\"].str.contains(\"Zwickau\")]"
   ]
  },
  {
   "cell_type": "code",
   "execution_count": 114,
   "metadata": {
    "collapsed": true
   },
   "outputs": [],
   "source": [
    "# Chemnitz\n",
    "ch = df_lw_2014[df_lw_2014[\"Ortname\"].str.contains(\"Chemnitz\")]\n",
    "chemnitz = ch.sum()\n",
    "chemnitz_series = pd.Series(chemnitz)\n",
    "chemnitz_series[\"WK-Nr\"] = 1012\n",
    "chemnitz_series[\"WK-Name\"] = \"Chemnitz 1-3\"\n",
    "chemnitz_series[\"AGS\"] = 14511000\n",
    "df_lw_2014 = df_lw_2014[~df_lw_2014[\"Ortname\"].str.contains(\"Chemnitz\")]"
   ]
  },
  {
   "cell_type": "code",
   "execution_count": 115,
   "metadata": {
    "collapsed": true
   },
   "outputs": [],
   "source": [
    "# Städte-Series an Dataframe anhängen\n",
    "df_lw_2014 = df_lw_2014.append([leipzig_series, dresden_series, zwickau_series, chemnitz_series], ignore_index=True)"
   ]
  },
  {
   "cell_type": "code",
   "execution_count": 116,
   "metadata": {},
   "outputs": [
    {
     "data": {
      "text/html": [
       "<div>\n",
       "<style scoped>\n",
       "    .dataframe tbody tr th:only-of-type {\n",
       "        vertical-align: middle;\n",
       "    }\n",
       "\n",
       "    .dataframe tbody tr th {\n",
       "        vertical-align: top;\n",
       "    }\n",
       "\n",
       "    .dataframe thead th {\n",
       "        text-align: right;\n",
       "    }\n",
       "</style>\n",
       "<table border=\"1\" class=\"dataframe\">\n",
       "  <thead>\n",
       "    <tr style=\"text-align: right;\">\n",
       "      <th></th>\n",
       "      <th>Wahl</th>\n",
       "      <th>WK-Nr</th>\n",
       "      <th>WK-Name</th>\n",
       "      <th>Ebene</th>\n",
       "      <th>AGS</th>\n",
       "      <th>Ortname</th>\n",
       "      <th>Briefwahl_Sonderfall</th>\n",
       "      <th>Wahlberechtigte</th>\n",
       "      <th>Wähler</th>\n",
       "      <th>ungültige_1</th>\n",
       "      <th>...</th>\n",
       "      <th>GRÜNE_2</th>\n",
       "      <th>NPD_2</th>\n",
       "      <th>Tierschutzpartei_2</th>\n",
       "      <th>PIRATEN_2</th>\n",
       "      <th>BüSo_2</th>\n",
       "      <th>DSU_2</th>\n",
       "      <th>AfD_2</th>\n",
       "      <th>pro Deutschland_2</th>\n",
       "      <th>FREIE WÄHLER_2</th>\n",
       "      <th>Die PARTEI_2</th>\n",
       "    </tr>\n",
       "  </thead>\n",
       "  <tbody>\n",
       "    <tr>\n",
       "      <th>427</th>\n",
       "      <td>LW14LW14LW14LW14LW14LW14LW14</td>\n",
       "      <td>2733</td>\n",
       "      <td>Leipzig 1-7</td>\n",
       "      <td>TGTGTGTGTGTGTG</td>\n",
       "      <td>14713000</td>\n",
       "      <td>Leipzig 1Leipzig 2Leipzig 3Leipzig 4Leipzig 5L...</td>\n",
       "      <td>0</td>\n",
       "      <td>432324</td>\n",
       "      <td>191422</td>\n",
       "      <td>2201</td>\n",
       "      <td>...</td>\n",
       "      <td>21342</td>\n",
       "      <td>6331</td>\n",
       "      <td>2845</td>\n",
       "      <td>3454</td>\n",
       "      <td>440</td>\n",
       "      <td>223</td>\n",
       "      <td>13862</td>\n",
       "      <td>269</td>\n",
       "      <td>1824</td>\n",
       "      <td>2534</td>\n",
       "    </tr>\n",
       "  </tbody>\n",
       "</table>\n",
       "<p>1 rows × 44 columns</p>\n",
       "</div>"
      ],
      "text/plain": [
       "                             Wahl  WK-Nr      WK-Name           Ebene  \\\n",
       "427  LW14LW14LW14LW14LW14LW14LW14   2733  Leipzig 1-7  TGTGTGTGTGTGTG   \n",
       "\n",
       "          AGS                                            Ortname  \\\n",
       "427  14713000  Leipzig 1Leipzig 2Leipzig 3Leipzig 4Leipzig 5L...   \n",
       "\n",
       "    Briefwahl_Sonderfall  Wahlberechtigte  Wähler  ungültige_1      ...       \\\n",
       "427                    0           432324  191422         2201      ...        \n",
       "\n",
       "     GRÜNE_2  NPD_2  Tierschutzpartei_2  PIRATEN_2  BüSo_2  DSU_2  AfD_2  \\\n",
       "427    21342   6331                2845       3454     440    223  13862   \n",
       "\n",
       "     pro Deutschland_2  FREIE WÄHLER_2  Die PARTEI_2  \n",
       "427                269            1824          2534  \n",
       "\n",
       "[1 rows x 44 columns]"
      ]
     },
     "execution_count": 116,
     "metadata": {},
     "output_type": "execute_result"
    }
   ],
   "source": [
    "test = df_lw_2014[df_lw_2014[\"Ortname\"].str.contains(\"Leipzig\")]\n",
    "test"
   ]
  },
  {
   "cell_type": "code",
   "execution_count": 117,
   "metadata": {
    "collapsed": true
   },
   "outputs": [],
   "source": [
    "# Löschen von überflüssigen Columns \n",
    "df_lw_2014.drop(columns=['Wahl','Ebene', 'Ortname', 'Briefwahl_Sonderfall', 'ungültige_1', 'ungültige_2'], inplace=True) "
   ]
  },
  {
   "cell_type": "code",
   "execution_count": 118,
   "metadata": {
    "collapsed": true
   },
   "outputs": [],
   "source": [
    "df_lw_2014.to_csv(\"./Rohdaten/Testdaten_aus_LTW_2014.csv\", encoding=\"utf-8\", sep=\";\")"
   ]
  },
  {
   "cell_type": "code",
   "execution_count": 119,
   "metadata": {
    "collapsed": true
   },
   "outputs": [],
   "source": [
    "# Umbennen der Spalten \n",
    "df_lw_2014 = df_lw_2014.add_suffix(\"_LW2014\")"
   ]
  },
  {
   "cell_type": "code",
   "execution_count": null,
   "metadata": {},
   "outputs": [],
   "source": []
  },
  {
   "cell_type": "markdown",
   "metadata": {},
   "source": [
    "## Vorbereitung Bundestagswahl 2017"
   ]
  },
  {
   "cell_type": "code",
   "execution_count": 120,
   "metadata": {
    "collapsed": true
   },
   "outputs": [],
   "source": [
    "df_bw_2017 = pd.read_excel(\"./Rohdaten/BW_2017_original.xlsx\", sheet_name=\"BW17_Ergebnisse_GE_TG\")"
   ]
  },
  {
   "cell_type": "code",
   "execution_count": 121,
   "metadata": {},
   "outputs": [
    {
     "name": "stderr",
     "output_type": "stream",
     "text": [
      "C:\\Users\\Felix\\Anaconda3\\lib\\site-packages\\pandas\\core\\indexing.py:1472: FutureWarning: \n",
      "Passing list-likes to .loc or [] with any missing label will raise\n",
      "KeyError in the future, you can use .reindex() as an alternative.\n",
      "\n",
      "See the documentation here:\n",
      "https://pandas.pydata.org/pandas-docs/stable/indexing.html#deprecate-loc-reindex-listlike\n",
      "  return self._getitem_tuple(key)\n"
     ]
    }
   ],
   "source": [
    "#Für Ausgangsgrafik für Dresden und Leipzig Wahlkreise zusammenziehen\n",
    "\n",
    "le = df_bw_2017[df_bw_2017[\"Ortname\"].str.contains(\"Leipzig\")]\n",
    "leipzig = le.sum()\n",
    "leipzig_series_bt = pd.Series(leipzig)\n",
    "leipzig_series_bt[\"WK-Nr\"] = 152153\n",
    "leipzig_series_bt[\"WK-Name\"] = \"Leipzig 1-2\"\n",
    "leipzig_series_bt[\"AGS\"] = 14713000\n",
    "\n",
    "dr = df_bw_2017[df_bw_2017[\"Ortname\"].str.contains(\"Dresden\")]\n",
    "dresden = dr.sum()\n",
    "dresden_series_bt = pd.Series(dresden)\n",
    "dresden_series_bt[\"WK-Nr\"] = 152153\n",
    "dresden_series_bt[\"WK-Name\"] = \"Leipzig 1-2\"\n",
    "dresden_series_bt[\"AGS\"] = 14713000\n",
    "#Lösche die einzelnen Wahlkreise aus der Datei, da diese ansonsten falsche Gesamtzahlen aufweist... \n",
    "df_bw_2017 = df_bw_2017[~df_bw_2017[\"Ortname\"].str.contains(\"Leipzig\")]\n",
    "df_bw_2017 = df_bw_2017[~df_bw_2017[\"Ortname\"].str.contains(\"Dresden\")]\n",
    "df_bw_2017 = df_bw_2017.append([leipzig_series_bt, dresden_series_bt], ignore_index=True)"
   ]
  },
  {
   "cell_type": "code",
   "execution_count": 122,
   "metadata": {
    "collapsed": true
   },
   "outputs": [],
   "source": [
    "# Löschen von überflüssigen Columns \n",
    "df_bw_2017.drop(columns=['Wahl', 'WK-Nr', 'WK-Name','Ebene', 'Ortname', 'Briefwahl_Sonderfall', \\\n",
    "                         'ungültige_1', 'ungültige_2'], inplace=True) \n",
    "# hier können zudem alle Erststimmen-Ergebnisse gelöscht werden, brauchen nur die historischen Zweitstimmenergebnisse\n",
    "df_bw_2017.drop(columns=['gültige_1', 'CDU_1', 'DIE LINKE_1', 'SPD_1', 'AfD_1', 'GRÜNE_1',\n",
    "       'NPD_1', 'FDP_1', 'PIRATEN_1', 'FREIE WÄHLER_1', 'BüSo_1', 'MLPD_1',\n",
    "       'ÖDP_1', 'Die PARTEI_1', 'Bürgerkandidat_1', 'Der Auserwählte_1',\n",
    "       'Heimat Region Zwickau_1', 'Held_1', 'Hoyer_1',\n",
    "       'Internationalistisch. Bündnis_1', 'RINK_1', 'SGP_1',\n",
    "       'Wir sind LEIPZIGER_1'], inplace=True) \n",
    "# jetzt löschen wir noch alle Zweitstimmenergebnisse bis auf unsere sieben stärksten Parteien\n",
    "df_bw_2017.drop(columns=['NPD_2', 'PIRATEN_2', 'BüSo_2', 'MLPD_2', 'BGE_2', 'DiB_2','ÖDP_2', \\\n",
    "                         'Die PARTEI_2', 'Tierschutzpartei_2', 'V-Partei³_2'], inplace=True)\n",
    "\n",
    "# Endung an alle Spalten hängen\n",
    "df_bw_2017 = df_bw_2017.add_suffix(\"_BW2017\")"
   ]
  },
  {
   "cell_type": "code",
   "execution_count": 123,
   "metadata": {},
   "outputs": [
    {
     "name": "stdout",
     "output_type": "stream",
     "text": [
      "<class 'pandas.core.frame.DataFrame'>\n",
      "RangeIndex: 422 entries, 0 to 421\n",
      "Data columns (total 11 columns):\n",
      "AGS_BW2017                422 non-null int64\n",
      "Wahlberechtigte_BW2017    422 non-null int64\n",
      "Wähler_BW2017             422 non-null int64\n",
      "gültige_2_BW2017          422 non-null int64\n",
      "CDU_2_BW2017              422 non-null int64\n",
      "DIE LINKE_2_BW2017        422 non-null int64\n",
      "SPD_2_BW2017              422 non-null int64\n",
      "AfD_2_BW2017              422 non-null int64\n",
      "GRÜNE_2_BW2017            422 non-null int64\n",
      "FDP_2_BW2017              422 non-null int64\n",
      "FREIE WÄHLER_2_BW2017     422 non-null int64\n",
      "dtypes: int64(11)\n",
      "memory usage: 36.3 KB\n"
     ]
    }
   ],
   "source": [
    "# check ob alle Zahlen int64 sind\n",
    "df_bw_2017.info()"
   ]
  },
  {
   "cell_type": "markdown",
   "metadata": {},
   "source": [
    "## Vorbereitung Europawahl 2019"
   ]
  },
  {
   "cell_type": "code",
   "execution_count": 124,
   "metadata": {
    "collapsed": true
   },
   "outputs": [],
   "source": [
    "df_ew_2019 = pd.read_excel(\"./Rohdaten/EW_2019_original.xlsx\", sheet_name=\"EW19_endgErgebnisse_GE&KS\")"
   ]
  },
  {
   "cell_type": "code",
   "execution_count": 125,
   "metadata": {},
   "outputs": [
    {
     "data": {
      "text/plain": [
       "Index(['Wahl', 'WK-Nr', 'WK-Name', 'Ebene', 'AGS', 'Ortname',\n",
       "       'Briefwahl_Sonderfall', 'genaue Briefwahlzuordnung', 'A1', 'A2',\n",
       "       ...\n",
       "       'DIE FRAUEN in %', 'Graue Panther in %', 'LKR in %',\n",
       "       'MENSCHLICHE WELT in %', 'NL in %', 'ÖkoLinX in %',\n",
       "       'Die Humanisten in %', 'PARTEI FÜR DIE TIERE in %',\n",
       "       'Gesundheitsforschung in %', 'Volt in %'],\n",
       "      dtype='object', length=101)"
      ]
     },
     "execution_count": 125,
     "metadata": {},
     "output_type": "execute_result"
    }
   ],
   "source": [
    "df_ew_2019.columns"
   ]
  },
  {
   "cell_type": "code",
   "execution_count": 126,
   "metadata": {
    "collapsed": true
   },
   "outputs": [],
   "source": [
    "df_ew_2019.drop(columns=['Wahl', 'WK-Nr', 'WK-Name','Ebene', 'Ortname', 'Briefwahl_Sonderfall', 'A1', 'A2', 'A3',\\\n",
    "                          'genaue Briefwahlzuordnung', 'B1','ungültige'], inplace=True) \n",
    "\n",
    "# jetzt löschen wir noch alle Zweitstimmenergebnisse bis auf unsere sieben stärksten Parteien\n",
    "df_ew_2019.drop(columns=['DIE FRAUEN in %', 'Graue Panther in %', 'LKR in %',\n",
    "       'MENSCHLICHE WELT in %', 'NL in %', 'ÖkoLinX in %',\n",
    "       'Die Humanisten in %', 'PARTEI FÜR DIE TIERE in %',\n",
    "       'Gesundheitsforschung in %', 'Volt in %', 'NPD', \n",
    "                        'PIRATEN',\n",
    "       'Tierschutzpartei', 'FAMILIE', 'Die PARTEI', 'Volksabstimmung', 'ÖDP',\n",
    "       'DKP', 'MLPD', 'BP', 'SGP', 'TIERSCHUTZ hier!', 'Tierschutzallianz',\n",
    "       'Bündnis C', 'BIG', 'BGE', 'DIE DIREKTE!', 'DiEM25', 'III. Weg',\n",
    "       'Die Grauen', 'DIE RECHTE', 'DIE VIOLETTEN', 'LIEBE', 'DIE FRAUEN',\n",
    "       'Graue Panther', 'LKR', 'MENSCHLICHE WELT', 'NL', 'ÖkoLinX',\n",
    "       'Die Humanisten', 'PARTEI FÜR DIE TIERE', 'Gesundheitsforschung',\n",
    "       'Volt', 'Unnamed: 56', 'Wahlbeteiligung', 'B1 in %', 'ungültige in %',\n",
    "       'gültige in %', 'CDU in %', 'DIE LINKE in %', 'SPD in %', 'AfD in %',\n",
    "       'GRÜNE in %', 'NPD in %', 'FDP in %', 'FREIE WÄHLER in %',\n",
    "       'PIRATEN in %', 'Tierschutzpartei in %', 'FAMILIE in %',\n",
    "       'Die PARTEI in %', 'Volksabstimmung in %', 'ÖDP in %', 'DKP in %',\n",
    "       'MLPD in %', 'BP in %', 'SGP in %', 'TIERSCHUTZ hier! in %',\n",
    "       'Tierschutzallianz in %', 'Bündnis C in %', 'BIG in %', 'BGE in %',\n",
    "       'DIE DIREKTE! in %', 'DiEM25 in %', 'III. Weg in %', 'Die Grauen in %',\n",
    "       'DIE RECHTE in %', 'DIE VIOLETTEN in %', 'LIEBE in %',\n",
    "       'DIE FRAUEN in %', 'Graue Panther in %', 'LKR in %',\n",
    "       'MENSCHLICHE WELT in %', 'NL in %', 'ÖkoLinX in %',\n",
    "       'Die Humanisten in %', 'PARTEI FÜR DIE TIERE in %',\n",
    "       'Gesundheitsforschung in %', 'Volt in %'], inplace=True)\n",
    "\n",
    "# Endung an alle Spalten hängen\n",
    "df_ew_2019 = df_ew_2019.add_suffix(\"_EW2019\")"
   ]
  },
  {
   "cell_type": "code",
   "execution_count": 127,
   "metadata": {},
   "outputs": [
    {
     "name": "stdout",
     "output_type": "stream",
     "text": [
      "<class 'pandas.core.frame.DataFrame'>\n",
      "RangeIndex: 419 entries, 0 to 418\n",
      "Data columns (total 11 columns):\n",
      "AGS_EW2019                419 non-null int64\n",
      "Wahlberechtigte_EW2019    419 non-null int64\n",
      "Wähler_EW2019             419 non-null int64\n",
      "gültige_EW2019            419 non-null int64\n",
      "CDU_EW2019                419 non-null int64\n",
      "DIE LINKE_EW2019          419 non-null int64\n",
      "SPD_EW2019                419 non-null int64\n",
      "AfD_EW2019                419 non-null int64\n",
      "GRÜNE_EW2019              419 non-null int64\n",
      "FDP_EW2019                419 non-null int64\n",
      "FREIE WÄHLER_EW2019       419 non-null int64\n",
      "dtypes: int64(11)\n",
      "memory usage: 36.1 KB\n"
     ]
    }
   ],
   "source": [
    "# check ob alle Zahlen int64 sind\n",
    "df_ew_2019.info()"
   ]
  },
  {
   "cell_type": "markdown",
   "metadata": {},
   "source": [
    "## Zusammenführen der historischen Daten \n",
    "## auf der AGS-Nummer"
   ]
  },
  {
   "cell_type": "markdown",
   "metadata": {},
   "source": [
    "**Problem: ** Es gab noch Gemeindezusammenlegungen. 2013 noch 446 Kommunen, 2017 424, 2019 419. \n",
    "** Lösung:  ** Ich joine einfach von links (aktuell), dann werden nur die Geodaten angezeigt, die aktuell vorhanden sind. \n",
    "Und: Wenn es keine Vergleichsdaten gibt, kann Javascript später einfach eine Erklärung auswerfen. \n",
    "\n",
    "\n",
    "2018: Aue + Bad Schlema = Aue-Bad Schlema\n",
    "\n"
   ]
  },
  {
   "cell_type": "code",
   "execution_count": 128,
   "metadata": {
    "collapsed": true
   },
   "outputs": [],
   "source": [
    "df_wahlen_historisch = df_ew_2019.merge(df_bw_2017, how=\"left\", left_on=\"AGS_EW2019\", right_on=\"AGS_BW2017\").fillna(0)"
   ]
  },
  {
   "cell_type": "code",
   "execution_count": 129,
   "metadata": {
    "collapsed": true
   },
   "outputs": [],
   "source": [
    "df_wahlen_historisch = df_wahlen_historisch.merge(df_lw_2014, how=\"left\", left_on=\"AGS_EW2019\", right_on=\"AGS_LW2014\")"
   ]
  },
  {
   "cell_type": "code",
   "execution_count": 130,
   "metadata": {
    "collapsed": true
   },
   "outputs": [],
   "source": [
    "# AGS-Nummern wieder löschen bzw. AGS_EW2019 umbenennen\n",
    "df_wahlen_historisch.drop(columns=[\"AGS_BW2017\", \"AGS_LW2014\"], inplace=True)\n",
    "df_wahlen_historisch.rename(columns={\"AGS_EW2019\":\"AGS\"}, inplace=True)"
   ]
  },
  {
   "cell_type": "code",
   "execution_count": null,
   "metadata": {},
   "outputs": [],
   "source": []
  },
  {
   "cell_type": "code",
   "execution_count": 134,
   "metadata": {},
   "outputs": [
    {
     "name": "stdout",
     "output_type": "stream",
     "text": [
      "<class 'pandas.core.frame.DataFrame'>\n",
      "Int64Index: 420 entries, 0 to 419\n",
      "Data columns (total 58 columns):\n",
      "AGS                              420 non-null int64\n",
      "Wahlberechtigte_EW2019           420 non-null int64\n",
      "Wähler_EW2019                    420 non-null int64\n",
      "gültige_EW2019                   420 non-null int64\n",
      "CDU_EW2019                       420 non-null int64\n",
      "DIE LINKE_EW2019                 420 non-null int64\n",
      "SPD_EW2019                       420 non-null int64\n",
      "AfD_EW2019                       420 non-null int64\n",
      "GRÜNE_EW2019                     420 non-null int64\n",
      "FDP_EW2019                       420 non-null int64\n",
      "FREIE WÄHLER_EW2019              420 non-null int64\n",
      "Wahlberechtigte_BW2017           420 non-null int64\n",
      "Wähler_BW2017                    420 non-null int64\n",
      "gültige_2_BW2017                 420 non-null int64\n",
      "CDU_2_BW2017                     420 non-null int64\n",
      "DIE LINKE_2_BW2017               420 non-null int64\n",
      "SPD_2_BW2017                     420 non-null int64\n",
      "AfD_2_BW2017                     420 non-null int64\n",
      "GRÜNE_2_BW2017                   420 non-null int64\n",
      "FDP_2_BW2017                     420 non-null int64\n",
      "FREIE WÄHLER_2_BW2017            420 non-null int64\n",
      "WK-Nr_LW2014                     420 non-null int64\n",
      "WK-Name_LW2014                   419 non-null object\n",
      "Wahlberechtigte_LW2014           420 non-null int64\n",
      "Wähler_LW2014                    420 non-null int64\n",
      "gültige_1_LW2014                 420 non-null int64\n",
      "CDU_1_LW2014                     420 non-null int64\n",
      "DIE LINKE_1_LW2014               420 non-null int64\n",
      "SPD_1_LW2014                     420 non-null int64\n",
      "FDP_1_LW2014                     420 non-null int64\n",
      "GRÜNE_1_LW2014                   420 non-null int64\n",
      "NPD_1_LW2014                     420 non-null int64\n",
      "PIRATEN_1_LW2014                 420 non-null int64\n",
      "BüSo_1_LW2014                    420 non-null int64\n",
      "DSU_1_LW2014                     420 non-null int64\n",
      "AfD_1_LW2014                     420 non-null int64\n",
      "FREIE WÄHLER_1_LW2014            420 non-null int64\n",
      "Die PARTEI_1_LW2014              420 non-null int64\n",
      "Freie Bürger Leipzig_1_LW2014    420 non-null int64\n",
      "Konrad Skatula_1_LW2014          420 non-null int64\n",
      "Schaar_1_LW2014                  420 non-null int64\n",
      "WAGNER_1_LW2014                  420 non-null int64\n",
      "WV MFU_1_LW2014                  420 non-null int64\n",
      "gültige_2_LW2014                 420 non-null int64\n",
      "CDU_2_LW2014                     420 non-null int64\n",
      "DIE LINKE_2_LW2014               420 non-null int64\n",
      "SPD_2_LW2014                     420 non-null int64\n",
      "FDP_2_LW2014                     420 non-null int64\n",
      "GRÜNE_2_LW2014                   420 non-null int64\n",
      "NPD_2_LW2014                     420 non-null int64\n",
      "Tierschutzpartei_2_LW2014        420 non-null int64\n",
      "PIRATEN_2_LW2014                 420 non-null int64\n",
      "BüSo_2_LW2014                    420 non-null int64\n",
      "DSU_2_LW2014                     420 non-null int64\n",
      "AfD_2_LW2014                     420 non-null int64\n",
      "pro Deutschland_2_LW2014         420 non-null int64\n",
      "FREIE WÄHLER_2_LW2014            420 non-null int64\n",
      "Die PARTEI_2_LW2014              420 non-null int64\n",
      "dtypes: int64(57), object(1)\n",
      "memory usage: 193.6+ KB\n"
     ]
    }
   ],
   "source": [
    "df_wahlen_historisch.info()"
   ]
  },
  {
   "cell_type": "code",
   "execution_count": 132,
   "metadata": {
    "collapsed": true
   },
   "outputs": [],
   "source": [
    "# richtige Datentypen vergeben - alle Zahlen np.int64\n",
    "cols = ['AGS', 'Wahlberechtigte_EW2019', 'Wähler_EW2019', 'gültige_EW2019',\n",
    "       'CDU_EW2019', 'DIE LINKE_EW2019', 'SPD_EW2019', 'AfD_EW2019',\n",
    "       'GRÜNE_EW2019', 'FDP_EW2019', 'FREIE WÄHLER_EW2019',\n",
    "       'Wahlberechtigte_BW2017', 'Wähler_BW2017', 'gültige_2_BW2017',\n",
    "       'CDU_2_BW2017', 'DIE LINKE_2_BW2017', 'SPD_2_BW2017', 'AfD_2_BW2017',\n",
    "       'GRÜNE_2_BW2017', 'FDP_2_BW2017', 'FREIE WÄHLER_2_BW2017',\n",
    "       'WK-Nr_LW2014','Wahlberechtigte_LW2014',\n",
    "       'Wähler_LW2014', 'gültige_1_LW2014', 'CDU_1_LW2014',\n",
    "       'DIE LINKE_1_LW2014', 'SPD_1_LW2014', 'FDP_1_LW2014', 'GRÜNE_1_LW2014',\n",
    "       'NPD_1_LW2014', 'PIRATEN_1_LW2014', 'BüSo_1_LW2014', 'DSU_1_LW2014',\n",
    "       'AfD_1_LW2014', 'FREIE WÄHLER_1_LW2014', 'Die PARTEI_1_LW2014',\n",
    "       'Freie Bürger Leipzig_1_LW2014', 'Konrad Skatula_1_LW2014',\n",
    "       'Schaar_1_LW2014', 'WAGNER_1_LW2014', 'WV MFU_1_LW2014',\n",
    "       'gültige_2_LW2014', 'CDU_2_LW2014', 'DIE LINKE_2_LW2014',\n",
    "       'SPD_2_LW2014', 'FDP_2_LW2014', 'GRÜNE_2_LW2014', 'NPD_2_LW2014',\n",
    "       'Tierschutzpartei_2_LW2014', 'PIRATEN_2_LW2014', 'BüSo_2_LW2014',\n",
    "       'DSU_2_LW2014', 'AfD_2_LW2014', 'pro Deutschland_2_LW2014',\n",
    "       'FREIE WÄHLER_2_LW2014', 'Die PARTEI_2_LW2014']\n",
    "\n",
    "df_wahlen_historisch[cols] = df_wahlen_historisch[cols].fillna(0).astype(np.int64)"
   ]
  },
  {
   "cell_type": "code",
   "execution_count": 133,
   "metadata": {
    "collapsed": true
   },
   "outputs": [],
   "source": [
    "df_wahlen_historisch.to_csv(\"./Daten_clean/historische_Wahldaten_bereinigt.csv\", sep=\";\", encoding=\"utf-8\")"
   ]
  }
 ],
 "metadata": {
  "hide_input": false,
  "kernelspec": {
   "display_name": "Python 3",
   "language": "python",
   "name": "python3"
  },
  "language_info": {
   "codemirror_mode": {
    "name": "ipython",
    "version": 3
   },
   "file_extension": ".py",
   "mimetype": "text/x-python",
   "name": "python",
   "nbconvert_exporter": "python",
   "pygments_lexer": "ipython3",
   "version": "3.9.5"
  },
  "toc": {
   "base_numbering": 1,
   "nav_menu": {},
   "number_sections": true,
   "sideBar": true,
   "skip_h1_title": false,
   "title_cell": "Table of Contents",
   "title_sidebar": "Contents",
   "toc_cell": false,
   "toc_position": {},
   "toc_section_display": true,
   "toc_window_display": false
  },
  "varInspector": {
   "cols": {
    "lenName": 16,
    "lenType": 16,
    "lenVar": 40
   },
   "kernels_config": {
    "python": {
     "delete_cmd_postfix": "",
     "delete_cmd_prefix": "del ",
     "library": "var_list.py",
     "varRefreshCmd": "print(var_dic_list())"
    },
    "r": {
     "delete_cmd_postfix": ") ",
     "delete_cmd_prefix": "rm(",
     "library": "var_list.r",
     "varRefreshCmd": "cat(var_dic_list()) "
    }
   },
   "types_to_exclude": [
    "module",
    "function",
    "builtin_function_or_method",
    "instance",
    "_Feature"
   ],
   "window_display": false
  }
 },
 "nbformat": 4,
 "nbformat_minor": 2
}
