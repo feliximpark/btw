{
 "cells": [
  {
   "cell_type": "code",
   "execution_count": 1,
   "metadata": {},
   "outputs": [],
   "source": [
    "import pandas as pd\n",
    "import numpy as np"
   ]
  },
  {
   "cell_type": "markdown",
   "metadata": {},
   "source": [
    "## Creating Dataframe with fake data\n",
    "Dafür nehmen wir die Ergebnisse der letzten Landtagswahl und lassen das ganze zufällig schwanken. \n",
    "Das ist zwar teilweise verfälschend, weil wir dort andere Gebietszuschnitte hatten... \n",
    "... aber das müssen wir jetzt mal so hinnehmen. \n",
    "\n",
    "\n",
    "\n"
   ]
  },
  {
   "cell_type": "code",
   "execution_count": 2,
   "metadata": {},
   "outputs": [],
   "source": [
    "testdaten_wahl = pd.read_csv(\"./Rohdaten/Testdaten_aus_LTW_2014.csv\", encoding=\"utf-8\", sep=\";\")"
   ]
  },
  {
   "cell_type": "code",
   "execution_count": 4,
   "metadata": {},
   "outputs": [
    {
     "name": "stdout",
     "output_type": "stream",
     "text": [
      "<class 'pandas.core.frame.DataFrame'>\n",
      "RangeIndex: 431 entries, 0 to 430\n",
      "Data columns (total 39 columns):\n",
      "Unnamed: 0                431 non-null int64\n",
      "WK-Nr                     431 non-null int64\n",
      "WK-Name                   431 non-null object\n",
      "AGS                       431 non-null int64\n",
      "Wahlberechtigte           431 non-null int64\n",
      "Wähler                    431 non-null int64\n",
      "gültige_1                 431 non-null int64\n",
      "CDU_1                     431 non-null int64\n",
      "DIE LINKE_1               431 non-null int64\n",
      "SPD_1                     431 non-null int64\n",
      "FDP_1                     431 non-null int64\n",
      "GRÜNE_1                   431 non-null int64\n",
      "NPD_1                     431 non-null int64\n",
      "PIRATEN_1                 422 non-null float64\n",
      "BüSo_1                    118 non-null float64\n",
      "DSU_1                     12 non-null float64\n",
      "AfD_1                     258 non-null float64\n",
      "FREIE WÄHLER_1            233 non-null float64\n",
      "Die PARTEI_1              4 non-null float64\n",
      "Freie Bürger Leipzig_1    4 non-null float64\n",
      "Konrad Skatula_1          21 non-null float64\n",
      "Schaar_1                  19 non-null float64\n",
      "WAGNER_1                  15 non-null float64\n",
      "WV MFU_1                  4 non-null float64\n",
      "gültige_2                 431 non-null int64\n",
      "CDU_2                     431 non-null int64\n",
      "DIE LINKE_2               431 non-null int64\n",
      "SPD_2                     431 non-null int64\n",
      "FDP_2                     431 non-null int64\n",
      "GRÜNE_2                   431 non-null int64\n",
      "NPD_2                     431 non-null int64\n",
      "Tierschutzpartei_2        431 non-null int64\n",
      "PIRATEN_2                 431 non-null int64\n",
      "BüSo_2                    431 non-null int64\n",
      "DSU_2                     431 non-null int64\n",
      "AfD_2                     431 non-null int64\n",
      "pro Deutschland_2         431 non-null int64\n",
      "FREIE WÄHLER_2            431 non-null int64\n",
      "Die PARTEI_2              431 non-null int64\n",
      "dtypes: float64(11), int64(27), object(1)\n",
      "memory usage: 131.4+ KB\n"
     ]
    }
   ],
   "source": [
    "testdaten_wahl.info()"
   ]
  },
  {
   "cell_type": "markdown",
   "metadata": {},
   "source": [
    "\n"
   ]
  },
  {
   "cell_type": "markdown",
   "metadata": {
    "collapsed": true
   },
   "source": [
    "### Merge mit den historischen Wahldaten"
   ]
  },
  {
   "cell_type": "code",
   "execution_count": 29,
   "metadata": {
    "collapsed": true
   },
   "outputs": [],
   "source": [
    "hist_df = pd.read_csv(\"./Daten_clean/historische_Wahldaten_bereinigt.csv\", sep=\";\", encoding=\"utf-8\")"
   ]
  },
  {
   "cell_type": "code",
   "execution_count": 30,
   "metadata": {},
   "outputs": [],
   "source": [
    "test_wahl_aus_lw2014_und_historischen_daten = testdaten_wahl.merge(hist_df, on=\"AGS\", how=\"left\")\n",
    "test_wahl_aus_lw2014_und_historischen_daten.drop(columns=[\"Unnamed: 0_x\"], inplace=True)"
   ]
  },
  {
   "cell_type": "markdown",
   "metadata": {},
   "source": [
    "### Richtige Datentypen vergeben - alle Zahlen in np.int64"
   ]
  },
  {
   "cell_type": "code",
   "execution_count": 31,
   "metadata": {},
   "outputs": [],
   "source": [
    "cols = ['WK-Nr', 'AGS', 'Wahlberechtigte', 'Wähler', 'gültige_1',\n",
    "       'CDU_1', 'DIE LINKE_1', 'SPD_1', 'FDP_1', 'GRÜNE_1', 'NPD_1',\n",
    "       'PIRATEN_1', 'BüSo_1', 'DSU_1', 'AfD_1', 'FREIE WÄHLER_1',\n",
    "       'Die PARTEI_1', 'Freie Bürger Leipzig_1', 'Konrad Skatula_1',\n",
    "       'Schaar_1', 'WAGNER_1', 'WV MFU_1', 'gültige_2', 'CDU_2', 'DIE LINKE_2',\n",
    "       'SPD_2', 'FDP_2', 'GRÜNE_2', 'NPD_2', 'Tierschutzpartei_2', 'PIRATEN_2',\n",
    "       'BüSo_2', 'DSU_2', 'AfD_2', 'pro Deutschland_2', 'FREIE WÄHLER_2',\n",
    "       'Die PARTEI_2', 'Unnamed: 0_y', 'Wahlberechtigte_EW2019',\n",
    "       'Wähler_EW2019', 'gültige_EW2019', 'CDU_EW2019', 'DIE LINKE_EW2019',\n",
    "       'SPD_EW2019', 'AfD_EW2019', 'GRÜNE_EW2019', 'FDP_EW2019',\n",
    "       'FREIE WÄHLER_EW2019', 'Wahlberechtigte_BW2017', 'Wähler_BW2017',\n",
    "       'gültige_2_BW2017', 'CDU_2_BW2017', 'DIE LINKE_2_BW2017',\n",
    "       'SPD_2_BW2017', 'AfD_2_BW2017', 'GRÜNE_2_BW2017', 'FDP_2_BW2017',\n",
    "       'FREIE WÄHLER_2_BW2017', 'WK-Nr_LW2014', \n",
    "       'Wahlberechtigte_LW2014', 'Wähler_LW2014', 'gültige_1_LW2014',\n",
    "       'CDU_1_LW2014', 'DIE LINKE_1_LW2014', 'SPD_1_LW2014', 'FDP_1_LW2014',\n",
    "       'GRÜNE_1_LW2014', 'NPD_1_LW2014', 'PIRATEN_1_LW2014', 'BüSo_1_LW2014',\n",
    "       'DSU_1_LW2014', 'AfD_1_LW2014', 'FREIE WÄHLER_1_LW2014',\n",
    "       'Die PARTEI_1_LW2014', 'Freie Bürger Leipzig_1_LW2014',\n",
    "       'Konrad Skatula_1_LW2014', 'Schaar_1_LW2014', 'WAGNER_1_LW2014',\n",
    "       'WV MFU_1_LW2014', 'gültige_2_LW2014', 'CDU_2_LW2014',\n",
    "       'DIE LINKE_2_LW2014', 'SPD_2_LW2014', 'FDP_2_LW2014', 'GRÜNE_2_LW2014',\n",
    "       'NPD_2_LW2014', 'Tierschutzpartei_2_LW2014', 'PIRATEN_2_LW2014',\n",
    "       'BüSo_2_LW2014', 'DSU_2_LW2014', 'AfD_2_LW2014',\n",
    "       'pro Deutschland_2_LW2014', 'FREIE WÄHLER_2_LW2014',\n",
    "       'Die PARTEI_2_LW2014']\n",
    "\n",
    "test_wahl_aus_lw2014_und_historischen_daten[cols] = test_wahl_aus_lw2014_und_historischen_daten[cols].fillna(0).astype(np.int64)"
   ]
  },
  {
   "cell_type": "code",
   "execution_count": 32,
   "metadata": {
    "collapsed": true
   },
   "outputs": [],
   "source": [
    "# Ausspielen\n",
    "test_wahl_aus_lw2014_und_historischen_daten.to_csv(\"./Daten_clean/test_wahl_aus_lw2014_und_historischen_daten.csv\", \n",
    "                                                  encoding=\"utf-8\", sep=\";\")"
   ]
  },
  {
   "cell_type": "code",
   "execution_count": null,
   "metadata": {
    "collapsed": true
   },
   "outputs": [],
   "source": []
  }
 ],
 "metadata": {
  "kernelspec": {
   "display_name": "Python 3",
   "language": "python",
   "name": "python3"
  },
  "language_info": {
   "codemirror_mode": {
    "name": "ipython",
    "version": 3
   },
   "file_extension": ".py",
   "mimetype": "text/x-python",
   "name": "python",
   "nbconvert_exporter": "python",
   "pygments_lexer": "ipython3",
   "version": "3.7.3"
  }
 },
 "nbformat": 4,
 "nbformat_minor": 2
}
