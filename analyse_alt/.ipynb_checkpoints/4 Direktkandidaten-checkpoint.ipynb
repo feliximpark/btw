{
 "cells": [
  {
   "cell_type": "code",
   "execution_count": 26,
   "metadata": {},
   "outputs": [],
   "source": [
    "import pandas as pd\n",
    "import numpy as np\n",
    "import json"
   ]
  },
  {
   "cell_type": "code",
   "execution_count": 18,
   "metadata": {},
   "outputs": [],
   "source": [
    "df = pd.read_csv(r\"C:\\Users\\Felix\\Desktop\\wahlkarte_react\\datenanalyse\\Daten_clean\\Direktkandidaten_2019_Landtagswahl_Sachsen.csv\", \\\n",
    "                   sep=\";\")\n",
    "\n"
   ]
  },
  {
   "cell_type": "code",
   "execution_count": 19,
   "metadata": {},
   "outputs": [],
   "source": [
    "data = df.copy()"
   ]
  },
  {
   "cell_type": "code",
   "execution_count": 28,
   "metadata": {},
   "outputs": [
    {
     "data": {
      "text/html": [
       "<div>\n",
       "<style scoped>\n",
       "    .dataframe tbody tr th:only-of-type {\n",
       "        vertical-align: middle;\n",
       "    }\n",
       "\n",
       "    .dataframe tbody tr th {\n",
       "        vertical-align: top;\n",
       "    }\n",
       "\n",
       "    .dataframe thead th {\n",
       "        text-align: right;\n",
       "    }\n",
       "</style>\n",
       "<table border=\"1\" class=\"dataframe\">\n",
       "  <thead>\n",
       "    <tr style=\"text-align: right;\">\n",
       "      <th></th>\n",
       "      <th>Wahlkreis</th>\n",
       "      <th>Partei</th>\n",
       "      <th>Kandidat</th>\n",
       "    </tr>\n",
       "  </thead>\n",
       "  <tbody>\n",
       "    <tr>\n",
       "      <th>0</th>\n",
       "      <td>1</td>\n",
       "      <td>CDU</td>\n",
       "      <td>Heidan, Frank</td>\n",
       "    </tr>\n",
       "    <tr>\n",
       "      <th>1</th>\n",
       "      <td>1</td>\n",
       "      <td>DIE LINKE</td>\n",
       "      <td>Schwarz, Maik</td>\n",
       "    </tr>\n",
       "    <tr>\n",
       "      <th>2</th>\n",
       "      <td>1</td>\n",
       "      <td>SPD</td>\n",
       "      <td>Pfeil-Zabel, Juliane</td>\n",
       "    </tr>\n",
       "    <tr>\n",
       "      <th>3</th>\n",
       "      <td>1</td>\n",
       "      <td>AfD</td>\n",
       "      <td>Schaufel, Dietmar Frank</td>\n",
       "    </tr>\n",
       "    <tr>\n",
       "      <th>4</th>\n",
       "      <td>1</td>\n",
       "      <td>GRÜNE</td>\n",
       "      <td>Liebscher, Gerhard</td>\n",
       "    </tr>\n",
       "  </tbody>\n",
       "</table>\n",
       "</div>"
      ],
      "text/plain": [
       "   Wahlkreis     Partei                 Kandidat\n",
       "0          1        CDU            Heidan, Frank\n",
       "1          1  DIE LINKE            Schwarz, Maik\n",
       "2          1        SPD     Pfeil-Zabel, Juliane\n",
       "3          1        AfD  Schaufel, Dietmar Frank\n",
       "4          1      GRÜNE       Liebscher, Gerhard"
      ]
     },
     "execution_count": 28,
     "metadata": {},
     "output_type": "execute_result"
    }
   ],
   "source": [
    "data.head()"
   ]
  },
  {
   "cell_type": "code",
   "execution_count": 21,
   "metadata": {},
   "outputs": [],
   "source": [
    "# Wahlkreis-Column von float nach int wandeln\n",
    "data[\"Wahlkreis\"] = data[\"Wahlkreis\"].astype(int)"
   ]
  },
  {
   "cell_type": "code",
   "execution_count": 71,
   "metadata": {},
   "outputs": [],
   "source": [
    "#Umanwandlung in JSON\n",
    "\n",
    "# Schritt 1 - Tabelle wide machen\n",
    "df_pivot = data.pivot(index=\"Partei\", columns=\"Wahlkreis\", values=\"Kandidat\")\n",
    "\n",
    "# Schritt 2 - Pivot-Tabelle in JSON konvertieren - ascii-Befehl erhält die Umlaute\n",
    "df_pivot.to_json(r\"C:\\Users\\Felix\\Desktop\\wahlkarte_react\\datenanalyse\\Daten_clean\\Direktkandidaten_JSON.json\", \n",
    "                      force_ascii=False)\n",
    "        "
   ]
  }
 ],
 "metadata": {
  "kernelspec": {
   "display_name": "Python 3",
   "language": "python",
   "name": "python3"
  },
  "language_info": {
   "codemirror_mode": {
    "name": "ipython",
    "version": 3
   },
   "file_extension": ".py",
   "mimetype": "text/x-python",
   "name": "python",
   "nbconvert_exporter": "python",
   "pygments_lexer": "ipython3",
   "version": "3.7.3"
  }
 },
 "nbformat": 4,
 "nbformat_minor": 2
}
