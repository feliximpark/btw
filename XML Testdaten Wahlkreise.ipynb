{
 "cells": [
  {
   "cell_type": "markdown",
   "id": "149e4444",
   "metadata": {},
   "source": [
    "# Import libs und Daten"
   ]
  },
  {
   "cell_type": "code",
   "execution_count": 2,
   "id": "01898567",
   "metadata": {
    "ExecuteTime": {
     "end_time": "2021-09-23T17:42:43.451895Z",
     "start_time": "2021-09-23T17:42:33.751478Z"
    }
   },
   "outputs": [],
   "source": [
    "import pandas as pd\n",
    "from datetime import datetime\n",
    "import numpy as np\n",
    "# XML-Lib laden\n",
    "import xml.etree.ElementTree as ET\n",
    "from datawrapper import Datawrapper\n",
    "dw = Datawrapper(access_token = \"79263c731ee5ea069033d6c0e7f62798e440a05b21a43a4b1f1ae765a7eab433\")\n",
    "from datetime import datetime\n",
    "from datetime import date\n",
    "import random\n",
    "import os\n",
    "import glob\n",
    "os.getcwd()\n",
    "os.chdir(r\"C:\\\\Users\\\\c_knoop\\\\Desktop\\\\BTW_2021\")"
   ]
  },
  {
   "cell_type": "code",
   "execution_count": 3,
   "id": "7c36e96e",
   "metadata": {
    "ExecuteTime": {
     "end_time": "2021-09-23T17:42:43.466719Z",
     "start_time": "2021-09-23T17:42:43.453751Z"
    }
   },
   "outputs": [],
   "source": [
    "os.getcwd()\n",
    "os.chdir(r\"C:\\\\Users\\\\c_knoop\\\\Desktop\\\\BTW_2021\")"
   ]
  },
  {
   "cell_type": "code",
   "execution_count": 4,
   "id": "f2430b74",
   "metadata": {
    "ExecuteTime": {
     "end_time": "2021-09-23T17:42:48.881511Z",
     "start_time": "2021-09-23T17:42:43.469709Z"
    }
   },
   "outputs": [],
   "source": [
    "#url_xml = \"./analyse_alt/rohdaten/wahl_gemeinden.xml\"\n",
    "#url_xml = \"./test_daten/F.210906.124700.GE.xml\"\n",
    "url_xml = \"./test_daten/F.210906.132800.WK.xml\"\n",
    "root = ET.parse(url_xml).getroot()\n",
    "ergebnisse_2017_wk = pd.read_excel(\"./data/BW17_Ergebnisse_ORIGINALE.xlsx\", sheet_name=\"BW17_Ergebnisse_WK\")\n",
    "wahlergebnisse_2021 = pd.read_csv(\"./data/BTW_2017_GE.csv\")\n",
    "direktbewerber = pd.read_excel(\"./data/statistik-sachsen_bundestagswahl2021_direktbewerber.xlsx\", header=1)"
   ]
  },
  {
   "cell_type": "code",
   "execution_count": 5,
   "id": "ff14f14f",
   "metadata": {
    "ExecuteTime": {
     "end_time": "2021-09-23T17:42:48.886491Z",
     "start_time": "2021-09-23T17:42:48.883498Z"
    }
   },
   "outputs": [],
   "source": [
    "datenstand = \"22.09.2021, 20:43 Uhr.\""
   ]
  },
  {
   "cell_type": "markdown",
   "id": "367e6f2b",
   "metadata": {},
   "source": [
    "# Herauslesen Daten Dataframe long"
   ]
  },
  {
   "cell_type": "code",
   "execution_count": 6,
   "id": "1c5994c7",
   "metadata": {
    "ExecuteTime": {
     "end_time": "2021-09-23T17:42:48.919445Z",
     "start_time": "2021-09-23T17:42:48.888486Z"
    }
   },
   "outputs": [],
   "source": [
    "#HELPER\n",
    "# Ordnet die Beschreibung des Tags <Gruppenergebnis> einer Klarbzeichung zu\n",
    "# diese Beschreibung ist unter dem Attribut Position abgespeichert\n",
    "\n",
    "# Check ob sich in einem String eine Nummer befindet\n",
    "def has_numbers(inputString):\n",
    "    return any(char.isdigit() for char in inputString)\n"
   ]
  },
  {
   "cell_type": "code",
   "execution_count": 7,
   "id": "6a9bf8a2",
   "metadata": {
    "ExecuteTime": {
     "end_time": "2021-09-23T17:42:48.955307Z",
     "start_time": "2021-09-23T17:42:48.921397Z"
    }
   },
   "outputs": [],
   "source": [
    "# Dict Parteien "
   ]
  },
  {
   "cell_type": "code",
   "execution_count": 8,
   "id": "48cfbdc9",
   "metadata": {
    "ExecuteTime": {
     "end_time": "2021-09-23T17:42:48.996199Z",
     "start_time": "2021-09-23T17:42:48.957300Z"
    },
    "code_folding": []
   },
   "outputs": [],
   "source": [
    "# Sicherheitskopie, falls veränderte Partei-Namen für Probleme sorgen\n",
    "# Offizielle Listennummer mit Parteiname BTW 2021\n",
    "# parteien_dict = {\"1\":\"AfD\", \"2\":\"CDU\", \"3\":\"DIE LINKE\", \"4\":\"SPD\", \"5\":\"FDP\", \"6\":\"GRÜNE\", \\\n",
    "#                 # kleinere Parteien (sonstige)\n",
    "#                 \"7\":\"Tierschutzpartei\", \"8\":\"Die PARTEI\", \"9\":\"NPD\", \"10\":\"FREIE WÄHLER\", \\\n",
    "#                  \"11\":\"PIRATEN\", \"12\":\"ÖDP\", \"13\":\"V-Partei³\", \"14\":\"MLPD\", \"15\":\"dieBasis\", \n",
    "#                  \"16\": \"Bündnis C\", \"17\": \"III. Weg\", \"18\":\"DKP\", \"19\":\"Die Humanisten\", \\\n",
    "#                  \"20\":\"Gesundheitsforschung\", \"21\":\"Team Todenhöfer\", \"22\":\"Volt\", \\\n",
    "#                  # kleinere Parteien ohne Landesliste\n",
    "#                  \"23\": \"ASMUSfddB\", \"24\":\"AufrechterDemokrat\", \"25\":\"Brähmig\", \"26\":\"BüSo\", \\\n",
    "#                  \"27\":\"Daniel Richter\", \"28\":\"Direktkandidat Daniel Zimmet\", \"29\":\"Direktkandidat Frank Hannig\", \\\n",
    "#                  \"30\": \"DK Schöllner\", \"31\":\"Ein Leipziger für Leipzig\", \"32\":\"#KLIMAfirst\", \\\n",
    "#                  \"33\": \"Internationalistisches Bündnis\", \"34\": \"Internationalistisches Bündnis\", \\\n",
    "#                  \"35\": \"Internationalistisches Bündnis\", \"36\":\"Ischgl\", \"37\":\"KARLKOMMT\", \\\n",
    "#                  \"38\": \"LKR\", \"39\": \"Marcus Fuchs - Querdenken 351\", \"40\":\"Queck\", \"41\":\"REICHEL\",\\\n",
    "#                  \"42\":\"Röhder\", \"43\":\"UNO - Menschrecht - FRIEDEN für Alle\", \"44\":\"WIR sind LEIPZIGER\", \\\n",
    "#                  \"45\":\"www.zeitkaufhaus.de Martin Bayer\", \\\n",
    "#                  # Bezeichner für gültige und ungültige Stimmen\n",
    "#                 \"GUE\": \"gültige Stimmen\", \"UNG\": \"Ungültige Stimmen\"\n",
    "\n",
    "#                 }"
   ]
  },
  {
   "cell_type": "code",
   "execution_count": 162,
   "id": "d50e370e",
   "metadata": {
    "ExecuteTime": {
     "end_time": "2021-09-23T18:59:37.093346Z",
     "start_time": "2021-09-23T18:59:37.085403Z"
    }
   },
   "outputs": [],
   "source": [
    "# # Offizielle Listennummer mit Parteiname BTW 2021\n",
    "parteien_dict = {\"1\":\"AfD\", \"2\":\"CDU\", \"3\":\"Die Linke\", \"4\":\"SPD\", \"5\":\"FDP\", \"6\":\"Grüne\", \\\n",
    "                # kleinere Parteien (sonstige)\n",
    "                \"7\":\"Tierschutzpartei\", \"8\":\"Die PARTEI\", \"9\":\"NPD\", \"10\":\"Freie Wähler\", \\\n",
    "                 \"11\":\"PIRATEN\", \"12\":\"ÖDP\", \"13\":\"V-Partei³\", \"14\":\"MLPD\", \"15\":\"dieBasis\", \n",
    "                 \"16\": \"Bündnis C\", \"17\": \"III. Weg\", \"18\":\"DKP\", \"19\":\"Die Humanisten\", \\\n",
    "               \"20\":\"Gesundheitsforschung\", \"21\":\"Team Todenhöfer\", \"22\":\"Volt\", \\\n",
    "                 # kleinere Parteien ohne Landesliste\n",
    "                 \"23\": \"ASMUSfddB\", \"24\":\"AufrechterDemokrat\", \"25\":\"Brähmig\", \"26\":\"BüSo\", \\\n",
    "                 \"27\":\"Daniel Richter\", \"28\":\"Direktkandidat Daniel Zimmet\", \"29\":\"Direktkandidat Frank Hannig\", \\\n",
    "                 \"30\": \"DK Schöllner\", \"31\":\"Ein Leipziger für Leipzig\", \"32\":\"#KLIMAfirst\", \\\n",
    "                 \"33\": \"Internat. Bündnis\", \"34\": \"Internat. Bündnis\", \\\n",
    "                 \"35\": \"Internat. Bündnis\", \"36\":\"Ischgl\", \"37\":\"KARLKOMMT\", \\\n",
    "                 \"38\": \"LKR\", \"39\": \"Marcus Fuchs - Querdenken 351\", \"40\":\"Queck\", \"41\":\"Reichel\",\\\n",
    "                 \"42\":\"Röhder\", \"43\":\"UNO - Menschrecht - Frieden für Alle\", \"44\":\"Wir sind Leipziger\", \\\n",
    "                 \"45\":\"www.zeitkaufhaus.de Martin Bayer\", \\\n",
    "                 # Bezeichner für gültige und ungültige Stimmen\n",
    "                \"GUE\": \"gültige Stimmen\", \"UNG\": \"Ungültige Stimmen\"\n",
    "\n",
    "                }"
   ]
  },
  {
   "cell_type": "markdown",
   "id": "73fa045f",
   "metadata": {
    "ExecuteTime": {
     "end_time": "2021-09-07T07:44:07.264654Z",
     "start_time": "2021-09-07T07:44:07.261662Z"
    }
   },
   "source": []
  },
  {
   "cell_type": "code",
   "execution_count": 241,
   "id": "a9a0bfaf",
   "metadata": {
    "ExecuteTime": {
     "end_time": "2021-09-23T19:19:56.006721Z",
     "start_time": "2021-09-23T19:19:55.039982Z"
    },
    "code_folding": []
   },
   "outputs": [],
   "source": [
    "\n",
    "\n",
    "# jedes elem in root ist der Tag <Gebietsergebnis>, in dem immer eine komplette Gemeinde steckt. \n",
    "def read_xml(root):\n",
    "    \n",
    "    # Variablen in Datensatz\n",
    "    erststimmen = \"DIREKT\"\n",
    "    zweitstimmen = \"LISTE\"\n",
    "\n",
    "\n",
    "    \n",
    "    # zwei Dataframes werden erstellt, eins für die Ergebnisse der Parteien, \n",
    "    # ein anderes für Wahlstatistiken etc. \n",
    "    \n",
    "    # DF Ergebnisse\n",
    "    cols_result = [\"KreisId\", \"KreisName\", \"Partei\", \"ParteiId\", \"Stimmart\", \"Stimmen\", \"Anteil\", \"Stand\"]\n",
    "    df_results = pd.DataFrame(columns=cols_result)\n",
    "    \n",
    "    # DF Statistiken\n",
    "    col_stats = [\"KreisId\", \"KreisName\",\"Statistik\", \"Stimmen\", \"Anteil\", \"Stand\"]\n",
    "    df_stats = pd.DataFrame(columns=col_stats)\n",
    "    \n",
    "    # DF Wahlkreis-Sieger\n",
    "    col_winner = [\"KreisId\", \"KreisName\", \"Sieger\"]\n",
    "    df_winner = pd.DataFrame(columns=col_winner)\n",
    "    \n",
    "    # Durchlauf durch alle <Gruppenergebnis>, sammeln der Gemeindedaten\n",
    "    for elem in root:\n",
    "        \n",
    "        kreis_id = elem.attrib.get(\"KreisNr\")\n",
    "        stand = elem.attrib.get(\"Stand\") \n",
    "        kreis_nm = elem.attrib.get(\"KreisName\")\n",
    "        \n",
    "        # Unterpunkt ist <Gruppenergebnis>, hier findet sich unter \"Position\" die Beschreibung des jew. Datensatzes\n",
    "        for sub in elem: \n",
    "            position = sub.attrib.get(\"Position\")\n",
    "            \n",
    "            # Check ob position eine Nummer ist - dann handelt es sich nämlich um ein Partei-Stimmergebnis\n",
    "            # dann wird das result-Dataframe befüllt\n",
    "            if (has_numbers(position)) | (position == \"UNG\") | (position == \"GUE\"): \n",
    "                partei = parteien_dict[position]\n",
    "                \n",
    "                for node in sub: \n",
    "                    kind_of_votes = node.attrib.get(\"Stimmart\")\n",
    "                    if kind_of_votes == erststimmen: \n",
    "                        stimmart = \"Erststimme\"\n",
    "                    else: \n",
    "                        stimmart = \"Zweitstimme\"\n",
    "                    count_votes = node.attrib.get(\"Stimmen\")\n",
    "                    votes_share = node.attrib.get(\"Anteil\")\n",
    "                    ser_results = pd.Series([kreis_id, kreis_nm, partei, position, stimmart, count_votes, votes_share, stand], index=cols_result)\n",
    "                    df_results = df_results.append(ser_results, ignore_index=True)\n",
    "            \n",
    "            # wenn Buchstaben-Kennung wird das statistische Dataframe befüllt\n",
    "            \n",
    "            elif position==\"SIEGER\": \n",
    "                info_node = sub[0]\n",
    "                sieger = info_node.attrib.get(\"Sieger\")\n",
    "                ser_win = pd.Series([kreis_id,kreis_nm, sieger], index=col_winner)\n",
    "                df_winner = df_winner.append(ser_win, ignore_index=True)\n",
    "            \n",
    "            else:\n",
    "                \n",
    "                info_node = sub[0]\n",
    "                stimmen = info_node.attrib.get(\"Stimmen\")\n",
    "                anteil = info_node.attrib.get(\"Anteil\")\n",
    "                \n",
    "                if position == \"WB\": \n",
    "                    statistik = \"Wahlberechtigte\"\n",
    "                    anteil = \"100\"\n",
    "                elif position == \"WAE\":\n",
    "                    statistik = \"Wähler\"\n",
    "              \n",
    "                else:\n",
    "                    print(position)\n",
    "                    print(\"Fehler\")\n",
    "               \n",
    "                ser_stats = pd.Series([kreis_id, kreis_nm, statistik, stimmen, anteil, stand], index=col_stats)\n",
    "                df_stats = df_stats.append(ser_stats, ignore_index=True)\n",
    "        \n",
    "    return df_results, df_stats, df_winner\n",
    "                    \n",
    "                    \n",
    "            #if position\n",
    "            \n",
    "           \n",
    "\n",
    "            \n",
    "            \n",
    "            \n",
    "df_ergebnisse, df_daten, df_sieger = read_xml(root)"
   ]
  },
  {
   "cell_type": "code",
   "execution_count": null,
   "id": "3e83fca4",
   "metadata": {
    "ExecuteTime": {
     "end_time": "2021-09-19T14:50:56.703428Z",
     "start_time": "2021-09-19T14:50:56.693455Z"
    }
   },
   "outputs": [],
   "source": []
  },
  {
   "cell_type": "markdown",
   "id": "81fa3b67",
   "metadata": {},
   "source": [
    "## richtige Datentypen vergeben"
   ]
  },
  {
   "cell_type": "code",
   "execution_count": 242,
   "id": "3e0e2e8e",
   "metadata": {
    "ExecuteTime": {
     "end_time": "2021-09-23T19:20:05.733696Z",
     "start_time": "2021-09-23T19:20:05.724721Z"
    }
   },
   "outputs": [],
   "source": [
    "\n",
    "# richtige Datentypen vergeben\n",
    "df_ergebnisse[\"Stimmen\"] = df_ergebnisse[\"Stimmen\"].astype(int)\n",
    "df_ergebnisse[\"Anteil\"] = df_ergebnisse[\"Anteil\"].astype(float)\n",
    "\n",
    "df_daten[\"Stimmen\"] = df_daten[\"Stimmen\"].astype(int)\n",
    "df_daten[\"Anteil\"] = df_daten[\"Anteil\"].astype(float)"
   ]
  },
  {
   "cell_type": "code",
   "execution_count": null,
   "id": "4bcdff00",
   "metadata": {},
   "outputs": [],
   "source": []
  },
  {
   "cell_type": "markdown",
   "id": "084fb2eb",
   "metadata": {},
   "source": [
    "# Tabelle Erststimmen pro Wahlkreis ausspielen"
   ]
  },
  {
   "cell_type": "markdown",
   "id": "4e0a11b6",
   "metadata": {
    "ExecuteTime": {
     "end_time": "2021-09-21T14:39:38.399257Z",
     "start_time": "2021-09-21T14:39:38.376028Z"
    }
   },
   "source": [
    "## Direktbewerber filtern, Name und Vorname drehen"
   ]
  },
  {
   "cell_type": "code",
   "execution_count": 243,
   "id": "53743183",
   "metadata": {
    "ExecuteTime": {
     "end_time": "2021-09-23T19:20:07.584039Z",
     "start_time": "2021-09-23T19:20:07.435090Z"
    }
   },
   "outputs": [],
   "source": [
    "direktbewerber = pd.read_excel(\"./data/statistik-sachsen_bundestagswahl2021_direktbewerber.xlsx\", header=1)\n",
    "# Direktbewerber säubern\n",
    "direktbewerber.rename(columns={\"Wahlkreis 151 Nordsachsen\":\"KreisId\", \"Nummer\":\"ParteiId\", \\\n",
    "                              \"Wahlvorschlag \\nKurzbezeichnung\":\"Partei\"}, inplace=True)\n",
    "df_dir = direktbewerber[[\"KreisId\", \"Partei\", \"ParteiId\",  \"Name\"]]"
   ]
  },
  {
   "cell_type": "code",
   "execution_count": 244,
   "id": "7bf8e88d",
   "metadata": {
    "ExecuteTime": {
     "end_time": "2021-09-23T19:20:08.123147Z",
     "start_time": "2021-09-23T19:20:08.109221Z"
    }
   },
   "outputs": [
    {
     "name": "stdout",
     "output_type": "stream",
     "text": [
      "<class 'pandas.core.frame.DataFrame'>\n",
      "RangeIndex: 205 entries, 0 to 204\n",
      "Data columns (total 4 columns):\n",
      " #   Column    Non-Null Count  Dtype \n",
      "---  ------    --------------  ----- \n",
      " 0   KreisId   205 non-null    object\n",
      " 1   Partei    205 non-null    object\n",
      " 2   ParteiId  205 non-null    object\n",
      " 3   Name      205 non-null    object\n",
      "dtypes: object(4)\n",
      "memory usage: 6.5+ KB\n"
     ]
    }
   ],
   "source": [
    "df_dir.info()"
   ]
  },
  {
   "cell_type": "code",
   "execution_count": 245,
   "id": "2b1a2efd",
   "metadata": {
    "ExecuteTime": {
     "end_time": "2021-09-23T19:20:10.307036Z",
     "start_time": "2021-09-23T19:20:10.300055Z"
    }
   },
   "outputs": [
    {
     "name": "stderr",
     "output_type": "stream",
     "text": [
      "<ipython-input-245-28afb1718607>:7: SettingWithCopyWarning: \n",
      "A value is trying to be set on a copy of a slice from a DataFrame.\n",
      "Try using .loc[row_indexer,col_indexer] = value instead\n",
      "\n",
      "See the caveats in the documentation: https://pandas.pydata.org/pandas-docs/stable/user_guide/indexing.html#returning-a-view-versus-a-copy\n",
      "  df_dir[\"Partei\"] = df_dir[\"ParteiId\"].map(change_party_name)\n"
     ]
    }
   ],
   "source": [
    "# Parteinamen nach SZ-Wunsch geändert\n",
    "def change_party_name(el): \n",
    "    try: \n",
    "        return parteien_dict[str(el)]\n",
    "    except: \n",
    "        el\n",
    "df_dir[\"Partei\"] = df_dir[\"ParteiId\"].map(change_party_name)"
   ]
  },
  {
   "cell_type": "code",
   "execution_count": 246,
   "id": "0098675b",
   "metadata": {
    "ExecuteTime": {
     "end_time": "2021-09-23T19:20:11.173342Z",
     "start_time": "2021-09-23T19:20:11.165401Z"
    }
   },
   "outputs": [
    {
     "name": "stderr",
     "output_type": "stream",
     "text": [
      "<ipython-input-246-c4e47e9a63e1>:13: SettingWithCopyWarning: \n",
      "A value is trying to be set on a copy of a slice from a DataFrame.\n",
      "Try using .loc[row_indexer,col_indexer] = value instead\n",
      "\n",
      "See the caveats in the documentation: https://pandas.pydata.org/pandas-docs/stable/user_guide/indexing.html#returning-a-view-versus-a-copy\n",
      "  df_dir[\"Name\"] = df_dir[\"Name\"].map(new_name)\n"
     ]
    }
   ],
   "source": [
    "\n",
    "def new_name(el):\n",
    "    \n",
    "    try:\n",
    "        new_list = el.split(\", \")\n",
    "    \n",
    "        new_name = new_list[1] + \" \" + new_list[0]\n",
    "       \n",
    "        return new_name\n",
    "    except: \n",
    "        return el\n",
    "\n",
    "\n",
    "df_dir[\"Name\"] = df_dir[\"Name\"].map(new_name)\n"
   ]
  },
  {
   "cell_type": "code",
   "execution_count": 247,
   "id": "d88b27a8",
   "metadata": {
    "ExecuteTime": {
     "end_time": "2021-09-23T19:20:13.566308Z",
     "start_time": "2021-09-23T19:20:13.557334Z"
    }
   },
   "outputs": [],
   "source": [
    "df_dir[\"Name_Partei\"] = df_dir[\"Name\"] + ' (' + df_dir[\"Partei\"] + ')'\n",
    "#df_dir[\"Name_Partei2\"] = df_dir[\"Name\"] +'\\n' + df_dir[\"Partei\"]\n",
    "\n",
    "# Id in string wandeln\n",
    "df_dir[\"KreisId\"] = df_dir[\"KreisId\"].astype(str)\n",
    "df_dir[\"ParteiId\"] = df_dir[\"ParteiId\"].astype(str)"
   ]
  },
  {
   "cell_type": "code",
   "execution_count": 248,
   "id": "3f49f684",
   "metadata": {
    "ExecuteTime": {
     "end_time": "2021-09-23T19:20:14.409975Z",
     "start_time": "2021-09-23T19:20:14.403993Z"
    }
   },
   "outputs": [],
   "source": [
    "# Erststimmen herausfiltern\n",
    "df_es = df_ergebnisse[df_ergebnisse[\"Stimmart\"]==\"Erststimme\"]\n",
    "partei_to_del = ['Ungültige Stimmen', 'gültige Stimmen']\n",
    "df_es = df_es[~df_es[\"Partei\"].isin(partei_to_del)]"
   ]
  },
  {
   "cell_type": "markdown",
   "id": "152e379b",
   "metadata": {},
   "source": [
    "## Kandidaten und Stimmenanteil verbinden"
   ]
  },
  {
   "cell_type": "code",
   "execution_count": 249,
   "id": "e5790526",
   "metadata": {
    "ExecuteTime": {
     "end_time": "2021-09-23T19:20:15.545959Z",
     "start_time": "2021-09-23T19:20:15.538978Z"
    }
   },
   "outputs": [],
   "source": [
    "df_all_erststimmen = df_es.merge(df_dir, on=[\"KreisId\", \"ParteiId\"])"
   ]
  },
  {
   "cell_type": "code",
   "execution_count": 250,
   "id": "3ac5c434",
   "metadata": {
    "ExecuteTime": {
     "end_time": "2021-09-23T19:20:15.950787Z",
     "start_time": "2021-09-23T19:20:15.944804Z"
    }
   },
   "outputs": [],
   "source": [
    "# auf notwendige Columns eindampfen \n",
    "df_all_erststimmen = df_all_erststimmen[[\"KreisId\", \"Name_Partei\", \"Anteil\"]]"
   ]
  },
  {
   "cell_type": "markdown",
   "id": "71c9376d",
   "metadata": {},
   "source": [
    "## Test-Datensatz bauen"
   ]
  },
  {
   "cell_type": "code",
   "execution_count": 251,
   "id": "0a6de049",
   "metadata": {
    "ExecuteTime": {
     "end_time": "2021-09-23T19:20:16.884968Z",
     "start_time": "2021-09-23T19:20:16.875957Z"
    }
   },
   "outputs": [],
   "source": [
    "df_kandis = df_dir[[\"KreisId\" ,\"ParteiId\", \"Name_Partei\"]]\n",
    "df_kandis = df_kandis[df_kandis[\"ParteiId\"].str.isnumeric()]"
   ]
  },
  {
   "cell_type": "code",
   "execution_count": 252,
   "id": "fcaca137",
   "metadata": {
    "ExecuteTime": {
     "end_time": "2021-09-23T19:20:17.733454Z",
     "start_time": "2021-09-23T19:20:17.727471Z"
    }
   },
   "outputs": [],
   "source": [
    "# Func for creating random numbers \n",
    "def create_random_numbers(el): \n",
    "    el_num = int(el)\n",
    "    if el_num <=6: \n",
    "        random_num = random.uniform(8, 32)\n",
    "    elif el_num <=10: \n",
    "        random_num = random.uniform(0, 7)\n",
    "    else: \n",
    "        random_num = random.uniform(0, 2)\n",
    "    return round(random_num,1)"
   ]
  },
  {
   "cell_type": "code",
   "execution_count": 253,
   "id": "5face49a",
   "metadata": {
    "ExecuteTime": {
     "end_time": "2021-09-23T19:20:20.339177Z",
     "start_time": "2021-09-23T19:20:20.331199Z"
    }
   },
   "outputs": [],
   "source": [
    "df_kandis[\"Anteil\"] = df_kandis[\"ParteiId\"].map(create_random_numbers)"
   ]
  },
  {
   "cell_type": "code",
   "execution_count": 254,
   "id": "ecb0b914",
   "metadata": {
    "ExecuteTime": {
     "end_time": "2021-09-23T19:20:21.206441Z",
     "start_time": "2021-09-23T19:20:21.202485Z"
    }
   },
   "outputs": [],
   "source": [
    "del df_kandis[\"ParteiId\"]"
   ]
  },
  {
   "cell_type": "code",
   "execution_count": 255,
   "id": "005656c8",
   "metadata": {
    "ExecuteTime": {
     "end_time": "2021-09-23T19:20:22.252785Z",
     "start_time": "2021-09-23T19:20:22.243809Z"
    }
   },
   "outputs": [
    {
     "name": "stdout",
     "output_type": "stream",
     "text": [
      "<class 'pandas.core.frame.DataFrame'>\n",
      "Int64Index: 190 entries, 0 to 204\n",
      "Data columns (total 3 columns):\n",
      " #   Column       Non-Null Count  Dtype  \n",
      "---  ------       --------------  -----  \n",
      " 0   KreisId      190 non-null    object \n",
      " 1   Name_Partei  190 non-null    object \n",
      " 2   Anteil       190 non-null    float64\n",
      "dtypes: float64(1), object(2)\n",
      "memory usage: 5.9+ KB\n"
     ]
    }
   ],
   "source": [
    "df_kandis.info()"
   ]
  },
  {
   "cell_type": "code",
   "execution_count": 256,
   "id": "8df32da9",
   "metadata": {
    "ExecuteTime": {
     "end_time": "2021-09-23T19:20:24.128553Z",
     "start_time": "2021-09-23T19:20:23.869907Z"
    }
   },
   "outputs": [],
   "source": [
    "all_kreisid = df_kandis.KreisId.unique()\n",
    "for ids in all_kreisid: \n",
    "    df_ = df_kandis[df_kandis[\"KreisId\"]==ids]\n",
    "    url = f\"./data/testdateien_erststimmen/{ids}_erstimmen.csv\"\n",
    "    df_.to_csv(url, index=False)"
   ]
  },
  {
   "cell_type": "code",
   "execution_count": null,
   "id": "d765b137",
   "metadata": {},
   "outputs": [],
   "source": []
  },
  {
   "cell_type": "markdown",
   "id": "0f90cfc3",
   "metadata": {},
   "source": [
    "## TODO: aktueller Datensatz wie Testdatensatz bauen1!!"
   ]
  },
  {
   "cell_type": "code",
   "execution_count": null,
   "id": "eb10afae",
   "metadata": {},
   "outputs": [],
   "source": []
  },
  {
   "cell_type": "markdown",
   "id": "3a91d64a",
   "metadata": {},
   "source": [
    "## Wahlbeteiligung berechnen"
   ]
  },
  {
   "cell_type": "code",
   "execution_count": 257,
   "id": "7c423823",
   "metadata": {
    "ExecuteTime": {
     "end_time": "2021-09-23T19:20:26.601018Z",
     "start_time": "2021-09-23T19:20:26.594036Z"
    }
   },
   "outputs": [],
   "source": [
    "def wahlbeteiligung(kreisid): \n",
    "    df_ = df_daten[df_daten[\"KreisId\"]==kreisid]\n",
    "    wahlb = round(df_.loc[df_[\"Statistik\"]==\"Wähler\", \"Stimmen\"].item() / \\\n",
    "        df_.loc[df_[\"Statistik\"]==\"Wahlberechtigte\", \"Stimmen\"].item() *100,1) \n",
    "    return wahlb"
   ]
  },
  {
   "cell_type": "markdown",
   "id": "ee884770",
   "metadata": {},
   "source": [
    "## Datawrapper-Grafiken erneuern"
   ]
  },
  {
   "cell_type": "code",
   "execution_count": 258,
   "id": "37ac783f",
   "metadata": {
    "ExecuteTime": {
     "end_time": "2021-09-23T19:20:27.838615Z",
     "start_time": "2021-09-23T19:20:27.833629Z"
    }
   },
   "outputs": [],
   "source": [
    "# Auflistung der Kreis_Ids und der dazugehörige Datawrapper-Code\n",
    "dict_kreisId_dwId = {\"155\":\"bwpEN\", \"156\": \"V4cTH\", \"157\":\"7SnKy\", \"158\":\"dwDUx\", \"161\":\"hRaJz\"}"
   ]
  },
  {
   "cell_type": "code",
   "execution_count": 259,
   "id": "300ab4d4",
   "metadata": {
    "ExecuteTime": {
     "end_time": "2021-09-23T19:20:42.465859Z",
     "start_time": "2021-09-23T19:20:28.907985Z"
    }
   },
   "outputs": [
    {
     "name": "stdout",
     "output_type": "stream",
     "text": [
      "Chart updated!\n",
      "Chart's metadata updated!\n",
      "Chart updated!\n",
      "Chart's metadata updated!\n",
      "Chart updated!\n",
      "Chart's metadata updated!\n",
      "Chart updated!\n",
      "Chart's metadata updated!\n",
      "Chart updated!\n",
      "Chart's metadata updated!\n",
      "Aktualisierung Erststimmen Wahlkreise abgeschlossen.\n"
     ]
    }
   ],
   "source": [
    "all_kreisid = [\"155\", \"156\", \"157\", \"158\", \"161\"]\n",
    "for ids in all_kreisid: \n",
    "    df_ = df_kandis[df_kandis[\"KreisId\"]==ids]\n",
    "    # abfrage wird aus altem df_ergebnisse gezogen\n",
    "    abfrage = df_ergebnisse[df_ergebnisse[\"KreisId\"]==ids][\"Stand\"].iloc[0]\n",
    "    # wenn keine Daten vorhanden, bleibt der Dummy stehen\n",
    "    if df_.shape[0] == 0: \n",
    "        print(f\"Keine Daten für WK {ids} vorhanden!\")\n",
    "    else: \n",
    "        chart_id = dict_kreisId_dwId[ids]\n",
    "        dw.add_data(chart_id, df_)\n",
    "        \n",
    "        # UZ Wahlbeteiligung einbauen\n",
    "        # Wahlbeteiligung und Quellen eintragen: \n",
    "        source_name = \"<b style='color: grey'>Landeswahlleiter</b>\"\n",
    "        source_url = \"https://wahlen.sachsen.de/bundestagswahl-2021.html\"\n",
    "        byline = \"Christoph Knoop | Die Mehrwertmacher GmbH\"\n",
    "        wbt = wahlbeteiligung(ids)\n",
    "        unterzeile = f\"<b>Wahlbeteiligung: {str(wbt).replace('.', ',')} Prozent (+3,5).</b>\"\n",
    "        dw.update_description(chart_id,source_name=source_name, source_url=source_url,\\\n",
    "                              byline=byline, intro=unterzeile)\n",
    "        \n",
    "        #string_date1 = f\"Datenstand: {datetime.now().strftime('%d.%m.%Y, %H:%M')}.\"\n",
    "        string_date1 = f\"<b>Datenstand: {datenstand}</b>\"\n",
    "        string_date2 = f\"<b> {abfrage} ausgezählt.</b>\"\n",
    "        string_final = string_date1 + string_date2\n",
    "        props = {'annotate': {'notes': string_final}}\n",
    "        dw.update_metadata(chart_id, props)\n",
    "        dw.publish_chart(chart_id, display=False)\n",
    "#endregion\n",
    "print(\"Aktualisierung Erststimmen Wahlkreise abgeschlossen.\")\n",
    "        \n",
    "        "
   ]
  },
  {
   "cell_type": "markdown",
   "id": "8a1c868f",
   "metadata": {},
   "source": [
    "## Datawrapper als PNG ausspielen "
   ]
  },
  {
   "cell_type": "code",
   "execution_count": 260,
   "id": "0d57f12a",
   "metadata": {
    "ExecuteTime": {
     "end_time": "2021-09-23T19:21:50.488415Z",
     "start_time": "2021-09-23T19:21:21.865903Z"
    }
   },
   "outputs": [
    {
     "name": "stdout",
     "output_type": "stream",
     "text": [
      "File exported at data\\png_wahlkreise\\155_erststimme.png\n",
      "File exported at data\\png_wahlkreise\\156_erststimme.png\n",
      "File exported at data\\png_wahlkreise\\157_erststimme.png\n",
      "File exported at data\\png_wahlkreise\\158_erststimme.png\n",
      "File exported at data\\png_wahlkreise\\161_erststimme.png\n",
      "Erststimmen Wahkreise als png ausgespielt.\n"
     ]
    }
   ],
   "source": [
    "all_kreisid = [\"155\", \"156\", \"157\", \"158\", \"161\"]\n",
    "for ids in all_kreisid: \n",
    "    chart_id = dict_kreisId_dwId[ids]\n",
    "    folder = \"./data/png_wahlkreise/\"\n",
    "    file = f\"{ids}_erststimme.png\"\n",
    "    path = folder + file\n",
    "    dw.export_chart(chart_id, width=768, zoom=3, border_width=30, filepath = path)\n",
    "    \n",
    "print(\"Erststimmen Wahkreise als png ausgespielt.\")    "
   ]
  },
  {
   "cell_type": "code",
   "execution_count": null,
   "id": "f0871478",
   "metadata": {},
   "outputs": [],
   "source": []
  },
  {
   "cell_type": "markdown",
   "id": "300bda45",
   "metadata": {},
   "source": [
    "## PNGs auf Server übertragen"
   ]
  },
  {
   "cell_type": "code",
   "execution_count": 261,
   "id": "ffc362ae",
   "metadata": {
    "ExecuteTime": {
     "end_time": "2021-09-23T19:21:53.198962Z",
     "start_time": "2021-09-23T19:21:50.616072Z"
    }
   },
   "outputs": [
    {
     "name": "stdout",
     "output_type": "stream",
     "text": [
      "PNGs Erststimmen Wahlkreise an Server gesendet.\n"
     ]
    }
   ],
   "source": [
    "from ftplib import FTP \n",
    "import pysftp \n",
    "pw = \"Fair67?sea\" \n",
    "name = \"christophknoop\" \n",
    "hostname = \"app.dmwm.de\" \n",
    "hostname2 = \"christophknoop@app.dmwm.de\" \n",
    "hostname3 = \"https://datasets.app.dmwm.de\" \n",
    "# ftp = FTP(hostname) \n",
    "# ftp.login(user=name, passwd = pw) \n",
    "cnopts = pysftp.CnOpts() \n",
    "cnopts.hostkeys = None \n",
    "\n",
    "# Ort der hochzuladenen Dateien\n",
    "\n",
    "#folder = \"./data/png_wahlkreise\"\n",
    "folder = r\"C:\\\\Users\\\\c_knoop\\\\Desktop\\\\BTW_2021\\\\data\\\\png_wahlkreise\\\\*.png\"\n",
    "#remote_folder = r\"\\\\var\\\\www\\\\christophknoop\\\\wahlkarte\\\\png\\\\wahlkreise\\\\\"\n",
    "remote_folder = r\"/var/www/christophknoop/wahlkarte/png/wahlkreise/\"\n",
    "with pysftp.Connection(hostname, username=name, password=pw, cnopts=cnopts) as sftp: \n",
    "    sftp.cwd('/var/www/christophknoop/wahlkarte/png/wahlkreise') \n",
    "    for filepath in glob.iglob(folder):\n",
    "        sftp.put(filepath)  \n",
    "               # upload file to public/ on remote     #sftp.put(\"./Daten/Abschlussdateien/nicht_kumuliert.csv\")\n",
    "sftp.close() \n",
    "print(\"PNGs Erststimmen Wahlkreise an Server gesendet.\")"
   ]
  },
  {
   "cell_type": "code",
   "execution_count": null,
   "id": "64631174",
   "metadata": {},
   "outputs": [],
   "source": []
  },
  {
   "cell_type": "code",
   "execution_count": null,
   "id": "3e640ec4",
   "metadata": {},
   "outputs": [],
   "source": []
  },
  {
   "cell_type": "code",
   "execution_count": null,
   "id": "2e654e62",
   "metadata": {},
   "outputs": [],
   "source": []
  },
  {
   "cell_type": "markdown",
   "id": "ebd08b0c",
   "metadata": {
    "ExecuteTime": {
     "end_time": "2021-09-21T12:50:42.225528Z",
     "start_time": "2021-09-21T12:50:42.194396Z"
    }
   },
   "source": [
    "# Tabelle Zweitstimme pro Wahlkreis ausspielen"
   ]
  },
  {
   "cell_type": "markdown",
   "id": "51ac3192",
   "metadata": {},
   "source": [
    "## Zweiststimmen filtern, df erstellen"
   ]
  },
  {
   "cell_type": "code",
   "execution_count": 287,
   "id": "60f8cf2c",
   "metadata": {
    "ExecuteTime": {
     "end_time": "2021-09-23T19:24:28.146167Z",
     "start_time": "2021-09-23T19:24:28.133204Z"
    }
   },
   "outputs": [],
   "source": [
    "# richtiges Arbeitsverzeichnis wieder herstellen\n",
    "os.getcwd()\n",
    "os.chdir(r\"C:\\\\Users\\\\c_knoop\\\\Desktop\\\\BTW_2021\")"
   ]
  },
  {
   "cell_type": "code",
   "execution_count": 288,
   "id": "ed0e5ac6",
   "metadata": {
    "ExecuteTime": {
     "end_time": "2021-09-23T19:24:30.898897Z",
     "start_time": "2021-09-23T19:24:30.892948Z"
    }
   },
   "outputs": [],
   "source": [
    "df_zs = df_ergebnisse[df_ergebnisse[\"Stimmart\"]==\"Zweitstimme\"]\n",
    "df_zs = df_zs[[\"KreisId\", \"Partei\", \"Stimmen\", \"Anteil\"]]"
   ]
  },
  {
   "cell_type": "code",
   "execution_count": 289,
   "id": "a7b70c94",
   "metadata": {
    "ExecuteTime": {
     "end_time": "2021-09-23T19:24:31.238972Z",
     "start_time": "2021-09-23T19:24:31.233987Z"
    }
   },
   "outputs": [],
   "source": [
    "list_all_KreisIds = [\"155\", \"156\", \"157\", \"158\", \"161\"]\n",
    "df_zs = df_zs[df_zs[\"KreisId\"].isin(list_all_KreisIds)]"
   ]
  },
  {
   "cell_type": "markdown",
   "id": "914bcc3b",
   "metadata": {
    "ExecuteTime": {
     "end_time": "2021-09-22T11:30:05.905909Z",
     "start_time": "2021-09-22T11:30:05.894942Z"
    }
   },
   "source": [
    "## \"sonstige\" berechnen"
   ]
  },
  {
   "cell_type": "code",
   "execution_count": 290,
   "id": "9cc48707",
   "metadata": {
    "ExecuteTime": {
     "end_time": "2021-09-23T19:24:31.777599Z",
     "start_time": "2021-09-23T19:24:31.765632Z"
    },
    "code_folding": []
   },
   "outputs": [],
   "source": [
    "def reduce_number_of_parties(df_zs): \n",
    "    liste_standing_terms = [\"Ungültige Stimmen\", \"gültige Stimmen\", \"CDU\", \"Die Linke\", \\\n",
    "                            \"AfD\", \"FDP\", \"Grüne\", \"SPD\"]\n",
    "       \n",
    "    df_ = df_zs[~df_zs[\"Partei\"].isin(liste_standing_terms)]\n",
    "    df_rest = df_zs[df_zs[\"Partei\"].isin(liste_standing_terms)]\n",
    "    df_flat = df_.groupby([\"KreisId\"], as_index=False).agg({\"Stimmen\":\"sum\", \"Anteil\":\"sum\"})\n",
    "    df_flat[\"Partei\"] = \"sonstige\"\n",
    "    df_complete = df_flat.append(df_rest)\n",
    "    \n",
    "    df_complete = df_complete.sort_values(by=\"KreisId\", ascending=True)\n",
    "    return df_complete\n",
    "        \n",
    "     \n",
    "    \n",
    "    \n",
    "    \n",
    "df_zs_flat = reduce_number_of_parties(df_zs)    "
   ]
  },
  {
   "cell_type": "code",
   "execution_count": 291,
   "id": "8cbcc1d1",
   "metadata": {
    "ExecuteTime": {
     "end_time": "2021-09-23T19:24:32.029203Z",
     "start_time": "2021-09-23T19:24:32.016238Z"
    }
   },
   "outputs": [
    {
     "data": {
      "text/html": [
       "<div>\n",
       "<style scoped>\n",
       "    .dataframe tbody tr th:only-of-type {\n",
       "        vertical-align: middle;\n",
       "    }\n",
       "\n",
       "    .dataframe tbody tr th {\n",
       "        vertical-align: top;\n",
       "    }\n",
       "\n",
       "    .dataframe thead th {\n",
       "        text-align: right;\n",
       "    }\n",
       "</style>\n",
       "<table border=\"1\" class=\"dataframe\">\n",
       "  <thead>\n",
       "    <tr style=\"text-align: right;\">\n",
       "      <th></th>\n",
       "      <th>KreisId</th>\n",
       "      <th>Stimmen</th>\n",
       "      <th>Anteil</th>\n",
       "      <th>Partei</th>\n",
       "    </tr>\n",
       "  </thead>\n",
       "  <tbody>\n",
       "    <tr>\n",
       "      <th>0</th>\n",
       "      <td>155</td>\n",
       "      <td>30048</td>\n",
       "      <td>20.7</td>\n",
       "      <td>sonstige</td>\n",
       "    </tr>\n",
       "    <tr>\n",
       "      <th>172</th>\n",
       "      <td>155</td>\n",
       "      <td>5944</td>\n",
       "      <td>4.1</td>\n",
       "      <td>Grüne</td>\n",
       "    </tr>\n",
       "    <tr>\n",
       "      <th>168</th>\n",
       "      <td>155</td>\n",
       "      <td>31346</td>\n",
       "      <td>21.8</td>\n",
       "      <td>SPD</td>\n",
       "    </tr>\n",
       "    <tr>\n",
       "      <th>166</th>\n",
       "      <td>155</td>\n",
       "      <td>16497</td>\n",
       "      <td>11.5</td>\n",
       "      <td>Die Linke</td>\n",
       "    </tr>\n",
       "    <tr>\n",
       "      <th>164</th>\n",
       "      <td>155</td>\n",
       "      <td>16234</td>\n",
       "      <td>11.3</td>\n",
       "      <td>CDU</td>\n",
       "    </tr>\n",
       "    <tr>\n",
       "      <th>162</th>\n",
       "      <td>155</td>\n",
       "      <td>31596</td>\n",
       "      <td>22.0</td>\n",
       "      <td>AfD</td>\n",
       "    </tr>\n",
       "    <tr>\n",
       "      <th>170</th>\n",
       "      <td>155</td>\n",
       "      <td>11898</td>\n",
       "      <td>8.3</td>\n",
       "      <td>FDP</td>\n",
       "    </tr>\n",
       "    <tr>\n",
       "      <th>158</th>\n",
       "      <td>155</td>\n",
       "      <td>1183</td>\n",
       "      <td>0.8</td>\n",
       "      <td>Ungültige Stimmen</td>\n",
       "    </tr>\n",
       "    <tr>\n",
       "      <th>160</th>\n",
       "      <td>155</td>\n",
       "      <td>143563</td>\n",
       "      <td>99.2</td>\n",
       "      <td>gültige Stimmen</td>\n",
       "    </tr>\n",
       "    <tr>\n",
       "      <th>1</th>\n",
       "      <td>156</td>\n",
       "      <td>21283</td>\n",
       "      <td>15.1</td>\n",
       "      <td>sonstige</td>\n",
       "    </tr>\n",
       "    <tr>\n",
       "      <th>195</th>\n",
       "      <td>156</td>\n",
       "      <td>1382</td>\n",
       "      <td>1.0</td>\n",
       "      <td>Ungültige Stimmen</td>\n",
       "    </tr>\n",
       "    <tr>\n",
       "      <th>197</th>\n",
       "      <td>156</td>\n",
       "      <td>140294</td>\n",
       "      <td>99.0</td>\n",
       "      <td>gültige Stimmen</td>\n",
       "    </tr>\n",
       "    <tr>\n",
       "      <th>199</th>\n",
       "      <td>156</td>\n",
       "      <td>34947</td>\n",
       "      <td>24.9</td>\n",
       "      <td>AfD</td>\n",
       "    </tr>\n",
       "    <tr>\n",
       "      <th>201</th>\n",
       "      <td>156</td>\n",
       "      <td>17525</td>\n",
       "      <td>12.5</td>\n",
       "      <td>CDU</td>\n",
       "    </tr>\n",
       "    <tr>\n",
       "      <th>203</th>\n",
       "      <td>156</td>\n",
       "      <td>17515</td>\n",
       "      <td>12.5</td>\n",
       "      <td>Die Linke</td>\n",
       "    </tr>\n",
       "    <tr>\n",
       "      <th>205</th>\n",
       "      <td>156</td>\n",
       "      <td>34998</td>\n",
       "      <td>24.9</td>\n",
       "      <td>SPD</td>\n",
       "    </tr>\n",
       "    <tr>\n",
       "      <th>207</th>\n",
       "      <td>156</td>\n",
       "      <td>10718</td>\n",
       "      <td>7.6</td>\n",
       "      <td>FDP</td>\n",
       "    </tr>\n",
       "    <tr>\n",
       "      <th>209</th>\n",
       "      <td>156</td>\n",
       "      <td>3308</td>\n",
       "      <td>2.4</td>\n",
       "      <td>Grüne</td>\n",
       "    </tr>\n",
       "    <tr>\n",
       "      <th>241</th>\n",
       "      <td>157</td>\n",
       "      <td>37094</td>\n",
       "      <td>25.1</td>\n",
       "      <td>SPD</td>\n",
       "    </tr>\n",
       "    <tr>\n",
       "      <th>243</th>\n",
       "      <td>157</td>\n",
       "      <td>10330</td>\n",
       "      <td>7.0</td>\n",
       "      <td>FDP</td>\n",
       "    </tr>\n",
       "    <tr>\n",
       "      <th>245</th>\n",
       "      <td>157</td>\n",
       "      <td>4324</td>\n",
       "      <td>2.9</td>\n",
       "      <td>Grüne</td>\n",
       "    </tr>\n",
       "    <tr>\n",
       "      <th>239</th>\n",
       "      <td>157</td>\n",
       "      <td>18402</td>\n",
       "      <td>12.4</td>\n",
       "      <td>Die Linke</td>\n",
       "    </tr>\n",
       "    <tr>\n",
       "      <th>237</th>\n",
       "      <td>157</td>\n",
       "      <td>18470</td>\n",
       "      <td>12.5</td>\n",
       "      <td>CDU</td>\n",
       "    </tr>\n",
       "    <tr>\n",
       "      <th>233</th>\n",
       "      <td>157</td>\n",
       "      <td>147861</td>\n",
       "      <td>99.0</td>\n",
       "      <td>gültige Stimmen</td>\n",
       "    </tr>\n",
       "    <tr>\n",
       "      <th>231</th>\n",
       "      <td>157</td>\n",
       "      <td>1456</td>\n",
       "      <td>1.0</td>\n",
       "      <td>Ungültige Stimmen</td>\n",
       "    </tr>\n",
       "    <tr>\n",
       "      <th>2</th>\n",
       "      <td>157</td>\n",
       "      <td>22296</td>\n",
       "      <td>15.0</td>\n",
       "      <td>sonstige</td>\n",
       "    </tr>\n",
       "    <tr>\n",
       "      <th>235</th>\n",
       "      <td>157</td>\n",
       "      <td>36945</td>\n",
       "      <td>25.0</td>\n",
       "      <td>AfD</td>\n",
       "    </tr>\n",
       "    <tr>\n",
       "      <th>277</th>\n",
       "      <td>158</td>\n",
       "      <td>35259</td>\n",
       "      <td>25.0</td>\n",
       "      <td>SPD</td>\n",
       "    </tr>\n",
       "    <tr>\n",
       "      <th>3</th>\n",
       "      <td>158</td>\n",
       "      <td>19256</td>\n",
       "      <td>13.5</td>\n",
       "      <td>sonstige</td>\n",
       "    </tr>\n",
       "    <tr>\n",
       "      <th>267</th>\n",
       "      <td>158</td>\n",
       "      <td>1453</td>\n",
       "      <td>1.0</td>\n",
       "      <td>Ungültige Stimmen</td>\n",
       "    </tr>\n",
       "    <tr>\n",
       "      <th>269</th>\n",
       "      <td>158</td>\n",
       "      <td>141072</td>\n",
       "      <td>99.0</td>\n",
       "      <td>gültige Stimmen</td>\n",
       "    </tr>\n",
       "    <tr>\n",
       "      <th>271</th>\n",
       "      <td>158</td>\n",
       "      <td>35381</td>\n",
       "      <td>25.1</td>\n",
       "      <td>AfD</td>\n",
       "    </tr>\n",
       "    <tr>\n",
       "      <th>273</th>\n",
       "      <td>158</td>\n",
       "      <td>17571</td>\n",
       "      <td>12.5</td>\n",
       "      <td>CDU</td>\n",
       "    </tr>\n",
       "    <tr>\n",
       "      <th>275</th>\n",
       "      <td>158</td>\n",
       "      <td>17639</td>\n",
       "      <td>12.5</td>\n",
       "      <td>Die Linke</td>\n",
       "    </tr>\n",
       "    <tr>\n",
       "      <th>279</th>\n",
       "      <td>158</td>\n",
       "      <td>11718</td>\n",
       "      <td>8.3</td>\n",
       "      <td>FDP</td>\n",
       "    </tr>\n",
       "    <tr>\n",
       "      <th>281</th>\n",
       "      <td>158</td>\n",
       "      <td>4248</td>\n",
       "      <td>3.0</td>\n",
       "      <td>Grüne</td>\n",
       "    </tr>\n",
       "    <tr>\n",
       "      <th>397</th>\n",
       "      <td>161</td>\n",
       "      <td>34797</td>\n",
       "      <td>25.0</td>\n",
       "      <td>SPD</td>\n",
       "    </tr>\n",
       "    <tr>\n",
       "      <th>395</th>\n",
       "      <td>161</td>\n",
       "      <td>17418</td>\n",
       "      <td>12.5</td>\n",
       "      <td>Die Linke</td>\n",
       "    </tr>\n",
       "    <tr>\n",
       "      <th>393</th>\n",
       "      <td>161</td>\n",
       "      <td>17379</td>\n",
       "      <td>12.5</td>\n",
       "      <td>CDU</td>\n",
       "    </tr>\n",
       "    <tr>\n",
       "      <th>399</th>\n",
       "      <td>161</td>\n",
       "      <td>11013</td>\n",
       "      <td>7.9</td>\n",
       "      <td>FDP</td>\n",
       "    </tr>\n",
       "    <tr>\n",
       "      <th>389</th>\n",
       "      <td>161</td>\n",
       "      <td>139165</td>\n",
       "      <td>99.0</td>\n",
       "      <td>gültige Stimmen</td>\n",
       "    </tr>\n",
       "    <tr>\n",
       "      <th>387</th>\n",
       "      <td>161</td>\n",
       "      <td>1400</td>\n",
       "      <td>1.0</td>\n",
       "      <td>Ungültige Stimmen</td>\n",
       "    </tr>\n",
       "    <tr>\n",
       "      <th>4</th>\n",
       "      <td>161</td>\n",
       "      <td>19961</td>\n",
       "      <td>14.2</td>\n",
       "      <td>sonstige</td>\n",
       "    </tr>\n",
       "    <tr>\n",
       "      <th>391</th>\n",
       "      <td>161</td>\n",
       "      <td>34787</td>\n",
       "      <td>25.0</td>\n",
       "      <td>AfD</td>\n",
       "    </tr>\n",
       "    <tr>\n",
       "      <th>401</th>\n",
       "      <td>161</td>\n",
       "      <td>3810</td>\n",
       "      <td>2.7</td>\n",
       "      <td>Grüne</td>\n",
       "    </tr>\n",
       "  </tbody>\n",
       "</table>\n",
       "</div>"
      ],
      "text/plain": [
       "    KreisId  Stimmen  Anteil             Partei\n",
       "0       155    30048    20.7           sonstige\n",
       "172     155     5944     4.1              Grüne\n",
       "168     155    31346    21.8                SPD\n",
       "166     155    16497    11.5          Die Linke\n",
       "164     155    16234    11.3                CDU\n",
       "162     155    31596    22.0                AfD\n",
       "170     155    11898     8.3                FDP\n",
       "158     155     1183     0.8  Ungültige Stimmen\n",
       "160     155   143563    99.2    gültige Stimmen\n",
       "1       156    21283    15.1           sonstige\n",
       "195     156     1382     1.0  Ungültige Stimmen\n",
       "197     156   140294    99.0    gültige Stimmen\n",
       "199     156    34947    24.9                AfD\n",
       "201     156    17525    12.5                CDU\n",
       "203     156    17515    12.5          Die Linke\n",
       "205     156    34998    24.9                SPD\n",
       "207     156    10718     7.6                FDP\n",
       "209     156     3308     2.4              Grüne\n",
       "241     157    37094    25.1                SPD\n",
       "243     157    10330     7.0                FDP\n",
       "245     157     4324     2.9              Grüne\n",
       "239     157    18402    12.4          Die Linke\n",
       "237     157    18470    12.5                CDU\n",
       "233     157   147861    99.0    gültige Stimmen\n",
       "231     157     1456     1.0  Ungültige Stimmen\n",
       "2       157    22296    15.0           sonstige\n",
       "235     157    36945    25.0                AfD\n",
       "277     158    35259    25.0                SPD\n",
       "3       158    19256    13.5           sonstige\n",
       "267     158     1453     1.0  Ungültige Stimmen\n",
       "269     158   141072    99.0    gültige Stimmen\n",
       "271     158    35381    25.1                AfD\n",
       "273     158    17571    12.5                CDU\n",
       "275     158    17639    12.5          Die Linke\n",
       "279     158    11718     8.3                FDP\n",
       "281     158     4248     3.0              Grüne\n",
       "397     161    34797    25.0                SPD\n",
       "395     161    17418    12.5          Die Linke\n",
       "393     161    17379    12.5                CDU\n",
       "399     161    11013     7.9                FDP\n",
       "389     161   139165    99.0    gültige Stimmen\n",
       "387     161     1400     1.0  Ungültige Stimmen\n",
       "4       161    19961    14.2           sonstige\n",
       "391     161    34787    25.0                AfD\n",
       "401     161     3810     2.7              Grüne"
      ]
     },
     "execution_count": 291,
     "metadata": {},
     "output_type": "execute_result"
    }
   ],
   "source": [
    "df_zs_flat"
   ]
  },
  {
   "cell_type": "markdown",
   "id": "4f1ee977",
   "metadata": {},
   "source": [
    "## korrekter Anteil \"sonstige\" berechnen"
   ]
  },
  {
   "cell_type": "code",
   "execution_count": 292,
   "id": "22617cf6",
   "metadata": {
    "ExecuteTime": {
     "end_time": "2021-09-23T19:24:33.151398Z",
     "start_time": "2021-09-23T19:24:33.136438Z"
    }
   },
   "outputs": [],
   "source": [
    "for ids in list_all_KreisIds: \n",
    "    df_zs_flat.loc[(df_zs_flat[\"KreisId\"]==ids) & \\\n",
    "                   (df_zs_flat[\"Partei\"]==\"sonstige\"), \"Anteil\"] = \\\n",
    "    round(df_zs_flat.loc[(df_zs_flat[\"KreisId\"]==ids) & \\\n",
    "                  (df_zs_flat[\"Partei\"]==\"sonstige\"), \"Stimmen\"].item()/ \\\n",
    "        df_zs_flat.loc[(df_zs_flat[\"KreisId\"]==ids) & \\\n",
    "                      (df_zs_flat[\"Partei\"]==\"gültige Stimmen\"), \"Stimmen\"].item() * 100,1)"
   ]
  },
  {
   "cell_type": "code",
   "execution_count": 293,
   "id": "08576934",
   "metadata": {
    "ExecuteTime": {
     "end_time": "2021-09-23T19:24:33.812893Z",
     "start_time": "2021-09-23T19:24:33.799925Z"
    }
   },
   "outputs": [
    {
     "data": {
      "text/html": [
       "<div>\n",
       "<style scoped>\n",
       "    .dataframe tbody tr th:only-of-type {\n",
       "        vertical-align: middle;\n",
       "    }\n",
       "\n",
       "    .dataframe tbody tr th {\n",
       "        vertical-align: top;\n",
       "    }\n",
       "\n",
       "    .dataframe thead th {\n",
       "        text-align: right;\n",
       "    }\n",
       "</style>\n",
       "<table border=\"1\" class=\"dataframe\">\n",
       "  <thead>\n",
       "    <tr style=\"text-align: right;\">\n",
       "      <th></th>\n",
       "      <th>KreisId</th>\n",
       "      <th>Stimmen</th>\n",
       "      <th>Anteil</th>\n",
       "      <th>Partei</th>\n",
       "    </tr>\n",
       "  </thead>\n",
       "  <tbody>\n",
       "    <tr>\n",
       "      <th>0</th>\n",
       "      <td>155</td>\n",
       "      <td>30048</td>\n",
       "      <td>20.9</td>\n",
       "      <td>sonstige</td>\n",
       "    </tr>\n",
       "    <tr>\n",
       "      <th>172</th>\n",
       "      <td>155</td>\n",
       "      <td>5944</td>\n",
       "      <td>4.1</td>\n",
       "      <td>Grüne</td>\n",
       "    </tr>\n",
       "    <tr>\n",
       "      <th>168</th>\n",
       "      <td>155</td>\n",
       "      <td>31346</td>\n",
       "      <td>21.8</td>\n",
       "      <td>SPD</td>\n",
       "    </tr>\n",
       "    <tr>\n",
       "      <th>166</th>\n",
       "      <td>155</td>\n",
       "      <td>16497</td>\n",
       "      <td>11.5</td>\n",
       "      <td>Die Linke</td>\n",
       "    </tr>\n",
       "    <tr>\n",
       "      <th>164</th>\n",
       "      <td>155</td>\n",
       "      <td>16234</td>\n",
       "      <td>11.3</td>\n",
       "      <td>CDU</td>\n",
       "    </tr>\n",
       "    <tr>\n",
       "      <th>162</th>\n",
       "      <td>155</td>\n",
       "      <td>31596</td>\n",
       "      <td>22.0</td>\n",
       "      <td>AfD</td>\n",
       "    </tr>\n",
       "    <tr>\n",
       "      <th>170</th>\n",
       "      <td>155</td>\n",
       "      <td>11898</td>\n",
       "      <td>8.3</td>\n",
       "      <td>FDP</td>\n",
       "    </tr>\n",
       "    <tr>\n",
       "      <th>158</th>\n",
       "      <td>155</td>\n",
       "      <td>1183</td>\n",
       "      <td>0.8</td>\n",
       "      <td>Ungültige Stimmen</td>\n",
       "    </tr>\n",
       "    <tr>\n",
       "      <th>160</th>\n",
       "      <td>155</td>\n",
       "      <td>143563</td>\n",
       "      <td>99.2</td>\n",
       "      <td>gültige Stimmen</td>\n",
       "    </tr>\n",
       "    <tr>\n",
       "      <th>1</th>\n",
       "      <td>156</td>\n",
       "      <td>21283</td>\n",
       "      <td>15.2</td>\n",
       "      <td>sonstige</td>\n",
       "    </tr>\n",
       "    <tr>\n",
       "      <th>195</th>\n",
       "      <td>156</td>\n",
       "      <td>1382</td>\n",
       "      <td>1.0</td>\n",
       "      <td>Ungültige Stimmen</td>\n",
       "    </tr>\n",
       "    <tr>\n",
       "      <th>197</th>\n",
       "      <td>156</td>\n",
       "      <td>140294</td>\n",
       "      <td>99.0</td>\n",
       "      <td>gültige Stimmen</td>\n",
       "    </tr>\n",
       "    <tr>\n",
       "      <th>199</th>\n",
       "      <td>156</td>\n",
       "      <td>34947</td>\n",
       "      <td>24.9</td>\n",
       "      <td>AfD</td>\n",
       "    </tr>\n",
       "    <tr>\n",
       "      <th>201</th>\n",
       "      <td>156</td>\n",
       "      <td>17525</td>\n",
       "      <td>12.5</td>\n",
       "      <td>CDU</td>\n",
       "    </tr>\n",
       "    <tr>\n",
       "      <th>203</th>\n",
       "      <td>156</td>\n",
       "      <td>17515</td>\n",
       "      <td>12.5</td>\n",
       "      <td>Die Linke</td>\n",
       "    </tr>\n",
       "    <tr>\n",
       "      <th>205</th>\n",
       "      <td>156</td>\n",
       "      <td>34998</td>\n",
       "      <td>24.9</td>\n",
       "      <td>SPD</td>\n",
       "    </tr>\n",
       "    <tr>\n",
       "      <th>207</th>\n",
       "      <td>156</td>\n",
       "      <td>10718</td>\n",
       "      <td>7.6</td>\n",
       "      <td>FDP</td>\n",
       "    </tr>\n",
       "    <tr>\n",
       "      <th>209</th>\n",
       "      <td>156</td>\n",
       "      <td>3308</td>\n",
       "      <td>2.4</td>\n",
       "      <td>Grüne</td>\n",
       "    </tr>\n",
       "    <tr>\n",
       "      <th>241</th>\n",
       "      <td>157</td>\n",
       "      <td>37094</td>\n",
       "      <td>25.1</td>\n",
       "      <td>SPD</td>\n",
       "    </tr>\n",
       "    <tr>\n",
       "      <th>243</th>\n",
       "      <td>157</td>\n",
       "      <td>10330</td>\n",
       "      <td>7.0</td>\n",
       "      <td>FDP</td>\n",
       "    </tr>\n",
       "    <tr>\n",
       "      <th>245</th>\n",
       "      <td>157</td>\n",
       "      <td>4324</td>\n",
       "      <td>2.9</td>\n",
       "      <td>Grüne</td>\n",
       "    </tr>\n",
       "    <tr>\n",
       "      <th>239</th>\n",
       "      <td>157</td>\n",
       "      <td>18402</td>\n",
       "      <td>12.4</td>\n",
       "      <td>Die Linke</td>\n",
       "    </tr>\n",
       "    <tr>\n",
       "      <th>237</th>\n",
       "      <td>157</td>\n",
       "      <td>18470</td>\n",
       "      <td>12.5</td>\n",
       "      <td>CDU</td>\n",
       "    </tr>\n",
       "    <tr>\n",
       "      <th>233</th>\n",
       "      <td>157</td>\n",
       "      <td>147861</td>\n",
       "      <td>99.0</td>\n",
       "      <td>gültige Stimmen</td>\n",
       "    </tr>\n",
       "    <tr>\n",
       "      <th>231</th>\n",
       "      <td>157</td>\n",
       "      <td>1456</td>\n",
       "      <td>1.0</td>\n",
       "      <td>Ungültige Stimmen</td>\n",
       "    </tr>\n",
       "    <tr>\n",
       "      <th>2</th>\n",
       "      <td>157</td>\n",
       "      <td>22296</td>\n",
       "      <td>15.1</td>\n",
       "      <td>sonstige</td>\n",
       "    </tr>\n",
       "    <tr>\n",
       "      <th>235</th>\n",
       "      <td>157</td>\n",
       "      <td>36945</td>\n",
       "      <td>25.0</td>\n",
       "      <td>AfD</td>\n",
       "    </tr>\n",
       "    <tr>\n",
       "      <th>277</th>\n",
       "      <td>158</td>\n",
       "      <td>35259</td>\n",
       "      <td>25.0</td>\n",
       "      <td>SPD</td>\n",
       "    </tr>\n",
       "    <tr>\n",
       "      <th>3</th>\n",
       "      <td>158</td>\n",
       "      <td>19256</td>\n",
       "      <td>13.6</td>\n",
       "      <td>sonstige</td>\n",
       "    </tr>\n",
       "    <tr>\n",
       "      <th>267</th>\n",
       "      <td>158</td>\n",
       "      <td>1453</td>\n",
       "      <td>1.0</td>\n",
       "      <td>Ungültige Stimmen</td>\n",
       "    </tr>\n",
       "    <tr>\n",
       "      <th>269</th>\n",
       "      <td>158</td>\n",
       "      <td>141072</td>\n",
       "      <td>99.0</td>\n",
       "      <td>gültige Stimmen</td>\n",
       "    </tr>\n",
       "    <tr>\n",
       "      <th>271</th>\n",
       "      <td>158</td>\n",
       "      <td>35381</td>\n",
       "      <td>25.1</td>\n",
       "      <td>AfD</td>\n",
       "    </tr>\n",
       "    <tr>\n",
       "      <th>273</th>\n",
       "      <td>158</td>\n",
       "      <td>17571</td>\n",
       "      <td>12.5</td>\n",
       "      <td>CDU</td>\n",
       "    </tr>\n",
       "    <tr>\n",
       "      <th>275</th>\n",
       "      <td>158</td>\n",
       "      <td>17639</td>\n",
       "      <td>12.5</td>\n",
       "      <td>Die Linke</td>\n",
       "    </tr>\n",
       "    <tr>\n",
       "      <th>279</th>\n",
       "      <td>158</td>\n",
       "      <td>11718</td>\n",
       "      <td>8.3</td>\n",
       "      <td>FDP</td>\n",
       "    </tr>\n",
       "    <tr>\n",
       "      <th>281</th>\n",
       "      <td>158</td>\n",
       "      <td>4248</td>\n",
       "      <td>3.0</td>\n",
       "      <td>Grüne</td>\n",
       "    </tr>\n",
       "    <tr>\n",
       "      <th>397</th>\n",
       "      <td>161</td>\n",
       "      <td>34797</td>\n",
       "      <td>25.0</td>\n",
       "      <td>SPD</td>\n",
       "    </tr>\n",
       "    <tr>\n",
       "      <th>395</th>\n",
       "      <td>161</td>\n",
       "      <td>17418</td>\n",
       "      <td>12.5</td>\n",
       "      <td>Die Linke</td>\n",
       "    </tr>\n",
       "    <tr>\n",
       "      <th>393</th>\n",
       "      <td>161</td>\n",
       "      <td>17379</td>\n",
       "      <td>12.5</td>\n",
       "      <td>CDU</td>\n",
       "    </tr>\n",
       "    <tr>\n",
       "      <th>399</th>\n",
       "      <td>161</td>\n",
       "      <td>11013</td>\n",
       "      <td>7.9</td>\n",
       "      <td>FDP</td>\n",
       "    </tr>\n",
       "    <tr>\n",
       "      <th>389</th>\n",
       "      <td>161</td>\n",
       "      <td>139165</td>\n",
       "      <td>99.0</td>\n",
       "      <td>gültige Stimmen</td>\n",
       "    </tr>\n",
       "    <tr>\n",
       "      <th>387</th>\n",
       "      <td>161</td>\n",
       "      <td>1400</td>\n",
       "      <td>1.0</td>\n",
       "      <td>Ungültige Stimmen</td>\n",
       "    </tr>\n",
       "    <tr>\n",
       "      <th>4</th>\n",
       "      <td>161</td>\n",
       "      <td>19961</td>\n",
       "      <td>14.3</td>\n",
       "      <td>sonstige</td>\n",
       "    </tr>\n",
       "    <tr>\n",
       "      <th>391</th>\n",
       "      <td>161</td>\n",
       "      <td>34787</td>\n",
       "      <td>25.0</td>\n",
       "      <td>AfD</td>\n",
       "    </tr>\n",
       "    <tr>\n",
       "      <th>401</th>\n",
       "      <td>161</td>\n",
       "      <td>3810</td>\n",
       "      <td>2.7</td>\n",
       "      <td>Grüne</td>\n",
       "    </tr>\n",
       "  </tbody>\n",
       "</table>\n",
       "</div>"
      ],
      "text/plain": [
       "    KreisId  Stimmen  Anteil             Partei\n",
       "0       155    30048    20.9           sonstige\n",
       "172     155     5944     4.1              Grüne\n",
       "168     155    31346    21.8                SPD\n",
       "166     155    16497    11.5          Die Linke\n",
       "164     155    16234    11.3                CDU\n",
       "162     155    31596    22.0                AfD\n",
       "170     155    11898     8.3                FDP\n",
       "158     155     1183     0.8  Ungültige Stimmen\n",
       "160     155   143563    99.2    gültige Stimmen\n",
       "1       156    21283    15.2           sonstige\n",
       "195     156     1382     1.0  Ungültige Stimmen\n",
       "197     156   140294    99.0    gültige Stimmen\n",
       "199     156    34947    24.9                AfD\n",
       "201     156    17525    12.5                CDU\n",
       "203     156    17515    12.5          Die Linke\n",
       "205     156    34998    24.9                SPD\n",
       "207     156    10718     7.6                FDP\n",
       "209     156     3308     2.4              Grüne\n",
       "241     157    37094    25.1                SPD\n",
       "243     157    10330     7.0                FDP\n",
       "245     157     4324     2.9              Grüne\n",
       "239     157    18402    12.4          Die Linke\n",
       "237     157    18470    12.5                CDU\n",
       "233     157   147861    99.0    gültige Stimmen\n",
       "231     157     1456     1.0  Ungültige Stimmen\n",
       "2       157    22296    15.1           sonstige\n",
       "235     157    36945    25.0                AfD\n",
       "277     158    35259    25.0                SPD\n",
       "3       158    19256    13.6           sonstige\n",
       "267     158     1453     1.0  Ungültige Stimmen\n",
       "269     158   141072    99.0    gültige Stimmen\n",
       "271     158    35381    25.1                AfD\n",
       "273     158    17571    12.5                CDU\n",
       "275     158    17639    12.5          Die Linke\n",
       "279     158    11718     8.3                FDP\n",
       "281     158     4248     3.0              Grüne\n",
       "397     161    34797    25.0                SPD\n",
       "395     161    17418    12.5          Die Linke\n",
       "393     161    17379    12.5                CDU\n",
       "399     161    11013     7.9                FDP\n",
       "389     161   139165    99.0    gültige Stimmen\n",
       "387     161     1400     1.0  Ungültige Stimmen\n",
       "4       161    19961    14.3           sonstige\n",
       "391     161    34787    25.0                AfD\n",
       "401     161     3810     2.7              Grüne"
      ]
     },
     "execution_count": 293,
     "metadata": {},
     "output_type": "execute_result"
    }
   ],
   "source": [
    "df_zs_flat"
   ]
  },
  {
   "cell_type": "markdown",
   "id": "92120406",
   "metadata": {},
   "source": [
    "## unnötige Zeilen und columns entfernen"
   ]
  },
  {
   "cell_type": "code",
   "execution_count": 294,
   "id": "cbc0b8df",
   "metadata": {
    "ExecuteTime": {
     "end_time": "2021-09-23T19:24:34.835154Z",
     "start_time": "2021-09-23T19:24:34.830168Z"
    }
   },
   "outputs": [],
   "source": [
    "rows_to_delete = [\"Ungültige Stimmen\", \"gültige Stimmen\"]\n",
    "df_zs_flat = df_zs_flat[~df_zs_flat[\"Partei\"].isin(rows_to_delete)]"
   ]
  },
  {
   "cell_type": "code",
   "execution_count": null,
   "id": "2af2096c",
   "metadata": {},
   "outputs": [],
   "source": []
  },
  {
   "cell_type": "markdown",
   "id": "530b7939",
   "metadata": {},
   "source": [
    "## historische Daten einarbeiten"
   ]
  },
  {
   "cell_type": "markdown",
   "id": "03125c1c",
   "metadata": {},
   "source": [
    "### historische Daten Cleaning"
   ]
  },
  {
   "cell_type": "code",
   "execution_count": 295,
   "id": "516a0dcc",
   "metadata": {
    "ExecuteTime": {
     "end_time": "2021-09-23T19:24:36.174471Z",
     "start_time": "2021-09-23T19:24:36.157894Z"
    }
   },
   "outputs": [],
   "source": [
    "dfh = ergebnisse_2017_wk.copy()\n",
    "# richtige Formate vergeben\n",
    "dfh[\"WK-Nr\"] = dfh[\"WK-Nr\"].astype(str)\n",
    "dfh = dfh.replace(\"x\", \"0\")\n",
    "dfh[\"AfD_1\"] = dfh[\"AfD_1\"].astype(int)\n",
    "dfh[\"NPD_1\"] = dfh[\"NPD_1\"].astype(int)\n",
    "\n",
    "dfh[\"PIRATEN_1\"] = dfh[\"PIRATEN_1\"].astype(int)\n",
    "dfh[\"FREIE WÄHLER_1\"] = dfh[\"FREIE WÄHLER_1\"].astype(int)\n",
    "dfh[\"BüSo_1\"] = dfh[\"BüSo_1\"].astype(int)\n",
    "dfh[\"MLPD_1\"] = dfh[\"MLPD_1\"].astype(int)\n",
    "dfh[\"ÖDP_1\"] = dfh[\"ÖDP_1\"].astype(int)\n",
    "dfh[\"Die PARTEI_1\"] = dfh[\"Die PARTEI_1\"].astype(int)\n",
    "dfh[\"FREIE WÄHLER_1\"] = dfh[\"FREIE WÄHLER_1\"].astype(int)\n",
    "dfh[\"Bürgerkandidat_1\"] = dfh[\"Bürgerkandidat_1\"].astype(int)\n",
    "dfh[\"Der Auserwählte_1\"] = dfh[\"Der Auserwählte_1\"].astype(int)\n",
    "dfh[\"Heimat Region Zwickau_1\"] = dfh[\"Heimat Region Zwickau_1\"].astype(int)\n",
    "dfh[\"Held_1\"] = dfh[\"Held_1\"].astype(int)\n",
    "dfh[\"Hoyer_1\"] = dfh[\"Hoyer_1\"].astype(int)\n",
    "dfh[\"Internationalistisch. Bündnis_1\"] = dfh[\"Internationalistisch. Bündnis_1\"].astype(int)\n",
    "dfh[\"RINK_1\"] = dfh[\"RINK_1\"].astype(int)\n",
    "dfh[\"SGP_1\"] = dfh[\"SGP_1\"].astype(int)\n",
    "dfh[\"Wir sind LEIPZIGER_1\"] = dfh[\"Wir sind LEIPZIGER_1\"].astype(int)\n",
    "\n",
    "# richtige Spaltennamen zum Mergen vergeben"
   ]
  },
  {
   "cell_type": "markdown",
   "id": "d55a8ed7",
   "metadata": {
    "ExecuteTime": {
     "end_time": "2021-09-22T12:35:45.486493Z",
     "start_time": "2021-09-22T12:35:45.468515Z"
    }
   },
   "source": [
    "### Nur Zweitstimmen und gültige Zweitstimmen filtern"
   ]
  },
  {
   "cell_type": "code",
   "execution_count": 296,
   "id": "cb544c8e",
   "metadata": {
    "ExecuteTime": {
     "end_time": "2021-09-23T19:24:36.864361Z",
     "start_time": "2021-09-23T19:24:36.854389Z"
    }
   },
   "outputs": [],
   "source": [
    "df_hist = dfh.iloc[:, [1,29,30, 31,32,33,34, 35, 36, 37, 38, 39, 40, 41, 42, 43, 44, 45, 46, 47]]\n",
    "df_long = df_hist.melt(id_vars=[\"WK-Nr\"], var_name = \"Partei\", value_name=\"Stimmen\")\n",
    "list_all_KreisIds = [\"155\", \"156\", \"157\", \"158\", \"161\"]\n",
    "df_long = df_long[df_long[\"WK-Nr\"].isin(list_all_KreisIds)]"
   ]
  },
  {
   "cell_type": "code",
   "execution_count": 297,
   "id": "0053b600",
   "metadata": {
    "ExecuteTime": {
     "end_time": "2021-09-23T19:24:37.264455Z",
     "start_time": "2021-09-23T19:24:37.258474Z"
    }
   },
   "outputs": [],
   "source": [
    "df_long[\"Partei\"] = df_long[\"Partei\"].str[:-2]"
   ]
  },
  {
   "cell_type": "code",
   "execution_count": 298,
   "id": "349edc1a",
   "metadata": {
    "ExecuteTime": {
     "end_time": "2021-09-23T19:24:37.674890Z",
     "start_time": "2021-09-23T19:24:37.668904Z"
    }
   },
   "outputs": [],
   "source": [
    "df_long[\"Partei\"] = df_long[\"Partei\"].str.replace(\"ungültige\", \"Ungültige Stimmen\").replace(\"gültige\", \"gültige Stimmen\")\n",
    "\n",
    "df_long.rename(columns={\"WK-Nr\":\"KreisId\"}, inplace=True)"
   ]
  },
  {
   "cell_type": "markdown",
   "id": "5c50b4d1",
   "metadata": {},
   "source": [
    "### \"Sonstige\" berechnen"
   ]
  },
  {
   "cell_type": "code",
   "execution_count": 299,
   "id": "b9261002",
   "metadata": {
    "ExecuteTime": {
     "end_time": "2021-09-23T19:24:39.294356Z",
     "start_time": "2021-09-23T19:24:39.284387Z"
    }
   },
   "outputs": [],
   "source": [
    "all_parties = [\"CDU\", \"AfD\", \"FDP\", \"SPD\", \"DIE LINKE\", \"GRÜNE\"]\n",
    "\n",
    "def reduce_number_of_parties_zs(df_zs): \n",
    "    liste_standing_terms = [\"Ungültige Stimmen\", \"gültige Stimmen\", \"CDU\", \"DIE LINKE\", \\\n",
    "                            \"AfD\", \"FDP\", \"GRÜNE\", \"SPD\"]\n",
    "       \n",
    "    df_ = df_zs[~df_zs[\"Partei\"].isin(liste_standing_terms)]\n",
    "    df_rest = df_zs[df_zs[\"Partei\"].isin(liste_standing_terms)]\n",
    "    #df_flat = df_.groupby([\"KreisId\"], as_index=False).sum()\n",
    "    df_flat_ = df_.groupby([\"KreisId\"], as_index=False).agg({\"Stimmen\":\"sum\"})\n",
    "    df_flat_[\"Partei\"] = \"sonstige\"\n",
    "    df_complete = df_flat_.append(df_rest)\n",
    "    \n",
    "    df_complete = df_complete.sort_values(by=\"KreisId\", ascending=True)\n",
    "    return df_complete\n",
    "        \n",
    "     \n",
    "    \n",
    "    \n",
    "    \n",
    "df_long_all = reduce_number_of_parties_zs(df_long)    "
   ]
  },
  {
   "cell_type": "markdown",
   "id": "bf8a7a61",
   "metadata": {},
   "source": [
    "### Anteile in historischen Daten berechnen"
   ]
  },
  {
   "cell_type": "code",
   "execution_count": 300,
   "id": "8dd35858",
   "metadata": {
    "ExecuteTime": {
     "end_time": "2021-09-23T19:24:40.535935Z",
     "start_time": "2021-09-23T19:24:40.520857Z"
    }
   },
   "outputs": [],
   "source": [
    "\n",
    "df_long_all[\"gültige_stimmen\"] = 0\n",
    "for ids in list_all_KreisIds: \n",
    "    gültige_stimmen = df_long_all.loc[(df_long_all[\"KreisId\"]==ids) & (df_long_all[\"Partei\"]==\"gültige Stimmen\"), \"Stimmen\"].item()\n",
    "    df_long_all.loc[df_long_all[\"KreisId\"]==ids, \"gültige_stimmen\"] = gültige_stimmen"
   ]
  },
  {
   "cell_type": "code",
   "execution_count": 301,
   "id": "7599134f",
   "metadata": {
    "ExecuteTime": {
     "end_time": "2021-09-23T19:24:41.008479Z",
     "start_time": "2021-09-23T19:24:41.004497Z"
    }
   },
   "outputs": [],
   "source": [
    "df_long_all[\"Anteil_2017\"] = round(df_long_all[\"Stimmen\"] / df_long_all[\"gültige_stimmen\"] * 100,1)"
   ]
  },
  {
   "cell_type": "markdown",
   "id": "989527ed",
   "metadata": {},
   "source": [
    "## aktuelle und historische Daten zusammenführen, +/- Zeichen setzen, Partei und Veränderung in einen string packen"
   ]
  },
  {
   "cell_type": "code",
   "execution_count": 302,
   "id": "9e3f6654",
   "metadata": {
    "ExecuteTime": {
     "end_time": "2021-09-23T19:24:59.967042Z",
     "start_time": "2021-09-23T19:24:59.960061Z"
    }
   },
   "outputs": [],
   "source": [
    "all_parties_2017 = [\"CDU\", \"FDP\", \"AfD\", \"DIE LINKE\", \"SPD\", \"GRÜNE\", \"sonstige\"]\n",
    "all_parties_2021 = [\"CDU\", \"FDP\", \"AfD\", \"Die Linke\", \"SPD\", \"Grüne\", \"sonstige\"]\n",
    "df_long_all = df_long_all[df_long_all[\"Partei\"].isin(all_parties_2017)]\n",
    "df_zs_flat = df_zs_flat[df_zs_flat[\"Partei\"].isin(all_parties_2021)]"
   ]
  },
  {
   "cell_type": "code",
   "execution_count": 306,
   "id": "9781dead",
   "metadata": {
    "ExecuteTime": {
     "end_time": "2021-09-23T19:26:27.978932Z",
     "start_time": "2021-09-23T19:26:27.971950Z"
    }
   },
   "outputs": [],
   "source": [
    "# Schreibweise 2017er-Datensatz an aktuellen Datensatz anpassen\n",
    "df_long_all[\"Partei\"] = df_long_all[\"Partei\"].str.replace(\"DIE LINKE\", \"Die Linke\").replace(\"GRÜNE\", \"Grüne\")"
   ]
  },
  {
   "cell_type": "code",
   "execution_count": 308,
   "id": "2f4ecdba",
   "metadata": {
    "ExecuteTime": {
     "end_time": "2021-09-23T19:26:33.113286Z",
     "start_time": "2021-09-23T19:26:33.106306Z"
    }
   },
   "outputs": [],
   "source": [
    "df_all = df_zs_flat.merge(df_long_all[[\"KreisId\", \"Partei\", \"Anteil_2017\"]], on=[\"KreisId\",\"Partei\"])"
   ]
  },
  {
   "cell_type": "code",
   "execution_count": 309,
   "id": "8b5be751",
   "metadata": {
    "ExecuteTime": {
     "end_time": "2021-09-23T19:26:34.112696Z",
     "start_time": "2021-09-23T19:26:34.105748Z"
    }
   },
   "outputs": [],
   "source": [
    "# Veränderugen berechnen, mit +/- versehen und mit Parteinamen verbinden\n",
    "df_all[\"Veränderung\"] = round(df_all[\"Anteil\"] - df_all[\"Anteil_2017\"],1)\n",
    "df_all[\"Veränderung_string\"] = df_all[\"Veränderung\"].apply(lambda x: \"+\"+str(x) if x >0 else str(x))"
   ]
  },
  {
   "cell_type": "code",
   "execution_count": 310,
   "id": "37e25e6f",
   "metadata": {
    "ExecuteTime": {
     "end_time": "2021-09-23T19:26:34.806605Z",
     "start_time": "2021-09-23T19:26:34.789650Z"
    }
   },
   "outputs": [
    {
     "data": {
      "text/html": [
       "<div>\n",
       "<style scoped>\n",
       "    .dataframe tbody tr th:only-of-type {\n",
       "        vertical-align: middle;\n",
       "    }\n",
       "\n",
       "    .dataframe tbody tr th {\n",
       "        vertical-align: top;\n",
       "    }\n",
       "\n",
       "    .dataframe thead th {\n",
       "        text-align: right;\n",
       "    }\n",
       "</style>\n",
       "<table border=\"1\" class=\"dataframe\">\n",
       "  <thead>\n",
       "    <tr style=\"text-align: right;\">\n",
       "      <th></th>\n",
       "      <th>KreisId</th>\n",
       "      <th>Stimmen</th>\n",
       "      <th>Anteil</th>\n",
       "      <th>Partei</th>\n",
       "      <th>Anteil_2017</th>\n",
       "      <th>Veränderung</th>\n",
       "      <th>Veränderung_string</th>\n",
       "    </tr>\n",
       "  </thead>\n",
       "  <tbody>\n",
       "    <tr>\n",
       "      <th>0</th>\n",
       "      <td>155</td>\n",
       "      <td>30048</td>\n",
       "      <td>20.9</td>\n",
       "      <td>sonstige</td>\n",
       "      <td>6.6</td>\n",
       "      <td>14.3</td>\n",
       "      <td>+14.3</td>\n",
       "    </tr>\n",
       "    <tr>\n",
       "      <th>1</th>\n",
       "      <td>155</td>\n",
       "      <td>5944</td>\n",
       "      <td>4.1</td>\n",
       "      <td>Grüne</td>\n",
       "      <td>3.7</td>\n",
       "      <td>0.4</td>\n",
       "      <td>+0.4</td>\n",
       "    </tr>\n",
       "    <tr>\n",
       "      <th>2</th>\n",
       "      <td>155</td>\n",
       "      <td>31346</td>\n",
       "      <td>21.8</td>\n",
       "      <td>SPD</td>\n",
       "      <td>8.7</td>\n",
       "      <td>13.1</td>\n",
       "      <td>+13.1</td>\n",
       "    </tr>\n",
       "    <tr>\n",
       "      <th>3</th>\n",
       "      <td>155</td>\n",
       "      <td>16497</td>\n",
       "      <td>11.5</td>\n",
       "      <td>Die Linke</td>\n",
       "      <td>13.3</td>\n",
       "      <td>-1.8</td>\n",
       "      <td>-1.8</td>\n",
       "    </tr>\n",
       "    <tr>\n",
       "      <th>4</th>\n",
       "      <td>155</td>\n",
       "      <td>16234</td>\n",
       "      <td>11.3</td>\n",
       "      <td>CDU</td>\n",
       "      <td>26.1</td>\n",
       "      <td>-14.8</td>\n",
       "      <td>-14.8</td>\n",
       "    </tr>\n",
       "    <tr>\n",
       "      <th>5</th>\n",
       "      <td>155</td>\n",
       "      <td>31596</td>\n",
       "      <td>22.0</td>\n",
       "      <td>AfD</td>\n",
       "      <td>32.9</td>\n",
       "      <td>-10.9</td>\n",
       "      <td>-10.9</td>\n",
       "    </tr>\n",
       "    <tr>\n",
       "      <th>6</th>\n",
       "      <td>155</td>\n",
       "      <td>11898</td>\n",
       "      <td>8.3</td>\n",
       "      <td>FDP</td>\n",
       "      <td>8.7</td>\n",
       "      <td>-0.4</td>\n",
       "      <td>-0.4</td>\n",
       "    </tr>\n",
       "    <tr>\n",
       "      <th>7</th>\n",
       "      <td>156</td>\n",
       "      <td>21283</td>\n",
       "      <td>15.2</td>\n",
       "      <td>sonstige</td>\n",
       "      <td>6.9</td>\n",
       "      <td>8.3</td>\n",
       "      <td>+8.3</td>\n",
       "    </tr>\n",
       "    <tr>\n",
       "      <th>8</th>\n",
       "      <td>156</td>\n",
       "      <td>34947</td>\n",
       "      <td>24.9</td>\n",
       "      <td>AfD</td>\n",
       "      <td>32.8</td>\n",
       "      <td>-7.9</td>\n",
       "      <td>-7.9</td>\n",
       "    </tr>\n",
       "    <tr>\n",
       "      <th>9</th>\n",
       "      <td>156</td>\n",
       "      <td>17525</td>\n",
       "      <td>12.5</td>\n",
       "      <td>CDU</td>\n",
       "      <td>27.1</td>\n",
       "      <td>-14.6</td>\n",
       "      <td>-14.6</td>\n",
       "    </tr>\n",
       "    <tr>\n",
       "      <th>10</th>\n",
       "      <td>156</td>\n",
       "      <td>17515</td>\n",
       "      <td>12.5</td>\n",
       "      <td>Die Linke</td>\n",
       "      <td>14.2</td>\n",
       "      <td>-1.7</td>\n",
       "      <td>-1.7</td>\n",
       "    </tr>\n",
       "    <tr>\n",
       "      <th>11</th>\n",
       "      <td>156</td>\n",
       "      <td>34998</td>\n",
       "      <td>24.9</td>\n",
       "      <td>SPD</td>\n",
       "      <td>9.1</td>\n",
       "      <td>15.8</td>\n",
       "      <td>+15.8</td>\n",
       "    </tr>\n",
       "    <tr>\n",
       "      <th>12</th>\n",
       "      <td>156</td>\n",
       "      <td>10718</td>\n",
       "      <td>7.6</td>\n",
       "      <td>FDP</td>\n",
       "      <td>7.6</td>\n",
       "      <td>0.0</td>\n",
       "      <td>0.0</td>\n",
       "    </tr>\n",
       "    <tr>\n",
       "      <th>13</th>\n",
       "      <td>156</td>\n",
       "      <td>3308</td>\n",
       "      <td>2.4</td>\n",
       "      <td>Grüne</td>\n",
       "      <td>2.4</td>\n",
       "      <td>0.0</td>\n",
       "      <td>0.0</td>\n",
       "    </tr>\n",
       "    <tr>\n",
       "      <th>14</th>\n",
       "      <td>157</td>\n",
       "      <td>37094</td>\n",
       "      <td>25.1</td>\n",
       "      <td>SPD</td>\n",
       "      <td>9.3</td>\n",
       "      <td>15.8</td>\n",
       "      <td>+15.8</td>\n",
       "    </tr>\n",
       "    <tr>\n",
       "      <th>15</th>\n",
       "      <td>157</td>\n",
       "      <td>10330</td>\n",
       "      <td>7.0</td>\n",
       "      <td>FDP</td>\n",
       "      <td>7.0</td>\n",
       "      <td>0.0</td>\n",
       "      <td>0.0</td>\n",
       "    </tr>\n",
       "    <tr>\n",
       "      <th>16</th>\n",
       "      <td>157</td>\n",
       "      <td>4324</td>\n",
       "      <td>2.9</td>\n",
       "      <td>Grüne</td>\n",
       "      <td>2.9</td>\n",
       "      <td>0.0</td>\n",
       "      <td>0.0</td>\n",
       "    </tr>\n",
       "    <tr>\n",
       "      <th>17</th>\n",
       "      <td>157</td>\n",
       "      <td>18402</td>\n",
       "      <td>12.4</td>\n",
       "      <td>Die Linke</td>\n",
       "      <td>14.0</td>\n",
       "      <td>-1.6</td>\n",
       "      <td>-1.6</td>\n",
       "    </tr>\n",
       "    <tr>\n",
       "      <th>18</th>\n",
       "      <td>157</td>\n",
       "      <td>18470</td>\n",
       "      <td>12.5</td>\n",
       "      <td>CDU</td>\n",
       "      <td>26.7</td>\n",
       "      <td>-14.2</td>\n",
       "      <td>-14.2</td>\n",
       "    </tr>\n",
       "    <tr>\n",
       "      <th>19</th>\n",
       "      <td>157</td>\n",
       "      <td>22296</td>\n",
       "      <td>15.1</td>\n",
       "      <td>sonstige</td>\n",
       "      <td>7.2</td>\n",
       "      <td>7.9</td>\n",
       "      <td>+7.9</td>\n",
       "    </tr>\n",
       "    <tr>\n",
       "      <th>20</th>\n",
       "      <td>157</td>\n",
       "      <td>36945</td>\n",
       "      <td>25.0</td>\n",
       "      <td>AfD</td>\n",
       "      <td>32.9</td>\n",
       "      <td>-7.9</td>\n",
       "      <td>-7.9</td>\n",
       "    </tr>\n",
       "    <tr>\n",
       "      <th>21</th>\n",
       "      <td>158</td>\n",
       "      <td>35259</td>\n",
       "      <td>25.0</td>\n",
       "      <td>SPD</td>\n",
       "      <td>7.8</td>\n",
       "      <td>17.2</td>\n",
       "      <td>+17.2</td>\n",
       "    </tr>\n",
       "    <tr>\n",
       "      <th>22</th>\n",
       "      <td>158</td>\n",
       "      <td>19256</td>\n",
       "      <td>13.6</td>\n",
       "      <td>sonstige</td>\n",
       "      <td>7.0</td>\n",
       "      <td>6.6</td>\n",
       "      <td>+6.6</td>\n",
       "    </tr>\n",
       "    <tr>\n",
       "      <th>23</th>\n",
       "      <td>158</td>\n",
       "      <td>35381</td>\n",
       "      <td>25.1</td>\n",
       "      <td>AfD</td>\n",
       "      <td>35.5</td>\n",
       "      <td>-10.4</td>\n",
       "      <td>-10.4</td>\n",
       "    </tr>\n",
       "    <tr>\n",
       "      <th>24</th>\n",
       "      <td>158</td>\n",
       "      <td>17571</td>\n",
       "      <td>12.5</td>\n",
       "      <td>CDU</td>\n",
       "      <td>25.6</td>\n",
       "      <td>-13.1</td>\n",
       "      <td>-13.1</td>\n",
       "    </tr>\n",
       "    <tr>\n",
       "      <th>25</th>\n",
       "      <td>158</td>\n",
       "      <td>17639</td>\n",
       "      <td>12.5</td>\n",
       "      <td>Die Linke</td>\n",
       "      <td>12.8</td>\n",
       "      <td>-0.3</td>\n",
       "      <td>-0.3</td>\n",
       "    </tr>\n",
       "    <tr>\n",
       "      <th>26</th>\n",
       "      <td>158</td>\n",
       "      <td>11718</td>\n",
       "      <td>8.3</td>\n",
       "      <td>FDP</td>\n",
       "      <td>8.3</td>\n",
       "      <td>0.0</td>\n",
       "      <td>0.0</td>\n",
       "    </tr>\n",
       "    <tr>\n",
       "      <th>27</th>\n",
       "      <td>158</td>\n",
       "      <td>4248</td>\n",
       "      <td>3.0</td>\n",
       "      <td>Grüne</td>\n",
       "      <td>3.0</td>\n",
       "      <td>0.0</td>\n",
       "      <td>0.0</td>\n",
       "    </tr>\n",
       "    <tr>\n",
       "      <th>28</th>\n",
       "      <td>161</td>\n",
       "      <td>34797</td>\n",
       "      <td>25.0</td>\n",
       "      <td>SPD</td>\n",
       "      <td>9.7</td>\n",
       "      <td>15.3</td>\n",
       "      <td>+15.3</td>\n",
       "    </tr>\n",
       "    <tr>\n",
       "      <th>29</th>\n",
       "      <td>161</td>\n",
       "      <td>17418</td>\n",
       "      <td>12.5</td>\n",
       "      <td>Die Linke</td>\n",
       "      <td>14.5</td>\n",
       "      <td>-2.0</td>\n",
       "      <td>-2.0</td>\n",
       "    </tr>\n",
       "    <tr>\n",
       "      <th>30</th>\n",
       "      <td>161</td>\n",
       "      <td>17379</td>\n",
       "      <td>12.5</td>\n",
       "      <td>CDU</td>\n",
       "      <td>27.7</td>\n",
       "      <td>-15.2</td>\n",
       "      <td>-15.2</td>\n",
       "    </tr>\n",
       "    <tr>\n",
       "      <th>31</th>\n",
       "      <td>161</td>\n",
       "      <td>11013</td>\n",
       "      <td>7.9</td>\n",
       "      <td>FDP</td>\n",
       "      <td>7.9</td>\n",
       "      <td>0.0</td>\n",
       "      <td>0.0</td>\n",
       "    </tr>\n",
       "    <tr>\n",
       "      <th>32</th>\n",
       "      <td>161</td>\n",
       "      <td>19961</td>\n",
       "      <td>14.3</td>\n",
       "      <td>sonstige</td>\n",
       "      <td>6.2</td>\n",
       "      <td>8.1</td>\n",
       "      <td>+8.1</td>\n",
       "    </tr>\n",
       "    <tr>\n",
       "      <th>33</th>\n",
       "      <td>161</td>\n",
       "      <td>34787</td>\n",
       "      <td>25.0</td>\n",
       "      <td>AfD</td>\n",
       "      <td>31.2</td>\n",
       "      <td>-6.2</td>\n",
       "      <td>-6.2</td>\n",
       "    </tr>\n",
       "    <tr>\n",
       "      <th>34</th>\n",
       "      <td>161</td>\n",
       "      <td>3810</td>\n",
       "      <td>2.7</td>\n",
       "      <td>Grüne</td>\n",
       "      <td>2.8</td>\n",
       "      <td>-0.1</td>\n",
       "      <td>-0.1</td>\n",
       "    </tr>\n",
       "  </tbody>\n",
       "</table>\n",
       "</div>"
      ],
      "text/plain": [
       "   KreisId  Stimmen  Anteil     Partei  Anteil_2017  Veränderung  \\\n",
       "0      155    30048    20.9   sonstige          6.6         14.3   \n",
       "1      155     5944     4.1      Grüne          3.7          0.4   \n",
       "2      155    31346    21.8        SPD          8.7         13.1   \n",
       "3      155    16497    11.5  Die Linke         13.3         -1.8   \n",
       "4      155    16234    11.3        CDU         26.1        -14.8   \n",
       "5      155    31596    22.0        AfD         32.9        -10.9   \n",
       "6      155    11898     8.3        FDP          8.7         -0.4   \n",
       "7      156    21283    15.2   sonstige          6.9          8.3   \n",
       "8      156    34947    24.9        AfD         32.8         -7.9   \n",
       "9      156    17525    12.5        CDU         27.1        -14.6   \n",
       "10     156    17515    12.5  Die Linke         14.2         -1.7   \n",
       "11     156    34998    24.9        SPD          9.1         15.8   \n",
       "12     156    10718     7.6        FDP          7.6          0.0   \n",
       "13     156     3308     2.4      Grüne          2.4          0.0   \n",
       "14     157    37094    25.1        SPD          9.3         15.8   \n",
       "15     157    10330     7.0        FDP          7.0          0.0   \n",
       "16     157     4324     2.9      Grüne          2.9          0.0   \n",
       "17     157    18402    12.4  Die Linke         14.0         -1.6   \n",
       "18     157    18470    12.5        CDU         26.7        -14.2   \n",
       "19     157    22296    15.1   sonstige          7.2          7.9   \n",
       "20     157    36945    25.0        AfD         32.9         -7.9   \n",
       "21     158    35259    25.0        SPD          7.8         17.2   \n",
       "22     158    19256    13.6   sonstige          7.0          6.6   \n",
       "23     158    35381    25.1        AfD         35.5        -10.4   \n",
       "24     158    17571    12.5        CDU         25.6        -13.1   \n",
       "25     158    17639    12.5  Die Linke         12.8         -0.3   \n",
       "26     158    11718     8.3        FDP          8.3          0.0   \n",
       "27     158     4248     3.0      Grüne          3.0          0.0   \n",
       "28     161    34797    25.0        SPD          9.7         15.3   \n",
       "29     161    17418    12.5  Die Linke         14.5         -2.0   \n",
       "30     161    17379    12.5        CDU         27.7        -15.2   \n",
       "31     161    11013     7.9        FDP          7.9          0.0   \n",
       "32     161    19961    14.3   sonstige          6.2          8.1   \n",
       "33     161    34787    25.0        AfD         31.2         -6.2   \n",
       "34     161     3810     2.7      Grüne          2.8         -0.1   \n",
       "\n",
       "   Veränderung_string  \n",
       "0               +14.3  \n",
       "1                +0.4  \n",
       "2               +13.1  \n",
       "3                -1.8  \n",
       "4               -14.8  \n",
       "5               -10.9  \n",
       "6                -0.4  \n",
       "7                +8.3  \n",
       "8                -7.9  \n",
       "9               -14.6  \n",
       "10               -1.7  \n",
       "11              +15.8  \n",
       "12                0.0  \n",
       "13                0.0  \n",
       "14              +15.8  \n",
       "15                0.0  \n",
       "16                0.0  \n",
       "17               -1.6  \n",
       "18              -14.2  \n",
       "19               +7.9  \n",
       "20               -7.9  \n",
       "21              +17.2  \n",
       "22               +6.6  \n",
       "23              -10.4  \n",
       "24              -13.1  \n",
       "25               -0.3  \n",
       "26                0.0  \n",
       "27                0.0  \n",
       "28              +15.3  \n",
       "29               -2.0  \n",
       "30              -15.2  \n",
       "31                0.0  \n",
       "32               +8.1  \n",
       "33               -6.2  \n",
       "34               -0.1  "
      ]
     },
     "execution_count": 310,
     "metadata": {},
     "output_type": "execute_result"
    }
   ],
   "source": [
    "df_all"
   ]
  },
  {
   "cell_type": "code",
   "execution_count": 311,
   "id": "4314c6a2",
   "metadata": {
    "ExecuteTime": {
     "end_time": "2021-09-23T19:26:41.388212Z",
     "start_time": "2021-09-23T19:26:41.381195Z"
    }
   },
   "outputs": [],
   "source": [
    "\n",
    "df_all[\"Parteiname\"] = df_all[\"Partei\"] + ' (' + df_all[\"Veränderung_string\"]+')'"
   ]
  },
  {
   "cell_type": "code",
   "execution_count": 312,
   "id": "a83d99a7",
   "metadata": {
    "ExecuteTime": {
     "end_time": "2021-09-23T19:26:42.362763Z",
     "start_time": "2021-09-23T19:26:42.357811Z"
    }
   },
   "outputs": [],
   "source": [
    "df_final = df_all[[\"KreisId\", \"Parteiname\", \"Anteil\"]]\n"
   ]
  },
  {
   "cell_type": "markdown",
   "id": "b0faf28e",
   "metadata": {},
   "source": [
    "## Tabelle sortieren\n",
    "\n",
    "Ist hier per Hand nötig, da \"sonstige\" immer die letzte Column sein sollte. \n",
    "\n"
   ]
  },
  {
   "cell_type": "code",
   "execution_count": 313,
   "id": "226a0acb",
   "metadata": {
    "ExecuteTime": {
     "end_time": "2021-09-23T19:26:45.115790Z",
     "start_time": "2021-09-23T19:26:45.109807Z"
    }
   },
   "outputs": [],
   "source": [
    "def create_rank_sorter(df): \n",
    "    df[\"sorter\"] = df[\"Anteil\"].rank(ascending=False)\n",
    "    df.loc[df[\"Parteiname\"].str.contains(\"sonstige\"), \"sorter\"] = 100\n",
    "    df_ = df.sort_values(by=\"sorter\")\n",
    "    \n",
    "    return df_\n",
    "    \n"
   ]
  },
  {
   "cell_type": "markdown",
   "id": "f4a9903e",
   "metadata": {},
   "source": [
    "## Grafiken anlegen"
   ]
  },
  {
   "cell_type": "code",
   "execution_count": null,
   "id": "16a9ffb4",
   "metadata": {
    "ExecuteTime": {
     "end_time": "2021-09-22T17:44:01.031591Z",
     "start_time": "2021-09-22T17:44:01.025608Z"
    }
   },
   "outputs": [],
   "source": []
  },
  {
   "cell_type": "code",
   "execution_count": 314,
   "id": "dcda972a",
   "metadata": {
    "ExecuteTime": {
     "end_time": "2021-09-23T19:26:48.300559Z",
     "start_time": "2021-09-23T19:26:48.294573Z"
    }
   },
   "outputs": [],
   "source": [
    "zs_dict = {\"155\": \"uJaIJ\", \"156\":\"M1VEB\", \"157\":\"ynwmP\", \"158\":\"Pk2Zx\", \"161\": \"h8f5r\" }"
   ]
  },
  {
   "cell_type": "code",
   "execution_count": 315,
   "id": "cd84fe08",
   "metadata": {
    "ExecuteTime": {
     "end_time": "2021-09-23T19:27:05.437589Z",
     "start_time": "2021-09-23T19:26:53.853922Z"
    }
   },
   "outputs": [
    {
     "name": "stderr",
     "output_type": "stream",
     "text": [
      "<ipython-input-313-cf2afc58753b>:2: SettingWithCopyWarning: \n",
      "A value is trying to be set on a copy of a slice from a DataFrame.\n",
      "Try using .loc[row_indexer,col_indexer] = value instead\n",
      "\n",
      "See the caveats in the documentation: https://pandas.pydata.org/pandas-docs/stable/user_guide/indexing.html#returning-a-view-versus-a-copy\n",
      "  df[\"sorter\"] = df[\"Anteil\"].rank(ascending=False)\n",
      "c:\\users\\c_knoop\\appdata\\local\\programs\\python\\python39\\lib\\site-packages\\pandas\\core\\indexing.py:1817: SettingWithCopyWarning: \n",
      "A value is trying to be set on a copy of a slice from a DataFrame.\n",
      "Try using .loc[row_indexer,col_indexer] = value instead\n",
      "\n",
      "See the caveats in the documentation: https://pandas.pydata.org/pandas-docs/stable/user_guide/indexing.html#returning-a-view-versus-a-copy\n",
      "  self._setitem_single_column(loc, value, pi)\n"
     ]
    },
    {
     "name": "stdout",
     "output_type": "stream",
     "text": [
      "Chart updated!\n",
      "Chart's metadata updated!\n",
      "Chart updated!\n",
      "Chart's metadata updated!\n",
      "Chart updated!\n",
      "Chart's metadata updated!\n",
      "Chart updated!\n",
      "Chart's metadata updated!\n",
      "Chart updated!\n",
      "Chart's metadata updated!\n",
      "Aktualisierung Zweitstimme Wahlkreise abgeschlossen.\n"
     ]
    }
   ],
   "source": [
    "all_kreisid = [\"155\", \"156\", \"157\", \"158\", \"161\"]\n",
    "for ids in all_kreisid: \n",
    "    df_ = df_final[df_final[\"KreisId\"]==ids]\n",
    "    # abfrage wird aus altem df_ergebnisse gezogen\n",
    "    abfrage = df_ergebnisse[df_ergebnisse[\"KreisId\"]==ids][\"Stand\"].iloc[0]\n",
    "    # wenn keine Daten vorhanden, bleibt der Dummy stehen\n",
    "    if df_.shape[0] == 0: \n",
    "        print(f\"Keine Daten für WK {ids} vorhanden!\")\n",
    "    else: \n",
    "        # df sortieren\n",
    "        df_sorted = create_rank_sorter(df_)\n",
    "        del df_sorted[\"sorter\"]\n",
    "        chart_id = zs_dict[ids]\n",
    "        dw.add_data(chart_id, df_sorted)\n",
    "        \n",
    "        # Wahlbeteiligung und Quellen eintragen: \n",
    "        source_name = \"<b style='color: grey'>Landeswahlleiter</b>\"\n",
    "        source_url = \"https://wahlen.sachsen.de/bundestagswahl-2021.html\"\n",
    "        byline = \"Christoph Knoop | Die Mehrwertmacher GmbH\"\n",
    "        wbt = wahlbeteiligung(ids)\n",
    "        unterzeile = f\"<b>Wahlbeteiligung: {str(wbt).replace('.', ',')} Prozent (+3,5).</b>\"\n",
    "        dw.update_description(chart_id,source_name=source_name, source_url=source_url,\\\n",
    "                              byline=byline, intro=unterzeile)\n",
    "        \n",
    "        # Datenstand und Auszählungsstand eintragen\n",
    "        string_date1 = f\"<b>Datenstand: {datenstand}</b>\"\n",
    "        #string_date1 = datenstand\n",
    "        string_date2 = f\" <b>{abfrage} ausgezählt.</b>\"\n",
    "        string_final = string_date1 + string_date2\n",
    "        props = {'annotate': {'notes': string_final}}\n",
    "        dw.update_metadata(chart_id, props)\n",
    "        dw.publish_chart(chart_id, display=False)\n",
    "#endregion\n",
    "print(\"Aktualisierung Zweitstimme Wahlkreise abgeschlossen.\")"
   ]
  },
  {
   "cell_type": "code",
   "execution_count": null,
   "id": "bffee82b",
   "metadata": {},
   "outputs": [],
   "source": []
  },
  {
   "cell_type": "code",
   "execution_count": null,
   "id": "bb2e4009",
   "metadata": {},
   "outputs": [],
   "source": []
  },
  {
   "cell_type": "markdown",
   "id": "3dba28f2",
   "metadata": {},
   "source": [
    "## PNGs ausspielen"
   ]
  },
  {
   "cell_type": "code",
   "execution_count": 319,
   "id": "e08cf144",
   "metadata": {
    "ExecuteTime": {
     "end_time": "2021-09-23T19:56:11.781451Z",
     "start_time": "2021-09-23T19:55:43.027647Z"
    }
   },
   "outputs": [
    {
     "name": "stdout",
     "output_type": "stream",
     "text": [
      "File exported at data\\png_wahlkreise_zweitstimme\\155_zweitstimme.png\n",
      "File exported at data\\png_wahlkreise_zweitstimme\\156_zweitstimme.png\n",
      "File exported at data\\png_wahlkreise_zweitstimme\\157_zweitstimme.png\n",
      "File exported at data\\png_wahlkreise_zweitstimme\\158_zweitstimme.png\n",
      "File exported at data\\png_wahlkreise_zweitstimme\\161_zweitstimme.png\n",
      "Zweitstimmen Wahkreise als png ausgespielt.\n"
     ]
    }
   ],
   "source": [
    "all_kreisid = [\"155\", \"156\", \"157\", \"158\", \"161\"]\n",
    "for ids in all_kreisid: \n",
    "    chart_id = zs_dict[ids]\n",
    "    folder = \"./data/png_wahlkreise_zweitstimme/\"\n",
    "    file = f\"{ids}_zweitstimme.png\"\n",
    "    path = folder + file\n",
    "    dw.export_chart(chart_id, width=768, zoom=3, border_width=30, filepath = path)\n",
    "    \n",
    "print(\"Zweitstimmen Wahkreise als png ausgespielt.\")    "
   ]
  },
  {
   "cell_type": "code",
   "execution_count": null,
   "id": "ad313468",
   "metadata": {},
   "outputs": [],
   "source": []
  },
  {
   "cell_type": "markdown",
   "id": "5c097451",
   "metadata": {},
   "source": [
    "## PNGs an Server schicken"
   ]
  },
  {
   "cell_type": "code",
   "execution_count": 320,
   "id": "72e3897a",
   "metadata": {
    "ExecuteTime": {
     "end_time": "2021-09-23T19:56:15.358201Z",
     "start_time": "2021-09-23T19:56:11.923498Z"
    }
   },
   "outputs": [
    {
     "name": "stdout",
     "output_type": "stream",
     "text": [
      "PNGs Zweitstimme Wahlkreise an Server gesendet.\n"
     ]
    }
   ],
   "source": [
    "from ftplib import FTP \n",
    "import pysftp \n",
    "pw = \"Fair67?sea\" \n",
    "name = \"christophknoop\" \n",
    "hostname = \"app.dmwm.de\" \n",
    "hostname2 = \"christophknoop@app.dmwm.de\" \n",
    "hostname3 = \"https://datasets.app.dmwm.de\" \n",
    "# ftp = FTP(hostname) \n",
    "# ftp.login(user=name, passwd = pw) \n",
    "cnopts = pysftp.CnOpts() \n",
    "cnopts.hostkeys = None \n",
    "\n",
    "# Ort der hochzuladenen Dateien\n",
    "\n",
    "#folder = \"./data/png_wahlkreise\"\n",
    "folder = r\"C:\\\\Users\\\\c_knoop\\\\Desktop\\\\BTW_2021\\\\data\\\\png_wahlkreise_zweitstimme\\\\*.png\"\n",
    "with pysftp.Connection(hostname, username=name, password=pw, cnopts=cnopts) as sftp: \n",
    "    sftp.cwd('/var/www/christophknoop/wahlkarte/png/wahlkreise_zweitstimme') \n",
    "    for filepath in glob.iglob(folder):\n",
    "        sftp.put(filepath)  \n",
    "               # upload file to public/ on remote     #sftp.put(\"./Daten/Abschlussdateien/nicht_kumuliert.csv\")\n",
    "sftp.close() \n",
    "print(\"PNGs Zweitstimme Wahlkreise an Server gesendet.\")"
   ]
  },
  {
   "cell_type": "code",
   "execution_count": null,
   "id": "e0e4324a",
   "metadata": {},
   "outputs": [],
   "source": []
  },
  {
   "cell_type": "markdown",
   "id": "d22b8152",
   "metadata": {},
   "source": [
    "# Parteien nach Stärke sortieren"
   ]
  },
  {
   "cell_type": "markdown",
   "id": "f4ab7568",
   "metadata": {},
   "source": [
    "Grundsätzlich haben wir **sechs freie Parteien-Slots** und andere Parteien. Die sechs gesetzten Parteien möchten wir jetzt nach Stärke verteilen.\n",
    "\n",
    "**Zunächst nutzen wir dabei nur die Zweitstimmen**, bei Erststimmen müssen wir nochmal schauen \n",
    "\n",
    "\n",
    "Dafür nutze ich die Daten **vor** dem long to wide. Die Long-Daten finden sich in diesen Dataframes: \n",
    "\n",
    "df_es_flat \n",
    "\n",
    "df_zs_flat"
   ]
  },
  {
   "cell_type": "markdown",
   "id": "68d930ec",
   "metadata": {},
   "source": [
    "## Zweitstimmen nach Stärke"
   ]
  },
  {
   "cell_type": "code",
   "execution_count": null,
   "id": "796e4a09",
   "metadata": {
    "ExecuteTime": {
     "end_time": "2021-09-23T17:42:19.245949Z",
     "start_time": "2021-09-23T17:42:14.413Z"
    },
    "code_folding": []
   },
   "outputs": [],
   "source": [
    "def sort_parties(df): \n",
    "    \n",
    "    cols = [\"AGS\", \"Ort\", \"Gewinner\",\\\n",
    "            \"Partei_1_Stimmen\", \"Partei_1_Anteil\", \"Partei_1_Name\",\\\n",
    "            \"Partei_2_Stimmen\", \"Partei_2_Anteil\", \"Partei_2_Name\",\\\n",
    "            \"Partei_3_Stimmen\", \"Partei_3_Anteil\", \"Partei_3_Name\",\\\n",
    "            \"Partei_4_Stimmen\", \"Partei_4_Anteil\", \"Partei_4_Name\",\\\n",
    "            \"Partei_5_Stimmen\", \"Partei_5_Anteil\", \"Partei_5_Name\",\\\n",
    "            \"Partei_6_Stimmen\", \"Partei_6_Anteil\", \"Partei_6_Name\",\\\n",
    "            \"Partei_andere_Stimmen\", \"Partei_andere_Anteil\", \"Partei_andere_Name\", \\\n",
    "           \"ungültige Stimmen\", \"gültige Stimmen\"]\n",
    "            \n",
    "           \n",
    "      \n",
    "    new_df = pd.DataFrame(columns=cols)\n",
    "    \n",
    "    # jeder Ort wird durchlaufen\n",
    "    for ags in df[\"AGS\"].unique():\n",
    "        dict_var = {}\n",
    "        df_ = df[df[\"AGS\"]==ags]\n",
    "        ort = df_.iloc[0].Ort\n",
    "        \n",
    "        \n",
    "        # \"andere Parteien\" erfassen\n",
    "        andere = df_[df_[\"Partei\"]==\"andere Parteien\"]\n",
    "        if andere.shape[0]>0:\n",
    "            andere_stimmen = andere.Stimmen.item()\n",
    "            andere_anteil = andere.Anteil.item()\n",
    "            andere_name = \"andere Parteien\"\n",
    "        else:\n",
    "            andere_stimmen = 0\n",
    "            andere_anteil = 0\n",
    "            andere_name = \"andere Parteien\"\n",
    "            \n",
    "        \n",
    "        # ungültige Stimmen erfassen\n",
    "        ungültig = df_[df_[\"Partei\"]==\"Ungültige Stimmen\"][\"Stimmen\"].item()\n",
    "        gültig = df_[df_[\"Partei\"]==\"gültige Stimmen\"][\"Stimmen\"].item()\n",
    "        \n",
    "        \n",
    "        # andere Parteien herausfiltern (da sie sonst ev. einen Platz in der Parteienrangfolge einnehmen)\n",
    "        df_ = df_[~df_.Partei.isin([\"Ungültige Stimmen\", \"gültige Stimmen\", \"andere Parteien\"])]\n",
    "            \n",
    "        # Parteien nach Stimmen sortieren, höchste zuerst\n",
    "        df_sort = df_.sort_values(by=\"Stimmen\", ascending=False)\n",
    "        # Gewinner als Klarnamen herausfiltern\n",
    "        gewinner = df_sort.iloc[0][\"Partei\"]\n",
    "        \n",
    "        # Durchlauf durch die AGS, für jede Gemeinde sechs Parteien in Rangfolge setzen\n",
    "        for i in range(len(df_sort.index)):\n",
    "            j = i+1\n",
    "            \n",
    "            j = i+1\n",
    "            var_stimmen = f\"partei_{j}_Stimmen\"\n",
    "            var_anteil = f\"partei_{j}_Anteil\"\n",
    "            var_name = f\"partei_{j}_Name\"\n",
    "            val_stimmen = df_sort.iloc[i][\"Stimmen\"]\n",
    "            val_anteil = df_sort.iloc[i][\"Anteil\"]\n",
    "            val_name = df_sort.iloc[i][\"Partei\"]\n",
    "            \n",
    "            dict_var[var_stimmen] = val_stimmen\n",
    "            dict_var[var_anteil] = val_anteil\n",
    "            dict_var[var_name] = val_name\n",
    "            \n",
    "        \n",
    "        new_ser = pd.Series([ags, ort, gewinner, \\\n",
    "                             dict_var['partei_1_Stimmen'],dict_var['partei_1_Anteil'], dict_var['partei_1_Name'],\\\n",
    "                             dict_var['partei_2_Stimmen'],dict_var['partei_2_Anteil'], dict_var['partei_2_Name'],\\\n",
    "                             dict_var['partei_3_Stimmen'],dict_var['partei_3_Anteil'], dict_var['partei_3_Name'],\\\n",
    "                             dict_var['partei_4_Stimmen'],dict_var['partei_4_Anteil'], dict_var['partei_4_Name'],\\\n",
    "                             dict_var['partei_5_Stimmen'],dict_var['partei_5_Anteil'], dict_var['partei_5_Name'],\\\n",
    "                             dict_var['partei_6_Stimmen'],dict_var['partei_6_Anteil'], dict_var['partei_6_Name'],\\\n",
    "                             andere_stimmen, andere_anteil, andere_name, \\\n",
    "                             ungültig, gültig\n",
    "                            ], index=cols)\n",
    "        \n",
    "        new_df = new_df.append(new_ser, ignore_index=True)\n",
    "    \n",
    "    # richtige Datentypen vergeben\n",
    "    new_df[[\"Partei_andere_Stimmen\", \"ungültige Stimmen\", \"gültige Stimmen\"]] = \\\n",
    "        new_df[[\"Partei_andere_Stimmen\", \"ungültige Stimmen\", \"gültige Stimmen\"]].astype(int)\n",
    "    \n",
    "    new_df[\"Partei_andere_Anteil\"] = round(new_df[\"Partei_andere_Stimmen\"] / new_df[\"gültige Stimmen\"] * 100,1)\n",
    "    \n",
    "    return new_df\n",
    "            \n",
    "            \n",
    "        \n",
    "        \n",
    "        \n",
    "    \n",
    "    \n",
    "df_zs_rank = sort_parties(df_zs_flat)"
   ]
  },
  {
   "cell_type": "code",
   "execution_count": null,
   "id": "4ae3feb0",
   "metadata": {},
   "outputs": [],
   "source": []
  },
  {
   "cell_type": "markdown",
   "id": "855f2eb6",
   "metadata": {},
   "source": [
    "## Erststimme nach Stärke"
   ]
  },
  {
   "cell_type": "code",
   "execution_count": null,
   "id": "e9310a8a",
   "metadata": {
    "ExecuteTime": {
     "end_time": "2021-09-23T17:42:19.246948Z",
     "start_time": "2021-09-23T17:42:14.421Z"
    }
   },
   "outputs": [],
   "source": [
    "df_es_rank = sort_parties(df_es_flat)   "
   ]
  },
  {
   "cell_type": "code",
   "execution_count": null,
   "id": "25c82c9a",
   "metadata": {
    "ExecuteTime": {
     "end_time": "2021-09-23T17:42:19.246948Z",
     "start_time": "2021-09-23T17:42:14.425Z"
    }
   },
   "outputs": [],
   "source": [
    "# ACHTUNG, nur für Demozwecke\n",
    "# df_es_rank[\"Gewinner\"] = \"Name, Vorname (\" + df_es_rank['Gewinner'] + \")\"\n",
    "# df_es_rank[\"Partei_1_Name\"] = \"Name, Vorname (\" + df_es_rank['Partei_1_Name'] + \")\"\n",
    "# df_es_rank[\"Partei_2_Name\"] = \"Name, Vorname (\" + df_es_rank['Partei_2_Name'] + \")\"\n",
    "# df_es_rank[\"Partei_3_Name\"] = \"Name, Vorname (\" + df_es_rank['Partei_3_Name'] + \")\"\n",
    "# df_es_rank[\"Partei_4_Name\"] = \"Name, Vorname (\" + df_es_rank['Partei_4_Name'] + \")\"\n",
    "# df_es_rank[\"Partei_5_Name\"] = \"Name, Vorname (\" + df_es_rank['Partei_5_Name'] + \")\"\n",
    "# df_es_rank[\"Partei_6_Name\"] = \"Name, Vorname (\" + df_es_rank['Partei_6_Name'] + \")\""
   ]
  },
  {
   "cell_type": "markdown",
   "id": "b8b79a01",
   "metadata": {},
   "source": [
    "## Partei nach Stärke mit WK-Daten mergen"
   ]
  },
  {
   "cell_type": "code",
   "execution_count": null,
   "id": "f477eae6",
   "metadata": {
    "ExecuteTime": {
     "end_time": "2021-09-23T17:42:19.247944Z",
     "start_time": "2021-09-23T17:42:14.431Z"
    }
   },
   "outputs": [],
   "source": [
    "# Schritt 1 - präfix vergeben\n",
    "#Präfix _1 für Erststimme, _2 für Zweitstimme hinzufügen\n",
    "df_es_rank = df_es_rank.add_prefix(\"1_\")\n",
    "df_zs_rank = df_zs_rank.add_prefix(\"2_\")\n",
    "df_es_rank.rename(columns={\"1_AGS\":\"AGS\", \"1_Ort\":\"Ort\"}, inplace=True)\n",
    "df_zs_rank.rename(columns={\"2_AGS\":\"AGS\", \"2_Ort\":\"Ort\"}, inplace=True)"
   ]
  },
  {
   "cell_type": "code",
   "execution_count": null,
   "id": "290e6079",
   "metadata": {
    "ExecuteTime": {
     "end_time": "2021-09-23T17:42:19.248943Z",
     "start_time": "2021-09-23T17:42:14.435Z"
    }
   },
   "outputs": [],
   "source": [
    "# Schritt 2 - alle DAten zusammenfassen in eine Wide-Tabelle\n",
    "\n",
    "df_merge = df_es_rank.merge(df_zs_rank, on=[\"AGS\", \"Ort\"])\n",
    "df_merge = df_merge.merge(df_daten_wide, on=[\"AGS\", \"Ort\"])"
   ]
  },
  {
   "cell_type": "code",
   "execution_count": null,
   "id": "bed1d5d6",
   "metadata": {
    "ExecuteTime": {
     "end_time": "2021-09-23T17:42:19.249939Z",
     "start_time": "2021-09-23T17:42:14.440Z"
    }
   },
   "outputs": [],
   "source": [
    "df_merge.to_clipboard(decimal=\",\", index=False)\n",
    "df_merge.to_csv(\"datawrapper_dummy.csv\", index=False)"
   ]
  },
  {
   "cell_type": "code",
   "execution_count": null,
   "id": "f5b95bef",
   "metadata": {},
   "outputs": [],
   "source": []
  },
  {
   "cell_type": "markdown",
   "id": "3e502a6c",
   "metadata": {},
   "source": [
    "## Wahlergebnisse 2017 einarbeiten"
   ]
  },
  {
   "cell_type": "code",
   "execution_count": null,
   "id": "68725269",
   "metadata": {
    "ExecuteTime": {
     "end_time": "2021-09-23T17:42:19.250936Z",
     "start_time": "2021-09-23T17:42:14.448Z"
    }
   },
   "outputs": [],
   "source": [
    "df_merge[\"2_Partei_1_2017_Anteil\"] = 0\n",
    "df_merge[\"2_Partei_2_2017_Anteil\"] = 0\n",
    "df_merge[\"2_Partei_3_2017_Anteil\"] = 0\n",
    "df_merge[\"2_Partei_4_2017_Anteil\"] = 0\n",
    "df_merge[\"2_Partei_5_2017_Anteil\"] = 0\n",
    "df_merge[\"2_Partei_6_2017_Anteil\"] = 0\n",
    "df_merge[\"2_Partei_andere_2017_Anteil\"] = 0\n",
    "    "
   ]
  },
  {
   "cell_type": "code",
   "execution_count": null,
   "id": "4d1c6ed1",
   "metadata": {
    "ExecuteTime": {
     "end_time": "2021-09-23T17:42:19.251935Z",
     "start_time": "2021-09-23T17:42:14.453Z"
    }
   },
   "outputs": [],
   "source": [
    "# dfh = wahlergebnisse_2021.copy()\n",
    "\n",
    "# def create_old_results(df, dfh): \n",
    "#     for i in df.index: \n",
    "        \n",
    "#         dict_col_names = {\"AfD\":\"2017_AfD_%\", \"CDU\":\"2017_CDU_%\", \"LINKE\":\"2017_LINKE_%\", \"SPD\":\"2017_SPD_%\", \\\n",
    "#                          \"FDP\":\"2017_FDP_%\", \"GRÜNE\":\"2017_GRÜNE_%\", \"andere Parteien\":\"2017_andere_%\"} \n",
    "#         partei_1 = df.at[i, \"2_Partei_1_Name\"]\n",
    "#         anteil_2017_1 = \n",
    "        \n",
    "        \n",
    "        \n",
    "# create_old_results(df_merge)"
   ]
  },
  {
   "cell_type": "code",
   "execution_count": null,
   "id": "dc4bfd0d",
   "metadata": {
    "ExecuteTime": {
     "end_time": "2021-09-23T17:42:19.252934Z",
     "start_time": "2021-09-23T17:42:14.458Z"
    }
   },
   "outputs": [],
   "source": [
    "dfh"
   ]
  },
  {
   "cell_type": "markdown",
   "id": "d4d4a6c6",
   "metadata": {},
   "source": [
    "# Erstimmen-Daten mit Wahlkreis-Nr. und Kandidaten verbinden"
   ]
  },
  {
   "cell_type": "code",
   "execution_count": null,
   "id": "bc067529",
   "metadata": {
    "ExecuteTime": {
     "end_time": "2021-09-23T17:42:19.252934Z",
     "start_time": "2021-09-23T17:42:14.464Z"
    }
   },
   "outputs": [],
   "source": [
    "df_k = pd.read_excel(\"./data/statistik-sachsen_bundestagswahl2021_direktbewerber.xlsx\", header=1)"
   ]
  },
  {
   "cell_type": "code",
   "execution_count": null,
   "id": "6fb519b0",
   "metadata": {
    "ExecuteTime": {
     "end_time": "2021-09-23T17:42:19.253929Z",
     "start_time": "2021-09-23T17:42:14.469Z"
    }
   },
   "outputs": [],
   "source": [
    "# nur Kandidaten der sechs größeren Parteien behalten\n",
    "liste_parteien = [\"AfD\", \"CDU\", \"DIE LINKE\", \"FDP\", \"GRÜNE\", \"SPD\"]\n",
    "df_kandidaten = df_k[df_k[\"Wahlvorschlag \\nKurzbezeichnung\"].isin(liste_parteien)] \n",
    "df_kandidaten[\"Full_Name\"] = df_kandidaten['Name'] +\" (\" + df_kandidaten['Wahlvorschlag \\nKurzbezeichnung']+\")\"\n",
    "\n",
    "df_kandidaten.rename(columns={\"Wahlkreis 151 Nordsachsen\":\"Wahlkreis\", \"Nummer\":\"Listennummer\", \\\n",
    "                             \"Wahlvorschlag \\nKurzbezeichnung\": \"Partei\", \\\n",
    "                              \"Wahlvorschlag \\nLangbezeichnung\": \"Partei_lang\", \\\n",
    "                             \"Name\":\"Name\", \"Full_Name\": \"Name_lang\"}, inplace=True)\n",
    "# richtige Formate vergeben\n",
    "df_kandidaten[\"Wahlkreis\"] = df_kandidaten[\"Wahlkreis\"].astype(str)\n",
    "df_kandidaten[\"Listennummer\"] = df_kandidaten[\"Listennummer\"].astype(str)"
   ]
  },
  {
   "cell_type": "code",
   "execution_count": null,
   "id": "3200b805",
   "metadata": {
    "ExecuteTime": {
     "end_time": "2021-09-23T17:42:19.254926Z",
     "start_time": "2021-09-23T17:42:14.474Z"
    }
   },
   "outputs": [],
   "source": [
    "df_kandidaten"
   ]
  },
  {
   "cell_type": "code",
   "execution_count": null,
   "id": "d5adb37e",
   "metadata": {
    "ExecuteTime": {
     "end_time": "2021-09-23T17:42:19.255924Z",
     "start_time": "2021-09-23T17:42:14.480Z"
    }
   },
   "outputs": [],
   "source": [
    "def find_candidates(df_results, df_candidates):\n",
    "    all_ags = df_results.AGS.unique()\n",
    "    \n",
    "    # Helper um mit Partie-Namen die Listennummer herauszufinden\n",
    "    def return_party_nr(p_name): \n",
    "        for nr, name in parteien_dict.items():\n",
    "            if p_name == name:\n",
    "                return nr\n",
    "        \n",
    "    \n",
    "    for ags in all_ags: \n",
    "        df_ = df_results[df_results[\"AGS\"]==ags]\n",
    "        winner = df_[\"1_Partei_1_Name\"].item()\n",
    "        number_winner = return_party_nr(winner)\n",
    "        wknr = df_[\"WKNr\"].item()\n",
    "        name_winner = \"\"\n",
    "        try:\n",
    "            name_winner = df_kandidaten[(df_kandidaten[\"Wahlkreis\"]==wknr) & \\\n",
    "                                    (df_kandidaten[\"Listennummer\"]==number_winner)][\"Name_lang\"].item()\n",
    "        except: \n",
    "            print(wknr)\n",
    "            print(ags)\n",
    "            print(number_winner)\n",
    "            print(winner)\n",
    "        percent_share_winner = \n",
    "    \n",
    "        df_results.loc[df_results[\"AGS\"]==ags, \"1_Gewinner\"] = name_winner + \" (\" \")\"\n",
    "    \n",
    "\n",
    "    \n",
    "    \n",
    "    return df_results\n",
    "\n",
    "\n",
    "\n",
    "\n",
    "        \n",
    "df_fin = find_candidates(df_merge, df_kandidaten)"
   ]
  },
  {
   "cell_type": "markdown",
   "id": "034d923d",
   "metadata": {},
   "source": [
    "## Leipzig und Dresden haben je zwei Wahlkreise... Winner verändern"
   ]
  },
  {
   "cell_type": "markdown",
   "id": "c25c21c0",
   "metadata": {},
   "source": [
    "Hier muss ich auf Werte zurückgreifen, die "
   ]
  },
  {
   "cell_type": "code",
   "execution_count": null,
   "id": "0962f9d4",
   "metadata": {},
   "outputs": [],
   "source": []
  },
  {
   "cell_type": "code",
   "execution_count": null,
   "id": "37d55695",
   "metadata": {},
   "outputs": [],
   "source": []
  },
  {
   "cell_type": "code",
   "execution_count": null,
   "id": "c4ed313c",
   "metadata": {},
   "outputs": [],
   "source": []
  },
  {
   "cell_type": "code",
   "execution_count": null,
   "id": "fe70f61e",
   "metadata": {
    "ExecuteTime": {
     "end_time": "2021-09-23T17:42:19.256924Z",
     "start_time": "2021-09-23T17:42:14.494Z"
    }
   },
   "outputs": [],
   "source": [
    "wknr = \"164\"\n",
    "number_winner = \"2\"\n",
    "df_kandidaten[df_kandidaten[\"Listennummer\"]==1]"
   ]
  },
  {
   "cell_type": "code",
   "execution_count": null,
   "id": "702d07b9",
   "metadata": {},
   "outputs": [],
   "source": []
  }
 ],
 "metadata": {
  "hide_input": false,
  "kernelspec": {
   "display_name": "Python 3",
   "language": "python",
   "name": "python3"
  },
  "language_info": {
   "codemirror_mode": {
    "name": "ipython",
    "version": 3
   },
   "file_extension": ".py",
   "mimetype": "text/x-python",
   "name": "python",
   "nbconvert_exporter": "python",
   "pygments_lexer": "ipython3",
   "version": "3.9.5"
  },
  "toc": {
   "base_numbering": 1,
   "nav_menu": {},
   "number_sections": true,
   "sideBar": true,
   "skip_h1_title": false,
   "title_cell": "Table of Contents",
   "title_sidebar": "Contents",
   "toc_cell": false,
   "toc_position": {},
   "toc_section_display": true,
   "toc_window_display": false
  },
  "varInspector": {
   "cols": {
    "lenName": 16,
    "lenType": 16,
    "lenVar": 40
   },
   "kernels_config": {
    "python": {
     "delete_cmd_postfix": "",
     "delete_cmd_prefix": "del ",
     "library": "var_list.py",
     "varRefreshCmd": "print(var_dic_list())"
    },
    "r": {
     "delete_cmd_postfix": ") ",
     "delete_cmd_prefix": "rm(",
     "library": "var_list.r",
     "varRefreshCmd": "cat(var_dic_list()) "
    }
   },
   "types_to_exclude": [
    "module",
    "function",
    "builtin_function_or_method",
    "instance",
    "_Feature"
   ],
   "window_display": false
  }
 },
 "nbformat": 4,
 "nbformat_minor": 5
}
