{
 "cells": [
  {
   "cell_type": "markdown",
   "id": "149e4444",
   "metadata": {},
   "source": [
    "# Import libs und Daten"
   ]
  },
  {
   "cell_type": "code",
   "execution_count": 1,
   "id": "01898567",
   "metadata": {
    "ExecuteTime": {
     "end_time": "2021-09-23T07:10:33.114450Z",
     "start_time": "2021-09-23T07:10:26.358277Z"
    }
   },
   "outputs": [],
   "source": [
    "import pandas as pd\n",
    "from datetime import datetime\n",
    "import numpy as np\n",
    "# XML-Lib laden\n",
    "import xml.etree.ElementTree as ET"
   ]
  },
  {
   "cell_type": "code",
   "execution_count": 2,
   "id": "f2430b74",
   "metadata": {
    "ExecuteTime": {
     "end_time": "2021-09-23T07:10:33.291410Z",
     "start_time": "2021-09-23T07:10:33.124292Z"
    }
   },
   "outputs": [],
   "source": [
    "#url_xml = \"./analyse_alt/rohdaten/wahl_gemeinden.xml\"\n",
    "url_xml = \"./test_daten/F.210906.124700.GE.xml\"\n",
    "#url_xml = \"./test_daten/F.210906.132800.WK.xml\"\n",
    "root = ET.parse(url_xml).getroot()\n",
    "\n",
    "wahlergebnisse_2021 = pd.read_csv(\"./data/BTW_2017_GE.csv\")"
   ]
  },
  {
   "cell_type": "markdown",
   "id": "367e6f2b",
   "metadata": {},
   "source": [
    "# Herauslesen Daten Dataframe long"
   ]
  },
  {
   "cell_type": "code",
   "execution_count": 3,
   "id": "1c5994c7",
   "metadata": {
    "ExecuteTime": {
     "end_time": "2021-09-23T07:10:33.337161Z",
     "start_time": "2021-09-23T07:10:33.332171Z"
    }
   },
   "outputs": [],
   "source": [
    "#HELPER\n",
    "# Ordnet die Beschreibung des Tags <Gruppenergebnis> einer Klarbzeichung zu\n",
    "# diese Beschreibung ist unter dem Attribut Position abgespeichert\n",
    "\n",
    "# Check ob sich in einem String eine Nummer befindet\n",
    "def has_numbers(inputString):\n",
    "    return any(char.isdigit() for char in inputString)\n"
   ]
  },
  {
   "cell_type": "code",
   "execution_count": 11,
   "id": "6a9bf8a2",
   "metadata": {
    "ExecuteTime": {
     "end_time": "2021-09-19T14:46:31.161379Z",
     "start_time": "2021-09-19T14:46:31.158390Z"
    }
   },
   "outputs": [],
   "source": [
    "# Dict Parteien "
   ]
  },
  {
   "cell_type": "code",
   "execution_count": 4,
   "id": "48cfbdc9",
   "metadata": {
    "ExecuteTime": {
     "end_time": "2021-09-23T07:10:33.378049Z",
     "start_time": "2021-09-23T07:10:33.359101Z"
    },
    "code_folding": []
   },
   "outputs": [],
   "source": [
    "# Offizielle Listennummer mit Parteiname BTW 2021\n",
    "parteien_dict = {\"1\":\"AfD\", \"2\":\"CDU\", \"3\":\"LINKE\", \"4\":\"SPD\", \"5\":\"FDP\", \"6\":\"GRÜNE\", \\\n",
    "                # kleinere Parteien (sonstige)\n",
    "                \"7\":\"Tierschutzpartei\", \"8\":\"Die PARTEI\", \"9\":\"NPD\", \"10\":\"FREIE WÄHLER\", \\\n",
    "                 \"11\":\"PIRATEN\", \"12\":\"ÖDP\", \"13\":\"V-Partei³\", \"14\":\"MLPD\", \"15\":\"dieBasis\", \n",
    "                 \"16\": \"Bündnis C\", \"17\": \"III. Weg\", \"18\":\"DKP\", \"19\":\"Die Humanisten\", \\\n",
    "                 \"20\":\"Gesundheitsforschung\", \"21\":\"Team Todenhöfer\", \"22\":\"Volt\", \\\n",
    "                 # kleinere Parteien ohne Landesliste\n",
    "                 \"23\": \"ASMUSfddB\", \"24\":\"AufrechterDemokrat\", \"25\":\"Brähmig\", \"26\":\"BüSo\", \\\n",
    "                 \"27\":\"Daniel Richter\", \"28\":\"Direktkandidat Daniel Zimmet\", \"29\":\"Direktkandidat Frank Hannig\", \\\n",
    "                 \"30\": \"DK Schöllner\", \"31\":\"Ein Leipziger für Leipzig\", \"32\":\"#KLIMAfirst\", \\\n",
    "                 \"33\": \"Internationalistisches Bündnis\", \"34\": \"Internationalistisches Bündnis\", \\\n",
    "                 \"35\": \"Internationalistisches Bündnis\", \"36\":\"Ischgl\", \"37\":\"KARLKOMMT\", \\\n",
    "                 \"38\": \"LKR\", \"39\": \"Marcus Fuchs - Querdenken 351\", \"40\":\"Queck\", \"41\":\"REICHEL\",\\\n",
    "                 \"42\":\"Röhder\", \"43\":\"UNO - Menschrecht - FRIEDEN für Alle\", \"44\":\"WIR sind LEIPZIGER\", \\\n",
    "                 \"45\":\"www.zeitkaufhaus.de Martin Bayer\", \\\n",
    "                 # Bezeichner für gültige und ungültige Stimmen\n",
    "                \"GUE\": \"gültige Stimmen\", \"UNG\": \"Ungültige Stimmen\"\n",
    "\n",
    "                }"
   ]
  },
  {
   "cell_type": "code",
   "execution_count": 5,
   "id": "68ca0fc7",
   "metadata": {
    "ExecuteTime": {
     "end_time": "2021-09-23T07:10:33.420967Z",
     "start_time": "2021-09-23T07:10:33.398992Z"
    },
    "code_folding": [
     0
    ]
   },
   "outputs": [],
   "source": [
    "# Listennummer Parteien LTW 2019\n",
    "lt_parties_dict = {\n",
    "    \"1\":\"CDU\", \"2\":\"LINKE\", \"3\":\"SPD\", \"4\":\"AfD\", \"5\": \"GRÜNE\", \"6\":\"NPD\", \"7\":\"FDP\", \\\n",
    "    \"8\":\"FREIE WÄHLER\", \"9\":\"Tierschutzpartei\", \"10\":\"PIRATEN\", \"11\":\"DIE PARTEI\", \"12\":\"BüSo\", \\\n",
    "    \"13\":\"ADPM\", \"14\":\"Blaue\", \"15\":\"KPD\", \"16\":\"ÖDP\", \"17\":\"Humanisten\", \"18\":\"PDV\", \\\n",
    "    \"19\":\"Gesundheitsforschung\", \"20\":\"andere1\", \"21\":\"andere2\", \\\n",
    "    # Bezeichner für gültige und ungültige Stimmen\n",
    "    \"GUE\": \"gültige Stimmen\", \"UNG\": \"Ungültige Stimmen\"\n",
    "    \n",
    "}"
   ]
  },
  {
   "cell_type": "markdown",
   "id": "73fa045f",
   "metadata": {
    "ExecuteTime": {
     "end_time": "2021-09-07T07:44:07.264654Z",
     "start_time": "2021-09-07T07:44:07.261662Z"
    }
   },
   "source": []
  },
  {
   "cell_type": "code",
   "execution_count": 6,
   "id": "a9a0bfaf",
   "metadata": {
    "ExecuteTime": {
     "end_time": "2021-09-23T07:11:01.658363Z",
     "start_time": "2021-09-23T07:10:33.441878Z"
    },
    "code_folding": []
   },
   "outputs": [],
   "source": [
    "\n",
    "\n",
    "# jedes elem in root ist der Tag <Gebietsergebnis>, in dem immer eine komplette Gemeinde steckt. \n",
    "def read_xml(root):\n",
    "    \n",
    "    # Variablen in Datensatz\n",
    "    erststimmen = \"DIREKT\"\n",
    "    zweitstimmen = \"LISTE\"\n",
    "\n",
    "\n",
    "    \n",
    "    # zwei Dataframes werden erstellt, eins für die Ergebnisse der Parteien, \n",
    "    # ein anderes für Wahlstatistiken etc. \n",
    "    \n",
    "    # DF Ergebnisse\n",
    "    cols_result = [\"AGS\", \"Ort\", \"Partei\", \"Stimmart\", \"Stimmen\", \"Anteil\"]\n",
    "    df_results = pd.DataFrame(columns=cols_result)\n",
    "    \n",
    "    # DF Statistiken\n",
    "    col_stats = [\"AGS\", \"Ort\", \"WKNr\", \"Statistik\", \"Stimmen\", \"Anteil\"]\n",
    "    df_stats = pd.DataFrame(columns=col_stats)\n",
    "    \n",
    "    # Durchlauf durch alle <Gruppenergebnis>, sammeln der Gemeindedaten\n",
    "    for elem in root: \n",
    "        ags = elem.attrib.get(\"GemNr\")\n",
    "        name = elem.attrib.get(\"GemName\") \n",
    "        wk_nr = elem.attrib.get(\"KreisNr\")\n",
    "        # Unterpunkt ist <Gruppenergebnis>, hier findet sich unter \"Position\" die Beschreibung des jew. Datensatzes\n",
    "        for sub in elem: \n",
    "            position = sub.attrib.get(\"Position\")\n",
    "            \n",
    "            # Check ob position eine Nummer ist - dann handelt es sich nämlich um ein Partei-Stimmergebnis\n",
    "            # dann wird das result-Dataframe befüllt\n",
    "            if (has_numbers(position)) | (position == \"UNG\") | (position == \"GUE\"): \n",
    "                partei = parteien_dict[position]\n",
    "                for node in sub: \n",
    "                    kind_of_votes = node.attrib.get(\"Stimmart\")\n",
    "                    if kind_of_votes == erststimmen: \n",
    "                        stimmart = \"Erststimme\"\n",
    "                    else: \n",
    "                        stimmart = \"Zweitstimme\"\n",
    "                    count_votes = node.attrib.get(\"Stimmen\")\n",
    "                    votes_share = node.attrib.get(\"Anteil\")\n",
    "                    ser_results = pd.Series([ags, name, partei, stimmart, count_votes, votes_share], index=cols_result)\n",
    "                    df_results = df_results.append(ser_results, ignore_index=True)\n",
    "            \n",
    "            # wenn Buchstaben-Kennung wird das statistische Dataframe befüllt\n",
    "            else:\n",
    "                \n",
    "                info_node = sub[0]\n",
    "                stimmen = info_node.attrib.get(\"Stimmen\")\n",
    "                anteil = info_node.attrib.get(\"Anteil\")\n",
    "                \n",
    "                if position == \"WB\": \n",
    "                    statistik = \"Wahlberechtigte\"\n",
    "                    anteil = \"100\"\n",
    "                elif position == \"WAE\":\n",
    "                    statistik = \"Wähler\"\n",
    "                else: \n",
    "                    print(\"Fehler\")\n",
    "               \n",
    "                ser_stats = pd.Series([ags, name, wk_nr, statistik, stimmen, anteil], index=col_stats)\n",
    "                df_stats = df_stats.append(ser_stats, ignore_index=True)\n",
    "        \n",
    "    return df_results, df_stats\n",
    "                    \n",
    "                    \n",
    "            #if position\n",
    "            \n",
    "           \n",
    "\n",
    "            \n",
    "            \n",
    "            \n",
    "df_results_abfrage, df_daten_abfrage = read_xml(root)"
   ]
  },
  {
   "cell_type": "code",
   "execution_count": 7,
   "id": "a98964c8",
   "metadata": {
    "ExecuteTime": {
     "end_time": "2021-09-23T07:11:01.727012Z",
     "start_time": "2021-09-23T07:11:01.686191Z"
    }
   },
   "outputs": [
    {
     "data": {
      "text/html": [
       "<div>\n",
       "<style scoped>\n",
       "    .dataframe tbody tr th:only-of-type {\n",
       "        vertical-align: middle;\n",
       "    }\n",
       "\n",
       "    .dataframe tbody tr th {\n",
       "        vertical-align: top;\n",
       "    }\n",
       "\n",
       "    .dataframe thead th {\n",
       "        text-align: right;\n",
       "    }\n",
       "</style>\n",
       "<table border=\"1\" class=\"dataframe\">\n",
       "  <thead>\n",
       "    <tr style=\"text-align: right;\">\n",
       "      <th></th>\n",
       "      <th>AGS</th>\n",
       "      <th>Ort</th>\n",
       "      <th>Partei</th>\n",
       "      <th>Stimmart</th>\n",
       "      <th>Stimmen</th>\n",
       "      <th>Anteil</th>\n",
       "    </tr>\n",
       "  </thead>\n",
       "  <tbody>\n",
       "    <tr>\n",
       "      <th>0</th>\n",
       "      <td>14730010</td>\n",
       "      <td>Arzberg</td>\n",
       "      <td>Ungültige Stimmen</td>\n",
       "      <td>Erststimme</td>\n",
       "      <td>7</td>\n",
       "      <td>0.9</td>\n",
       "    </tr>\n",
       "    <tr>\n",
       "      <th>1</th>\n",
       "      <td>14730010</td>\n",
       "      <td>Arzberg</td>\n",
       "      <td>Ungültige Stimmen</td>\n",
       "      <td>Zweitstimme</td>\n",
       "      <td>8</td>\n",
       "      <td>1.0</td>\n",
       "    </tr>\n",
       "    <tr>\n",
       "      <th>2</th>\n",
       "      <td>14730010</td>\n",
       "      <td>Arzberg</td>\n",
       "      <td>gültige Stimmen</td>\n",
       "      <td>Erststimme</td>\n",
       "      <td>793</td>\n",
       "      <td>99.1</td>\n",
       "    </tr>\n",
       "    <tr>\n",
       "      <th>3</th>\n",
       "      <td>14730010</td>\n",
       "      <td>Arzberg</td>\n",
       "      <td>gültige Stimmen</td>\n",
       "      <td>Zweitstimme</td>\n",
       "      <td>792</td>\n",
       "      <td>99.0</td>\n",
       "    </tr>\n",
       "    <tr>\n",
       "      <th>4</th>\n",
       "      <td>14730010</td>\n",
       "      <td>Arzberg</td>\n",
       "      <td>AfD</td>\n",
       "      <td>Erststimme</td>\n",
       "      <td>198</td>\n",
       "      <td>25.0</td>\n",
       "    </tr>\n",
       "    <tr>\n",
       "      <th>...</th>\n",
       "      <td>...</td>\n",
       "      <td>...</td>\n",
       "      <td>...</td>\n",
       "      <td>...</td>\n",
       "      <td>...</td>\n",
       "      <td>...</td>\n",
       "    </tr>\n",
       "    <tr>\n",
       "      <th>15414</th>\n",
       "      <td>14523460</td>\n",
       "      <td>Werda</td>\n",
       "      <td>Gesundheitsforschung</td>\n",
       "      <td>Zweitstimme</td>\n",
       "      <td>0</td>\n",
       "      <td>0.0</td>\n",
       "    </tr>\n",
       "    <tr>\n",
       "      <th>15415</th>\n",
       "      <td>14523460</td>\n",
       "      <td>Werda</td>\n",
       "      <td>Team Todenhöfer</td>\n",
       "      <td>Zweitstimme</td>\n",
       "      <td>0</td>\n",
       "      <td>0.0</td>\n",
       "    </tr>\n",
       "    <tr>\n",
       "      <th>15416</th>\n",
       "      <td>14523460</td>\n",
       "      <td>Werda</td>\n",
       "      <td>Volt</td>\n",
       "      <td>Zweitstimme</td>\n",
       "      <td>0</td>\n",
       "      <td>0.0</td>\n",
       "    </tr>\n",
       "    <tr>\n",
       "      <th>15417</th>\n",
       "      <td>14523460</td>\n",
       "      <td>Werda</td>\n",
       "      <td>ASMUSfddB</td>\n",
       "      <td>Erststimme</td>\n",
       "      <td>0</td>\n",
       "      <td>0.0</td>\n",
       "    </tr>\n",
       "    <tr>\n",
       "      <th>15418</th>\n",
       "      <td>14523460</td>\n",
       "      <td>Werda</td>\n",
       "      <td>AufrechterDemokrat</td>\n",
       "      <td>Erststimme</td>\n",
       "      <td>0</td>\n",
       "      <td>0.0</td>\n",
       "    </tr>\n",
       "  </tbody>\n",
       "</table>\n",
       "<p>15419 rows × 6 columns</p>\n",
       "</div>"
      ],
      "text/plain": [
       "            AGS      Ort                Partei     Stimmart Stimmen Anteil\n",
       "0      14730010  Arzberg     Ungültige Stimmen   Erststimme       7    0.9\n",
       "1      14730010  Arzberg     Ungültige Stimmen  Zweitstimme       8    1.0\n",
       "2      14730010  Arzberg       gültige Stimmen   Erststimme     793   99.1\n",
       "3      14730010  Arzberg       gültige Stimmen  Zweitstimme     792   99.0\n",
       "4      14730010  Arzberg                   AfD   Erststimme     198   25.0\n",
       "...         ...      ...                   ...          ...     ...    ...\n",
       "15414  14523460    Werda  Gesundheitsforschung  Zweitstimme       0    0.0\n",
       "15415  14523460    Werda       Team Todenhöfer  Zweitstimme       0    0.0\n",
       "15416  14523460    Werda                  Volt  Zweitstimme       0    0.0\n",
       "15417  14523460    Werda             ASMUSfddB   Erststimme       0    0.0\n",
       "15418  14523460    Werda    AufrechterDemokrat   Erststimme       0    0.0\n",
       "\n",
       "[15419 rows x 6 columns]"
      ]
     },
     "execution_count": 7,
     "metadata": {},
     "output_type": "execute_result"
    }
   ],
   "source": [
    "df_results_abfrage"
   ]
  },
  {
   "cell_type": "markdown",
   "id": "81fa3b67",
   "metadata": {},
   "source": [
    "## richtige Datentypen vergeben"
   ]
  },
  {
   "cell_type": "code",
   "execution_count": 8,
   "id": "3e0e2e8e",
   "metadata": {
    "ExecuteTime": {
     "end_time": "2021-09-23T07:11:01.767899Z",
     "start_time": "2021-09-23T07:11:01.750945Z"
    }
   },
   "outputs": [],
   "source": [
    "# richtige Datentypen vergeben\n",
    "df_results_abfrage[\"Stimmen\"] = df_results_abfrage[\"Stimmen\"].astype(int)\n",
    "df_results_abfrage[\"Anteil\"] = df_results_abfrage[\"Anteil\"].astype(float)\n",
    "\n",
    "df_daten_abfrage[\"Stimmen\"] = df_daten_abfrage[\"Stimmen\"].astype(int)\n",
    "df_daten_abfrage[\"Anteil\"] = df_daten_abfrage[\"Anteil\"].astype(float)"
   ]
  },
  {
   "cell_type": "code",
   "execution_count": null,
   "id": "c210fe1f",
   "metadata": {},
   "outputs": [],
   "source": []
  },
  {
   "cell_type": "markdown",
   "id": "078de53d",
   "metadata": {
    "ExecuteTime": {
     "end_time": "2021-09-09T08:04:27.300586Z",
     "start_time": "2021-09-09T08:04:27.284963Z"
    }
   },
   "source": [
    "## Aus mehreren Stadt-Ergebnissen ein Ergebnis und einen Datensatz für jede Großstadt"
   ]
  },
  {
   "cell_type": "code",
   "execution_count": 9,
   "id": "8022b5ff",
   "metadata": {
    "ExecuteTime": {
     "end_time": "2021-09-23T07:11:01.799815Z",
     "start_time": "2021-09-23T07:11:01.795827Z"
    }
   },
   "outputs": [],
   "source": [
    "# Stadtname und übergreifende AGS\n",
    "city_dict = {\"Leipzig\":\"14713000\", \"Dresden\":\"14612000\"}"
   ]
  },
  {
   "cell_type": "code",
   "execution_count": 10,
   "id": "dccbdc1c",
   "metadata": {
    "ExecuteTime": {
     "end_time": "2021-09-23T07:11:01.922488Z",
     "start_time": "2021-09-23T07:11:01.825747Z"
    }
   },
   "outputs": [
    {
     "name": "stderr",
     "output_type": "stream",
     "text": [
      "<ipython-input-10-e684295ea4a7>:9: SettingWithCopyWarning: \n",
      "A value is trying to be set on a copy of a slice from a DataFrame.\n",
      "Try using .loc[row_indexer,col_indexer] = value instead\n",
      "\n",
      "See the caveats in the documentation: https://pandas.pydata.org/pandas-docs/stable/user_guide/indexing.html#returning-a-view-versus-a-copy\n",
      "  df_[\"Ort\"] = city\n",
      "<ipython-input-10-e684295ea4a7>:10: SettingWithCopyWarning: \n",
      "A value is trying to be set on a copy of a slice from a DataFrame.\n",
      "Try using .loc[row_indexer,col_indexer] = value instead\n",
      "\n",
      "See the caveats in the documentation: https://pandas.pydata.org/pandas-docs/stable/user_guide/indexing.html#returning-a-view-versus-a-copy\n",
      "  df_[\"AGS\"] = city_dict[city]\n"
     ]
    }
   ],
   "source": [
    "# Ergebnisliste\n",
    "\n",
    "def group_cities_results(df, city_dict): \n",
    "    df_final = df.copy()\n",
    "    \n",
    "    for city in city_dict:\n",
    "        df_ = df[df[\"Ort\"].str.contains(city)]\n",
    "        # Ort und AGS vereinheitlichen\n",
    "        df_[\"Ort\"] = city\n",
    "        df_[\"AGS\"] = city_dict[city]\n",
    "        \n",
    "        # über neuen, einheitlichen Ortsnamen gruppieren\n",
    "        df_group = df_.groupby([\"AGS\", \"Ort\", \"Partei\", \"Stimmart\"], as_index=False).agg({\"Stimmen\":\"sum\"})\n",
    "        \n",
    "        \n",
    "        # Anteile der Parteien neu ausrechnen\n",
    "        # Erststimmen\n",
    "        df_group.loc[df_group[\"Stimmart\"]==\"Erststimme\", \"Anteil\"] = round(df_group.loc[df_group[\"Stimmart\"]==\"Erststimme\"][\"Stimmen\"] / \\\n",
    "                                                    df_group.loc[(df_group[\"Stimmart\"]==\"Erststimme\") & \\\n",
    "                                                             (df_group[\"Partei\"]==\"gültige Stimmen\")][\"Stimmen\"]\\\n",
    "                                                                       .item() * 100,1)\n",
    "        #Zweitstimmen\n",
    "        df_group.loc[df_group[\"Stimmart\"]==\"Zweitstimme\", \"Anteil\"] = round(df_group.loc[df_group[\"Stimmart\"]==\"Zweitstimme\"][\"Stimmen\"] / \\\n",
    "                                                    df_group.loc[(df_group[\"Stimmart\"]==\"Zweitstimme\") & \\\n",
    "                                                             (df_group[\"Partei\"]==\"gültige Stimmen\")][\"Stimmen\"]\\\n",
    "                                                                       .item() * 100,1)\n",
    "        \n",
    "        # gültige Erststimmen\n",
    "        df_group.loc[(df_group[\"Stimmart\"]==\"Erststimme\") & (df_group[\"Partei\"]==\"gültige Stimmen\"), \"Anteil\"] = round(\\\n",
    "            df_group.loc[(df_group[\"Stimmart\"]==\"Erststimme\") & (df_group[\"Partei\"]==\"gültige Stimmen\")][\"Stimmen\"].item() /\\\n",
    "            (df_group.loc[(df_group[\"Stimmart\"]==\"Erststimme\") & (df_group[\"Partei\"]==\"gültige Stimmen\")][\"Stimmen\"].item() + \\\n",
    "            df_group.loc[(df_group[\"Stimmart\"]==\"Erststimme\") & (df_group[\"Partei\"]==\"Ungültige Stimmen\")][\"Stimmen\"].item()) \\\n",
    "            * 100, 1) \n",
    "        # gültige Zweitstimmen\n",
    "        df_group.loc[(df_group[\"Stimmart\"]==\"Zweitstimme\") & (df_group[\"Partei\"]==\"gültige Stimmen\"), \"Anteil\"] = round(\\\n",
    "            df_group.loc[(df_group[\"Stimmart\"]==\"Zweitstimme\") & (df_group[\"Partei\"]==\"gültige Stimmen\")][\"Stimmen\"].item() /\\\n",
    "            (df_group.loc[(df_group[\"Stimmart\"]==\"Zweitstimme\") & (df_group[\"Partei\"]==\"gültige Stimmen\")][\"Stimmen\"].item() + \\\n",
    "            df_group.loc[(df_group[\"Stimmart\"]==\"Zweitstimme\") & (df_group[\"Partei\"]==\"Ungültige Stimmen\")][\"Stimmen\"].item()) \\\n",
    "            * 100, 1) \n",
    "        \n",
    "        df_final = df_final[~df_final[\"Ort\"].str.contains(city)]\n",
    "        df_final = df_final.append(df_group)\n",
    "    \n",
    "    return df_final\n",
    "    \n",
    "df_ergebnisse = group_cities_results(df_results_abfrage, city_dict)    "
   ]
  },
  {
   "cell_type": "code",
   "execution_count": 11,
   "id": "8aa5796d",
   "metadata": {
    "ExecuteTime": {
     "end_time": "2021-09-23T07:11:02.000283Z",
     "start_time": "2021-09-23T07:11:01.954403Z"
    }
   },
   "outputs": [
    {
     "name": "stderr",
     "output_type": "stream",
     "text": [
      "<ipython-input-11-367b36a6cd5c>:10: SettingWithCopyWarning: \n",
      "A value is trying to be set on a copy of a slice from a DataFrame.\n",
      "Try using .loc[row_indexer,col_indexer] = value instead\n",
      "\n",
      "See the caveats in the documentation: https://pandas.pydata.org/pandas-docs/stable/user_guide/indexing.html#returning-a-view-versus-a-copy\n",
      "  df_[\"Ort\"] = city\n",
      "<ipython-input-11-367b36a6cd5c>:11: SettingWithCopyWarning: \n",
      "A value is trying to be set on a copy of a slice from a DataFrame.\n",
      "Try using .loc[row_indexer,col_indexer] = value instead\n",
      "\n",
      "See the caveats in the documentation: https://pandas.pydata.org/pandas-docs/stable/user_guide/indexing.html#returning-a-view-versus-a-copy\n",
      "  df_[\"AGS\"] = city_dict[city]\n",
      "<ipython-input-11-367b36a6cd5c>:15: SettingWithCopyWarning: \n",
      "A value is trying to be set on a copy of a slice from a DataFrame.\n",
      "Try using .loc[row_indexer,col_indexer] = value instead\n",
      "\n",
      "See the caveats in the documentation: https://pandas.pydata.org/pandas-docs/stable/user_guide/indexing.html#returning-a-view-versus-a-copy\n",
      "  df_[\"WKNr\"] = f\"{min_wk}-{max_wk}\"\n"
     ]
    }
   ],
   "source": [
    "# Datenliste\n",
    "\n",
    "def group_cities_data(df, city_dict): \n",
    "    # Kopie anfertigen, aus der später die einzelnen Datensätze entfernt und angehangen werden. \n",
    "    df_final = df.copy()\n",
    "    \n",
    "    for city in city_dict:\n",
    "        df_ = df[df[\"Ort\"].str.contains(city)]\n",
    "        # Ort und AGS vereinheitlichen\n",
    "        df_[\"Ort\"] = city\n",
    "        df_[\"AGS\"] = city_dict[city]\n",
    "        # Wahlkreis-Nummern herausfinden\n",
    "        min_wk = df_[\"WKNr\"].astype(int).min()\n",
    "        max_wk =  df_[\"WKNr\"].astype(int).max()\n",
    "        df_[\"WKNr\"] = f\"{min_wk}-{max_wk}\"\n",
    "        \n",
    "        # über neuen, einheitlichen Ortsnamen gruppieren\n",
    "        df_group = df_.groupby([\"AGS\", \"Ort\", \"WKNr\", \"Statistik\"], as_index=False).agg({\"Stimmen\":\"sum\"})\n",
    "        \n",
    "        \n",
    "        # Anteile der Parteien neu ausrechnen\n",
    "        # Erststimmen\n",
    "        df_group.loc[df_group[\"Statistik\"]==\"Wahlberechtigte\", \"Anteil\"] = 100\n",
    "        #Zweitstimmen\n",
    "        df_group.loc[df_group[\"Statistik\"]==\"Wähler\", \"Anteil\"] = round(df_group.loc[df_group[\"Statistik\"]==\"Wähler\"][\"Stimmen\"] / \\\n",
    "                                                    df_group.loc[df_group[\"Statistik\"]==\"Wahlberechtigte\"][\"Stimmen\"].item() * 100,1)\n",
    "        \n",
    "       \n",
    "        df_final = df_final[~df_final[\"Ort\"].str.contains(city)]\n",
    "        df_final = df_final.append(df_group)\n",
    "    \n",
    "    return df_final\n",
    "\n",
    "df_daten = group_cities_data(df_daten_abfrage, city_dict)"
   ]
  },
  {
   "cell_type": "markdown",
   "id": "be9e7357",
   "metadata": {},
   "source": [
    "## Daten in Erst- und Zweitstimme teilen"
   ]
  },
  {
   "cell_type": "code",
   "execution_count": 15,
   "id": "70c2b9c9",
   "metadata": {
    "ExecuteTime": {
     "end_time": "2021-09-23T07:12:57.702533Z",
     "start_time": "2021-09-23T07:12:57.691581Z"
    }
   },
   "outputs": [],
   "source": [
    "# Daten Ergebnisse aufsplitten und zusätzlich eine \"andere Parteien\"-Version ausspielen\n",
    "\n",
    "def split_up_data(df_ergebnisse): \n",
    "    df_ergebnisse_es = df_ergebnisse[df_ergebnisse[\"Stimmart\"]==\"Erststimme\"]\n",
    "    df_ergebnisse_zs = df_ergebnisse[df_ergebnisse[\"Stimmart\"]==\"Zweitstimme\"]\n",
    "    return df_ergebnisse_es, df_ergebnisse_zs\n",
    "\n",
    "df_es, df_zs = split_up_data(df_ergebnisse)"
   ]
  },
  {
   "cell_type": "markdown",
   "id": "35452dae",
   "metadata": {},
   "source": [
    "# ZWEITSTIMME Daten von long auf wide umstellen"
   ]
  },
  {
   "cell_type": "markdown",
   "id": "49d154e8",
   "metadata": {},
   "source": [
    "## \"Andere Parteien\" einrichten"
   ]
  },
  {
   "cell_type": "code",
   "execution_count": 16,
   "id": "8eda6587",
   "metadata": {
    "ExecuteTime": {
     "end_time": "2021-09-23T07:14:45.124339Z",
     "start_time": "2021-09-23T07:14:45.103778Z"
    }
   },
   "outputs": [],
   "source": [
    "def reduce_number_of_parties(df): \n",
    "    liste_standing_terms = [\"Ungültige Stimmen\", \"gültige Stimmen\", \"CDU\", \"LINKE\", \\\n",
    "                           \"SPD\", \"AfD\", \"GRÜNE\", \"FDP\"]\n",
    "\n",
    "\n",
    "    sti = df.Stimmart.iloc[0]\n",
    "\n",
    "    df_ = df[~df[\"Partei\"].isin(liste_standing_terms)]\n",
    "    df_rest = df[df[\"Partei\"].isin(liste_standing_terms)]\n",
    "    df_flat = df_.groupby([\"AGS\", \"Ort\"], as_index=False).agg({\"Stimmen\":\"sum\", \"Anteil\":\"sum\"})\n",
    "\n",
    "\n",
    "\n",
    "\n",
    "    if sti == \"Erststimme\": \n",
    "        df_flat[\"Stimmart\"] = \"Erststimme\"\n",
    "        df_flat[\"Partei\"] = \"andere Parteien\"\n",
    "        df_flat = df_flat[['AGS', 'Ort', 'Partei', 'Stimmart', 'Stimmen', 'Anteil']]\n",
    "        df_flat = df_flat.append(df_rest)\n",
    "    elif sti == \"Zweitstimme\": \n",
    "        df_flat[\"Stimmart\"] = \"Zweitstimmen\"\n",
    "        df_flat[\"Partei\"] = \"andere Parteien\"\n",
    "        df_flat = df_flat[['AGS', 'Ort', 'Partei', 'Stimmart', 'Stimmen', 'Anteil']]\n",
    "        df_flat = df_flat.append(df_rest)\n",
    "    else: \n",
    "        print('Fehler')\n",
    "\n",
    "\n",
    "\n",
    "\n",
    "    return df_flat\n",
    "\n",
    "    \n",
    "    \n",
    "    \n",
    "    \n",
    "df_zs_flat = reduce_number_of_parties(df_zs)    "
   ]
  },
  {
   "cell_type": "code",
   "execution_count": null,
   "id": "7093981e",
   "metadata": {},
   "outputs": [],
   "source": []
  },
  {
   "cell_type": "markdown",
   "id": "3bf887f4",
   "metadata": {},
   "source": [
    "## Daten auf wide umstellen / Prefix vergeben"
   ]
  },
  {
   "cell_type": "code",
   "execution_count": 147,
   "id": "972d7ef0",
   "metadata": {
    "ExecuteTime": {
     "end_time": "2021-09-12T09:01:27.168008Z",
     "start_time": "2021-09-12T09:01:27.117146Z"
    }
   },
   "outputs": [],
   "source": [
    "def results_long_to_wide(df_ergebnisse_es, df_ergebnisse_zs): \n",
    "    df_results_es_wide = pd.pivot(df_ergebnisse_es, index=[\"AGS\", \"Ort\"], columns=\"Partei\", values=[\"Stimmen\", \"Anteil\"])\\\n",
    "        .reset_index().fillna(\"0\")\n",
    "    df_results_zs_wide = pd.pivot(df_ergebnisse_es, index=[\"AGS\", \"Ort\"], columns=\"Partei\", values=[\"Stimmen\", \"Anteil\"])\\\n",
    "        .reset_index().fillna(\"0\")\n",
    "    # Multi-Index-Columns werden aufgelöst\n",
    "    df_results_es_wide.columns = [\" \".join(col).strip() for col in df_results_es_wide.columns.values]\n",
    "    df_results_zs_wide.columns = [\" \".join(col).strip() for col in df_results_zs_wide.columns.values]\n",
    "    \n",
    "    # Columns erhalten ein Präfix\n",
    "    # Präfix _1 für Erststimme, _2 für Zweitstimme hinzufügen\n",
    "    df_results_es_wide = df_results_es_wide.add_prefix(\"1_\")\n",
    "    df_results_zs_wide = df_results_zs_wide.add_prefix(\"2_\")\n",
    "\n",
    "    # Columns AgS und Ort Prefix entfernen\n",
    "    df_results_es_wide.rename(columns={\"1_AGS\":\"AGS\", \"1_Ort\":\"Ort\"}, inplace=True)\n",
    "    df_results_zs_wide.rename(columns={\"2_AGS\":\"AGS\", \"2_Ort\":\"Ort\"}, inplace=True)\n",
    "\n",
    "    # komplette Result-Tabelle anlegen\n",
    "    df_results_merge = pd.merge(df_results_es_wide, df_results_zs_wide, on=[\"AGS\", \"Ort\"])\n",
    "    \n",
    "    df_results_merge.fillna(0)\n",
    "    \n",
    "    # convert Stimmen from float to int\n",
    "    filter_stimmen = [col for col in df_results_merge if (col.startswith(\"1_Stimmen\")) | (col.startswith(\"2_Stimmen\")) ]\n",
    "    df_results_merge[filter_stimmen] = df_results_merge[filter_stimmen].astype(int)\n",
    "    \n",
    "    return df_results_merge\n",
    " \n",
    "df_results = results_long_to_wide(df_es_flat, df_zs_flat)   "
   ]
  },
  {
   "cell_type": "markdown",
   "id": "4c8c4ebb",
   "metadata": {
    "ExecuteTime": {
     "end_time": "2021-09-08T10:41:40.359652Z",
     "start_time": "2021-09-08T10:41:40.335690Z"
    }
   },
   "source": [
    "## Korrekter Anteil für \"andere Parteien\" berechnen"
   ]
  },
  {
   "cell_type": "code",
   "execution_count": 148,
   "id": "2a3a32f7",
   "metadata": {
    "ExecuteTime": {
     "end_time": "2021-09-12T09:01:27.179980Z",
     "start_time": "2021-09-12T09:01:27.170003Z"
    }
   },
   "outputs": [],
   "source": [
    "def correct_anteil_andere_parteien(df_re):\n",
    "    \n",
    "    # erst Anteil für Erststimmen andere Parteinen\n",
    "    df_re[\"1_Anteil andere Parteien\"] = round(df_re[\"1_Stimmen andere Parteien\"] / df_re[\"1_Stimmen gültige Stimmen\"] * 100,1)\n",
    "    df_re[\"2_Anteil andere Parteien\"] = round(df_re[\"2_Stimmen andere Parteien\"] / df_re[\"2_Stimmen gültige Stimmen\"] * 100,1)\n",
    "    \n",
    "    # in float konvertieren\n",
    "    df_re[\"1_Anteil andere Parteien\"] = df_re[\"1_Anteil andere Parteien\"].astype(float)\n",
    "    df_re[\"2_Anteil andere Parteien\"] = df_re[\"2_Anteil andere Parteien\"].astype(float)\n",
    "    \n",
    "    \n",
    "    \n",
    "    return df_re\n",
    "\n",
    "df_results_correct = correct_anteil_andere_parteien(df_results)\n"
   ]
  },
  {
   "cell_type": "code",
   "execution_count": 149,
   "id": "d50e4e43",
   "metadata": {
    "ExecuteTime": {
     "end_time": "2021-09-12T09:01:27.224856Z",
     "start_time": "2021-09-12T09:01:27.181972Z"
    }
   },
   "outputs": [
    {
     "name": "stdout",
     "output_type": "stream",
     "text": [
      "<class 'pandas.core.frame.DataFrame'>\n",
      "Int64Index: 419 entries, 0 to 418\n",
      "Data columns (total 38 columns):\n",
      " #   Column                       Non-Null Count  Dtype  \n",
      "---  ------                       --------------  -----  \n",
      " 0   AGS                          419 non-null    object \n",
      " 1   Ort                          419 non-null    object \n",
      " 2   1_Stimmen AfD                419 non-null    int32  \n",
      " 3   1_Stimmen CDU                419 non-null    int32  \n",
      " 4   1_Stimmen FDP                419 non-null    int32  \n",
      " 5   1_Stimmen GRÜNE              419 non-null    int32  \n",
      " 6   1_Stimmen LINKE              419 non-null    int32  \n",
      " 7   1_Stimmen SPD                419 non-null    int32  \n",
      " 8   1_Stimmen Ungültige Stimmen  419 non-null    int32  \n",
      " 9   1_Stimmen andere Parteien    419 non-null    int32  \n",
      " 10  1_Stimmen gültige Stimmen    419 non-null    int32  \n",
      " 11  1_Anteil AfD                 419 non-null    float64\n",
      " 12  1_Anteil CDU                 419 non-null    float64\n",
      " 13  1_Anteil FDP                 419 non-null    float64\n",
      " 14  1_Anteil GRÜNE               419 non-null    float64\n",
      " 15  1_Anteil LINKE               419 non-null    float64\n",
      " 16  1_Anteil SPD                 419 non-null    float64\n",
      " 17  1_Anteil Ungültige Stimmen   419 non-null    float64\n",
      " 18  1_Anteil andere Parteien     419 non-null    float64\n",
      " 19  1_Anteil gültige Stimmen     419 non-null    float64\n",
      " 20  2_Stimmen AfD                419 non-null    int32  \n",
      " 21  2_Stimmen CDU                419 non-null    int32  \n",
      " 22  2_Stimmen FDP                419 non-null    int32  \n",
      " 23  2_Stimmen GRÜNE              419 non-null    int32  \n",
      " 24  2_Stimmen LINKE              419 non-null    int32  \n",
      " 25  2_Stimmen SPD                419 non-null    int32  \n",
      " 26  2_Stimmen Ungültige Stimmen  419 non-null    int32  \n",
      " 27  2_Stimmen andere Parteien    419 non-null    int32  \n",
      " 28  2_Stimmen gültige Stimmen    419 non-null    int32  \n",
      " 29  2_Anteil AfD                 419 non-null    float64\n",
      " 30  2_Anteil CDU                 419 non-null    float64\n",
      " 31  2_Anteil FDP                 419 non-null    float64\n",
      " 32  2_Anteil GRÜNE               419 non-null    float64\n",
      " 33  2_Anteil LINKE               419 non-null    float64\n",
      " 34  2_Anteil SPD                 419 non-null    float64\n",
      " 35  2_Anteil Ungültige Stimmen   419 non-null    float64\n",
      " 36  2_Anteil andere Parteien     419 non-null    float64\n",
      " 37  2_Anteil gültige Stimmen     419 non-null    float64\n",
      "dtypes: float64(18), int32(18), object(2)\n",
      "memory usage: 98.2+ KB\n"
     ]
    }
   ],
   "source": [
    "df_results_correct.info()"
   ]
  },
  {
   "cell_type": "markdown",
   "id": "fcd4c152",
   "metadata": {},
   "source": [
    "## Statistik-DAten auf wide stellen, Ergebnisdaten mit Statistik-Daten verbinden"
   ]
  },
  {
   "cell_type": "code",
   "execution_count": 150,
   "id": "21e1ff0d",
   "metadata": {
    "ExecuteTime": {
     "end_time": "2021-09-12T09:01:27.265749Z",
     "start_time": "2021-09-12T09:01:27.226851Z"
    }
   },
   "outputs": [],
   "source": [
    "def statistic_long_to_wide(df): \n",
    "    \n",
    "    df_wide = pd.pivot(df, index=[\"AGS\", \"Ort\" ,\"WKNr\"], columns=\"Statistik\", values=[\"Stimmen\", \"Anteil\"])\\\n",
    "        .reset_index().fillna(\"0\")\n",
    "    # Multi-Index-Columns werden aufgelöst\n",
    "    df_wide.columns = [\" \".join(col).strip() for col in df_wide.columns.values]\n",
    "    df_wide[[\"Stimmen Wahlberechtigte\", \"Stimmen Wähler\"]] = \\\n",
    "        df_wide[[\"Stimmen Wahlberechtigte\", \"Stimmen Wähler\"]].astype(int)\n",
    "    \n",
    "    return df_wide\n",
    "    \n",
    "df_daten_wide = statistic_long_to_wide(df_daten)"
   ]
  },
  {
   "cell_type": "code",
   "execution_count": 151,
   "id": "e78ceb0f",
   "metadata": {
    "ExecuteTime": {
     "end_time": "2021-09-12T09:01:27.309630Z",
     "start_time": "2021-09-12T09:01:27.268740Z"
    }
   },
   "outputs": [
    {
     "data": {
      "text/html": [
       "<div>\n",
       "<style scoped>\n",
       "    .dataframe tbody tr th:only-of-type {\n",
       "        vertical-align: middle;\n",
       "    }\n",
       "\n",
       "    .dataframe tbody tr th {\n",
       "        vertical-align: top;\n",
       "    }\n",
       "\n",
       "    .dataframe thead th {\n",
       "        text-align: right;\n",
       "    }\n",
       "</style>\n",
       "<table border=\"1\" class=\"dataframe\">\n",
       "  <thead>\n",
       "    <tr style=\"text-align: right;\">\n",
       "      <th></th>\n",
       "      <th>AGS</th>\n",
       "      <th>Ort</th>\n",
       "      <th>1_Stimmen AfD</th>\n",
       "      <th>1_Stimmen CDU</th>\n",
       "      <th>1_Stimmen FDP</th>\n",
       "      <th>1_Stimmen GRÜNE</th>\n",
       "      <th>1_Stimmen LINKE</th>\n",
       "      <th>1_Stimmen SPD</th>\n",
       "      <th>1_Stimmen Ungültige Stimmen</th>\n",
       "      <th>1_Stimmen andere Parteien</th>\n",
       "      <th>...</th>\n",
       "      <th>2_Stimmen gültige Stimmen</th>\n",
       "      <th>2_Anteil AfD</th>\n",
       "      <th>2_Anteil CDU</th>\n",
       "      <th>2_Anteil FDP</th>\n",
       "      <th>2_Anteil GRÜNE</th>\n",
       "      <th>2_Anteil LINKE</th>\n",
       "      <th>2_Anteil SPD</th>\n",
       "      <th>2_Anteil Ungültige Stimmen</th>\n",
       "      <th>2_Anteil andere Parteien</th>\n",
       "      <th>2_Anteil gültige Stimmen</th>\n",
       "    </tr>\n",
       "  </thead>\n",
       "  <tbody>\n",
       "    <tr>\n",
       "      <th>183</th>\n",
       "      <td>14612000</td>\n",
       "      <td>Dresden</td>\n",
       "      <td>65747</td>\n",
       "      <td>32792</td>\n",
       "      <td>19156</td>\n",
       "      <td>20843</td>\n",
       "      <td>32974</td>\n",
       "      <td>65702</td>\n",
       "      <td>2691</td>\n",
       "      <td>26668</td>\n",
       "      <td>...</td>\n",
       "      <td>263882</td>\n",
       "      <td>24.9</td>\n",
       "      <td>12.4</td>\n",
       "      <td>7.3</td>\n",
       "      <td>7.9</td>\n",
       "      <td>12.5</td>\n",
       "      <td>24.9</td>\n",
       "      <td>1.0</td>\n",
       "      <td>10.1</td>\n",
       "      <td>99.0</td>\n",
       "    </tr>\n",
       "  </tbody>\n",
       "</table>\n",
       "<p>1 rows × 38 columns</p>\n",
       "</div>"
      ],
      "text/plain": [
       "          AGS      Ort  1_Stimmen AfD  1_Stimmen CDU  1_Stimmen FDP  \\\n",
       "183  14612000  Dresden          65747          32792          19156   \n",
       "\n",
       "     1_Stimmen GRÜNE  1_Stimmen LINKE  1_Stimmen SPD  \\\n",
       "183            20843            32974          65702   \n",
       "\n",
       "     1_Stimmen Ungültige Stimmen  1_Stimmen andere Parteien  ...  \\\n",
       "183                         2691                      26668  ...   \n",
       "\n",
       "     2_Stimmen gültige Stimmen  2_Anteil AfD  2_Anteil CDU  2_Anteil FDP  \\\n",
       "183                     263882          24.9          12.4           7.3   \n",
       "\n",
       "     2_Anteil GRÜNE  2_Anteil LINKE  2_Anteil SPD  2_Anteil Ungültige Stimmen  \\\n",
       "183             7.9            12.5          24.9                         1.0   \n",
       "\n",
       "     2_Anteil andere Parteien  2_Anteil gültige Stimmen  \n",
       "183                      10.1                      99.0  \n",
       "\n",
       "[1 rows x 38 columns]"
      ]
     },
     "execution_count": 151,
     "metadata": {},
     "output_type": "execute_result"
    }
   ],
   "source": [
    "df_results[df_results[\"Ort\"].str.contains(\"Dresden\")]"
   ]
  },
  {
   "cell_type": "code",
   "execution_count": 152,
   "id": "e30ad883",
   "metadata": {
    "ExecuteTime": {
     "end_time": "2021-09-12T09:01:27.340547Z",
     "start_time": "2021-09-12T09:01:27.312624Z"
    }
   },
   "outputs": [
    {
     "data": {
      "text/html": [
       "<div>\n",
       "<style scoped>\n",
       "    .dataframe tbody tr th:only-of-type {\n",
       "        vertical-align: middle;\n",
       "    }\n",
       "\n",
       "    .dataframe tbody tr th {\n",
       "        vertical-align: top;\n",
       "    }\n",
       "\n",
       "    .dataframe thead th {\n",
       "        text-align: right;\n",
       "    }\n",
       "</style>\n",
       "<table border=\"1\" class=\"dataframe\">\n",
       "  <thead>\n",
       "    <tr style=\"text-align: right;\">\n",
       "      <th></th>\n",
       "      <th>AGS</th>\n",
       "      <th>Ort</th>\n",
       "      <th>WKNr</th>\n",
       "      <th>Stimmen Wahlberechtigte</th>\n",
       "      <th>Stimmen Wähler</th>\n",
       "      <th>Anteil Wahlberechtigte</th>\n",
       "      <th>Anteil Wähler</th>\n",
       "    </tr>\n",
       "  </thead>\n",
       "  <tbody>\n",
       "    <tr>\n",
       "      <th>183</th>\n",
       "      <td>14612000</td>\n",
       "      <td>Dresden</td>\n",
       "      <td>159-160</td>\n",
       "      <td>426000</td>\n",
       "      <td>266573</td>\n",
       "      <td>100.0</td>\n",
       "      <td>62.6</td>\n",
       "    </tr>\n",
       "  </tbody>\n",
       "</table>\n",
       "</div>"
      ],
      "text/plain": [
       "          AGS      Ort     WKNr  Stimmen Wahlberechtigte  Stimmen Wähler  \\\n",
       "183  14612000  Dresden  159-160                   426000          266573   \n",
       "\n",
       "     Anteil Wahlberechtigte  Anteil Wähler  \n",
       "183                   100.0           62.6  "
      ]
     },
     "execution_count": 152,
     "metadata": {},
     "output_type": "execute_result"
    }
   ],
   "source": [
    "df_daten_wide[df_daten_wide[\"Ort\"].str.contains(\"Dresden\")]"
   ]
  },
  {
   "cell_type": "markdown",
   "id": "479f5ce0",
   "metadata": {},
   "source": [
    "## Ergebnisse und Statistik mergen"
   ]
  },
  {
   "cell_type": "code",
   "execution_count": 153,
   "id": "3b7aa2aa",
   "metadata": {
    "ExecuteTime": {
     "end_time": "2021-09-12T09:01:27.377448Z",
     "start_time": "2021-09-12T09:01:27.342542Z"
    }
   },
   "outputs": [],
   "source": [
    "def merge_results_and_stats(df_results, df_stats): \n",
    "    # Results mit Statistik mergen\n",
    "    df_all_merge = pd.merge(df_results, df_stats, on=[\"AGS\", \"Ort\"])\n",
    "    return df_all_merge\n",
    "\n",
    "df_final = merge_results_and_stats(df_results, df_daten_wide)"
   ]
  },
  {
   "cell_type": "code",
   "execution_count": 154,
   "id": "68f3725e",
   "metadata": {
    "ExecuteTime": {
     "end_time": "2021-09-12T09:01:27.429310Z",
     "start_time": "2021-09-12T09:01:27.380441Z"
    }
   },
   "outputs": [
    {
     "data": {
      "text/html": [
       "<div>\n",
       "<style scoped>\n",
       "    .dataframe tbody tr th:only-of-type {\n",
       "        vertical-align: middle;\n",
       "    }\n",
       "\n",
       "    .dataframe tbody tr th {\n",
       "        vertical-align: top;\n",
       "    }\n",
       "\n",
       "    .dataframe thead th {\n",
       "        text-align: right;\n",
       "    }\n",
       "</style>\n",
       "<table border=\"1\" class=\"dataframe\">\n",
       "  <thead>\n",
       "    <tr style=\"text-align: right;\">\n",
       "      <th></th>\n",
       "      <th>AGS</th>\n",
       "      <th>Ort</th>\n",
       "      <th>1_Stimmen AfD</th>\n",
       "      <th>1_Stimmen CDU</th>\n",
       "      <th>1_Stimmen FDP</th>\n",
       "      <th>1_Stimmen GRÜNE</th>\n",
       "      <th>1_Stimmen LINKE</th>\n",
       "      <th>1_Stimmen SPD</th>\n",
       "      <th>1_Stimmen Ungültige Stimmen</th>\n",
       "      <th>1_Stimmen andere Parteien</th>\n",
       "      <th>...</th>\n",
       "      <th>2_Anteil LINKE</th>\n",
       "      <th>2_Anteil SPD</th>\n",
       "      <th>2_Anteil Ungültige Stimmen</th>\n",
       "      <th>2_Anteil andere Parteien</th>\n",
       "      <th>2_Anteil gültige Stimmen</th>\n",
       "      <th>WKNr</th>\n",
       "      <th>Stimmen Wahlberechtigte</th>\n",
       "      <th>Stimmen Wähler</th>\n",
       "      <th>Anteil Wahlberechtigte</th>\n",
       "      <th>Anteil Wähler</th>\n",
       "    </tr>\n",
       "  </thead>\n",
       "  <tbody>\n",
       "    <tr>\n",
       "      <th>183</th>\n",
       "      <td>14612000</td>\n",
       "      <td>Dresden</td>\n",
       "      <td>65747</td>\n",
       "      <td>32792</td>\n",
       "      <td>19156</td>\n",
       "      <td>20843</td>\n",
       "      <td>32974</td>\n",
       "      <td>65702</td>\n",
       "      <td>2691</td>\n",
       "      <td>26668</td>\n",
       "      <td>...</td>\n",
       "      <td>12.5</td>\n",
       "      <td>24.9</td>\n",
       "      <td>1.0</td>\n",
       "      <td>10.1</td>\n",
       "      <td>99.0</td>\n",
       "      <td>159-160</td>\n",
       "      <td>426000</td>\n",
       "      <td>266573</td>\n",
       "      <td>100.0</td>\n",
       "      <td>62.6</td>\n",
       "    </tr>\n",
       "  </tbody>\n",
       "</table>\n",
       "<p>1 rows × 43 columns</p>\n",
       "</div>"
      ],
      "text/plain": [
       "          AGS      Ort  1_Stimmen AfD  1_Stimmen CDU  1_Stimmen FDP  \\\n",
       "183  14612000  Dresden          65747          32792          19156   \n",
       "\n",
       "     1_Stimmen GRÜNE  1_Stimmen LINKE  1_Stimmen SPD  \\\n",
       "183            20843            32974          65702   \n",
       "\n",
       "     1_Stimmen Ungültige Stimmen  1_Stimmen andere Parteien  ...  \\\n",
       "183                         2691                      26668  ...   \n",
       "\n",
       "     2_Anteil LINKE  2_Anteil SPD  2_Anteil Ungültige Stimmen  \\\n",
       "183            12.5          24.9                         1.0   \n",
       "\n",
       "     2_Anteil andere Parteien  2_Anteil gültige Stimmen     WKNr  \\\n",
       "183                      10.1                      99.0  159-160   \n",
       "\n",
       "     Stimmen Wahlberechtigte  Stimmen Wähler  Anteil Wahlberechtigte  \\\n",
       "183                   426000          266573                   100.0   \n",
       "\n",
       "     Anteil Wähler  \n",
       "183           62.6  \n",
       "\n",
       "[1 rows x 43 columns]"
      ]
     },
     "execution_count": 154,
     "metadata": {},
     "output_type": "execute_result"
    }
   ],
   "source": [
    "df_final[df_final.Ort.str.contains(\"Dresden\")]"
   ]
  },
  {
   "cell_type": "code",
   "execution_count": null,
   "id": "e67f10de",
   "metadata": {
    "ExecuteTime": {
     "end_time": "2021-09-09T19:34:30.178529Z",
     "start_time": "2021-09-09T19:34:30.149608Z"
    }
   },
   "outputs": [],
   "source": []
  },
  {
   "cell_type": "markdown",
   "id": "8b08b691",
   "metadata": {},
   "source": [
    "## Historisches Ergebnis mit einrechnen\n"
   ]
  },
  {
   "cell_type": "code",
   "execution_count": 155,
   "id": "f839b79b",
   "metadata": {
    "ExecuteTime": {
     "end_time": "2021-09-12T09:01:27.469203Z",
     "start_time": "2021-09-12T09:01:27.431304Z"
    }
   },
   "outputs": [
    {
     "data": {
      "text/html": [
       "<div>\n",
       "<style scoped>\n",
       "    .dataframe tbody tr th:only-of-type {\n",
       "        vertical-align: middle;\n",
       "    }\n",
       "\n",
       "    .dataframe tbody tr th {\n",
       "        vertical-align: top;\n",
       "    }\n",
       "\n",
       "    .dataframe thead th {\n",
       "        text-align: right;\n",
       "    }\n",
       "</style>\n",
       "<table border=\"1\" class=\"dataframe\">\n",
       "  <thead>\n",
       "    <tr style=\"text-align: right;\">\n",
       "      <th></th>\n",
       "      <th>AGS</th>\n",
       "      <th>2017_AfD_%</th>\n",
       "      <th>2017_CDU_%</th>\n",
       "      <th>2017_LINKE_%</th>\n",
       "      <th>2017_SPD_%</th>\n",
       "      <th>2017_FDP_%</th>\n",
       "      <th>2017_GRÜNE_%</th>\n",
       "      <th>2017_andere_%</th>\n",
       "    </tr>\n",
       "  </thead>\n",
       "  <tbody>\n",
       "    <tr>\n",
       "      <th>418</th>\n",
       "      <td>14612000</td>\n",
       "      <td>22.5</td>\n",
       "      <td>23.5</td>\n",
       "      <td>17.6</td>\n",
       "      <td>10.2</td>\n",
       "      <td>9.9</td>\n",
       "      <td>8.7</td>\n",
       "      <td>7.5</td>\n",
       "    </tr>\n",
       "  </tbody>\n",
       "</table>\n",
       "</div>"
      ],
      "text/plain": [
       "          AGS  2017_AfD_%  2017_CDU_%  2017_LINKE_%  2017_SPD_%  2017_FDP_%  \\\n",
       "418  14612000        22.5        23.5          17.6        10.2         9.9   \n",
       "\n",
       "     2017_GRÜNE_%  2017_andere_%  \n",
       "418           8.7            7.5  "
      ]
     },
     "execution_count": 155,
     "metadata": {},
     "output_type": "execute_result"
    }
   ],
   "source": [
    "dfh = wahlergebnisse_2021.copy()\n",
    "dfh[\"AGS\"]= dfh[\"AGS\"].astype(str)\n",
    "dfh = dfh.loc[:, dfh.columns != \"Ort\"]\n",
    "dfh[dfh[\"AGS\"].str.contains(\"14612000\")]"
   ]
  },
  {
   "cell_type": "code",
   "execution_count": 156,
   "id": "e0a3db0e",
   "metadata": {
    "ExecuteTime": {
     "end_time": "2021-09-12T09:01:27.501119Z",
     "start_time": "2021-09-12T09:01:27.471199Z"
    }
   },
   "outputs": [],
   "source": [
    "df_final = df_final.merge(dfh, on=\"AGS\")"
   ]
  },
  {
   "cell_type": "code",
   "execution_count": 157,
   "id": "f40d2f8b",
   "metadata": {
    "ExecuteTime": {
     "end_time": "2021-09-12T09:01:27.542009Z",
     "start_time": "2021-09-12T09:01:27.504114Z"
    }
   },
   "outputs": [
    {
     "name": "stdout",
     "output_type": "stream",
     "text": [
      "<class 'pandas.core.frame.DataFrame'>\n",
      "Int64Index: 419 entries, 0 to 418\n",
      "Data columns (total 50 columns):\n",
      " #   Column                       Non-Null Count  Dtype  \n",
      "---  ------                       --------------  -----  \n",
      " 0   AGS                          419 non-null    object \n",
      " 1   Ort                          419 non-null    object \n",
      " 2   1_Stimmen AfD                419 non-null    int32  \n",
      " 3   1_Stimmen CDU                419 non-null    int32  \n",
      " 4   1_Stimmen FDP                419 non-null    int32  \n",
      " 5   1_Stimmen GRÜNE              419 non-null    int32  \n",
      " 6   1_Stimmen LINKE              419 non-null    int32  \n",
      " 7   1_Stimmen SPD                419 non-null    int32  \n",
      " 8   1_Stimmen Ungültige Stimmen  419 non-null    int32  \n",
      " 9   1_Stimmen andere Parteien    419 non-null    int32  \n",
      " 10  1_Stimmen gültige Stimmen    419 non-null    int32  \n",
      " 11  1_Anteil AfD                 419 non-null    float64\n",
      " 12  1_Anteil CDU                 419 non-null    float64\n",
      " 13  1_Anteil FDP                 419 non-null    float64\n",
      " 14  1_Anteil GRÜNE               419 non-null    float64\n",
      " 15  1_Anteil LINKE               419 non-null    float64\n",
      " 16  1_Anteil SPD                 419 non-null    float64\n",
      " 17  1_Anteil Ungültige Stimmen   419 non-null    float64\n",
      " 18  1_Anteil andere Parteien     419 non-null    float64\n",
      " 19  1_Anteil gültige Stimmen     419 non-null    float64\n",
      " 20  2_Stimmen AfD                419 non-null    int32  \n",
      " 21  2_Stimmen CDU                419 non-null    int32  \n",
      " 22  2_Stimmen FDP                419 non-null    int32  \n",
      " 23  2_Stimmen GRÜNE              419 non-null    int32  \n",
      " 24  2_Stimmen LINKE              419 non-null    int32  \n",
      " 25  2_Stimmen SPD                419 non-null    int32  \n",
      " 26  2_Stimmen Ungültige Stimmen  419 non-null    int32  \n",
      " 27  2_Stimmen andere Parteien    419 non-null    int32  \n",
      " 28  2_Stimmen gültige Stimmen    419 non-null    int32  \n",
      " 29  2_Anteil AfD                 419 non-null    float64\n",
      " 30  2_Anteil CDU                 419 non-null    float64\n",
      " 31  2_Anteil FDP                 419 non-null    float64\n",
      " 32  2_Anteil GRÜNE               419 non-null    float64\n",
      " 33  2_Anteil LINKE               419 non-null    float64\n",
      " 34  2_Anteil SPD                 419 non-null    float64\n",
      " 35  2_Anteil Ungültige Stimmen   419 non-null    float64\n",
      " 36  2_Anteil andere Parteien     419 non-null    float64\n",
      " 37  2_Anteil gültige Stimmen     419 non-null    float64\n",
      " 38  WKNr                         419 non-null    object \n",
      " 39  Stimmen Wahlberechtigte      419 non-null    int32  \n",
      " 40  Stimmen Wähler               419 non-null    int32  \n",
      " 41  Anteil Wahlberechtigte       419 non-null    float64\n",
      " 42  Anteil Wähler                419 non-null    float64\n",
      " 43  2017_AfD_%                   419 non-null    float64\n",
      " 44  2017_CDU_%                   419 non-null    float64\n",
      " 45  2017_LINKE_%                 419 non-null    float64\n",
      " 46  2017_SPD_%                   419 non-null    float64\n",
      " 47  2017_FDP_%                   419 non-null    float64\n",
      " 48  2017_GRÜNE_%                 419 non-null    float64\n",
      " 49  2017_andere_%                419 non-null    float64\n",
      "dtypes: float64(27), int32(20), object(3)\n",
      "memory usage: 134.2+ KB\n"
     ]
    }
   ],
   "source": [
    "df_final.info()"
   ]
  },
  {
   "cell_type": "code",
   "execution_count": 158,
   "id": "91ef392a",
   "metadata": {
    "ExecuteTime": {
     "end_time": "2021-09-12T09:01:27.565944Z",
     "start_time": "2021-09-12T09:01:27.544004Z"
    }
   },
   "outputs": [
    {
     "data": {
      "text/plain": [
       "Index(['AGS', 'Ort', '1_Stimmen AfD', '1_Stimmen CDU', '1_Stimmen FDP',\n",
       "       '1_Stimmen GRÜNE', '1_Stimmen LINKE', '1_Stimmen SPD',\n",
       "       '1_Stimmen Ungültige Stimmen', '1_Stimmen andere Parteien',\n",
       "       '1_Stimmen gültige Stimmen', '1_Anteil AfD', '1_Anteil CDU',\n",
       "       '1_Anteil FDP', '1_Anteil GRÜNE', '1_Anteil LINKE', '1_Anteil SPD',\n",
       "       '1_Anteil Ungültige Stimmen', '1_Anteil andere Parteien',\n",
       "       '1_Anteil gültige Stimmen', '2_Stimmen AfD', '2_Stimmen CDU',\n",
       "       '2_Stimmen FDP', '2_Stimmen GRÜNE', '2_Stimmen LINKE', '2_Stimmen SPD',\n",
       "       '2_Stimmen Ungültige Stimmen', '2_Stimmen andere Parteien',\n",
       "       '2_Stimmen gültige Stimmen', '2_Anteil AfD', '2_Anteil CDU',\n",
       "       '2_Anteil FDP', '2_Anteil GRÜNE', '2_Anteil LINKE', '2_Anteil SPD',\n",
       "       '2_Anteil Ungültige Stimmen', '2_Anteil andere Parteien',\n",
       "       '2_Anteil gültige Stimmen', 'WKNr', 'Stimmen Wahlberechtigte',\n",
       "       'Stimmen Wähler', 'Anteil Wahlberechtigte', 'Anteil Wähler',\n",
       "       '2017_AfD_%', '2017_CDU_%', '2017_LINKE_%', '2017_SPD_%', '2017_FDP_%',\n",
       "       '2017_GRÜNE_%', '2017_andere_%'],\n",
       "      dtype='object')"
      ]
     },
     "execution_count": 158,
     "metadata": {},
     "output_type": "execute_result"
    }
   ],
   "source": [
    "df_final.columns"
   ]
  },
  {
   "cell_type": "markdown",
   "id": "77f4c3e4",
   "metadata": {},
   "source": [
    "## Gewinner bestimmen (wichtig für Einfärbung der Karte)"
   ]
  },
  {
   "cell_type": "code",
   "execution_count": 159,
   "id": "b5467b04",
   "metadata": {
    "ExecuteTime": {
     "end_time": "2021-09-12T09:01:27.598861Z",
     "start_time": "2021-09-12T09:01:27.567938Z"
    }
   },
   "outputs": [],
   "source": [
    "df_final[\"2_Gewinner\"] = df_final[['2_Stimmen AfD', '2_Stimmen CDU',\n",
    "       '2_Stimmen FDP', '2_Stimmen GRÜNE', '2_Stimmen LINKE', '2_Stimmen SPD']].idxmax(axis=1)\n",
    "df_final[\"2_Gewinner\"] = df_final[\"2_Gewinner\"].str.split(\" \")\n",
    "df_final[\"2_Gewinner\"] = df_final[\"2_Gewinner\"].map(lambda x: x[1])\n",
    "\n"
   ]
  },
  {
   "cell_type": "code",
   "execution_count": null,
   "id": "a0845d9d",
   "metadata": {},
   "outputs": [],
   "source": [
    "# TODO: stimmen1 gewinner!!! "
   ]
  },
  {
   "cell_type": "code",
   "execution_count": 160,
   "id": "d02b2591",
   "metadata": {
    "ExecuteTime": {
     "end_time": "2021-09-12T09:01:27.628776Z",
     "start_time": "2021-09-12T09:01:27.600851Z"
    }
   },
   "outputs": [
    {
     "data": {
      "text/plain": [
       "0      SPD\n",
       "1      SPD\n",
       "2      AfD\n",
       "3      SPD\n",
       "4      AfD\n",
       "      ... \n",
       "414    AfD\n",
       "415    AfD\n",
       "416    SPD\n",
       "417    AfD\n",
       "418    AfD\n",
       "Name: 2_Gewinner, Length: 419, dtype: object"
      ]
     },
     "execution_count": 160,
     "metadata": {},
     "output_type": "execute_result"
    }
   ],
   "source": [
    "df_final[\"2_Gewinner\"]"
   ]
  },
  {
   "cell_type": "code",
   "execution_count": 161,
   "id": "5616866c",
   "metadata": {
    "ExecuteTime": {
     "end_time": "2021-09-12T09:01:27.689614Z",
     "start_time": "2021-09-12T09:01:27.630771Z"
    }
   },
   "outputs": [],
   "source": [
    "df_final.to_csv(\"wahlergebnisse_testdaten.csv\", index=False)"
   ]
  },
  {
   "cell_type": "code",
   "execution_count": 110,
   "id": "59b07bb1",
   "metadata": {
    "ExecuteTime": {
     "end_time": "2021-09-12T08:55:32.628989Z",
     "start_time": "2021-09-12T08:55:32.615025Z"
    }
   },
   "outputs": [
    {
     "data": {
      "text/html": [
       "<div>\n",
       "<style scoped>\n",
       "    .dataframe tbody tr th:only-of-type {\n",
       "        vertical-align: middle;\n",
       "    }\n",
       "\n",
       "    .dataframe tbody tr th {\n",
       "        vertical-align: top;\n",
       "    }\n",
       "\n",
       "    .dataframe thead th {\n",
       "        text-align: right;\n",
       "    }\n",
       "</style>\n",
       "<table border=\"1\" class=\"dataframe\">\n",
       "  <thead>\n",
       "    <tr style=\"text-align: right;\">\n",
       "      <th></th>\n",
       "      <th>AGS</th>\n",
       "      <th>Ort</th>\n",
       "      <th>1_Stimmen AfD</th>\n",
       "      <th>1_Stimmen CDU</th>\n",
       "      <th>1_Stimmen FDP</th>\n",
       "      <th>1_Stimmen GRÜNE</th>\n",
       "      <th>1_Stimmen LINKE</th>\n",
       "      <th>1_Stimmen SPD</th>\n",
       "      <th>1_Stimmen Ungültige Stimmen</th>\n",
       "      <th>1_Stimmen andere Parteien</th>\n",
       "      <th>...</th>\n",
       "      <th>Anteil Wahlberechtigte</th>\n",
       "      <th>Anteil Wähler</th>\n",
       "      <th>2017_AfD_%</th>\n",
       "      <th>2017_CDU_%</th>\n",
       "      <th>2017_LINKE_%</th>\n",
       "      <th>2017_SPD_%</th>\n",
       "      <th>2017_FDP_%</th>\n",
       "      <th>2017_GRÜNE_%</th>\n",
       "      <th>2017_andere_%</th>\n",
       "      <th>2_Gewinner</th>\n",
       "    </tr>\n",
       "  </thead>\n",
       "  <tbody>\n",
       "  </tbody>\n",
       "</table>\n",
       "<p>0 rows × 51 columns</p>\n",
       "</div>"
      ],
      "text/plain": [
       "Empty DataFrame\n",
       "Columns: [AGS, Ort, 1_Stimmen AfD, 1_Stimmen CDU, 1_Stimmen FDP, 1_Stimmen GRÜNE, 1_Stimmen LINKE, 1_Stimmen SPD, 1_Stimmen Ungültige Stimmen, 1_Stimmen andere Parteien, 1_Stimmen gültige Stimmen, 1_Anteil AfD, 1_Anteil CDU, 1_Anteil FDP, 1_Anteil GRÜNE, 1_Anteil LINKE, 1_Anteil SPD, 1_Anteil Ungültige Stimmen, 1_Anteil andere Parteien, 1_Anteil gültige Stimmen, 2_Stimmen AfD, 2_Stimmen CDU, 2_Stimmen FDP, 2_Stimmen GRÜNE, 2_Stimmen LINKE, 2_Stimmen SPD, 2_Stimmen Ungültige Stimmen, 2_Stimmen andere Parteien, 2_Stimmen gültige Stimmen, 2_Anteil AfD, 2_Anteil CDU, 2_Anteil FDP, 2_Anteil GRÜNE, 2_Anteil LINKE, 2_Anteil SPD, 2_Anteil Ungültige Stimmen, 2_Anteil andere Parteien, 2_Anteil gültige Stimmen, WKNr, Stimmen Wahlberechtigte, Stimmen Wähler, Anteil Wahlberechtigte, Anteil Wähler, 2017_AfD_%, 2017_CDU_%, 2017_LINKE_%, 2017_SPD_%, 2017_FDP_%, 2017_GRÜNE_%, 2017_andere_%, 2_Gewinner]\n",
       "Index: []\n",
       "\n",
       "[0 rows x 51 columns]"
      ]
     },
     "execution_count": 110,
     "metadata": {},
     "output_type": "execute_result"
    }
   ],
   "source": [
    "df_final[df_final.Ort.str.contains(\"Schlema\")]"
   ]
  },
  {
   "cell_type": "markdown",
   "id": "d22b8152",
   "metadata": {},
   "source": [
    "# Parteien nach Stärke sortieren"
   ]
  },
  {
   "cell_type": "markdown",
   "id": "f4ab7568",
   "metadata": {},
   "source": [
    "Grundsätzlich haben wir **sechs freie Parteien-Slots** und andere Parteien. Die sechs gesetzten Parteien möchten wir jetzt nach Stärke verteilen.\n",
    "\n",
    "**Zunächst nutzen wir dabei nur die Zweitstimmen**, bei Erststimmen müssen wir nochmal schauen \n",
    "\n",
    "\n",
    "Dafür nutze ich die Daten **vor** dem long to wide. Die Long-Daten finden sich in diesen Dataframes: \n",
    "\n",
    "df_es_flat \n",
    "\n",
    "df_zs_flat"
   ]
  },
  {
   "cell_type": "markdown",
   "id": "68d930ec",
   "metadata": {},
   "source": [
    "## Zweitstimmen nach Stärke"
   ]
  },
  {
   "cell_type": "code",
   "execution_count": 45,
   "id": "796e4a09",
   "metadata": {
    "ExecuteTime": {
     "end_time": "2021-09-11T16:18:45.715520Z",
     "start_time": "2021-09-11T16:18:41.754789Z"
    },
    "code_folding": []
   },
   "outputs": [],
   "source": [
    "def sort_parties(df): \n",
    "    \n",
    "    cols = [\"AGS\", \"Ort\", \"Gewinner\",\\\n",
    "            \"Partei_1_Stimmen\", \"Partei_1_Anteil\", \"Partei_1_Name\",\\\n",
    "            \"Partei_2_Stimmen\", \"Partei_2_Anteil\", \"Partei_2_Name\",\\\n",
    "            \"Partei_3_Stimmen\", \"Partei_3_Anteil\", \"Partei_3_Name\",\\\n",
    "            \"Partei_4_Stimmen\", \"Partei_4_Anteil\", \"Partei_4_Name\",\\\n",
    "            \"Partei_5_Stimmen\", \"Partei_5_Anteil\", \"Partei_5_Name\",\\\n",
    "            \"Partei_6_Stimmen\", \"Partei_6_Anteil\", \"Partei_6_Name\",\\\n",
    "            \"Partei_andere_Stimmen\", \"Partei_andere_Anteil\", \"Partei_andere_Name\", \\\n",
    "           \"ungültige Stimmen\", \"gültige Stimmen\"]\n",
    "            \n",
    "           \n",
    "      \n",
    "    new_df = pd.DataFrame(columns=cols)\n",
    "    \n",
    "    # jeder Ort wird durchlaufen\n",
    "    for ags in df[\"AGS\"].unique():\n",
    "        dict_var = {}\n",
    "        df_ = df[df[\"AGS\"]==ags]\n",
    "        ort = df_.iloc[0].Ort\n",
    "        \n",
    "        \n",
    "        # \"andere Parteien\" erfassen\n",
    "        andere = df_[df_[\"Partei\"]==\"andere Parteien\"]\n",
    "        if andere.shape[0]>0:\n",
    "            andere_stimmen = andere.Stimmen.item()\n",
    "            andere_anteil = andere.Anteil.item()\n",
    "            andere_name = \"andere Parteien\"\n",
    "        else:\n",
    "            andere_stimmen = 0\n",
    "            andere_anteil = 0\n",
    "            andere_name = \"andere Parteien\"\n",
    "            \n",
    "        \n",
    "        # ungültige Stimmen erfassen\n",
    "        ungültig = df_[df_[\"Partei\"]==\"Ungültige Stimmen\"][\"Stimmen\"].item()\n",
    "        gültig = df_[df_[\"Partei\"]==\"gültige Stimmen\"][\"Stimmen\"].item()\n",
    "        \n",
    "        \n",
    "        # andere Parteien herausfiltern (da sie sonst ev. einen Platz in der Parteienrangfolge einnehmen)\n",
    "        df_ = df_[~df_.Partei.isin([\"Ungültige Stimmen\", \"gültige Stimmen\", \"andere Parteien\"])]\n",
    "            \n",
    "        # Parteien nach Stimmen sortieren, höchste zuerst\n",
    "        df_sort = df_.sort_values(by=\"Stimmen\", ascending=False)\n",
    "        # Gewinner als Klarnamen herausfiltern\n",
    "        gewinner = df_sort.iloc[0][\"Partei\"]\n",
    "        \n",
    "        # Durchlauf durch die AGS, für jede Gemeinde sechs Parteien in Rangfolge setzen\n",
    "        for i in range(len(df_sort.index)):\n",
    "            j = i+1\n",
    "            \n",
    "            j = i+1\n",
    "            var_stimmen = f\"partei_{j}_Stimmen\"\n",
    "            var_anteil = f\"partei_{j}_Anteil\"\n",
    "            var_name = f\"partei_{j}_Name\"\n",
    "            val_stimmen = df_sort.iloc[i][\"Stimmen\"]\n",
    "            val_anteil = df_sort.iloc[i][\"Anteil\"]\n",
    "            val_name = df_sort.iloc[i][\"Partei\"]\n",
    "            \n",
    "            dict_var[var_stimmen] = val_stimmen\n",
    "            dict_var[var_anteil] = val_anteil\n",
    "            dict_var[var_name] = val_name\n",
    "            \n",
    "        \n",
    "        new_ser = pd.Series([ags, ort, gewinner, \\\n",
    "                             dict_var['partei_1_Stimmen'],dict_var['partei_1_Anteil'], dict_var['partei_1_Name'],\\\n",
    "                             dict_var['partei_2_Stimmen'],dict_var['partei_2_Anteil'], dict_var['partei_2_Name'],\\\n",
    "                             dict_var['partei_3_Stimmen'],dict_var['partei_3_Anteil'], dict_var['partei_3_Name'],\\\n",
    "                             dict_var['partei_4_Stimmen'],dict_var['partei_4_Anteil'], dict_var['partei_4_Name'],\\\n",
    "                             dict_var['partei_5_Stimmen'],dict_var['partei_5_Anteil'], dict_var['partei_5_Name'],\\\n",
    "                             dict_var['partei_6_Stimmen'],dict_var['partei_6_Anteil'], dict_var['partei_6_Name'],\\\n",
    "                             andere_stimmen, andere_anteil, andere_name, \\\n",
    "                             ungültig, gültig\n",
    "                            ], index=cols)\n",
    "        \n",
    "        new_df = new_df.append(new_ser, ignore_index=True)\n",
    "    \n",
    "    # richtige Datentypen vergeben\n",
    "    new_df[[\"Partei_andere_Stimmen\", \"ungültige Stimmen\", \"gültige Stimmen\"]] = \\\n",
    "        new_df[[\"Partei_andere_Stimmen\", \"ungültige Stimmen\", \"gültige Stimmen\"]].astype(int)\n",
    "    \n",
    "    new_df[\"Partei_andere_Anteil\"] = round(new_df[\"Partei_andere_Stimmen\"] / new_df[\"gültige Stimmen\"] * 100,1)\n",
    "    \n",
    "    return new_df\n",
    "            \n",
    "            \n",
    "        \n",
    "        \n",
    "        \n",
    "    \n",
    "    \n",
    "df_zs_rank = sort_parties(df_zs_flat)"
   ]
  },
  {
   "cell_type": "code",
   "execution_count": null,
   "id": "4ae3feb0",
   "metadata": {},
   "outputs": [],
   "source": []
  },
  {
   "cell_type": "markdown",
   "id": "855f2eb6",
   "metadata": {},
   "source": [
    "## Erststimme nach Stärke"
   ]
  },
  {
   "cell_type": "code",
   "execution_count": 46,
   "id": "e9310a8a",
   "metadata": {
    "ExecuteTime": {
     "end_time": "2021-09-11T16:18:49.753365Z",
     "start_time": "2021-09-11T16:18:45.812007Z"
    }
   },
   "outputs": [],
   "source": [
    "df_es_rank = sort_parties(df_es_flat)   "
   ]
  },
  {
   "cell_type": "code",
   "execution_count": 47,
   "id": "25c82c9a",
   "metadata": {
    "ExecuteTime": {
     "end_time": "2021-09-11T16:18:49.848054Z",
     "start_time": "2021-09-11T16:18:49.844065Z"
    }
   },
   "outputs": [],
   "source": [
    "# ACHTUNG, nur für Demozwecke\n",
    "# df_es_rank[\"Gewinner\"] = \"Name, Vorname (\" + df_es_rank['Gewinner'] + \")\"\n",
    "# df_es_rank[\"Partei_1_Name\"] = \"Name, Vorname (\" + df_es_rank['Partei_1_Name'] + \")\"\n",
    "# df_es_rank[\"Partei_2_Name\"] = \"Name, Vorname (\" + df_es_rank['Partei_2_Name'] + \")\"\n",
    "# df_es_rank[\"Partei_3_Name\"] = \"Name, Vorname (\" + df_es_rank['Partei_3_Name'] + \")\"\n",
    "# df_es_rank[\"Partei_4_Name\"] = \"Name, Vorname (\" + df_es_rank['Partei_4_Name'] + \")\"\n",
    "# df_es_rank[\"Partei_5_Name\"] = \"Name, Vorname (\" + df_es_rank['Partei_5_Name'] + \")\"\n",
    "# df_es_rank[\"Partei_6_Name\"] = \"Name, Vorname (\" + df_es_rank['Partei_6_Name'] + \")\""
   ]
  },
  {
   "cell_type": "markdown",
   "id": "b8b79a01",
   "metadata": {},
   "source": [
    "## Partei nach Stärke mit WK-Daten mergen"
   ]
  },
  {
   "cell_type": "code",
   "execution_count": 48,
   "id": "f477eae6",
   "metadata": {
    "ExecuteTime": {
     "end_time": "2021-09-11T16:18:49.955163Z",
     "start_time": "2021-09-11T16:18:49.948183Z"
    }
   },
   "outputs": [],
   "source": [
    "# Schritt 1 - präfix vergeben\n",
    "#Präfix _1 für Erststimme, _2 für Zweitstimme hinzufügen\n",
    "df_es_rank = df_es_rank.add_prefix(\"1_\")\n",
    "df_zs_rank = df_zs_rank.add_prefix(\"2_\")\n",
    "df_es_rank.rename(columns={\"1_AGS\":\"AGS\", \"1_Ort\":\"Ort\"}, inplace=True)\n",
    "df_zs_rank.rename(columns={\"2_AGS\":\"AGS\", \"2_Ort\":\"Ort\"}, inplace=True)"
   ]
  },
  {
   "cell_type": "code",
   "execution_count": 49,
   "id": "290e6079",
   "metadata": {
    "ExecuteTime": {
     "end_time": "2021-09-11T16:18:50.087857Z",
     "start_time": "2021-09-11T16:18:50.067917Z"
    }
   },
   "outputs": [],
   "source": [
    "# Schritt 2 - alle DAten zusammenfassen in eine Wide-Tabelle\n",
    "\n",
    "df_merge = df_es_rank.merge(df_zs_rank, on=[\"AGS\", \"Ort\"])\n",
    "df_merge = df_merge.merge(df_daten_wide, on=[\"AGS\", \"Ort\"])"
   ]
  },
  {
   "cell_type": "code",
   "execution_count": 50,
   "id": "bed1d5d6",
   "metadata": {
    "ExecuteTime": {
     "end_time": "2021-09-11T16:18:57.321569Z",
     "start_time": "2021-09-11T16:18:57.192358Z"
    }
   },
   "outputs": [],
   "source": [
    "df_merge.to_clipboard(decimal=\",\", index=False)\n",
    "df_merge.to_csv(\"datawrapper_dummy.csv\", index=False)"
   ]
  },
  {
   "cell_type": "code",
   "execution_count": null,
   "id": "f5b95bef",
   "metadata": {},
   "outputs": [],
   "source": []
  },
  {
   "cell_type": "markdown",
   "id": "3e502a6c",
   "metadata": {},
   "source": [
    "## Wahlergebnisse 2017 einarbeiten"
   ]
  },
  {
   "cell_type": "code",
   "execution_count": 53,
   "id": "68725269",
   "metadata": {
    "ExecuteTime": {
     "end_time": "2021-09-11T16:22:01.041488Z",
     "start_time": "2021-09-11T16:22:01.034468Z"
    }
   },
   "outputs": [],
   "source": [
    "df_merge[\"2_Partei_1_2017_Anteil\"] = 0\n",
    "df_merge[\"2_Partei_2_2017_Anteil\"] = 0\n",
    "df_merge[\"2_Partei_3_2017_Anteil\"] = 0\n",
    "df_merge[\"2_Partei_4_2017_Anteil\"] = 0\n",
    "df_merge[\"2_Partei_5_2017_Anteil\"] = 0\n",
    "df_merge[\"2_Partei_6_2017_Anteil\"] = 0\n",
    "df_merge[\"2_Partei_andere_2017_Anteil\"] = 0\n",
    "    "
   ]
  },
  {
   "cell_type": "code",
   "execution_count": 56,
   "id": "4d1c6ed1",
   "metadata": {
    "ExecuteTime": {
     "end_time": "2021-09-11T16:25:05.519943Z",
     "start_time": "2021-09-11T16:25:05.510968Z"
    }
   },
   "outputs": [],
   "source": [
    "# dfh = wahlergebnisse_2021.copy()\n",
    "\n",
    "# def create_old_results(df, dfh): \n",
    "#     for i in df.index: \n",
    "        \n",
    "#         dict_col_names = {\"AfD\":\"2017_AfD_%\", \"CDU\":\"2017_CDU_%\", \"LINKE\":\"2017_LINKE_%\", \"SPD\":\"2017_SPD_%\", \\\n",
    "#                          \"FDP\":\"2017_FDP_%\", \"GRÜNE\":\"2017_GRÜNE_%\", \"andere Parteien\":\"2017_andere_%\"} \n",
    "#         partei_1 = df.at[i, \"2_Partei_1_Name\"]\n",
    "#         anteil_2017_1 = \n",
    "        \n",
    "        \n",
    "        \n",
    "# create_old_results(df_merge)"
   ]
  },
  {
   "cell_type": "code",
   "execution_count": 57,
   "id": "dc4bfd0d",
   "metadata": {
    "ExecuteTime": {
     "end_time": "2021-09-11T16:25:09.690410Z",
     "start_time": "2021-09-11T16:25:09.670294Z"
    }
   },
   "outputs": [
    {
     "data": {
      "text/html": [
       "<div>\n",
       "<style scoped>\n",
       "    .dataframe tbody tr th:only-of-type {\n",
       "        vertical-align: middle;\n",
       "    }\n",
       "\n",
       "    .dataframe tbody tr th {\n",
       "        vertical-align: top;\n",
       "    }\n",
       "\n",
       "    .dataframe thead th {\n",
       "        text-align: right;\n",
       "    }\n",
       "</style>\n",
       "<table border=\"1\" class=\"dataframe\">\n",
       "  <thead>\n",
       "    <tr style=\"text-align: right;\">\n",
       "      <th></th>\n",
       "      <th>AGS</th>\n",
       "      <th>Ort</th>\n",
       "      <th>2017_AfD_%</th>\n",
       "      <th>2017_CDU_%</th>\n",
       "      <th>2017_LINKE_%</th>\n",
       "      <th>2017_SPD_%</th>\n",
       "      <th>2017_FDP_%</th>\n",
       "      <th>2017_GRÜNE_%</th>\n",
       "      <th>2017_andere_%</th>\n",
       "    </tr>\n",
       "  </thead>\n",
       "  <tbody>\n",
       "    <tr>\n",
       "      <th>0</th>\n",
       "      <td>14730010</td>\n",
       "      <td>Arzberg</td>\n",
       "      <td>31.2</td>\n",
       "      <td>28.4</td>\n",
       "      <td>14.5</td>\n",
       "      <td>10.4</td>\n",
       "      <td>7.9</td>\n",
       "      <td>1.1</td>\n",
       "      <td>6.5</td>\n",
       "    </tr>\n",
       "    <tr>\n",
       "      <th>1</th>\n",
       "      <td>14730020</td>\n",
       "      <td>Bad Düben, Stadt</td>\n",
       "      <td>22.9</td>\n",
       "      <td>30.4</td>\n",
       "      <td>15.8</td>\n",
       "      <td>13.8</td>\n",
       "      <td>8.6</td>\n",
       "      <td>3.1</td>\n",
       "      <td>5.4</td>\n",
       "    </tr>\n",
       "    <tr>\n",
       "      <th>2</th>\n",
       "      <td>14730030</td>\n",
       "      <td>Beilrode</td>\n",
       "      <td>28.4</td>\n",
       "      <td>30.7</td>\n",
       "      <td>13.8</td>\n",
       "      <td>11.9</td>\n",
       "      <td>8.0</td>\n",
       "      <td>1.7</td>\n",
       "      <td>5.7</td>\n",
       "    </tr>\n",
       "    <tr>\n",
       "      <th>3</th>\n",
       "      <td>14730045</td>\n",
       "      <td>Belgern-Schildau, Stadt</td>\n",
       "      <td>31.8</td>\n",
       "      <td>28.6</td>\n",
       "      <td>12.6</td>\n",
       "      <td>11.9</td>\n",
       "      <td>6.7</td>\n",
       "      <td>2.1</td>\n",
       "      <td>6.3</td>\n",
       "    </tr>\n",
       "    <tr>\n",
       "      <th>4</th>\n",
       "      <td>14730050</td>\n",
       "      <td>Cavertitz</td>\n",
       "      <td>32.4</td>\n",
       "      <td>31.0</td>\n",
       "      <td>13.0</td>\n",
       "      <td>8.4</td>\n",
       "      <td>7.3</td>\n",
       "      <td>1.9</td>\n",
       "      <td>6.1</td>\n",
       "    </tr>\n",
       "    <tr>\n",
       "      <th>...</th>\n",
       "      <td>...</td>\n",
       "      <td>...</td>\n",
       "      <td>...</td>\n",
       "      <td>...</td>\n",
       "      <td>...</td>\n",
       "      <td>...</td>\n",
       "      <td>...</td>\n",
       "      <td>...</td>\n",
       "      <td>...</td>\n",
       "    </tr>\n",
       "    <tr>\n",
       "      <th>419</th>\n",
       "      <td>14523420</td>\n",
       "      <td>Tirpersdorf</td>\n",
       "      <td>28.4</td>\n",
       "      <td>31.8</td>\n",
       "      <td>15.5</td>\n",
       "      <td>10.2</td>\n",
       "      <td>5.9</td>\n",
       "      <td>2.2</td>\n",
       "      <td>5.9</td>\n",
       "    </tr>\n",
       "    <tr>\n",
       "      <th>420</th>\n",
       "      <td>14523430</td>\n",
       "      <td>Treuen, Stadt</td>\n",
       "      <td>26.4</td>\n",
       "      <td>31.5</td>\n",
       "      <td>15.3</td>\n",
       "      <td>10.7</td>\n",
       "      <td>6.8</td>\n",
       "      <td>3.1</td>\n",
       "      <td>6.2</td>\n",
       "    </tr>\n",
       "    <tr>\n",
       "      <th>421</th>\n",
       "      <td>14523440</td>\n",
       "      <td>Triebel/Vogtl.</td>\n",
       "      <td>26.3</td>\n",
       "      <td>30.5</td>\n",
       "      <td>16.7</td>\n",
       "      <td>11.3</td>\n",
       "      <td>6.0</td>\n",
       "      <td>2.5</td>\n",
       "      <td>6.8</td>\n",
       "    </tr>\n",
       "    <tr>\n",
       "      <th>422</th>\n",
       "      <td>14523450</td>\n",
       "      <td>Weischlitz</td>\n",
       "      <td>24.7</td>\n",
       "      <td>33.8</td>\n",
       "      <td>14.2</td>\n",
       "      <td>10.4</td>\n",
       "      <td>7.7</td>\n",
       "      <td>3.5</td>\n",
       "      <td>5.7</td>\n",
       "    </tr>\n",
       "    <tr>\n",
       "      <th>423</th>\n",
       "      <td>14523460</td>\n",
       "      <td>Werda</td>\n",
       "      <td>26.7</td>\n",
       "      <td>35.6</td>\n",
       "      <td>13.1</td>\n",
       "      <td>9.1</td>\n",
       "      <td>7.9</td>\n",
       "      <td>2.5</td>\n",
       "      <td>5.2</td>\n",
       "    </tr>\n",
       "  </tbody>\n",
       "</table>\n",
       "<p>424 rows × 9 columns</p>\n",
       "</div>"
      ],
      "text/plain": [
       "          AGS                      Ort  2017_AfD_%  2017_CDU_%  2017_LINKE_%  \\\n",
       "0    14730010                  Arzberg        31.2        28.4          14.5   \n",
       "1    14730020         Bad Düben, Stadt        22.9        30.4          15.8   \n",
       "2    14730030                 Beilrode        28.4        30.7          13.8   \n",
       "3    14730045  Belgern-Schildau, Stadt        31.8        28.6          12.6   \n",
       "4    14730050                Cavertitz        32.4        31.0          13.0   \n",
       "..        ...                      ...         ...         ...           ...   \n",
       "419  14523420              Tirpersdorf        28.4        31.8          15.5   \n",
       "420  14523430            Treuen, Stadt        26.4        31.5          15.3   \n",
       "421  14523440           Triebel/Vogtl.        26.3        30.5          16.7   \n",
       "422  14523450               Weischlitz        24.7        33.8          14.2   \n",
       "423  14523460                    Werda        26.7        35.6          13.1   \n",
       "\n",
       "     2017_SPD_%  2017_FDP_%  2017_GRÜNE_%  2017_andere_%  \n",
       "0          10.4         7.9           1.1            6.5  \n",
       "1          13.8         8.6           3.1            5.4  \n",
       "2          11.9         8.0           1.7            5.7  \n",
       "3          11.9         6.7           2.1            6.3  \n",
       "4           8.4         7.3           1.9            6.1  \n",
       "..          ...         ...           ...            ...  \n",
       "419        10.2         5.9           2.2            5.9  \n",
       "420        10.7         6.8           3.1            6.2  \n",
       "421        11.3         6.0           2.5            6.8  \n",
       "422        10.4         7.7           3.5            5.7  \n",
       "423         9.1         7.9           2.5            5.2  \n",
       "\n",
       "[424 rows x 9 columns]"
      ]
     },
     "execution_count": 57,
     "metadata": {},
     "output_type": "execute_result"
    }
   ],
   "source": [
    "dfh"
   ]
  },
  {
   "cell_type": "markdown",
   "id": "d4d4a6c6",
   "metadata": {},
   "source": [
    "# Erstimmen-Daten mit Wahlkreis-Nr. und Kandidaten verbinden"
   ]
  },
  {
   "cell_type": "code",
   "execution_count": 447,
   "id": "bc067529",
   "metadata": {
    "ExecuteTime": {
     "end_time": "2021-09-09T19:34:39.091742Z",
     "start_time": "2021-09-09T19:34:38.981255Z"
    }
   },
   "outputs": [],
   "source": [
    "df_k = pd.read_excel(\"./data/statistik-sachsen_bundestagswahl2021_direktbewerber.xlsx\", header=1)"
   ]
  },
  {
   "cell_type": "code",
   "execution_count": 473,
   "id": "6fb519b0",
   "metadata": {
    "ExecuteTime": {
     "end_time": "2021-09-09T19:57:18.327582Z",
     "start_time": "2021-09-09T19:57:18.314621Z"
    }
   },
   "outputs": [
    {
     "name": "stderr",
     "output_type": "stream",
     "text": [
      "<ipython-input-473-9ed62e74cfbf>:4: SettingWithCopyWarning: \n",
      "A value is trying to be set on a copy of a slice from a DataFrame.\n",
      "Try using .loc[row_indexer,col_indexer] = value instead\n",
      "\n",
      "See the caveats in the documentation: https://pandas.pydata.org/pandas-docs/stable/user_guide/indexing.html#returning-a-view-versus-a-copy\n",
      "  df_kandidaten[\"Full_Name\"] = df_kandidaten['Name'] +\" (\" + df_kandidaten['Wahlvorschlag \\nKurzbezeichnung']+\")\"\n",
      "c:\\users\\c_knoop\\appdata\\local\\programs\\python\\python39\\lib\\site-packages\\pandas\\core\\frame.py:5034: SettingWithCopyWarning: \n",
      "A value is trying to be set on a copy of a slice from a DataFrame\n",
      "\n",
      "See the caveats in the documentation: https://pandas.pydata.org/pandas-docs/stable/user_guide/indexing.html#returning-a-view-versus-a-copy\n",
      "  return super().rename(\n",
      "<ipython-input-473-9ed62e74cfbf>:11: SettingWithCopyWarning: \n",
      "A value is trying to be set on a copy of a slice from a DataFrame.\n",
      "Try using .loc[row_indexer,col_indexer] = value instead\n",
      "\n",
      "See the caveats in the documentation: https://pandas.pydata.org/pandas-docs/stable/user_guide/indexing.html#returning-a-view-versus-a-copy\n",
      "  df_kandidaten[\"Wahlkreis\"] = df_kandidaten[\"Wahlkreis\"].astype(str)\n",
      "<ipython-input-473-9ed62e74cfbf>:12: SettingWithCopyWarning: \n",
      "A value is trying to be set on a copy of a slice from a DataFrame.\n",
      "Try using .loc[row_indexer,col_indexer] = value instead\n",
      "\n",
      "See the caveats in the documentation: https://pandas.pydata.org/pandas-docs/stable/user_guide/indexing.html#returning-a-view-versus-a-copy\n",
      "  df_kandidaten[\"Listennummer\"] = df_kandidaten[\"Listennummer\"].astype(str)\n"
     ]
    }
   ],
   "source": [
    "# nur Kandidaten der sechs größeren Parteien behalten\n",
    "liste_parteien = [\"AfD\", \"CDU\", \"DIE LINKE\", \"FDP\", \"GRÜNE\", \"SPD\"]\n",
    "df_kandidaten = df_k[df_k[\"Wahlvorschlag \\nKurzbezeichnung\"].isin(liste_parteien)] \n",
    "df_kandidaten[\"Full_Name\"] = df_kandidaten['Name'] +\" (\" + df_kandidaten['Wahlvorschlag \\nKurzbezeichnung']+\")\"\n",
    "\n",
    "df_kandidaten.rename(columns={\"Wahlkreis 151 Nordsachsen\":\"Wahlkreis\", \"Nummer\":\"Listennummer\", \\\n",
    "                             \"Wahlvorschlag \\nKurzbezeichnung\": \"Partei\", \\\n",
    "                              \"Wahlvorschlag \\nLangbezeichnung\": \"Partei_lang\", \\\n",
    "                             \"Name\":\"Name\", \"Full_Name\": \"Name_lang\"}, inplace=True)\n",
    "# richtige Formate vergeben\n",
    "df_kandidaten[\"Wahlkreis\"] = df_kandidaten[\"Wahlkreis\"].astype(str)\n",
    "df_kandidaten[\"Listennummer\"] = df_kandidaten[\"Listennummer\"].astype(str)"
   ]
  },
  {
   "cell_type": "code",
   "execution_count": 474,
   "id": "3200b805",
   "metadata": {
    "ExecuteTime": {
     "end_time": "2021-09-09T19:57:21.751580Z",
     "start_time": "2021-09-09T19:57:21.738614Z"
    }
   },
   "outputs": [
    {
     "data": {
      "text/html": [
       "<div>\n",
       "<style scoped>\n",
       "    .dataframe tbody tr th:only-of-type {\n",
       "        vertical-align: middle;\n",
       "    }\n",
       "\n",
       "    .dataframe tbody tr th {\n",
       "        vertical-align: top;\n",
       "    }\n",
       "\n",
       "    .dataframe thead th {\n",
       "        text-align: right;\n",
       "    }\n",
       "</style>\n",
       "<table border=\"1\" class=\"dataframe\">\n",
       "  <thead>\n",
       "    <tr style=\"text-align: right;\">\n",
       "      <th></th>\n",
       "      <th>Wahlkreis</th>\n",
       "      <th>Listennummer</th>\n",
       "      <th>Partei</th>\n",
       "      <th>Partei_lang</th>\n",
       "      <th>Name</th>\n",
       "      <th>Name_lang</th>\n",
       "    </tr>\n",
       "  </thead>\n",
       "  <tbody>\n",
       "    <tr>\n",
       "      <th>0</th>\n",
       "      <td>151</td>\n",
       "      <td>1</td>\n",
       "      <td>AfD</td>\n",
       "      <td>Alternative für Deutschland</td>\n",
       "      <td>Bochmann, René</td>\n",
       "      <td>Bochmann, René (AfD)</td>\n",
       "    </tr>\n",
       "    <tr>\n",
       "      <th>1</th>\n",
       "      <td>151</td>\n",
       "      <td>2</td>\n",
       "      <td>CDU</td>\n",
       "      <td>Christlich Demokratische Union Deutschlands</td>\n",
       "      <td>Schenderlein, Dr. Christiane</td>\n",
       "      <td>Schenderlein, Dr. Christiane (CDU)</td>\n",
       "    </tr>\n",
       "    <tr>\n",
       "      <th>2</th>\n",
       "      <td>151</td>\n",
       "      <td>3</td>\n",
       "      <td>DIE LINKE</td>\n",
       "      <td>DIE LINKE</td>\n",
       "      <td>Rubach, Philipp</td>\n",
       "      <td>Rubach, Philipp (DIE LINKE)</td>\n",
       "    </tr>\n",
       "    <tr>\n",
       "      <th>3</th>\n",
       "      <td>151</td>\n",
       "      <td>4</td>\n",
       "      <td>SPD</td>\n",
       "      <td>Sozialdemokratische Partei Deutschlands</td>\n",
       "      <td>Kleinke, Rüdiger</td>\n",
       "      <td>Kleinke, Rüdiger (SPD)</td>\n",
       "    </tr>\n",
       "    <tr>\n",
       "      <th>4</th>\n",
       "      <td>151</td>\n",
       "      <td>5</td>\n",
       "      <td>FDP</td>\n",
       "      <td>Freie Demokratische Partei</td>\n",
       "      <td>Richter, Martin Max</td>\n",
       "      <td>Richter, Martin Max (FDP)</td>\n",
       "    </tr>\n",
       "    <tr>\n",
       "      <th>...</th>\n",
       "      <td>...</td>\n",
       "      <td>...</td>\n",
       "      <td>...</td>\n",
       "      <td>...</td>\n",
       "      <td>...</td>\n",
       "      <td>...</td>\n",
       "    </tr>\n",
       "    <tr>\n",
       "      <th>195</th>\n",
       "      <td>166</td>\n",
       "      <td>2</td>\n",
       "      <td>CDU</td>\n",
       "      <td>Christlich Demokratische Union Deutschlands</td>\n",
       "      <td>Magwas, Yvonne</td>\n",
       "      <td>Magwas, Yvonne (CDU)</td>\n",
       "    </tr>\n",
       "    <tr>\n",
       "      <th>196</th>\n",
       "      <td>166</td>\n",
       "      <td>3</td>\n",
       "      <td>DIE LINKE</td>\n",
       "      <td>DIE LINKE</td>\n",
       "      <td>Höfer, Johannes</td>\n",
       "      <td>Höfer, Johannes (DIE LINKE)</td>\n",
       "    </tr>\n",
       "    <tr>\n",
       "      <th>197</th>\n",
       "      <td>166</td>\n",
       "      <td>4</td>\n",
       "      <td>SPD</td>\n",
       "      <td>Sozialdemokratische Partei Deutschlands</td>\n",
       "      <td>Burmeister, Kay</td>\n",
       "      <td>Burmeister, Kay (SPD)</td>\n",
       "    </tr>\n",
       "    <tr>\n",
       "      <th>198</th>\n",
       "      <td>166</td>\n",
       "      <td>5</td>\n",
       "      <td>FDP</td>\n",
       "      <td>Freie Demokratische Partei</td>\n",
       "      <td>Ludwig, André</td>\n",
       "      <td>Ludwig, André (FDP)</td>\n",
       "    </tr>\n",
       "    <tr>\n",
       "      <th>199</th>\n",
       "      <td>166</td>\n",
       "      <td>6</td>\n",
       "      <td>GRÜNE</td>\n",
       "      <td>BÜNDNIS 90/DIE GRÜNEN</td>\n",
       "      <td>Horlbeck, Olaf</td>\n",
       "      <td>Horlbeck, Olaf (GRÜNE)</td>\n",
       "    </tr>\n",
       "  </tbody>\n",
       "</table>\n",
       "<p>96 rows × 6 columns</p>\n",
       "</div>"
      ],
      "text/plain": [
       "    Wahlkreis Listennummer     Partei  \\\n",
       "0         151            1        AfD   \n",
       "1         151            2        CDU   \n",
       "2         151            3  DIE LINKE   \n",
       "3         151            4        SPD   \n",
       "4         151            5        FDP   \n",
       "..        ...          ...        ...   \n",
       "195       166            2        CDU   \n",
       "196       166            3  DIE LINKE   \n",
       "197       166            4        SPD   \n",
       "198       166            5        FDP   \n",
       "199       166            6      GRÜNE   \n",
       "\n",
       "                                     Partei_lang  \\\n",
       "0                    Alternative für Deutschland   \n",
       "1    Christlich Demokratische Union Deutschlands   \n",
       "2                                      DIE LINKE   \n",
       "3        Sozialdemokratische Partei Deutschlands   \n",
       "4                     Freie Demokratische Partei   \n",
       "..                                           ...   \n",
       "195  Christlich Demokratische Union Deutschlands   \n",
       "196                                    DIE LINKE   \n",
       "197      Sozialdemokratische Partei Deutschlands   \n",
       "198                   Freie Demokratische Partei   \n",
       "199                        BÜNDNIS 90/DIE GRÜNEN   \n",
       "\n",
       "                             Name                           Name_lang  \n",
       "0                  Bochmann, René                Bochmann, René (AfD)  \n",
       "1    Schenderlein, Dr. Christiane  Schenderlein, Dr. Christiane (CDU)  \n",
       "2                 Rubach, Philipp         Rubach, Philipp (DIE LINKE)  \n",
       "3                Kleinke, Rüdiger              Kleinke, Rüdiger (SPD)  \n",
       "4             Richter, Martin Max           Richter, Martin Max (FDP)  \n",
       "..                            ...                                 ...  \n",
       "195                Magwas, Yvonne                Magwas, Yvonne (CDU)  \n",
       "196               Höfer, Johannes         Höfer, Johannes (DIE LINKE)  \n",
       "197               Burmeister, Kay               Burmeister, Kay (SPD)  \n",
       "198                 Ludwig, André                 Ludwig, André (FDP)  \n",
       "199                Horlbeck, Olaf              Horlbeck, Olaf (GRÜNE)  \n",
       "\n",
       "[96 rows x 6 columns]"
      ]
     },
     "execution_count": 474,
     "metadata": {},
     "output_type": "execute_result"
    }
   ],
   "source": [
    "df_kandidaten"
   ]
  },
  {
   "cell_type": "code",
   "execution_count": 487,
   "id": "d5adb37e",
   "metadata": {
    "ExecuteTime": {
     "end_time": "2021-09-09T20:04:08.018183Z",
     "start_time": "2021-09-09T20:04:07.499742Z"
    }
   },
   "outputs": [
    {
     "name": "stdout",
     "output_type": "stream",
     "text": [
      "159-160\n",
      "14612000\n",
      "1\n",
      "AfD\n",
      "152-153\n",
      "14713000\n",
      "2\n",
      "CDU\n"
     ]
    }
   ],
   "source": [
    "def find_candidates(df_results, df_candidates):\n",
    "    all_ags = df_results.AGS.unique()\n",
    "    \n",
    "    # Helper um mit Partie-Namen die Listennummer herauszufinden\n",
    "    def return_party_nr(p_name): \n",
    "        for nr, name in parteien_dict.items():\n",
    "            if p_name == name:\n",
    "                return nr\n",
    "        \n",
    "    \n",
    "    for ags in all_ags: \n",
    "        df_ = df_results[df_results[\"AGS\"]==ags]\n",
    "        winner = df_[\"1_Partei_1_Name\"].item()\n",
    "        number_winner = return_party_nr(winner)\n",
    "        wknr = df_[\"WKNr\"].item()\n",
    "        name_winner = \"\"\n",
    "        try:\n",
    "            name_winner = df_kandidaten[(df_kandidaten[\"Wahlkreis\"]==wknr) & \\\n",
    "                                    (df_kandidaten[\"Listennummer\"]==number_winner)][\"Name_lang\"].item()\n",
    "        except: \n",
    "            print(wknr)\n",
    "            print(ags)\n",
    "            print(number_winner)\n",
    "            print(winner)\n",
    "        percent_share_winner = \n",
    "    \n",
    "        df_results.loc[df_results[\"AGS\"]==ags, \"1_Gewinner\"] = name_winner + \" (\" \")\"\n",
    "    \n",
    "\n",
    "    \n",
    "    \n",
    "    return df_results\n",
    "\n",
    "\n",
    "\n",
    "\n",
    "        \n",
    "df_fin = find_candidates(df_merge, df_kandidaten)"
   ]
  },
  {
   "cell_type": "markdown",
   "id": "034d923d",
   "metadata": {},
   "source": [
    "## Leipzig und Dresden haben je zwei Wahlkreise... Winner verändern"
   ]
  },
  {
   "cell_type": "markdown",
   "id": "c25c21c0",
   "metadata": {},
   "source": [
    "Hier muss ich auf Werte zurückgreifen, die "
   ]
  },
  {
   "cell_type": "code",
   "execution_count": null,
   "id": "0962f9d4",
   "metadata": {},
   "outputs": [],
   "source": []
  },
  {
   "cell_type": "code",
   "execution_count": null,
   "id": "37d55695",
   "metadata": {},
   "outputs": [],
   "source": []
  },
  {
   "cell_type": "code",
   "execution_count": null,
   "id": "c4ed313c",
   "metadata": {},
   "outputs": [],
   "source": []
  },
  {
   "cell_type": "code",
   "execution_count": 472,
   "id": "fe70f61e",
   "metadata": {
    "ExecuteTime": {
     "end_time": "2021-09-09T19:56:30.050308Z",
     "start_time": "2021-09-09T19:56:30.035351Z"
    }
   },
   "outputs": [
    {
     "data": {
      "text/html": [
       "<div>\n",
       "<style scoped>\n",
       "    .dataframe tbody tr th:only-of-type {\n",
       "        vertical-align: middle;\n",
       "    }\n",
       "\n",
       "    .dataframe tbody tr th {\n",
       "        vertical-align: top;\n",
       "    }\n",
       "\n",
       "    .dataframe thead th {\n",
       "        text-align: right;\n",
       "    }\n",
       "</style>\n",
       "<table border=\"1\" class=\"dataframe\">\n",
       "  <thead>\n",
       "    <tr style=\"text-align: right;\">\n",
       "      <th></th>\n",
       "      <th>Wahlkreis</th>\n",
       "      <th>Listennummer</th>\n",
       "      <th>Partei</th>\n",
       "      <th>Partei_lang</th>\n",
       "      <th>Name</th>\n",
       "      <th>Name_lang</th>\n",
       "    </tr>\n",
       "  </thead>\n",
       "  <tbody>\n",
       "    <tr>\n",
       "      <th>0</th>\n",
       "      <td>151</td>\n",
       "      <td>1</td>\n",
       "      <td>AfD</td>\n",
       "      <td>Alternative für Deutschland</td>\n",
       "      <td>Bochmann, René</td>\n",
       "      <td>Bochmann, René (AfD)</td>\n",
       "    </tr>\n",
       "    <tr>\n",
       "      <th>13</th>\n",
       "      <td>152</td>\n",
       "      <td>1</td>\n",
       "      <td>AfD</td>\n",
       "      <td>Alternative für Deutschland</td>\n",
       "      <td>Neumann, Christoph</td>\n",
       "      <td>Neumann, Christoph (AfD)</td>\n",
       "    </tr>\n",
       "    <tr>\n",
       "      <th>30</th>\n",
       "      <td>153</td>\n",
       "      <td>1</td>\n",
       "      <td>AfD</td>\n",
       "      <td>Alternative für Deutschland</td>\n",
       "      <td>Droese, Siegbert</td>\n",
       "      <td>Droese, Siegbert (AfD)</td>\n",
       "    </tr>\n",
       "    <tr>\n",
       "      <th>45</th>\n",
       "      <td>154</td>\n",
       "      <td>1</td>\n",
       "      <td>AfD</td>\n",
       "      <td>Alternative für Deutschland</td>\n",
       "      <td>Naujok, Edgar</td>\n",
       "      <td>Naujok, Edgar (AfD)</td>\n",
       "    </tr>\n",
       "    <tr>\n",
       "      <th>57</th>\n",
       "      <td>155</td>\n",
       "      <td>1</td>\n",
       "      <td>AfD</td>\n",
       "      <td>Alternative für Deutschland</td>\n",
       "      <td>Lenk, Barbara</td>\n",
       "      <td>Lenk, Barbara (AfD)</td>\n",
       "    </tr>\n",
       "    <tr>\n",
       "      <th>69</th>\n",
       "      <td>156</td>\n",
       "      <td>1</td>\n",
       "      <td>AfD</td>\n",
       "      <td>Alternative für Deutschland</td>\n",
       "      <td>Hilse, Karsten</td>\n",
       "      <td>Hilse, Karsten (AfD)</td>\n",
       "    </tr>\n",
       "    <tr>\n",
       "      <th>80</th>\n",
       "      <td>157</td>\n",
       "      <td>1</td>\n",
       "      <td>AfD</td>\n",
       "      <td>Alternative für Deutschland</td>\n",
       "      <td>Chrupalla, Tino</td>\n",
       "      <td>Chrupalla, Tino (AfD)</td>\n",
       "    </tr>\n",
       "    <tr>\n",
       "      <th>91</th>\n",
       "      <td>158</td>\n",
       "      <td>1</td>\n",
       "      <td>AfD</td>\n",
       "      <td>Alternative für Deutschland</td>\n",
       "      <td>Janich, Steffen</td>\n",
       "      <td>Janich, Steffen (AfD)</td>\n",
       "    </tr>\n",
       "    <tr>\n",
       "      <th>103</th>\n",
       "      <td>159</td>\n",
       "      <td>1</td>\n",
       "      <td>AfD</td>\n",
       "      <td>Alternative für Deutschland</td>\n",
       "      <td>Maier, Jens</td>\n",
       "      <td>Maier, Jens (AfD)</td>\n",
       "    </tr>\n",
       "    <tr>\n",
       "      <th>119</th>\n",
       "      <td>160</td>\n",
       "      <td>1</td>\n",
       "      <td>AfD</td>\n",
       "      <td>Alternative für Deutschland</td>\n",
       "      <td>Harlaß, Andreas</td>\n",
       "      <td>Harlaß, Andreas (AfD)</td>\n",
       "    </tr>\n",
       "    <tr>\n",
       "      <th>136</th>\n",
       "      <td>161</td>\n",
       "      <td>1</td>\n",
       "      <td>AfD</td>\n",
       "      <td>Alternative für Deutschland</td>\n",
       "      <td>Bachmann, Carolin</td>\n",
       "      <td>Bachmann, Carolin (AfD)</td>\n",
       "    </tr>\n",
       "    <tr>\n",
       "      <th>145</th>\n",
       "      <td>162</td>\n",
       "      <td>1</td>\n",
       "      <td>AfD</td>\n",
       "      <td>Alternative für Deutschland</td>\n",
       "      <td>Klonovsky, Michael</td>\n",
       "      <td>Klonovsky, Michael (AfD)</td>\n",
       "    </tr>\n",
       "    <tr>\n",
       "      <th>159</th>\n",
       "      <td>163</td>\n",
       "      <td>1</td>\n",
       "      <td>AfD</td>\n",
       "      <td>Alternative für Deutschland</td>\n",
       "      <td>Moncsek, Mike</td>\n",
       "      <td>Moncsek, Mike (AfD)</td>\n",
       "    </tr>\n",
       "    <tr>\n",
       "      <th>170</th>\n",
       "      <td>164</td>\n",
       "      <td>1</td>\n",
       "      <td>AfD</td>\n",
       "      <td>Alternative für Deutschland</td>\n",
       "      <td>Dietz, Thomas</td>\n",
       "      <td>Dietz, Thomas (AfD)</td>\n",
       "    </tr>\n",
       "    <tr>\n",
       "      <th>183</th>\n",
       "      <td>165</td>\n",
       "      <td>1</td>\n",
       "      <td>AfD</td>\n",
       "      <td>Alternative für Deutschland</td>\n",
       "      <td>Moosdorf, Matthias</td>\n",
       "      <td>Moosdorf, Matthias (AfD)</td>\n",
       "    </tr>\n",
       "    <tr>\n",
       "      <th>194</th>\n",
       "      <td>166</td>\n",
       "      <td>1</td>\n",
       "      <td>AfD</td>\n",
       "      <td>Alternative für Deutschland</td>\n",
       "      <td>Weiser, Mathias</td>\n",
       "      <td>Weiser, Mathias (AfD)</td>\n",
       "    </tr>\n",
       "  </tbody>\n",
       "</table>\n",
       "</div>"
      ],
      "text/plain": [
       "    Wahlkreis Listennummer Partei                  Partei_lang  \\\n",
       "0         151            1    AfD  Alternative für Deutschland   \n",
       "13        152            1    AfD  Alternative für Deutschland   \n",
       "30        153            1    AfD  Alternative für Deutschland   \n",
       "45        154            1    AfD  Alternative für Deutschland   \n",
       "57        155            1    AfD  Alternative für Deutschland   \n",
       "69        156            1    AfD  Alternative für Deutschland   \n",
       "80        157            1    AfD  Alternative für Deutschland   \n",
       "91        158            1    AfD  Alternative für Deutschland   \n",
       "103       159            1    AfD  Alternative für Deutschland   \n",
       "119       160            1    AfD  Alternative für Deutschland   \n",
       "136       161            1    AfD  Alternative für Deutschland   \n",
       "145       162            1    AfD  Alternative für Deutschland   \n",
       "159       163            1    AfD  Alternative für Deutschland   \n",
       "170       164            1    AfD  Alternative für Deutschland   \n",
       "183       165            1    AfD  Alternative für Deutschland   \n",
       "194       166            1    AfD  Alternative für Deutschland   \n",
       "\n",
       "                   Name                 Name_lang  \n",
       "0        Bochmann, René      Bochmann, René (AfD)  \n",
       "13   Neumann, Christoph  Neumann, Christoph (AfD)  \n",
       "30     Droese, Siegbert    Droese, Siegbert (AfD)  \n",
       "45        Naujok, Edgar       Naujok, Edgar (AfD)  \n",
       "57        Lenk, Barbara       Lenk, Barbara (AfD)  \n",
       "69       Hilse, Karsten      Hilse, Karsten (AfD)  \n",
       "80      Chrupalla, Tino     Chrupalla, Tino (AfD)  \n",
       "91      Janich, Steffen     Janich, Steffen (AfD)  \n",
       "103         Maier, Jens         Maier, Jens (AfD)  \n",
       "119     Harlaß, Andreas     Harlaß, Andreas (AfD)  \n",
       "136   Bachmann, Carolin   Bachmann, Carolin (AfD)  \n",
       "145  Klonovsky, Michael  Klonovsky, Michael (AfD)  \n",
       "159       Moncsek, Mike       Moncsek, Mike (AfD)  \n",
       "170       Dietz, Thomas       Dietz, Thomas (AfD)  \n",
       "183  Moosdorf, Matthias  Moosdorf, Matthias (AfD)  \n",
       "194     Weiser, Mathias     Weiser, Mathias (AfD)  "
      ]
     },
     "execution_count": 472,
     "metadata": {},
     "output_type": "execute_result"
    }
   ],
   "source": [
    "wknr = \"164\"\n",
    "number_winner = \"2\"\n",
    "df_kandidaten[df_kandidaten[\"Listennummer\"]==1]"
   ]
  },
  {
   "cell_type": "code",
   "execution_count": null,
   "id": "702d07b9",
   "metadata": {},
   "outputs": [],
   "source": []
  }
 ],
 "metadata": {
  "hide_input": false,
  "kernelspec": {
   "display_name": "Python 3",
   "language": "python",
   "name": "python3"
  },
  "language_info": {
   "codemirror_mode": {
    "name": "ipython",
    "version": 3
   },
   "file_extension": ".py",
   "mimetype": "text/x-python",
   "name": "python",
   "nbconvert_exporter": "python",
   "pygments_lexer": "ipython3",
   "version": "3.9.5"
  },
  "toc": {
   "base_numbering": 1,
   "nav_menu": {},
   "number_sections": true,
   "sideBar": true,
   "skip_h1_title": false,
   "title_cell": "Table of Contents",
   "title_sidebar": "Contents",
   "toc_cell": false,
   "toc_position": {},
   "toc_section_display": true,
   "toc_window_display": false
  },
  "varInspector": {
   "cols": {
    "lenName": 16,
    "lenType": 16,
    "lenVar": 40
   },
   "kernels_config": {
    "python": {
     "delete_cmd_postfix": "",
     "delete_cmd_prefix": "del ",
     "library": "var_list.py",
     "varRefreshCmd": "print(var_dic_list())"
    },
    "r": {
     "delete_cmd_postfix": ") ",
     "delete_cmd_prefix": "rm(",
     "library": "var_list.r",
     "varRefreshCmd": "cat(var_dic_list()) "
    }
   },
   "types_to_exclude": [
    "module",
    "function",
    "builtin_function_or_method",
    "instance",
    "_Feature"
   ],
   "window_display": false
  }
 },
 "nbformat": 4,
 "nbformat_minor": 5
}
