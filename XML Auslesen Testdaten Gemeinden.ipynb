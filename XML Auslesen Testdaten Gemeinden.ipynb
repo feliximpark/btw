{
 "cells": [
  {
   "cell_type": "markdown",
   "id": "149e4444",
   "metadata": {},
   "source": [
    "# Import libs und Daten"
   ]
  },
  {
   "cell_type": "code",
   "execution_count": 22,
   "id": "01898567",
   "metadata": {
    "ExecuteTime": {
     "end_time": "2021-09-25T15:24:46.176386Z",
     "start_time": "2021-09-25T15:24:46.154274Z"
    }
   },
   "outputs": [],
   "source": [
    "import pandas as pd\n",
    "from datetime import datetime\n",
    "import numpy as np\n",
    "# XML-Lib laden\n",
    "import xml.etree.ElementTree as ET\n",
    "from datawrapper import Datawrapper\n",
    "dw = Datawrapper(access_token = \"79263c731ee5ea069033d6c0e7f62798e440a05b21a43a4b1f1ae765a7eab433\")\n",
    "from datetime import datetime\n",
    "from datetime import date\n",
    "import random\n",
    "import os\n",
    "import glob\n",
    "os.getcwd()\n",
    "os.chdir(r\"C:\\\\Users\\\\c_knoop\\\\Desktop\\\\BTW_2021\")"
   ]
  },
  {
   "cell_type": "code",
   "execution_count": 24,
   "id": "f2430b74",
   "metadata": {
    "ExecuteTime": {
     "end_time": "2021-09-25T15:24:57.656029Z",
     "start_time": "2021-09-25T15:24:57.451377Z"
    }
   },
   "outputs": [],
   "source": [
    "#url_xml = \"./analyse_alt/rohdaten/wahl_gemeinden.xml\"\n",
    "url_xml = \"./test_daten/F.210906.124700.GE.xml\"\n",
    "#url_xml = \"./test_daten/F.210906.132800.WK.xml\"\n",
    "root = ET.parse(url_xml).getroot()\n",
    "datenstand = \"25.09.2021, 17:24 Uhr\"\n"
   ]
  },
  {
   "cell_type": "markdown",
   "id": "0947c02c",
   "metadata": {},
   "source": [
    "# historisches Wahlergebnis"
   ]
  },
  {
   "cell_type": "markdown",
   "id": "eb3ca25f",
   "metadata": {},
   "source": [
    "## DAten einlesen und auf notwendige Columns begrenzen"
   ]
  },
  {
   "cell_type": "code",
   "execution_count": 25,
   "id": "998b476e",
   "metadata": {
    "ExecuteTime": {
     "end_time": "2021-09-25T15:25:00.659893Z",
     "start_time": "2021-09-25T15:25:00.213363Z"
    }
   },
   "outputs": [],
   "source": [
    "wahlergebnisse_2017 = pd.read_excel(\"./data/BW17_Ergebnisse_ORIGINALE.xlsx\", sheet_name=\"BW17_Ergebnisse_GE_TG\")"
   ]
  },
  {
   "cell_type": "code",
   "execution_count": 26,
   "id": "5c5f68fc",
   "metadata": {
    "ExecuteTime": {
     "end_time": "2021-09-25T15:25:02.291512Z",
     "start_time": "2021-09-25T15:25:02.271828Z"
    }
   },
   "outputs": [
    {
     "data": {
      "text/plain": [
       "Index(['Wahl', 'WK-Nr', 'WK-Name', 'Ebene', 'AGS', 'Ortname',\n",
       "       'Briefwahl_Sonderfall', 'Wahlberechtigte', 'Wähler', 'ungültige_1',\n",
       "       'gültige_1', 'CDU_1', 'DIE LINKE_1', 'SPD_1', 'AfD_1', 'GRÜNE_1',\n",
       "       'NPD_1', 'FDP_1', 'PIRATEN_1', 'FREIE WÄHLER_1', 'BüSo_1', 'MLPD_1',\n",
       "       'ÖDP_1', 'Die PARTEI_1', 'Bürgerkandidat_1', 'Der Auserwählte_1',\n",
       "       'Heimat Region Zwickau_1', 'Held_1', 'Hoyer_1',\n",
       "       'Internationalistisch. Bündnis_1', 'RINK_1', 'SGP_1',\n",
       "       'Wir sind LEIPZIGER_1', 'ungültige_2', 'gültige_2', 'CDU_2',\n",
       "       'DIE LINKE_2', 'SPD_2', 'AfD_2', 'GRÜNE_2', 'NPD_2', 'FDP_2',\n",
       "       'PIRATEN_2', 'FREIE WÄHLER_2', 'BüSo_2', 'MLPD_2', 'BGE_2', 'DiB_2',\n",
       "       'ÖDP_2', 'Die PARTEI_2', 'Tierschutzpartei_2', 'V-Partei³_2'],\n",
       "      dtype='object')"
      ]
     },
     "execution_count": 26,
     "metadata": {},
     "output_type": "execute_result"
    }
   ],
   "source": [
    "wahlergebnisse_2017.columns"
   ]
  },
  {
   "cell_type": "code",
   "execution_count": 27,
   "id": "3e60f5e4",
   "metadata": {
    "ExecuteTime": {
     "end_time": "2021-09-25T15:25:02.774381Z",
     "start_time": "2021-09-25T15:25:02.766403Z"
    }
   },
   "outputs": [],
   "source": [
    "df_hist = wahlergebnisse_2017[['WK-Nr', 'WK-Name', 'AGS', 'Ortname',\n",
    "       'Wahlberechtigte', 'Wähler', 'ungültige_1',\n",
    "       'gültige_1', 'CDU_1', 'DIE LINKE_1', 'SPD_1', 'AfD_1', 'GRÜNE_1',\n",
    "       'NPD_1', 'FDP_1', 'PIRATEN_1', 'FREIE WÄHLER_1', 'BüSo_1', 'MLPD_1',\n",
    "       'ÖDP_1', 'Die PARTEI_1', 'Bürgerkandidat_1', 'Der Auserwählte_1',\n",
    "       'Heimat Region Zwickau_1', 'Held_1', 'Hoyer_1',\n",
    "       'Internationalistisch. Bündnis_1', 'RINK_1', 'SGP_1',\n",
    "       'Wir sind LEIPZIGER_1', 'ungültige_2', 'gültige_2', 'CDU_2',\n",
    "       'DIE LINKE_2', 'SPD_2', 'AfD_2', 'GRÜNE_2', 'NPD_2', 'FDP_2',\n",
    "       'PIRATEN_2', 'FREIE WÄHLER_2', 'BüSo_2', 'MLPD_2', 'BGE_2', 'DiB_2',\n",
    "       'ÖDP_2', 'Die PARTEI_2', 'Tierschutzpartei_2', 'V-Partei³_2']]"
   ]
  },
  {
   "cell_type": "code",
   "execution_count": 32,
   "id": "a97c7cfc",
   "metadata": {
    "ExecuteTime": {
     "end_time": "2021-09-25T15:25:33.852681Z",
     "start_time": "2021-09-25T15:25:25.641439Z"
    }
   },
   "outputs": [
    {
     "ename": "KeyError",
     "evalue": "'Only a column name can be used for the key in a dtype mappings argument.'",
     "output_type": "error",
     "traceback": [
      "\u001b[1;31m---------------------------------------------------------------------------\u001b[0m",
      "\u001b[1;31mKeyError\u001b[0m                                  Traceback (most recent call last)",
      "\u001b[1;32m<ipython-input-32-6498c732c3c7>\u001b[0m in \u001b[0;36m<module>\u001b[1;34m\u001b[0m\n\u001b[0;32m     25\u001b[0m \u001b[1;33m\u001b[0m\u001b[0m\n\u001b[0;32m     26\u001b[0m \u001b[1;33m\u001b[0m\u001b[0m\n\u001b[1;32m---> 27\u001b[1;33m \u001b[0mdf_hist\u001b[0m \u001b[1;33m=\u001b[0m \u001b[0mdf_hist\u001b[0m\u001b[1;33m.\u001b[0m\u001b[0mastype\u001b[0m\u001b[1;33m(\u001b[0m\u001b[0mconvert_dict\u001b[0m\u001b[1;33m)\u001b[0m\u001b[1;33m\u001b[0m\u001b[1;33m\u001b[0m\u001b[0m\n\u001b[0m\u001b[0;32m     28\u001b[0m \u001b[1;33m\u001b[0m\u001b[0m\n\u001b[0;32m     29\u001b[0m \u001b[1;31m# rename columns\u001b[0m\u001b[1;33m\u001b[0m\u001b[1;33m\u001b[0m\u001b[1;33m\u001b[0m\u001b[0m\n",
      "\u001b[1;32mc:\\users\\c_knoop\\appdata\\local\\programs\\python\\python39\\lib\\site-packages\\pandas\\core\\generic.py\u001b[0m in \u001b[0;36mastype\u001b[1;34m(self, dtype, copy, errors)\u001b[0m\n\u001b[0;32m   5789\u001b[0m             \u001b[1;32mfor\u001b[0m \u001b[0mcol_name\u001b[0m \u001b[1;32min\u001b[0m \u001b[0mdtype\u001b[0m\u001b[1;33m.\u001b[0m\u001b[0mkeys\u001b[0m\u001b[1;33m(\u001b[0m\u001b[1;33m)\u001b[0m\u001b[1;33m:\u001b[0m\u001b[1;33m\u001b[0m\u001b[1;33m\u001b[0m\u001b[0m\n\u001b[0;32m   5790\u001b[0m                 \u001b[1;32mif\u001b[0m \u001b[0mcol_name\u001b[0m \u001b[1;32mnot\u001b[0m \u001b[1;32min\u001b[0m \u001b[0mself\u001b[0m\u001b[1;33m:\u001b[0m\u001b[1;33m\u001b[0m\u001b[1;33m\u001b[0m\u001b[0m\n\u001b[1;32m-> 5791\u001b[1;33m                     raise KeyError(\n\u001b[0m\u001b[0;32m   5792\u001b[0m                         \u001b[1;34m\"Only a column name can be used for the \"\u001b[0m\u001b[1;33m\u001b[0m\u001b[1;33m\u001b[0m\u001b[0m\n\u001b[0;32m   5793\u001b[0m                         \u001b[1;34m\"key in a dtype mappings argument.\"\u001b[0m\u001b[1;33m\u001b[0m\u001b[1;33m\u001b[0m\u001b[0m\n",
      "\u001b[1;31mKeyError\u001b[0m: 'Only a column name can be used for the key in a dtype mappings argument.'"
     ]
    }
   ],
   "source": [
    "# richtige Formate verteilen\n",
    "df_hist = df_hist.replace(\"x\", \"0\")\n",
    "# using dictionary to convert specific columns\n",
    "convert_dict = {'WK-Nr': str,\n",
    "                'AGS': str, \n",
    "                \"AfD_1\": int, \n",
    "                \"NPD_1\": int, \n",
    "                \"PIRATEN_1\": int, \n",
    "                \"BüSo_1\": int,\n",
    "                \"MLPD_1\": int, \n",
    "                \"ÖDP_1\": int, \n",
    "                \"Die PARTEI_1\": int, \n",
    "                \"Bürgerkandidat_1\": int, \n",
    "                \"Der Auserwählte_1\": int, \n",
    "                \"Heimat Region Zwickau_1\": int, \n",
    "                \"Held_1\": int, \n",
    "                \"Hoyer_1\": int, \n",
    "                \"Internationalistisch. Bündnis_1\": int, \n",
    "                \"RINK_1\": int, \n",
    "                \"SGP_1\": int, \n",
    "                \"Wir sind LEIPZIGER_1\": int, \n",
    "                \"FREIE WÄHLER_1\": int\n",
    "               }\n",
    " \n",
    "    \n",
    "    \n",
    "df_hist = df_hist.astype(convert_dict)\n",
    "\n",
    "# rename columns\n",
    "df_hist.rename(columns={\"WK-Nr\": \"KreisId\", \"WK-Name\":\"KreisName\", \"Ortname\": \"Ort\"}, inplace=True)"
   ]
  },
  {
   "cell_type": "code",
   "execution_count": null,
   "id": "3777698d",
   "metadata": {},
   "outputs": [],
   "source": []
  },
  {
   "cell_type": "markdown",
   "id": "d72fe2ca",
   "metadata": {},
   "source": [
    "## Städte zusammenführen"
   ]
  },
  {
   "cell_type": "code",
   "execution_count": 40,
   "id": "840c507d",
   "metadata": {
    "ExecuteTime": {
     "end_time": "2021-09-25T15:26:39.209858Z",
     "start_time": "2021-09-25T15:26:39.174426Z"
    }
   },
   "outputs": [
    {
     "name": "stdout",
     "output_type": "stream",
     "text": [
      "(420, 49)\n"
     ]
    },
    {
     "name": "stderr",
     "output_type": "stream",
     "text": [
      "<ipython-input-40-ac5dbdb3b36e>:17: SettingWithCopyWarning: \n",
      "A value is trying to be set on a copy of a slice from a DataFrame.\n",
      "Try using .loc[row_indexer,col_indexer] = value instead\n",
      "\n",
      "See the caveats in the documentation: https://pandas.pydata.org/pandas-docs/stable/user_guide/indexing.html#returning-a-view-versus-a-copy\n",
      "  df_[\"Ort\"] = city\n",
      "<ipython-input-40-ac5dbdb3b36e>:18: SettingWithCopyWarning: \n",
      "A value is trying to be set on a copy of a slice from a DataFrame.\n",
      "Try using .loc[row_indexer,col_indexer] = value instead\n",
      "\n",
      "See the caveats in the documentation: https://pandas.pydata.org/pandas-docs/stable/user_guide/indexing.html#returning-a-view-versus-a-copy\n",
      "  df_[\"AGS\"] = city_dict[city]\n",
      "<ipython-input-40-ac5dbdb3b36e>:19: SettingWithCopyWarning: \n",
      "A value is trying to be set on a copy of a slice from a DataFrame.\n",
      "Try using .loc[row_indexer,col_indexer] = value instead\n",
      "\n",
      "See the caveats in the documentation: https://pandas.pydata.org/pandas-docs/stable/user_guide/indexing.html#returning-a-view-versus-a-copy\n",
      "  df_[\"KreisId\"] = df_[\"Ort\"].map(lambda x: \"152/153\" if x == \"Leipzig\" else \"159/160\")\n",
      "<ipython-input-40-ac5dbdb3b36e>:20: SettingWithCopyWarning: \n",
      "A value is trying to be set on a copy of a slice from a DataFrame.\n",
      "Try using .loc[row_indexer,col_indexer] = value instead\n",
      "\n",
      "See the caveats in the documentation: https://pandas.pydata.org/pandas-docs/stable/user_guide/indexing.html#returning-a-view-versus-a-copy\n",
      "  df_[\"KreisName\"] = df_[\"Ort\"].map(lambda x: \"Leipzig I/II\" if x == \"Leipzig\" else \"Dresden I/DD-Bautzen II\")\n"
     ]
    }
   ],
   "source": [
    "# Städte zusammenfassen\n",
    "# Stadtname und übergreifende AGS\n",
    "city_dict = {\"Leipzig\":\"14713000\", \"Dresden\":\"14612000\"}\n",
    "\n",
    "# Ergebnisliste\n",
    "\n",
    "def group_cities_results(df, city_dict): \n",
    "   \n",
    "    list_cities = list(city_dict.keys())\n",
    "    df_final = df[~df[\"Ort\"].str.contains(\"|\".join(list_cities))]\n",
    "    \n",
    "    print(df_final.shape)\n",
    "    for city in city_dict:\n",
    "        df_ = df[df[\"Ort\"].str.contains(city)]\n",
    "        \n",
    "        # Ort und AGS vereinheitlichen\n",
    "        df_[\"Ort\"] = city\n",
    "        df_[\"AGS\"] = city_dict[city]\n",
    "        df_[\"KreisId\"] = df_[\"Ort\"].map(lambda x: \"152/153\" if x == \"Leipzig\" else \"159/160\")\n",
    "        df_[\"KreisName\"] = df_[\"Ort\"].map(lambda x: \"Leipzig I/II\" if x == \"Leipzig\" else \"Dresden I/DD-Bautzen II\")\n",
    "        # über neuen, einheitlichen Ortsnamen gruppieren\n",
    "        df_group = df_.groupby(['KreisId', 'KreisName', 'AGS', 'Ort',], as_index=False).sum()\n",
    "       \n",
    "        # Daten wieder zusammenführen\n",
    "        df_final = df_final.append(df_group)\n",
    "       \n",
    "    \n",
    "    return df_final\n",
    "    \n",
    "df_2017 = group_cities_results(df_hist, city_dict)    \n",
    "df_2017_erststimme = df_hist.copy()"
   ]
  },
  {
   "cell_type": "code",
   "execution_count": 41,
   "id": "d4a1ca27",
   "metadata": {
    "ExecuteTime": {
     "end_time": "2021-09-25T15:26:39.377426Z",
     "start_time": "2021-09-25T15:26:39.353488Z"
    }
   },
   "outputs": [
    {
     "data": {
      "text/html": [
       "<div>\n",
       "<style scoped>\n",
       "    .dataframe tbody tr th:only-of-type {\n",
       "        vertical-align: middle;\n",
       "    }\n",
       "\n",
       "    .dataframe tbody tr th {\n",
       "        vertical-align: top;\n",
       "    }\n",
       "\n",
       "    .dataframe thead th {\n",
       "        text-align: right;\n",
       "    }\n",
       "</style>\n",
       "<table border=\"1\" class=\"dataframe\">\n",
       "  <thead>\n",
       "    <tr style=\"text-align: right;\">\n",
       "      <th></th>\n",
       "      <th>KreisId</th>\n",
       "      <th>KreisName</th>\n",
       "      <th>AGS</th>\n",
       "      <th>Ort</th>\n",
       "      <th>Wahlberechtigte</th>\n",
       "      <th>Wähler</th>\n",
       "      <th>ungültige_1</th>\n",
       "      <th>gültige_1</th>\n",
       "      <th>CDU_1</th>\n",
       "      <th>DIE LINKE_1</th>\n",
       "      <th>...</th>\n",
       "      <th>PIRATEN_2</th>\n",
       "      <th>FREIE WÄHLER_2</th>\n",
       "      <th>BüSo_2</th>\n",
       "      <th>MLPD_2</th>\n",
       "      <th>BGE_2</th>\n",
       "      <th>DiB_2</th>\n",
       "      <th>ÖDP_2</th>\n",
       "      <th>Die PARTEI_2</th>\n",
       "      <th>Tierschutzpartei_2</th>\n",
       "      <th>V-Partei³_2</th>\n",
       "    </tr>\n",
       "  </thead>\n",
       "  <tbody>\n",
       "    <tr>\n",
       "      <th>0</th>\n",
       "      <td>152/153</td>\n",
       "      <td>Leipzig I/II</td>\n",
       "      <td>14713000</td>\n",
       "      <td>Leipzig</td>\n",
       "      <td>448372</td>\n",
       "      <td>336605</td>\n",
       "      <td>3188</td>\n",
       "      <td>333417</td>\n",
       "      <td>86697</td>\n",
       "      <td>75080</td>\n",
       "      <td>...</td>\n",
       "      <td>1817</td>\n",
       "      <td>2745</td>\n",
       "      <td>440</td>\n",
       "      <td>505</td>\n",
       "      <td>2051</td>\n",
       "      <td>1654</td>\n",
       "      <td>706</td>\n",
       "      <td>7408</td>\n",
       "      <td>5432</td>\n",
       "      <td>832</td>\n",
       "    </tr>\n",
       "  </tbody>\n",
       "</table>\n",
       "<p>1 rows × 49 columns</p>\n",
       "</div>"
      ],
      "text/plain": [
       "   KreisId     KreisName       AGS      Ort  Wahlberechtigte  Wähler  \\\n",
       "0  152/153  Leipzig I/II  14713000  Leipzig           448372  336605   \n",
       "\n",
       "   ungültige_1  gültige_1  CDU_1  DIE LINKE_1  ...  PIRATEN_2  FREIE WÄHLER_2  \\\n",
       "0         3188     333417  86697        75080  ...       1817            2745   \n",
       "\n",
       "   BüSo_2  MLPD_2  BGE_2  DiB_2  ÖDP_2  Die PARTEI_2  Tierschutzpartei_2  \\\n",
       "0     440     505   2051   1654    706          7408                5432   \n",
       "\n",
       "   V-Partei³_2  \n",
       "0          832  \n",
       "\n",
       "[1 rows x 49 columns]"
      ]
     },
     "execution_count": 41,
     "metadata": {},
     "output_type": "execute_result"
    }
   ],
   "source": [
    "df_2017[df_2017[\"Ort\"].str.contains(\"Leipzig\")]"
   ]
  },
  {
   "cell_type": "code",
   "execution_count": null,
   "id": "8e6c3fac",
   "metadata": {},
   "outputs": [],
   "source": []
  },
  {
   "cell_type": "markdown",
   "id": "e00b5052",
   "metadata": {},
   "source": [
    "## Historische Daten Erststimme vorbereiten"
   ]
  },
  {
   "cell_type": "code",
   "execution_count": 10,
   "id": "2dfc4fff",
   "metadata": {
    "ExecuteTime": {
     "end_time": "2021-09-25T13:02:45.774687Z",
     "start_time": "2021-09-25T13:02:45.770697Z"
    }
   },
   "outputs": [],
   "source": [
    "# hier geht es darum, den stärksten Kandidaten für die Gemeinde 2017 herauszusuchen... ist optional, lassen wir erstmal "
   ]
  },
  {
   "cell_type": "code",
   "execution_count": 11,
   "id": "4ef12b80",
   "metadata": {
    "ExecuteTime": {
     "end_time": "2021-09-25T13:02:45.844500Z",
     "start_time": "2021-09-25T13:02:45.840511Z"
    }
   },
   "outputs": [],
   "source": [
    "# def create_hist_erststimme(df): \n",
    "    \n",
    "#     all_kreis_id = df.KreisId.unique(): \n",
    "    \n",
    "\n",
    "\n",
    "# df_2017_es = create_hist_erststimme(df_2017)"
   ]
  },
  {
   "cell_type": "code",
   "execution_count": null,
   "id": "caf5f6dc",
   "metadata": {},
   "outputs": [],
   "source": []
  },
  {
   "cell_type": "markdown",
   "id": "827463ec",
   "metadata": {},
   "source": [
    "## Historische Daten Zweitstimme"
   ]
  },
  {
   "cell_type": "markdown",
   "id": "f8a6a509",
   "metadata": {
    "ExecuteTime": {
     "end_time": "2021-09-23T09:19:30.484258Z",
     "start_time": "2021-09-23T09:19:30.480300Z"
    }
   },
   "source": [
    "Hier benötige ich die **Wahlbeteiligung und die Prozentzahl pro Partei** bzw. sonstige"
   ]
  },
  {
   "cell_type": "code",
   "execution_count": 42,
   "id": "62a42b9e",
   "metadata": {
    "ExecuteTime": {
     "end_time": "2021-09-25T15:38:27.529849Z",
     "start_time": "2021-09-25T15:38:24.990913Z"
    }
   },
   "outputs": [],
   "source": [
    "def create_hist_zweitstimme(df):\n",
    "    \n",
    "    # neues Dataframe für historische Zweitstimmen\n",
    "    cols = [\"AGS\", \"Wahlbeteiligung\", \"2017_AfD_%\", \"2017_CDU_%\", \"2017_LINKE_%\",\"2017_SPD_%\", \\\n",
    "           \"2017_GRÜNE_%\", \"2017_FDP_%\", \"2017_sonstige_%\"]\n",
    "    \n",
    "    new_df = pd.DataFrame(columns=cols)\n",
    "    \n",
    "    \n",
    "    df = df[['KreisId', 'KreisName', 'AGS', 'Ort', 'Wahlberechtigte', 'Wähler', \\\n",
    "            'gültige_2', 'CDU_2','DIE LINKE_2', 'SPD_2', 'AfD_2', 'GRÜNE_2', 'NPD_2', 'FDP_2',\\\n",
    "       'PIRATEN_2', 'FREIE WÄHLER_2', 'BüSo_2', 'MLPD_2', 'BGE_2', 'DiB_2',\\\n",
    "       'ÖDP_2', 'Die PARTEI_2', 'Tierschutzpartei_2', 'V-Partei³_2']]\n",
    "    \n",
    "    all_ags = df.AGS.unique()\n",
    "        \n",
    "    for ags in all_ags: \n",
    "        df_ = df[df.AGS==ags]\n",
    "        \n",
    "        wbt = round(df_[\"Wähler\"] / df_[\"Wahlberechtigte\"]  * 100, 1).item()\n",
    "        afd = round(df_.AfD_2 / df_.gültige_2 * 100, 1).item()\n",
    "        cdu = round(df_.CDU_2 / df_.gültige_2 * 100, 1).item()\n",
    "        linke = round(df_[\"DIE LINKE_2\"] / df_.gültige_2 * 100, 1).item()\n",
    "        spd = round(df_.SPD_2 / df_.gültige_2 * 100, 1).item()\n",
    "        grüne = round(df_.GRÜNE_2 / df_.gültige_2 * 100, 1).item()\n",
    "        fdp = round(df_.FDP_2 / df_.gültige_2 * 100, 1).item()\n",
    "        sonstige_stimmen = df_.gültige_2.item() - (df_.AfD_2 + df_.CDU_2 +df_[\"DIE LINKE_2\"] + df_.SPD_2 + df_.GRÜNE_2 + df_.FDP_2).item()\n",
    "        sonstige = round(sonstige_stimmen/df_.gültige_2*100,1).item()\n",
    "        \n",
    "        ser_data = [ags, wbt, afd, cdu, linke, spd, grüne, fdp, sonstige]\n",
    "        new_ser = pd.Series(ser_data, index=cols)\n",
    "        \n",
    "        new_df = new_df.append(new_ser, ignore_index=True)\n",
    "    \n",
    "    return new_df\n",
    "        \n",
    "\n",
    "\n",
    "df_2017_zw = create_hist_zweitstimme(df_2017)"
   ]
  },
  {
   "cell_type": "code",
   "execution_count": null,
   "id": "7b738970",
   "metadata": {},
   "outputs": [],
   "source": []
  },
  {
   "cell_type": "markdown",
   "id": "367e6f2b",
   "metadata": {},
   "source": [
    "# Herauslesen Daten Dataframe long"
   ]
  },
  {
   "cell_type": "code",
   "execution_count": 43,
   "id": "1c5994c7",
   "metadata": {
    "ExecuteTime": {
     "end_time": "2021-09-25T15:38:29.149310Z",
     "start_time": "2021-09-25T15:38:29.144324Z"
    }
   },
   "outputs": [],
   "source": [
    "#HELPER\n",
    "# Ordnet die Beschreibung des Tags <Gruppenergebnis> einer Klarbzeichung zu\n",
    "# diese Beschreibung ist unter dem Attribut Position abgespeichert\n",
    "\n",
    "# Check ob sich in einem String eine Nummer befindet\n",
    "def has_numbers(inputString):\n",
    "    return any(char.isdigit() for char in inputString)\n"
   ]
  },
  {
   "cell_type": "code",
   "execution_count": 44,
   "id": "6a9bf8a2",
   "metadata": {
    "ExecuteTime": {
     "end_time": "2021-09-25T15:38:29.513510Z",
     "start_time": "2021-09-25T15:38:29.509524Z"
    }
   },
   "outputs": [],
   "source": [
    "# Dict Parteien "
   ]
  },
  {
   "cell_type": "code",
   "execution_count": 45,
   "id": "48cfbdc9",
   "metadata": {
    "ExecuteTime": {
     "end_time": "2021-09-25T15:38:30.035906Z",
     "start_time": "2021-09-25T15:38:30.029920Z"
    },
    "code_folding": []
   },
   "outputs": [],
   "source": [
    "# Offizielle Listennummer mit Parteiname BTW 2021\n",
    "parteien_dict = {\"1\":\"AfD\", \"2\":\"CDU\", \"3\":\"Die Linke\", \"4\":\"SPD\", \"5\":\"FDP\", \"6\":\"Grüne\", \\\n",
    "                # kleinere Parteien (sonstige)\n",
    "                \"7\":\"Tierschutzpartei\", \"8\":\"Die Partei\", \"9\":\"NPD\", \"10\":\"Freie Wähler\", \\\n",
    "                 \"11\":\"PIRATEN\", \"12\":\"ÖDP\", \"13\":\"V-Partei³\", \"14\":\"MLPD\", \"15\":\"dieBasis\", \n",
    "                 \"16\": \"Bündnis C\", \"17\": \"III. Weg\", \"18\":\"DKP\", \"19\":\"Die Humanisten\", \\\n",
    "                 \"20\":\"Gesundheitsforschung\", \"21\":\"Team Todenhöfer\", \"22\":\"Volt\", \\\n",
    "                 # kleinere Parteien ohne Landesliste\n",
    "                 \"23\": \"ASMUSfddB\", \"24\":\"AufrechterDemokrat\", \"25\":\"Brähmig\", \"26\":\"BüSo\", \\\n",
    "                 \"27\":\"Daniel Richter\", \"28\":\"Direktkandidat Daniel Zimmet\", \"29\":\"Direktkandidat Frank Hannig\", \\\n",
    "                 \"30\": \"DK Schöllner\", \"31\":\"Ein Leipziger für Leipzig\", \"32\":\"#KLIMAfirst\", \\\n",
    "                 \"33\": \"Internationalistisches Bündnis\", \"34\": \"Internationalistisches Bündnis\", \\\n",
    "                 \"35\": \"Internationalistisches Bündnis\", \"36\":\"Ischgl\", \"37\":\"KARLKOMMT\", \\\n",
    "                 \"38\": \"LKR\", \"39\": \"Marcus Fuchs - Querdenken 351\", \"40\":\"Queck\", \"41\":\"REICHEL\",\\\n",
    "                 \"42\":\"Röhder\", \"43\":\"UNO - Menschrecht - FRIEDEN für Alle\", \"44\":\"WIR sind LEIPZIGER\", \\\n",
    "                 \"45\":\"www.zeitkaufhaus.de Martin Bayer\", \\\n",
    "                 # Bezeichner für gültige und ungültige Stimmen\n",
    "                \"GUE\": \"gültige Stimmen\", \"UNG\": \"Ungültige Stimmen\"\n",
    "\n",
    "                }"
   ]
  },
  {
   "cell_type": "markdown",
   "id": "73fa045f",
   "metadata": {
    "ExecuteTime": {
     "end_time": "2021-09-07T07:44:07.264654Z",
     "start_time": "2021-09-07T07:44:07.261662Z"
    }
   },
   "source": []
  },
  {
   "cell_type": "code",
   "execution_count": 46,
   "id": "a9a0bfaf",
   "metadata": {
    "ExecuteTime": {
     "end_time": "2021-09-25T15:39:16.774814Z",
     "start_time": "2021-09-25T15:38:39.774768Z"
    },
    "code_folding": []
   },
   "outputs": [],
   "source": [
    "\n",
    "\n",
    "# jedes elem in root ist der Tag <Gebietsergebnis>, in dem immer eine komplette Gemeinde steckt. \n",
    "def read_xml(root):\n",
    "    \n",
    "    # Variablen in Datensatz\n",
    "    erststimmen = \"DIREKT\"\n",
    "    zweitstimmen = \"LISTE\"\n",
    "\n",
    "\n",
    "    \n",
    "    # zwei Dataframes werden erstellt, eins für die Ergebnisse der Parteien, \n",
    "    # ein anderes für Wahlstatistiken etc. \n",
    "    \n",
    "    # DF Ergebnisse\n",
    "    cols_result = [\"AGS\", \"KreisId\", \"Ort\", \"Partei\", \"ParteiId\", \"Stimmart\", \"Stimmen\", \"Anteil\"]\n",
    "    df_results = pd.DataFrame(columns=cols_result)\n",
    "    \n",
    "    # DF Statistiken\n",
    "    col_stats = [\"AGS\", \"Ort\", \"WKNr\", \"Statistik\", \"Stimmen\", \"Anteil\"]\n",
    "    df_stats = pd.DataFrame(columns=col_stats)\n",
    "    \n",
    "    # Durchlauf durch alle <Gruppenergebnis>, sammeln der Gemeindedaten\n",
    "    for elem in root: \n",
    "        ags = elem.attrib.get(\"GemNr\")\n",
    "        name = elem.attrib.get(\"GemName\") \n",
    "        wk_nr = elem.attrib.get(\"KreisNr\")\n",
    "        # Unterpunkt ist <Gruppenergebnis>, hier findet sich unter \"Position\" die Beschreibung des jew. Datensatzes\n",
    "        for sub in elem: \n",
    "            position = sub.attrib.get(\"Position\")\n",
    "            \n",
    "            # Check ob position eine Nummer ist - dann handelt es sich nämlich um ein Partei-Stimmergebnis\n",
    "            # dann wird das result-Dataframe befüllt\n",
    "            if (has_numbers(position)) | (position == \"UNG\") | (position == \"GUE\"): \n",
    "                partei = parteien_dict[position]\n",
    "                for node in sub: \n",
    "                    kind_of_votes = node.attrib.get(\"Stimmart\")\n",
    "                    if kind_of_votes == erststimmen: \n",
    "                        stimmart = \"Erststimme\"\n",
    "                    else: \n",
    "                        stimmart = \"Zweitstimme\"\n",
    "                    count_votes = node.attrib.get(\"Stimmen\")\n",
    "                    votes_share = node.attrib.get(\"Anteil\")\n",
    "                    ser_results = pd.Series([ags, wk_nr, name, partei, position, stimmart, count_votes, votes_share], index=cols_result)\n",
    "                    df_results = df_results.append(ser_results, ignore_index=True)\n",
    "            \n",
    "            # wenn Buchstaben-Kennung wird das statistische Dataframe befüllt\n",
    "            else:\n",
    "                \n",
    "                info_node = sub[0]\n",
    "                stimmen = info_node.attrib.get(\"Stimmen\")\n",
    "                anteil = info_node.attrib.get(\"Anteil\")\n",
    "                \n",
    "                if position == \"WB\": \n",
    "                    statistik = \"Wahlberechtigte\"\n",
    "                    anteil = \"100\"\n",
    "                elif position == \"WAE\":\n",
    "                    statistik = \"Wähler\"\n",
    "                else: \n",
    "                    print(\"Fehler\")\n",
    "               \n",
    "                ser_stats = pd.Series([ags, name, wk_nr, statistik, stimmen, anteil], index=col_stats)\n",
    "                df_stats = df_stats.append(ser_stats, ignore_index=True)\n",
    "        \n",
    "    return df_results, df_stats\n",
    "                    \n",
    "                    \n",
    "            #if position\n",
    "            \n",
    "           \n",
    "\n",
    "            \n",
    "            \n",
    "            \n",
    "df_results_abfrage, df_daten_abfrage = read_xml(root)"
   ]
  },
  {
   "cell_type": "markdown",
   "id": "12f12750",
   "metadata": {
    "ExecuteTime": {
     "end_time": "2021-09-24T12:45:54.691663Z",
     "start_time": "2021-09-24T12:45:54.672714Z"
    }
   },
   "source": [
    "## ACHTUNG: Nur vor der Wahl - alle Werte auf Null!"
   ]
  },
  {
   "cell_type": "code",
   "execution_count": null,
   "id": "342dbdec",
   "metadata": {},
   "outputs": [],
   "source": []
  },
  {
   "cell_type": "code",
   "execution_count": null,
   "id": "0b22fd83",
   "metadata": {},
   "outputs": [],
   "source": []
  },
  {
   "cell_type": "markdown",
   "id": "81fa3b67",
   "metadata": {},
   "source": [
    "## richtige Datentypen vergeben"
   ]
  },
  {
   "cell_type": "code",
   "execution_count": 47,
   "id": "3e0e2e8e",
   "metadata": {
    "ExecuteTime": {
     "end_time": "2021-09-25T15:39:16.923226Z",
     "start_time": "2021-09-25T15:39:16.898296Z"
    }
   },
   "outputs": [],
   "source": [
    "# richtige Datentypen vergeben\n",
    "df_results_abfrage[\"Stimmen\"] = df_results_abfrage[\"Stimmen\"].astype(int)\n",
    "df_results_abfrage[\"Anteil\"] = df_results_abfrage[\"Anteil\"].astype(float)\n",
    "df_results_abfrage[\"KreisId\"] = df_results_abfrage[\"KreisId\"].astype(str)\n",
    "df_results_abfrage[\"ParteiId\"] = df_results_abfrage[\"ParteiId\"].astype(str)\n",
    "\n",
    "df_daten_abfrage[\"Stimmen\"] = df_daten_abfrage[\"Stimmen\"].astype(int)\n",
    "df_daten_abfrage[\"Anteil\"] = df_daten_abfrage[\"Anteil\"].astype(float)"
   ]
  },
  {
   "cell_type": "code",
   "execution_count": 48,
   "id": "c210fe1f",
   "metadata": {
    "ExecuteTime": {
     "end_time": "2021-09-25T15:39:17.093931Z",
     "start_time": "2021-09-25T15:39:17.074829Z"
    }
   },
   "outputs": [
    {
     "data": {
      "text/html": [
       "<div>\n",
       "<style scoped>\n",
       "    .dataframe tbody tr th:only-of-type {\n",
       "        vertical-align: middle;\n",
       "    }\n",
       "\n",
       "    .dataframe tbody tr th {\n",
       "        vertical-align: top;\n",
       "    }\n",
       "\n",
       "    .dataframe thead th {\n",
       "        text-align: right;\n",
       "    }\n",
       "</style>\n",
       "<table border=\"1\" class=\"dataframe\">\n",
       "  <thead>\n",
       "    <tr style=\"text-align: right;\">\n",
       "      <th></th>\n",
       "      <th>AGS</th>\n",
       "      <th>KreisId</th>\n",
       "      <th>Ort</th>\n",
       "      <th>Partei</th>\n",
       "      <th>ParteiId</th>\n",
       "      <th>Stimmart</th>\n",
       "      <th>Stimmen</th>\n",
       "      <th>Anteil</th>\n",
       "    </tr>\n",
       "  </thead>\n",
       "  <tbody>\n",
       "    <tr>\n",
       "      <th>0</th>\n",
       "      <td>14730010</td>\n",
       "      <td>151</td>\n",
       "      <td>Arzberg</td>\n",
       "      <td>Ungültige Stimmen</td>\n",
       "      <td>UNG</td>\n",
       "      <td>Erststimme</td>\n",
       "      <td>7</td>\n",
       "      <td>0.9</td>\n",
       "    </tr>\n",
       "    <tr>\n",
       "      <th>1</th>\n",
       "      <td>14730010</td>\n",
       "      <td>151</td>\n",
       "      <td>Arzberg</td>\n",
       "      <td>Ungültige Stimmen</td>\n",
       "      <td>UNG</td>\n",
       "      <td>Zweitstimme</td>\n",
       "      <td>8</td>\n",
       "      <td>1.0</td>\n",
       "    </tr>\n",
       "    <tr>\n",
       "      <th>2</th>\n",
       "      <td>14730010</td>\n",
       "      <td>151</td>\n",
       "      <td>Arzberg</td>\n",
       "      <td>gültige Stimmen</td>\n",
       "      <td>GUE</td>\n",
       "      <td>Erststimme</td>\n",
       "      <td>793</td>\n",
       "      <td>99.1</td>\n",
       "    </tr>\n",
       "    <tr>\n",
       "      <th>3</th>\n",
       "      <td>14730010</td>\n",
       "      <td>151</td>\n",
       "      <td>Arzberg</td>\n",
       "      <td>gültige Stimmen</td>\n",
       "      <td>GUE</td>\n",
       "      <td>Zweitstimme</td>\n",
       "      <td>792</td>\n",
       "      <td>99.0</td>\n",
       "    </tr>\n",
       "    <tr>\n",
       "      <th>4</th>\n",
       "      <td>14730010</td>\n",
       "      <td>151</td>\n",
       "      <td>Arzberg</td>\n",
       "      <td>AfD</td>\n",
       "      <td>1</td>\n",
       "      <td>Erststimme</td>\n",
       "      <td>198</td>\n",
       "      <td>25.0</td>\n",
       "    </tr>\n",
       "    <tr>\n",
       "      <th>...</th>\n",
       "      <td>...</td>\n",
       "      <td>...</td>\n",
       "      <td>...</td>\n",
       "      <td>...</td>\n",
       "      <td>...</td>\n",
       "      <td>...</td>\n",
       "      <td>...</td>\n",
       "      <td>...</td>\n",
       "    </tr>\n",
       "    <tr>\n",
       "      <th>15414</th>\n",
       "      <td>14523460</td>\n",
       "      <td>166</td>\n",
       "      <td>Werda</td>\n",
       "      <td>Gesundheitsforschung</td>\n",
       "      <td>20</td>\n",
       "      <td>Zweitstimme</td>\n",
       "      <td>0</td>\n",
       "      <td>0.0</td>\n",
       "    </tr>\n",
       "    <tr>\n",
       "      <th>15415</th>\n",
       "      <td>14523460</td>\n",
       "      <td>166</td>\n",
       "      <td>Werda</td>\n",
       "      <td>Team Todenhöfer</td>\n",
       "      <td>21</td>\n",
       "      <td>Zweitstimme</td>\n",
       "      <td>0</td>\n",
       "      <td>0.0</td>\n",
       "    </tr>\n",
       "    <tr>\n",
       "      <th>15416</th>\n",
       "      <td>14523460</td>\n",
       "      <td>166</td>\n",
       "      <td>Werda</td>\n",
       "      <td>Volt</td>\n",
       "      <td>22</td>\n",
       "      <td>Zweitstimme</td>\n",
       "      <td>0</td>\n",
       "      <td>0.0</td>\n",
       "    </tr>\n",
       "    <tr>\n",
       "      <th>15417</th>\n",
       "      <td>14523460</td>\n",
       "      <td>166</td>\n",
       "      <td>Werda</td>\n",
       "      <td>ASMUSfddB</td>\n",
       "      <td>23</td>\n",
       "      <td>Erststimme</td>\n",
       "      <td>0</td>\n",
       "      <td>0.0</td>\n",
       "    </tr>\n",
       "    <tr>\n",
       "      <th>15418</th>\n",
       "      <td>14523460</td>\n",
       "      <td>166</td>\n",
       "      <td>Werda</td>\n",
       "      <td>AufrechterDemokrat</td>\n",
       "      <td>24</td>\n",
       "      <td>Erststimme</td>\n",
       "      <td>0</td>\n",
       "      <td>0.0</td>\n",
       "    </tr>\n",
       "  </tbody>\n",
       "</table>\n",
       "<p>15419 rows × 8 columns</p>\n",
       "</div>"
      ],
      "text/plain": [
       "            AGS KreisId      Ort                Partei ParteiId     Stimmart  \\\n",
       "0      14730010     151  Arzberg     Ungültige Stimmen      UNG   Erststimme   \n",
       "1      14730010     151  Arzberg     Ungültige Stimmen      UNG  Zweitstimme   \n",
       "2      14730010     151  Arzberg       gültige Stimmen      GUE   Erststimme   \n",
       "3      14730010     151  Arzberg       gültige Stimmen      GUE  Zweitstimme   \n",
       "4      14730010     151  Arzberg                   AfD        1   Erststimme   \n",
       "...         ...     ...      ...                   ...      ...          ...   \n",
       "15414  14523460     166    Werda  Gesundheitsforschung       20  Zweitstimme   \n",
       "15415  14523460     166    Werda       Team Todenhöfer       21  Zweitstimme   \n",
       "15416  14523460     166    Werda                  Volt       22  Zweitstimme   \n",
       "15417  14523460     166    Werda             ASMUSfddB       23   Erststimme   \n",
       "15418  14523460     166    Werda    AufrechterDemokrat       24   Erststimme   \n",
       "\n",
       "       Stimmen  Anteil  \n",
       "0            7     0.9  \n",
       "1            8     1.0  \n",
       "2          793    99.1  \n",
       "3          792    99.0  \n",
       "4          198    25.0  \n",
       "...        ...     ...  \n",
       "15414        0     0.0  \n",
       "15415        0     0.0  \n",
       "15416        0     0.0  \n",
       "15417        0     0.0  \n",
       "15418        0     0.0  \n",
       "\n",
       "[15419 rows x 8 columns]"
      ]
     },
     "execution_count": 48,
     "metadata": {},
     "output_type": "execute_result"
    }
   ],
   "source": [
    "df_results_abfrage"
   ]
  },
  {
   "cell_type": "markdown",
   "id": "078de53d",
   "metadata": {
    "ExecuteTime": {
     "end_time": "2021-09-09T08:04:27.300586Z",
     "start_time": "2021-09-09T08:04:27.284963Z"
    }
   },
   "source": [
    "## Aus mehreren Stadt-Ergebnissen ein Ergebnis und einen Datensatz für jede Großstadt"
   ]
  },
  {
   "cell_type": "code",
   "execution_count": 50,
   "id": "dccbdc1c",
   "metadata": {
    "ExecuteTime": {
     "end_time": "2021-09-25T15:39:44.836284Z",
     "start_time": "2021-09-25T15:39:44.821325Z"
    }
   },
   "outputs": [],
   "source": [
    "# Stadtname und übergreifende AGS\n",
    "city_dict = {\"Leipzig\":\"14713000\", \"Dresden\":\"14612000\"}\n",
    "\n",
    "# Ergebnisliste\n",
    "\n",
    "def group_cities_results(df, city_dict): \n",
    "    df_final = df.copy()\n",
    "    \n",
    "    for city in city_dict:\n",
    "        df_ = df[df[\"Ort\"].str.contains(city)]\n",
    "        # Ort und AGS vereinheitlichen\n",
    "        df_[\"Ort\"] = city\n",
    "        df_[\"AGS\"] = city_dict[city]\n",
    "        \n",
    "        # über neuen, einheitlichen Ortsnamen gruppieren\n",
    "        df_group = df_.groupby([\"AGS\", \"Ort\", \"Partei\", \"ParteiId\", \"Stimmart\"], as_index=False).agg({\"Stimmen\":\"sum\", \\\n",
    "                                                                                                     \"KreisId\":\"first\"})\n",
    "        \n",
    "        \n",
    "        # Anteile der Parteien neu ausrechnen\n",
    "        # Erststimmen\n",
    "        df_group.loc[df_group[\"Stimmart\"]==\"Erststimme\", \"Anteil\"] = round(df_group.loc[df_group[\"Stimmart\"]==\"Erststimme\"][\"Stimmen\"] / \\\n",
    "                                                    df_group.loc[(df_group[\"Stimmart\"]==\"Erststimme\") & \\\n",
    "                                                             (df_group[\"Partei\"]==\"gültige Stimmen\")][\"Stimmen\"]\\\n",
    "                                                                       .item() * 100,1)\n",
    "        #Zweitstimmen\n",
    "        df_group.loc[df_group[\"Stimmart\"]==\"Zweitstimme\", \"Anteil\"] = round(df_group.loc[df_group[\"Stimmart\"]==\"Zweitstimme\"][\"Stimmen\"] / \\\n",
    "                                                    df_group.loc[(df_group[\"Stimmart\"]==\"Zweitstimme\") & \\\n",
    "                                                             (df_group[\"Partei\"]==\"gültige Stimmen\")][\"Stimmen\"]\\\n",
    "                                                                       .item() * 100,1)\n",
    "        \n",
    "        # gültige Erststimmen\n",
    "        df_group.loc[(df_group[\"Stimmart\"]==\"Erststimme\") & (df_group[\"Partei\"]==\"gültige Stimmen\"), \"Anteil\"] = round(\\\n",
    "            df_group.loc[(df_group[\"Stimmart\"]==\"Erststimme\") & (df_group[\"Partei\"]==\"gültige Stimmen\")][\"Stimmen\"].item() /\\\n",
    "            (df_group.loc[(df_group[\"Stimmart\"]==\"Erststimme\") & (df_group[\"Partei\"]==\"gültige Stimmen\")][\"Stimmen\"].item() + \\\n",
    "            df_group.loc[(df_group[\"Stimmart\"]==\"Erststimme\") & (df_group[\"Partei\"]==\"Ungültige Stimmen\")][\"Stimmen\"].item()) \\\n",
    "            * 100, 1) \n",
    "        # gültige Zweitstimmen\n",
    "        df_group.loc[(df_group[\"Stimmart\"]==\"Zweitstimme\") & (df_group[\"Partei\"]==\"gültige Stimmen\"), \"Anteil\"] = round(\\\n",
    "            df_group.loc[(df_group[\"Stimmart\"]==\"Zweitstimme\") & (df_group[\"Partei\"]==\"gültige Stimmen\")][\"Stimmen\"].item() /\\\n",
    "            (df_group.loc[(df_group[\"Stimmart\"]==\"Zweitstimme\") & (df_group[\"Partei\"]==\"gültige Stimmen\")][\"Stimmen\"].item() + \\\n",
    "            df_group.loc[(df_group[\"Stimmart\"]==\"Zweitstimme\") & (df_group[\"Partei\"]==\"Ungültige Stimmen\")][\"Stimmen\"].item()) \\\n",
    "            * 100, 1) \n",
    "        \n",
    "        df_final = df_final[~df_final[\"Ort\"].str.contains(city)]\n",
    "        df_final = df_final.append(df_group)\n",
    "    \n",
    "    return df_final\n",
    "    \n",
    "\n",
    "#df_ergebnisse = group_cities_results(df_results_abfrage, city_dict) \n",
    "df_ergebnisse = df_results_abfrage.copy()"
   ]
  },
  {
   "cell_type": "code",
   "execution_count": 51,
   "id": "8aa5796d",
   "metadata": {
    "ExecuteTime": {
     "end_time": "2021-09-25T15:40:42.667805Z",
     "start_time": "2021-09-25T15:40:42.659823Z"
    }
   },
   "outputs": [],
   "source": [
    "# Datenliste\n",
    "\n",
    "def group_cities_data(df, city_dict): \n",
    "    # Kopie anfertigen, aus der später die einzelnen Datensätze entfernt und angehangen werden. \n",
    "    df_final = df.copy()\n",
    "    \n",
    "    for city in city_dict:\n",
    "        df_ = df[df[\"Ort\"].str.contains(city)]\n",
    "        # Ort und AGS vereinheitlichen\n",
    "        df_[\"Ort\"] = city\n",
    "        df_[\"AGS\"] = city_dict[city]\n",
    "        # Wahlkreis-Nummern herausfinden\n",
    "        min_wk = df_[\"WKNr\"].astype(int).min()\n",
    "        max_wk =  df_[\"WKNr\"].astype(int).max()\n",
    "        df_[\"WKNr\"] = f\"{min_wk}-{max_wk}\"\n",
    "        \n",
    "        # über neuen, einheitlichen Ortsnamen gruppieren\n",
    "        df_group = df_.groupby([\"AGS\", \"Ort\", \"WKNr\", \"Statistik\"], as_index=False).agg({\"Stimmen\":\"sum\"})\n",
    "        \n",
    "        \n",
    "        # Anteile der Parteien neu ausrechnen\n",
    "        # Erststimmen\n",
    "        df_group.loc[df_group[\"Statistik\"]==\"Wahlberechtigte\", \"Anteil\"] = 100\n",
    "        #Zweitstimmen\n",
    "        df_group.loc[df_group[\"Statistik\"]==\"Wähler\", \"Anteil\"] = round(df_group.loc[df_group[\"Statistik\"]==\"Wähler\"][\"Stimmen\"] / \\\n",
    "                                                    df_group.loc[df_group[\"Statistik\"]==\"Wahlberechtigte\"][\"Stimmen\"].item() * 100,1)\n",
    "        \n",
    "       \n",
    "        df_final = df_final[~df_final[\"Ort\"].str.contains(city)]\n",
    "        df_final = df_final.append(df_group)\n",
    "    \n",
    "    return df_final\n",
    "\n",
    "# try: \n",
    "#     df_daten = group_cities_data(df_daten_abfrage, city_dict)\n",
    "# except: \n",
    "#     df_daten = df_daten_abfrage.copy()\n",
    "    \n",
    "df_daten = df_daten_abfrage.copy()"
   ]
  },
  {
   "cell_type": "markdown",
   "id": "2be2eabc",
   "metadata": {},
   "source": [
    "## Daten in Erst- und Zweitstimme teilen"
   ]
  },
  {
   "cell_type": "code",
   "execution_count": 52,
   "id": "70c2b9c9",
   "metadata": {
    "ExecuteTime": {
     "end_time": "2021-09-25T15:40:50.571310Z",
     "start_time": "2021-09-25T15:40:50.558313Z"
    }
   },
   "outputs": [],
   "source": [
    "# Daten Ergebnisse aufsplitten und zusätzlich eine \"andere Parteien\"-Version ausspielen\n",
    "\n",
    "def split_up_data(df_ergebnisse): \n",
    "    df_ergebnisse_es = df_ergebnisse[df_ergebnisse[\"Stimmart\"]==\"Erststimme\"]\n",
    "    df_ergebnisse_zs = df_ergebnisse[df_ergebnisse[\"Stimmart\"]==\"Zweitstimme\"]\n",
    "    return df_ergebnisse_es, df_ergebnisse_zs\n",
    "\n",
    "df_es, df_zs = split_up_data(df_ergebnisse)"
   ]
  },
  {
   "cell_type": "markdown",
   "id": "35452dae",
   "metadata": {
    "heading_collapsed": true
   },
   "source": [
    "# ZWEITSTIMME "
   ]
  },
  {
   "cell_type": "markdown",
   "id": "49d154e8",
   "metadata": {
    "hidden": true
   },
   "source": [
    "## \"Andere Parteien\" einrichten"
   ]
  },
  {
   "cell_type": "code",
   "execution_count": 156,
   "id": "c004dcac",
   "metadata": {
    "ExecuteTime": {
     "end_time": "2021-09-24T13:39:11.744649Z",
     "start_time": "2021-09-24T13:39:11.728723Z"
    },
    "hidden": true
   },
   "outputs": [
    {
     "data": {
      "text/html": [
       "<div>\n",
       "<style scoped>\n",
       "    .dataframe tbody tr th:only-of-type {\n",
       "        vertical-align: middle;\n",
       "    }\n",
       "\n",
       "    .dataframe tbody tr th {\n",
       "        vertical-align: top;\n",
       "    }\n",
       "\n",
       "    .dataframe thead th {\n",
       "        text-align: right;\n",
       "    }\n",
       "</style>\n",
       "<table border=\"1\" class=\"dataframe\">\n",
       "  <thead>\n",
       "    <tr style=\"text-align: right;\">\n",
       "      <th></th>\n",
       "      <th>AGS</th>\n",
       "      <th>KreisId</th>\n",
       "      <th>Ort</th>\n",
       "      <th>Partei</th>\n",
       "      <th>ParteiId</th>\n",
       "      <th>Stimmart</th>\n",
       "      <th>Stimmen</th>\n",
       "      <th>Anteil</th>\n",
       "    </tr>\n",
       "  </thead>\n",
       "  <tbody>\n",
       "    <tr>\n",
       "      <th>0</th>\n",
       "      <td>14730010</td>\n",
       "      <td>151</td>\n",
       "      <td>Arzberg</td>\n",
       "      <td>Ungültige Stimmen</td>\n",
       "      <td>UNG</td>\n",
       "      <td>Erststimme</td>\n",
       "      <td>7</td>\n",
       "      <td>0.9</td>\n",
       "    </tr>\n",
       "    <tr>\n",
       "      <th>2</th>\n",
       "      <td>14730010</td>\n",
       "      <td>151</td>\n",
       "      <td>Arzberg</td>\n",
       "      <td>gültige Stimmen</td>\n",
       "      <td>GUE</td>\n",
       "      <td>Erststimme</td>\n",
       "      <td>793</td>\n",
       "      <td>99.1</td>\n",
       "    </tr>\n",
       "    <tr>\n",
       "      <th>4</th>\n",
       "      <td>14730010</td>\n",
       "      <td>151</td>\n",
       "      <td>Arzberg</td>\n",
       "      <td>AfD</td>\n",
       "      <td>1</td>\n",
       "      <td>Erststimme</td>\n",
       "      <td>198</td>\n",
       "      <td>25.0</td>\n",
       "    </tr>\n",
       "    <tr>\n",
       "      <th>6</th>\n",
       "      <td>14730010</td>\n",
       "      <td>151</td>\n",
       "      <td>Arzberg</td>\n",
       "      <td>CDU</td>\n",
       "      <td>2</td>\n",
       "      <td>Erststimme</td>\n",
       "      <td>98</td>\n",
       "      <td>12.4</td>\n",
       "    </tr>\n",
       "    <tr>\n",
       "      <th>8</th>\n",
       "      <td>14730010</td>\n",
       "      <td>151</td>\n",
       "      <td>Arzberg</td>\n",
       "      <td>Die Linke</td>\n",
       "      <td>3</td>\n",
       "      <td>Erststimme</td>\n",
       "      <td>100</td>\n",
       "      <td>12.6</td>\n",
       "    </tr>\n",
       "    <tr>\n",
       "      <th>...</th>\n",
       "      <td>...</td>\n",
       "      <td>...</td>\n",
       "      <td>...</td>\n",
       "      <td>...</td>\n",
       "      <td>...</td>\n",
       "      <td>...</td>\n",
       "      <td>...</td>\n",
       "      <td>...</td>\n",
       "    </tr>\n",
       "    <tr>\n",
       "      <th>30</th>\n",
       "      <td>14612000</td>\n",
       "      <td>159</td>\n",
       "      <td>Dresden</td>\n",
       "      <td>SPD</td>\n",
       "      <td>4</td>\n",
       "      <td>Erststimme</td>\n",
       "      <td>65702</td>\n",
       "      <td>24.9</td>\n",
       "    </tr>\n",
       "    <tr>\n",
       "      <th>34</th>\n",
       "      <td>14612000</td>\n",
       "      <td>159</td>\n",
       "      <td>Dresden</td>\n",
       "      <td>Ungültige Stimmen</td>\n",
       "      <td>UNG</td>\n",
       "      <td>Erststimme</td>\n",
       "      <td>2691</td>\n",
       "      <td>1.0</td>\n",
       "    </tr>\n",
       "    <tr>\n",
       "      <th>38</th>\n",
       "      <td>14612000</td>\n",
       "      <td>159</td>\n",
       "      <td>Dresden</td>\n",
       "      <td>dieBasis</td>\n",
       "      <td>15</td>\n",
       "      <td>Erststimme</td>\n",
       "      <td>3009</td>\n",
       "      <td>1.1</td>\n",
       "    </tr>\n",
       "    <tr>\n",
       "      <th>40</th>\n",
       "      <td>14612000</td>\n",
       "      <td>159</td>\n",
       "      <td>Dresden</td>\n",
       "      <td>gültige Stimmen</td>\n",
       "      <td>GUE</td>\n",
       "      <td>Erststimme</td>\n",
       "      <td>263882</td>\n",
       "      <td>99.0</td>\n",
       "    </tr>\n",
       "    <tr>\n",
       "      <th>42</th>\n",
       "      <td>14612000</td>\n",
       "      <td>159</td>\n",
       "      <td>Dresden</td>\n",
       "      <td>ÖDP</td>\n",
       "      <td>12</td>\n",
       "      <td>Erststimme</td>\n",
       "      <td>2272</td>\n",
       "      <td>0.9</td>\n",
       "    </tr>\n",
       "  </tbody>\n",
       "</table>\n",
       "<p>5285 rows × 8 columns</p>\n",
       "</div>"
      ],
      "text/plain": [
       "         AGS KreisId      Ort             Partei ParteiId    Stimmart  \\\n",
       "0   14730010     151  Arzberg  Ungültige Stimmen      UNG  Erststimme   \n",
       "2   14730010     151  Arzberg    gültige Stimmen      GUE  Erststimme   \n",
       "4   14730010     151  Arzberg                AfD        1  Erststimme   \n",
       "6   14730010     151  Arzberg                CDU        2  Erststimme   \n",
       "8   14730010     151  Arzberg          Die Linke        3  Erststimme   \n",
       "..       ...     ...      ...                ...      ...         ...   \n",
       "30  14612000     159  Dresden                SPD        4  Erststimme   \n",
       "34  14612000     159  Dresden  Ungültige Stimmen      UNG  Erststimme   \n",
       "38  14612000     159  Dresden           dieBasis       15  Erststimme   \n",
       "40  14612000     159  Dresden    gültige Stimmen      GUE  Erststimme   \n",
       "42  14612000     159  Dresden                ÖDP       12  Erststimme   \n",
       "\n",
       "    Stimmen  Anteil  \n",
       "0         7     0.9  \n",
       "2       793    99.1  \n",
       "4       198    25.0  \n",
       "6        98    12.4  \n",
       "8       100    12.6  \n",
       "..      ...     ...  \n",
       "30    65702    24.9  \n",
       "34     2691     1.0  \n",
       "38     3009     1.1  \n",
       "40   263882    99.0  \n",
       "42     2272     0.9  \n",
       "\n",
       "[5285 rows x 8 columns]"
      ]
     },
     "execution_count": 156,
     "metadata": {},
     "output_type": "execute_result"
    }
   ],
   "source": [
    "df_es"
   ]
  },
  {
   "cell_type": "code",
   "execution_count": 157,
   "id": "8eda6587",
   "metadata": {
    "ExecuteTime": {
     "end_time": "2021-09-24T13:39:16.910067Z",
     "start_time": "2021-09-24T13:39:16.891070Z"
    },
    "hidden": true
   },
   "outputs": [],
   "source": [
    "def reduce_number_of_parties(df): \n",
    "    liste_standing_terms = [\"Ungültige Stimmen\", \"gültige Stimmen\", \"CDU\", \"Die Linke\", \\\n",
    "                           \"SPD\", \"AfD\", \"Grüne\", \"FDP\"]\n",
    "\n",
    "    \n",
    "    try: \n",
    "        sti = df.Stimmart.iloc[0]\n",
    "    except: \n",
    "        sti = \"keine Datensätze gefunden\"\n",
    "\n",
    "    df_ = df[~df[\"Partei\"].isin(liste_standing_terms)]\n",
    "    df_rest = df[df[\"Partei\"].isin(liste_standing_terms)]\n",
    "    df_flat = df_.groupby([\"AGS\", \"Ort\"], as_index=False).agg({\"Stimmen\":\"sum\", \"Anteil\":\"sum\"})\n",
    "\n",
    "\n",
    "\n",
    "\n",
    "    if sti == \"Erststimme\": \n",
    "        df_flat[\"Stimmart\"] = \"Erststimme\"\n",
    "        df_flat[\"Partei\"] = \"andere Parteien\"\n",
    "        df_flat = df_flat[['AGS', 'Ort', 'Partei', 'Stimmart', 'Stimmen', 'Anteil']]\n",
    "        df_flat = df_flat.append(df_rest)\n",
    "    elif sti == \"Zweitstimme\": \n",
    "        df_flat[\"Stimmart\"] = \"Zweitstimmen\"\n",
    "        df_flat[\"Partei\"] = \"andere Parteien\"\n",
    "        df_flat = df_flat[['AGS', 'Ort', 'Partei', 'Stimmart', 'Stimmen', 'Anteil']]\n",
    "        df_flat = df_flat.append(df_rest)\n",
    "    else: \n",
    "        df_flat[\"Stimmart\"] = \"\"\n",
    "        df_flat[\"Partei\"] = \"\"\n",
    "        df_flat = df_flat[['AGS', 'Ort', 'Partei', 'Stimmart', 'Stimmen', 'Anteil']]\n",
    "        print('keine Stimmen gefunden')\n",
    "\n",
    "\n",
    "\n",
    "\n",
    "    return df_flat\n",
    "\n",
    "    \n",
    "    \n",
    "    \n",
    "    \n",
    "df_zs_flat = reduce_number_of_parties(df_zs)    "
   ]
  },
  {
   "cell_type": "code",
   "execution_count": 158,
   "id": "7093981e",
   "metadata": {
    "ExecuteTime": {
     "end_time": "2021-09-24T13:39:19.341973Z",
     "start_time": "2021-09-24T13:39:19.324060Z"
    },
    "hidden": true
   },
   "outputs": [
    {
     "data": {
      "text/html": [
       "<div>\n",
       "<style scoped>\n",
       "    .dataframe tbody tr th:only-of-type {\n",
       "        vertical-align: middle;\n",
       "    }\n",
       "\n",
       "    .dataframe tbody tr th {\n",
       "        vertical-align: top;\n",
       "    }\n",
       "\n",
       "    .dataframe thead th {\n",
       "        text-align: right;\n",
       "    }\n",
       "</style>\n",
       "<table border=\"1\" class=\"dataframe\">\n",
       "  <thead>\n",
       "    <tr style=\"text-align: right;\">\n",
       "      <th></th>\n",
       "      <th>AGS</th>\n",
       "      <th>Ort</th>\n",
       "      <th>Partei</th>\n",
       "      <th>Stimmart</th>\n",
       "      <th>Stimmen</th>\n",
       "      <th>Anteil</th>\n",
       "      <th>KreisId</th>\n",
       "      <th>ParteiId</th>\n",
       "    </tr>\n",
       "  </thead>\n",
       "  <tbody>\n",
       "    <tr>\n",
       "      <th>0</th>\n",
       "      <td>14511000</td>\n",
       "      <td>Chemnitz, Stadt</td>\n",
       "      <td>andere Parteien</td>\n",
       "      <td>Zweitstimmen</td>\n",
       "      <td>15536</td>\n",
       "      <td>11.9</td>\n",
       "      <td>NaN</td>\n",
       "      <td>NaN</td>\n",
       "    </tr>\n",
       "    <tr>\n",
       "      <th>1</th>\n",
       "      <td>14521010</td>\n",
       "      <td>Amtsberg</td>\n",
       "      <td>andere Parteien</td>\n",
       "      <td>Zweitstimmen</td>\n",
       "      <td>269</td>\n",
       "      <td>12.6</td>\n",
       "      <td>NaN</td>\n",
       "      <td>NaN</td>\n",
       "    </tr>\n",
       "    <tr>\n",
       "      <th>2</th>\n",
       "      <td>14521020</td>\n",
       "      <td>Annaberg-Buchholz, Stadt</td>\n",
       "      <td>andere Parteien</td>\n",
       "      <td>Zweitstimmen</td>\n",
       "      <td>1946</td>\n",
       "      <td>15.9</td>\n",
       "      <td>NaN</td>\n",
       "      <td>NaN</td>\n",
       "    </tr>\n",
       "    <tr>\n",
       "      <th>3</th>\n",
       "      <td>14521035</td>\n",
       "      <td>Aue-Bad Schlema, Stadt</td>\n",
       "      <td>andere Parteien</td>\n",
       "      <td>Zweitstimmen</td>\n",
       "      <td>2023</td>\n",
       "      <td>16.6</td>\n",
       "      <td>NaN</td>\n",
       "      <td>NaN</td>\n",
       "    </tr>\n",
       "    <tr>\n",
       "      <th>4</th>\n",
       "      <td>14521040</td>\n",
       "      <td>Auerbach</td>\n",
       "      <td>andere Parteien</td>\n",
       "      <td>Zweitstimmen</td>\n",
       "      <td>286</td>\n",
       "      <td>16.5</td>\n",
       "      <td>NaN</td>\n",
       "      <td>NaN</td>\n",
       "    </tr>\n",
       "    <tr>\n",
       "      <th>...</th>\n",
       "      <td>...</td>\n",
       "      <td>...</td>\n",
       "      <td>...</td>\n",
       "      <td>...</td>\n",
       "      <td>...</td>\n",
       "      <td>...</td>\n",
       "      <td>...</td>\n",
       "      <td>...</td>\n",
       "    </tr>\n",
       "    <tr>\n",
       "      <th>17</th>\n",
       "      <td>14612000</td>\n",
       "      <td>Dresden</td>\n",
       "      <td>FDP</td>\n",
       "      <td>Zweitstimme</td>\n",
       "      <td>26112</td>\n",
       "      <td>9.9</td>\n",
       "      <td>159</td>\n",
       "      <td>5</td>\n",
       "    </tr>\n",
       "    <tr>\n",
       "      <th>23</th>\n",
       "      <td>14612000</td>\n",
       "      <td>Dresden</td>\n",
       "      <td>Grüne</td>\n",
       "      <td>Zweitstimme</td>\n",
       "      <td>22965</td>\n",
       "      <td>8.7</td>\n",
       "      <td>159</td>\n",
       "      <td>6</td>\n",
       "    </tr>\n",
       "    <tr>\n",
       "      <th>31</th>\n",
       "      <td>14612000</td>\n",
       "      <td>Dresden</td>\n",
       "      <td>SPD</td>\n",
       "      <td>Zweitstimme</td>\n",
       "      <td>65880</td>\n",
       "      <td>25.0</td>\n",
       "      <td>159</td>\n",
       "      <td>4</td>\n",
       "    </tr>\n",
       "    <tr>\n",
       "      <th>35</th>\n",
       "      <td>14612000</td>\n",
       "      <td>Dresden</td>\n",
       "      <td>Ungültige Stimmen</td>\n",
       "      <td>Zweitstimme</td>\n",
       "      <td>2664</td>\n",
       "      <td>1.0</td>\n",
       "      <td>159</td>\n",
       "      <td>UNG</td>\n",
       "    </tr>\n",
       "    <tr>\n",
       "      <th>41</th>\n",
       "      <td>14612000</td>\n",
       "      <td>Dresden</td>\n",
       "      <td>gültige Stimmen</td>\n",
       "      <td>Zweitstimme</td>\n",
       "      <td>263909</td>\n",
       "      <td>99.0</td>\n",
       "      <td>159</td>\n",
       "      <td>GUE</td>\n",
       "    </tr>\n",
       "  </tbody>\n",
       "</table>\n",
       "<p>3771 rows × 8 columns</p>\n",
       "</div>"
      ],
      "text/plain": [
       "         AGS                       Ort             Partei      Stimmart  \\\n",
       "0   14511000           Chemnitz, Stadt    andere Parteien  Zweitstimmen   \n",
       "1   14521010                  Amtsberg    andere Parteien  Zweitstimmen   \n",
       "2   14521020  Annaberg-Buchholz, Stadt    andere Parteien  Zweitstimmen   \n",
       "3   14521035    Aue-Bad Schlema, Stadt    andere Parteien  Zweitstimmen   \n",
       "4   14521040                  Auerbach    andere Parteien  Zweitstimmen   \n",
       "..       ...                       ...                ...           ...   \n",
       "17  14612000                   Dresden                FDP   Zweitstimme   \n",
       "23  14612000                   Dresden              Grüne   Zweitstimme   \n",
       "31  14612000                   Dresden                SPD   Zweitstimme   \n",
       "35  14612000                   Dresden  Ungültige Stimmen   Zweitstimme   \n",
       "41  14612000                   Dresden    gültige Stimmen   Zweitstimme   \n",
       "\n",
       "    Stimmen  Anteil KreisId ParteiId  \n",
       "0     15536    11.9     NaN      NaN  \n",
       "1       269    12.6     NaN      NaN  \n",
       "2      1946    15.9     NaN      NaN  \n",
       "3      2023    16.6     NaN      NaN  \n",
       "4       286    16.5     NaN      NaN  \n",
       "..      ...     ...     ...      ...  \n",
       "17    26112     9.9     159        5  \n",
       "23    22965     8.7     159        6  \n",
       "31    65880    25.0     159        4  \n",
       "35     2664     1.0     159      UNG  \n",
       "41   263909    99.0     159      GUE  \n",
       "\n",
       "[3771 rows x 8 columns]"
      ]
     },
     "execution_count": 158,
     "metadata": {},
     "output_type": "execute_result"
    }
   ],
   "source": [
    "df_zs_flat"
   ]
  },
  {
   "cell_type": "markdown",
   "id": "3bf887f4",
   "metadata": {
    "hidden": true
   },
   "source": [
    "## Daten auf wide umstellen / Prefix vergeben"
   ]
  },
  {
   "cell_type": "code",
   "execution_count": 159,
   "id": "972d7ef0",
   "metadata": {
    "ExecuteTime": {
     "end_time": "2021-09-24T13:39:43.863445Z",
     "start_time": "2021-09-24T13:39:43.838939Z"
    },
    "hidden": true
   },
   "outputs": [],
   "source": [
    "def results_long_to_wide(df_ergebnisse ,prefix=\"2_\"): \n",
    "    df_results_wide = pd.pivot(df_ergebnisse, index=[\"AGS\", \"Ort\"], columns=\"Partei\", values=[\"Stimmen\", \"Anteil\"])\\\n",
    "        .reset_index().fillna(\"0\")\n",
    "   \n",
    "    # Multi-Index-Columns werden aufgelöst\n",
    "    df_results_wide.columns = [\" \".join(col).strip() for col in df_results_wide.columns.values]\n",
    "   \n",
    "    \n",
    "    # Columns erhalten ein Präfix\n",
    "    # Präfixhinzufügen\n",
    "    df_results_wide = df_results_wide.add_prefix(prefix)\n",
    "   \n",
    "\n",
    "    # Columns AgS und Ort Prefix entfernen\n",
    "    df_results_wide.rename(columns={\"1_AGS\":\"AGS\", \"1_Ort\":\"Ort\"}, inplace=True)\n",
    "    df_results_wide.rename(columns={\"2_AGS\":\"AGS\", \"2_Ort\":\"Ort\"}, inplace=True)\n",
    "   \n",
    "\n",
    "    df_results_wide.fillna(0)\n",
    "    \n",
    "    # convert Stimmen from float to int\n",
    "    filter_stimmen = [col for col in df_results_wide if (col.startswith(\"1_Stimmen\")) | (col.startswith(\"2_Stimmen\")) ]\n",
    "    df_results_wide[filter_stimmen] = df_results_wide[filter_stimmen].astype(int)\n",
    "    \n",
    "    return df_results_wide\n",
    " \n",
    "df_results = results_long_to_wide(df_zs_flat)   "
   ]
  },
  {
   "cell_type": "markdown",
   "id": "4c8c4ebb",
   "metadata": {
    "ExecuteTime": {
     "end_time": "2021-09-08T10:41:40.359652Z",
     "start_time": "2021-09-08T10:41:40.335690Z"
    },
    "hidden": true
   },
   "source": [
    "## Korrekter Anteil für \"andere Parteien\" berechnen"
   ]
  },
  {
   "cell_type": "code",
   "execution_count": 160,
   "id": "2a3a32f7",
   "metadata": {
    "ExecuteTime": {
     "end_time": "2021-09-24T13:39:46.436725Z",
     "start_time": "2021-09-24T13:39:46.429743Z"
    },
    "hidden": true
   },
   "outputs": [],
   "source": [
    "def correct_anteil_andere_parteien(df_re):\n",
    "    \n",
    "    # erst Anteil für Erststimmen andere Parteinen\n",
    "    try: \n",
    "        df_re[\"1_Anteil andere Parteien\"] = round(df_re[\"1_Stimmen andere Parteien\"] / df_re[\"1_Stimmen gültige Stimmen\"] * 100,1)\n",
    "        df_re[\"1_Anteil andere Parteien\"] = df_re[\"1_Anteil andere Parteien\"].astype(float)\n",
    "        \n",
    "    except:\n",
    "        try:\n",
    "            \n",
    "            df_re[\"2_Anteil andere Parteien\"] = round(df_re[\"2_Stimmen andere Parteien\"] / df_re[\"2_Stimmen gültige Stimmen\"] * 100,1)\n",
    "            df_re[\"2_Anteil andere Parteien\"] = df_re[\"2_Anteil andere Parteien\"].astype(float)\n",
    "    \n",
    "        except: \n",
    "            print(\"Fehler!\")\n",
    "   \n",
    "\n",
    "    return df_re\n",
    "\n",
    "df_results_correct = correct_anteil_andere_parteien(df_results)\n"
   ]
  },
  {
   "cell_type": "code",
   "execution_count": 162,
   "id": "d50e4e43",
   "metadata": {
    "ExecuteTime": {
     "end_time": "2021-09-24T13:39:53.137267Z",
     "start_time": "2021-09-24T13:39:53.112773Z"
    },
    "hidden": true
   },
   "outputs": [
    {
     "data": {
      "text/html": [
       "<div>\n",
       "<style scoped>\n",
       "    .dataframe tbody tr th:only-of-type {\n",
       "        vertical-align: middle;\n",
       "    }\n",
       "\n",
       "    .dataframe tbody tr th {\n",
       "        vertical-align: top;\n",
       "    }\n",
       "\n",
       "    .dataframe thead th {\n",
       "        text-align: right;\n",
       "    }\n",
       "</style>\n",
       "<table border=\"1\" class=\"dataframe\">\n",
       "  <thead>\n",
       "    <tr style=\"text-align: right;\">\n",
       "      <th></th>\n",
       "      <th>AGS</th>\n",
       "      <th>Ort</th>\n",
       "      <th>2_Stimmen AfD</th>\n",
       "      <th>2_Stimmen CDU</th>\n",
       "      <th>2_Stimmen Die Linke</th>\n",
       "      <th>2_Stimmen FDP</th>\n",
       "      <th>2_Stimmen Grüne</th>\n",
       "      <th>2_Stimmen SPD</th>\n",
       "      <th>2_Stimmen Ungültige Stimmen</th>\n",
       "      <th>2_Stimmen andere Parteien</th>\n",
       "      <th>2_Stimmen gültige Stimmen</th>\n",
       "      <th>2_Anteil AfD</th>\n",
       "      <th>2_Anteil CDU</th>\n",
       "      <th>2_Anteil Die Linke</th>\n",
       "      <th>2_Anteil FDP</th>\n",
       "      <th>2_Anteil Grüne</th>\n",
       "      <th>2_Anteil SPD</th>\n",
       "      <th>2_Anteil Ungültige Stimmen</th>\n",
       "      <th>2_Anteil andere Parteien</th>\n",
       "      <th>2_Anteil gültige Stimmen</th>\n",
       "    </tr>\n",
       "  </thead>\n",
       "  <tbody>\n",
       "    <tr>\n",
       "      <th>0</th>\n",
       "      <td>14511000</td>\n",
       "      <td>Chemnitz, Stadt</td>\n",
       "      <td>32715</td>\n",
       "      <td>16357</td>\n",
       "      <td>16381</td>\n",
       "      <td>10936</td>\n",
       "      <td>6107</td>\n",
       "      <td>32674</td>\n",
       "      <td>1286</td>\n",
       "      <td>15536</td>\n",
       "      <td>130706</td>\n",
       "      <td>25.0</td>\n",
       "      <td>12.5</td>\n",
       "      <td>12.5</td>\n",
       "      <td>8.4</td>\n",
       "      <td>4.7</td>\n",
       "      <td>25.0</td>\n",
       "      <td>1.0</td>\n",
       "      <td>11.9</td>\n",
       "      <td>99.0</td>\n",
       "    </tr>\n",
       "    <tr>\n",
       "      <th>1</th>\n",
       "      <td>14521010</td>\n",
       "      <td>Amtsberg</td>\n",
       "      <td>526</td>\n",
       "      <td>259</td>\n",
       "      <td>266</td>\n",
       "      <td>188</td>\n",
       "      <td>67</td>\n",
       "      <td>530</td>\n",
       "      <td>26</td>\n",
       "      <td>269</td>\n",
       "      <td>2105</td>\n",
       "      <td>25.0</td>\n",
       "      <td>12.3</td>\n",
       "      <td>12.6</td>\n",
       "      <td>8.9</td>\n",
       "      <td>3.2</td>\n",
       "      <td>25.2</td>\n",
       "      <td>1.2</td>\n",
       "      <td>12.8</td>\n",
       "      <td>98.8</td>\n",
       "    </tr>\n",
       "    <tr>\n",
       "      <th>2</th>\n",
       "      <td>14521020</td>\n",
       "      <td>Annaberg-Buchholz, Stadt</td>\n",
       "      <td>3067</td>\n",
       "      <td>1533</td>\n",
       "      <td>1523</td>\n",
       "      <td>789</td>\n",
       "      <td>345</td>\n",
       "      <td>3052</td>\n",
       "      <td>110</td>\n",
       "      <td>1946</td>\n",
       "      <td>12255</td>\n",
       "      <td>25.0</td>\n",
       "      <td>12.5</td>\n",
       "      <td>12.4</td>\n",
       "      <td>6.4</td>\n",
       "      <td>2.8</td>\n",
       "      <td>24.9</td>\n",
       "      <td>0.9</td>\n",
       "      <td>15.9</td>\n",
       "      <td>99.1</td>\n",
       "    </tr>\n",
       "    <tr>\n",
       "      <th>3</th>\n",
       "      <td>14521035</td>\n",
       "      <td>Aue-Bad Schlema, Stadt</td>\n",
       "      <td>3032</td>\n",
       "      <td>1512</td>\n",
       "      <td>1508</td>\n",
       "      <td>759</td>\n",
       "      <td>240</td>\n",
       "      <td>2989</td>\n",
       "      <td>134</td>\n",
       "      <td>2023</td>\n",
       "      <td>12063</td>\n",
       "      <td>25.1</td>\n",
       "      <td>12.5</td>\n",
       "      <td>12.5</td>\n",
       "      <td>6.3</td>\n",
       "      <td>2.0</td>\n",
       "      <td>24.8</td>\n",
       "      <td>1.1</td>\n",
       "      <td>16.8</td>\n",
       "      <td>98.9</td>\n",
       "    </tr>\n",
       "    <tr>\n",
       "      <th>4</th>\n",
       "      <td>14521040</td>\n",
       "      <td>Auerbach</td>\n",
       "      <td>424</td>\n",
       "      <td>220</td>\n",
       "      <td>216</td>\n",
       "      <td>110</td>\n",
       "      <td>26</td>\n",
       "      <td>445</td>\n",
       "      <td>14</td>\n",
       "      <td>286</td>\n",
       "      <td>1727</td>\n",
       "      <td>24.6</td>\n",
       "      <td>12.7</td>\n",
       "      <td>12.5</td>\n",
       "      <td>6.4</td>\n",
       "      <td>1.5</td>\n",
       "      <td>25.8</td>\n",
       "      <td>0.8</td>\n",
       "      <td>16.6</td>\n",
       "      <td>99.2</td>\n",
       "    </tr>\n",
       "    <tr>\n",
       "      <th>...</th>\n",
       "      <td>...</td>\n",
       "      <td>...</td>\n",
       "      <td>...</td>\n",
       "      <td>...</td>\n",
       "      <td>...</td>\n",
       "      <td>...</td>\n",
       "      <td>...</td>\n",
       "      <td>...</td>\n",
       "      <td>...</td>\n",
       "      <td>...</td>\n",
       "      <td>...</td>\n",
       "      <td>...</td>\n",
       "      <td>...</td>\n",
       "      <td>...</td>\n",
       "      <td>...</td>\n",
       "      <td>...</td>\n",
       "      <td>...</td>\n",
       "      <td>...</td>\n",
       "      <td>...</td>\n",
       "      <td>...</td>\n",
       "    </tr>\n",
       "    <tr>\n",
       "      <th>414</th>\n",
       "      <td>14730310</td>\n",
       "      <td>Torgau, Stadt</td>\n",
       "      <td>2669</td>\n",
       "      <td>1342</td>\n",
       "      <td>1365</td>\n",
       "      <td>786</td>\n",
       "      <td>266</td>\n",
       "      <td>2677</td>\n",
       "      <td>119</td>\n",
       "      <td>1645</td>\n",
       "      <td>10750</td>\n",
       "      <td>24.8</td>\n",
       "      <td>12.5</td>\n",
       "      <td>12.7</td>\n",
       "      <td>7.3</td>\n",
       "      <td>2.5</td>\n",
       "      <td>24.9</td>\n",
       "      <td>1.1</td>\n",
       "      <td>15.3</td>\n",
       "      <td>98.9</td>\n",
       "    </tr>\n",
       "    <tr>\n",
       "      <th>415</th>\n",
       "      <td>14730320</td>\n",
       "      <td>Trossin</td>\n",
       "      <td>165</td>\n",
       "      <td>84</td>\n",
       "      <td>84</td>\n",
       "      <td>53</td>\n",
       "      <td>22</td>\n",
       "      <td>164</td>\n",
       "      <td>8</td>\n",
       "      <td>92</td>\n",
       "      <td>664</td>\n",
       "      <td>24.8</td>\n",
       "      <td>12.7</td>\n",
       "      <td>12.7</td>\n",
       "      <td>8.0</td>\n",
       "      <td>3.3</td>\n",
       "      <td>24.7</td>\n",
       "      <td>1.2</td>\n",
       "      <td>13.9</td>\n",
       "      <td>98.8</td>\n",
       "    </tr>\n",
       "    <tr>\n",
       "      <th>416</th>\n",
       "      <td>14730330</td>\n",
       "      <td>Wermsdorf</td>\n",
       "      <td>645</td>\n",
       "      <td>323</td>\n",
       "      <td>323</td>\n",
       "      <td>171</td>\n",
       "      <td>78</td>\n",
       "      <td>649</td>\n",
       "      <td>31</td>\n",
       "      <td>391</td>\n",
       "      <td>2580</td>\n",
       "      <td>25.0</td>\n",
       "      <td>12.5</td>\n",
       "      <td>12.5</td>\n",
       "      <td>6.6</td>\n",
       "      <td>3.0</td>\n",
       "      <td>25.2</td>\n",
       "      <td>1.2</td>\n",
       "      <td>15.2</td>\n",
       "      <td>98.8</td>\n",
       "    </tr>\n",
       "    <tr>\n",
       "      <th>417</th>\n",
       "      <td>14730340</td>\n",
       "      <td>Wiedemar</td>\n",
       "      <td>780</td>\n",
       "      <td>384</td>\n",
       "      <td>390</td>\n",
       "      <td>238</td>\n",
       "      <td>59</td>\n",
       "      <td>759</td>\n",
       "      <td>30</td>\n",
       "      <td>483</td>\n",
       "      <td>3093</td>\n",
       "      <td>25.2</td>\n",
       "      <td>12.4</td>\n",
       "      <td>12.6</td>\n",
       "      <td>7.7</td>\n",
       "      <td>1.9</td>\n",
       "      <td>24.5</td>\n",
       "      <td>1.0</td>\n",
       "      <td>15.6</td>\n",
       "      <td>99.0</td>\n",
       "    </tr>\n",
       "    <tr>\n",
       "      <th>418</th>\n",
       "      <td>14730360</td>\n",
       "      <td>Zschepplin</td>\n",
       "      <td>388</td>\n",
       "      <td>190</td>\n",
       "      <td>198</td>\n",
       "      <td>123</td>\n",
       "      <td>54</td>\n",
       "      <td>386</td>\n",
       "      <td>15</td>\n",
       "      <td>220</td>\n",
       "      <td>1559</td>\n",
       "      <td>24.9</td>\n",
       "      <td>12.2</td>\n",
       "      <td>12.7</td>\n",
       "      <td>7.9</td>\n",
       "      <td>3.5</td>\n",
       "      <td>24.8</td>\n",
       "      <td>1.0</td>\n",
       "      <td>14.1</td>\n",
       "      <td>99.0</td>\n",
       "    </tr>\n",
       "  </tbody>\n",
       "</table>\n",
       "<p>419 rows × 20 columns</p>\n",
       "</div>"
      ],
      "text/plain": [
       "          AGS                       Ort  2_Stimmen AfD  2_Stimmen CDU  \\\n",
       "0    14511000           Chemnitz, Stadt          32715          16357   \n",
       "1    14521010                  Amtsberg            526            259   \n",
       "2    14521020  Annaberg-Buchholz, Stadt           3067           1533   \n",
       "3    14521035    Aue-Bad Schlema, Stadt           3032           1512   \n",
       "4    14521040                  Auerbach            424            220   \n",
       "..        ...                       ...            ...            ...   \n",
       "414  14730310             Torgau, Stadt           2669           1342   \n",
       "415  14730320                   Trossin            165             84   \n",
       "416  14730330                 Wermsdorf            645            323   \n",
       "417  14730340                  Wiedemar            780            384   \n",
       "418  14730360                Zschepplin            388            190   \n",
       "\n",
       "     2_Stimmen Die Linke  2_Stimmen FDP  2_Stimmen Grüne  2_Stimmen SPD  \\\n",
       "0                  16381          10936             6107          32674   \n",
       "1                    266            188               67            530   \n",
       "2                   1523            789              345           3052   \n",
       "3                   1508            759              240           2989   \n",
       "4                    216            110               26            445   \n",
       "..                   ...            ...              ...            ...   \n",
       "414                 1365            786              266           2677   \n",
       "415                   84             53               22            164   \n",
       "416                  323            171               78            649   \n",
       "417                  390            238               59            759   \n",
       "418                  198            123               54            386   \n",
       "\n",
       "     2_Stimmen Ungültige Stimmen  2_Stimmen andere Parteien  \\\n",
       "0                           1286                      15536   \n",
       "1                             26                        269   \n",
       "2                            110                       1946   \n",
       "3                            134                       2023   \n",
       "4                             14                        286   \n",
       "..                           ...                        ...   \n",
       "414                          119                       1645   \n",
       "415                            8                         92   \n",
       "416                           31                        391   \n",
       "417                           30                        483   \n",
       "418                           15                        220   \n",
       "\n",
       "     2_Stimmen gültige Stimmen  2_Anteil AfD  2_Anteil CDU  \\\n",
       "0                       130706          25.0          12.5   \n",
       "1                         2105          25.0          12.3   \n",
       "2                        12255          25.0          12.5   \n",
       "3                        12063          25.1          12.5   \n",
       "4                         1727          24.6          12.7   \n",
       "..                         ...           ...           ...   \n",
       "414                      10750          24.8          12.5   \n",
       "415                        664          24.8          12.7   \n",
       "416                       2580          25.0          12.5   \n",
       "417                       3093          25.2          12.4   \n",
       "418                       1559          24.9          12.2   \n",
       "\n",
       "     2_Anteil Die Linke  2_Anteil FDP  2_Anteil Grüne  2_Anteil SPD  \\\n",
       "0                  12.5           8.4             4.7          25.0   \n",
       "1                  12.6           8.9             3.2          25.2   \n",
       "2                  12.4           6.4             2.8          24.9   \n",
       "3                  12.5           6.3             2.0          24.8   \n",
       "4                  12.5           6.4             1.5          25.8   \n",
       "..                  ...           ...             ...           ...   \n",
       "414                12.7           7.3             2.5          24.9   \n",
       "415                12.7           8.0             3.3          24.7   \n",
       "416                12.5           6.6             3.0          25.2   \n",
       "417                12.6           7.7             1.9          24.5   \n",
       "418                12.7           7.9             3.5          24.8   \n",
       "\n",
       "     2_Anteil Ungültige Stimmen  2_Anteil andere Parteien  \\\n",
       "0                           1.0                      11.9   \n",
       "1                           1.2                      12.8   \n",
       "2                           0.9                      15.9   \n",
       "3                           1.1                      16.8   \n",
       "4                           0.8                      16.6   \n",
       "..                          ...                       ...   \n",
       "414                         1.1                      15.3   \n",
       "415                         1.2                      13.9   \n",
       "416                         1.2                      15.2   \n",
       "417                         1.0                      15.6   \n",
       "418                         1.0                      14.1   \n",
       "\n",
       "     2_Anteil gültige Stimmen  \n",
       "0                        99.0  \n",
       "1                        98.8  \n",
       "2                        99.1  \n",
       "3                        98.9  \n",
       "4                        99.2  \n",
       "..                        ...  \n",
       "414                      98.9  \n",
       "415                      98.8  \n",
       "416                      98.8  \n",
       "417                      99.0  \n",
       "418                      99.0  \n",
       "\n",
       "[419 rows x 20 columns]"
      ]
     },
     "execution_count": 162,
     "metadata": {},
     "output_type": "execute_result"
    }
   ],
   "source": [
    "df_results_correct"
   ]
  },
  {
   "cell_type": "markdown",
   "id": "fcd4c152",
   "metadata": {
    "hidden": true
   },
   "source": [
    "## Statistik-DAten auf wide stellen, Ergebnisdaten mit Statistik-Daten verbinden"
   ]
  },
  {
   "cell_type": "code",
   "execution_count": 163,
   "id": "21e1ff0d",
   "metadata": {
    "ExecuteTime": {
     "end_time": "2021-09-24T13:39:59.538871Z",
     "start_time": "2021-09-24T13:39:59.519735Z"
    },
    "hidden": true
   },
   "outputs": [],
   "source": [
    "def statistic_long_to_wide(df): \n",
    "    \n",
    "    df_wide = pd.pivot(df, index=[\"AGS\", \"Ort\" ,\"WKNr\"], columns=\"Statistik\", values=[\"Stimmen\", \"Anteil\"])\\\n",
    "        .reset_index().fillna(\"0\")\n",
    "    # Multi-Index-Columns werden aufgelöst\n",
    "    df_wide.columns = [\" \".join(col).strip() for col in df_wide.columns.values]\n",
    "    df_wide[[\"Stimmen Wahlberechtigte\", \"Stimmen Wähler\"]] = \\\n",
    "        df_wide[[\"Stimmen Wahlberechtigte\", \"Stimmen Wähler\"]].astype(int)\n",
    "    \n",
    "    return df_wide\n",
    "    \n",
    "df_daten_wide = statistic_long_to_wide(df_daten)"
   ]
  },
  {
   "cell_type": "markdown",
   "id": "479f5ce0",
   "metadata": {
    "hidden": true
   },
   "source": [
    "## Ergebnisse und Statistik mergen"
   ]
  },
  {
   "cell_type": "code",
   "execution_count": 164,
   "id": "3b7aa2aa",
   "metadata": {
    "ExecuteTime": {
     "end_time": "2021-09-24T13:40:02.041917Z",
     "start_time": "2021-09-24T13:40:02.031976Z"
    },
    "hidden": true
   },
   "outputs": [],
   "source": [
    "def merge_results_and_stats(df_results, df_stats): \n",
    "    # Results mit Statistik mergen\n",
    "    df_all_merge = pd.merge(df_results, df_stats, on=[\"AGS\", \"Ort\"])\n",
    "    return df_all_merge\n",
    "\n",
    "df_final = merge_results_and_stats(df_results_correct, df_daten_wide)"
   ]
  },
  {
   "cell_type": "code",
   "execution_count": 165,
   "id": "e67f10de",
   "metadata": {
    "ExecuteTime": {
     "end_time": "2021-09-24T13:40:03.235604Z",
     "start_time": "2021-09-24T13:40:03.229619Z"
    },
    "hidden": true
   },
   "outputs": [
    {
     "data": {
      "text/plain": [
       "Index(['AGS', 'Ort', '2_Stimmen AfD', '2_Stimmen CDU', '2_Stimmen Die Linke',\n",
       "       '2_Stimmen FDP', '2_Stimmen Grüne', '2_Stimmen SPD',\n",
       "       '2_Stimmen Ungültige Stimmen', '2_Stimmen andere Parteien',\n",
       "       '2_Stimmen gültige Stimmen', '2_Anteil AfD', '2_Anteil CDU',\n",
       "       '2_Anteil Die Linke', '2_Anteil FDP', '2_Anteil Grüne', '2_Anteil SPD',\n",
       "       '2_Anteil Ungültige Stimmen', '2_Anteil andere Parteien',\n",
       "       '2_Anteil gültige Stimmen', 'WKNr', 'Stimmen Wahlberechtigte',\n",
       "       'Stimmen Wähler', 'Anteil Wahlberechtigte', 'Anteil Wähler'],\n",
       "      dtype='object')"
      ]
     },
     "execution_count": 165,
     "metadata": {},
     "output_type": "execute_result"
    }
   ],
   "source": [
    "df_final.columns"
   ]
  },
  {
   "cell_type": "markdown",
   "id": "8b08b691",
   "metadata": {
    "hidden": true
   },
   "source": [
    "## Historisches Ergebnis mit einrechnen\n"
   ]
  },
  {
   "cell_type": "code",
   "execution_count": 166,
   "id": "f839b79b",
   "metadata": {
    "ExecuteTime": {
     "end_time": "2021-09-24T13:40:05.625487Z",
     "start_time": "2021-09-24T13:40:05.617511Z"
    },
    "hidden": true
   },
   "outputs": [],
   "source": [
    "dfh = wahlergebnisse_2017.copy()\n",
    "dfh[\"AGS\"]= dfh[\"AGS\"].astype(str)\n",
    "dfh = dfh.loc[:, dfh.columns != \"Ort\"]\n"
   ]
  },
  {
   "cell_type": "code",
   "execution_count": 167,
   "id": "e0a3db0e",
   "metadata": {
    "ExecuteTime": {
     "end_time": "2021-09-24T13:40:06.146527Z",
     "start_time": "2021-09-24T13:40:06.135525Z"
    },
    "hidden": true
   },
   "outputs": [],
   "source": [
    "df_final = df_final.merge(dfh, on=\"AGS\")"
   ]
  },
  {
   "cell_type": "markdown",
   "id": "77f4c3e4",
   "metadata": {
    "hidden": true
   },
   "source": [
    "## Gewinner bestimmen (wichtig für Einfärbung der Karte)"
   ]
  },
  {
   "cell_type": "code",
   "execution_count": 168,
   "id": "b5467b04",
   "metadata": {
    "ExecuteTime": {
     "end_time": "2021-09-24T13:40:09.539215Z",
     "start_time": "2021-09-24T13:40:09.529243Z"
    },
    "hidden": true
   },
   "outputs": [],
   "source": [
    "df_final[\"2_Gewinner\"] = df_final[['2_Stimmen AfD', '2_Stimmen CDU',\n",
    "       '2_Stimmen FDP', '2_Stimmen Grüne', '2_Stimmen Die Linke', '2_Stimmen SPD']].idxmax(axis=1)\n",
    "df_final[\"2_Gewinner\"] = df_final[\"2_Gewinner\"].str.split(\" \")\n",
    "df_final[\"2_Gewinner\"] = df_final[\"2_Gewinner\"].map(lambda x: x[1])\n",
    "\n"
   ]
  },
  {
   "cell_type": "code",
   "execution_count": null,
   "id": "a0845d9d",
   "metadata": {
    "hidden": true
   },
   "outputs": [],
   "source": [
    "# TODO: stimmen1 gewinner!!! "
   ]
  },
  {
   "cell_type": "code",
   "execution_count": 169,
   "id": "d02b2591",
   "metadata": {
    "ExecuteTime": {
     "end_time": "2021-09-24T13:40:11.910830Z",
     "start_time": "2021-09-24T13:40:11.903848Z"
    },
    "hidden": true
   },
   "outputs": [
    {
     "data": {
      "text/plain": [
       "0      AfD\n",
       "1      SPD\n",
       "2      AfD\n",
       "3      SPD\n",
       "4      AfD\n",
       "      ... \n",
       "411    SPD\n",
       "412    AfD\n",
       "413    SPD\n",
       "414    AfD\n",
       "415    AfD\n",
       "Name: 2_Gewinner, Length: 416, dtype: object"
      ]
     },
     "execution_count": 169,
     "metadata": {},
     "output_type": "execute_result"
    }
   ],
   "source": [
    "df_final[\"2_Gewinner\"]"
   ]
  },
  {
   "cell_type": "code",
   "execution_count": 170,
   "id": "5616866c",
   "metadata": {
    "ExecuteTime": {
     "end_time": "2021-09-24T13:40:16.224249Z",
     "start_time": "2021-09-24T13:40:16.187387Z"
    },
    "hidden": true
   },
   "outputs": [],
   "source": [
    "df_final.to_csv(\"wahlergebnisse_testdaten.csv\", index=False)"
   ]
  },
  {
   "cell_type": "code",
   "execution_count": 172,
   "id": "5897e58f",
   "metadata": {
    "ExecuteTime": {
     "end_time": "2021-09-24T13:41:43.962566Z",
     "start_time": "2021-09-24T13:41:43.957584Z"
    },
    "hidden": true
   },
   "outputs": [],
   "source": [
    "df_final = df_final[0:0]"
   ]
  },
  {
   "cell_type": "markdown",
   "id": "95f84bfa",
   "metadata": {
    "hidden": true
   },
   "source": [
    "## Datawrapper-Grafik anlegen"
   ]
  },
  {
   "cell_type": "code",
   "execution_count": 173,
   "id": "59b07bb1",
   "metadata": {
    "ExecuteTime": {
     "end_time": "2021-09-24T13:41:49.336509Z",
     "start_time": "2021-09-24T13:41:47.030724Z"
    },
    "hidden": true
   },
   "outputs": [
    {
     "name": "stdout",
     "output_type": "stream",
     "text": [
      "Chart updated!\n",
      "Chart's metadata updated!\n",
      "Aktualisierung Gemeinden Zweistimmen Map abgeschlossen.\n"
     ]
    }
   ],
   "source": [
    "def create_datawrapper(chart_id, df): \n",
    "\n",
    "    \n",
    "    dw.add_data(chart_id, df)\n",
    "\n",
    "    # UZ Wahlbeteiligung einbauen\n",
    "    # Wahlbeteiligung und Quellen eintragen: \n",
    "    source_name = \"<b style='color: grey'>Landeswahlleiter</b>\"\n",
    "    source_url = \"https://wahlen.sachsen.de/bundestagswahl-2021.html\"\n",
    "    byline = \"Christoph Knoop | Die Mehrwertmacher GmbH\"\n",
    "    \n",
    "    unterzeile = f\"Welche Partei konnte in welcher Stadt und Gemeinde punkten?<br>Alle <b>Zweitstimmergebnisse</b> auf einen Blick.\"\n",
    "    dw.update_description(chart_id,source_name=source_name, source_url=source_url,\\\n",
    "                          byline=byline, intro=unterzeile)\n",
    "\n",
    "    #string_date1 = f\"Datenstand: {datetime.now().strftime('%d.%m.%Y, %H:%M')}.\"\n",
    "    string_date1 = f\"<b>Datenstand: {datenstand}</b>\"\n",
    "    string_date2 = f\" Graugefärbte Kommunen sind noch nicht ausgezählt.\"\n",
    "    string_final = string_date1 + string_date2\n",
    "    props = {'annotate': {'notes': string_final}}\n",
    "    dw.update_metadata(chart_id, props)\n",
    "    dw.publish_chart(chart_id, display=False)\n",
    "        \n",
    "    print(\"Aktualisierung Gemeinden Zweistimmen Map abgeschlossen.\")\n",
    "\n",
    "create_datawrapper(\"r675i\", df_final)"
   ]
  },
  {
   "cell_type": "markdown",
   "id": "0f2e442c",
   "metadata": {
    "hidden": true
   },
   "source": [
    "## Datei als PNG ausspielen\n",
    "\n"
   ]
  },
  {
   "cell_type": "code",
   "execution_count": 176,
   "id": "9dd5cef8",
   "metadata": {
    "ExecuteTime": {
     "end_time": "2021-09-24T13:52:53.842940Z",
     "start_time": "2021-09-24T13:52:46.422357Z"
    },
    "hidden": true
   },
   "outputs": [
    {
     "name": "stdout",
     "output_type": "stream",
     "text": [
      "File exported at data\\png_gemeinden\\zweitstimme_gemeinden_map.png\n",
      "Zweitstimmen Wahkreise als png ausgespielt.\n"
     ]
    }
   ],
   "source": [
    "chart_id = \"r675i\"\n",
    "folder = \"./data/png_gemeinden/\"\n",
    "file = f\"zweitstimme_gemeinden_map.png\"\n",
    "path = folder + file\n",
    "dw.export_chart(chart_id, width=768, zoom=3, border_width=30, filepath = path)\n",
    "    \n",
    "print(\"Zweitstimmen Wahkreise als png ausgespielt.\")    "
   ]
  },
  {
   "cell_type": "markdown",
   "id": "19b66565",
   "metadata": {
    "hidden": true
   },
   "source": [
    "## PNG an Server schicken\n"
   ]
  },
  {
   "cell_type": "code",
   "execution_count": 178,
   "id": "afb1266c",
   "metadata": {
    "ExecuteTime": {
     "end_time": "2021-09-24T13:53:24.317761Z",
     "start_time": "2021-09-24T13:53:20.881170Z"
    },
    "hidden": true
   },
   "outputs": [
    {
     "name": "stdout",
     "output_type": "stream",
     "text": [
      "PNGs Zweitstimme Gemeinden Map an Server gesendet.\n"
     ]
    }
   ],
   "source": [
    "from ftplib import FTP \n",
    "import pysftp \n",
    "pw = \"Fair67?sea\" \n",
    "name = \"christophknoop\" \n",
    "hostname = \"app.dmwm.de\" \n",
    "hostname2 = \"christophknoop@app.dmwm.de\" \n",
    "hostname3 = \"https://datasets.app.dmwm.de\" \n",
    "# ftp = FTP(hostname) \n",
    "# ftp.login(user=name, passwd = pw) \n",
    "cnopts = pysftp.CnOpts() \n",
    "cnopts.hostkeys = None \n",
    "\n",
    "# Ort der hochzuladenen Dateien\n",
    "\n",
    "#folder = \"./data/png_wahlkreise\"\n",
    "url_png = \"./data/png_gemeinden/zweitstimme_gemeinden_map.png\"\n",
    "#folder = r\"C:\\\\Users\\\\c_knoop\\\\Desktop\\\\BTW_2021\\\\data\\\\png_gemeinden\\\\*.png\"\n",
    "with pysftp.Connection(hostname, username=name, password=pw, cnopts=cnopts) as sftp: \n",
    "    sftp.cwd('/var/www/christophknoop/wahlkarte/png/wahlkreise_zweitstimme') \n",
    "    sftp.put(url_png)  \n",
    "               # upload file to public/ on remote     #sftp.put(\"./Daten/Abschlussdateien/nicht_kumuliert.csv\")\n",
    "sftp.close() \n",
    "print(\"PNGs Zweitstimme Gemeinden Map an Server gesendet.\")"
   ]
  },
  {
   "cell_type": "code",
   "execution_count": null,
   "id": "1a5ae1d1",
   "metadata": {
    "hidden": true
   },
   "outputs": [],
   "source": []
  },
  {
   "cell_type": "markdown",
   "id": "f4ab7568",
   "metadata": {
    "hidden": true
   },
   "source": [
    "Grundsätzlich haben wir **sechs freie Parteien-Slots** und andere Parteien. Die sechs gesetzten Parteien möchten wir jetzt nach Stärke verteilen.\n",
    "\n",
    "**Zunächst nutzen wir dabei nur die Zweitstimmen**, bei Erststimmen müssen wir nochmal schauen \n",
    "\n",
    "\n",
    "Dafür nutze ich die Daten **vor** dem long to wide. Die Long-Daten finden sich in diesen Dataframes: \n",
    "\n",
    "df_es_flat \n",
    "\n",
    "df_zs_flat"
   ]
  },
  {
   "cell_type": "code",
   "execution_count": null,
   "id": "f8d02092",
   "metadata": {
    "hidden": true
   },
   "outputs": [],
   "source": []
  },
  {
   "cell_type": "code",
   "execution_count": null,
   "id": "64ce09ef",
   "metadata": {
    "hidden": true
   },
   "outputs": [],
   "source": []
  },
  {
   "cell_type": "markdown",
   "id": "cd9d9e65",
   "metadata": {},
   "source": [
    "# ERSTSTIMME"
   ]
  },
  {
   "cell_type": "code",
   "execution_count": 160,
   "id": "b9e41f88",
   "metadata": {
    "ExecuteTime": {
     "end_time": "2021-09-23T10:03:36.356933Z",
     "start_time": "2021-09-23T10:03:36.338982Z"
    }
   },
   "outputs": [
    {
     "data": {
      "text/html": [
       "<div>\n",
       "<style scoped>\n",
       "    .dataframe tbody tr th:only-of-type {\n",
       "        vertical-align: middle;\n",
       "    }\n",
       "\n",
       "    .dataframe tbody tr th {\n",
       "        vertical-align: top;\n",
       "    }\n",
       "\n",
       "    .dataframe thead th {\n",
       "        text-align: right;\n",
       "    }\n",
       "</style>\n",
       "<table border=\"1\" class=\"dataframe\">\n",
       "  <thead>\n",
       "    <tr style=\"text-align: right;\">\n",
       "      <th></th>\n",
       "      <th>AGS</th>\n",
       "      <th>Ort</th>\n",
       "      <th>Partei</th>\n",
       "      <th>Stimmart</th>\n",
       "      <th>Stimmen</th>\n",
       "      <th>Anteil</th>\n",
       "    </tr>\n",
       "  </thead>\n",
       "  <tbody>\n",
       "    <tr>\n",
       "      <th>0</th>\n",
       "      <td>14730010</td>\n",
       "      <td>Arzberg</td>\n",
       "      <td>Ungültige Stimmen</td>\n",
       "      <td>Erststimme</td>\n",
       "      <td>7</td>\n",
       "      <td>0.9</td>\n",
       "    </tr>\n",
       "    <tr>\n",
       "      <th>2</th>\n",
       "      <td>14730010</td>\n",
       "      <td>Arzberg</td>\n",
       "      <td>gültige Stimmen</td>\n",
       "      <td>Erststimme</td>\n",
       "      <td>793</td>\n",
       "      <td>99.1</td>\n",
       "    </tr>\n",
       "    <tr>\n",
       "      <th>4</th>\n",
       "      <td>14730010</td>\n",
       "      <td>Arzberg</td>\n",
       "      <td>AfD</td>\n",
       "      <td>Erststimme</td>\n",
       "      <td>198</td>\n",
       "      <td>25.0</td>\n",
       "    </tr>\n",
       "    <tr>\n",
       "      <th>6</th>\n",
       "      <td>14730010</td>\n",
       "      <td>Arzberg</td>\n",
       "      <td>CDU</td>\n",
       "      <td>Erststimme</td>\n",
       "      <td>98</td>\n",
       "      <td>12.4</td>\n",
       "    </tr>\n",
       "    <tr>\n",
       "      <th>8</th>\n",
       "      <td>14730010</td>\n",
       "      <td>Arzberg</td>\n",
       "      <td>LINKE</td>\n",
       "      <td>Erststimme</td>\n",
       "      <td>100</td>\n",
       "      <td>12.6</td>\n",
       "    </tr>\n",
       "    <tr>\n",
       "      <th>...</th>\n",
       "      <td>...</td>\n",
       "      <td>...</td>\n",
       "      <td>...</td>\n",
       "      <td>...</td>\n",
       "      <td>...</td>\n",
       "      <td>...</td>\n",
       "    </tr>\n",
       "    <tr>\n",
       "      <th>30</th>\n",
       "      <td>14612000</td>\n",
       "      <td>Dresden</td>\n",
       "      <td>SPD</td>\n",
       "      <td>Erststimme</td>\n",
       "      <td>65702</td>\n",
       "      <td>24.9</td>\n",
       "    </tr>\n",
       "    <tr>\n",
       "      <th>34</th>\n",
       "      <td>14612000</td>\n",
       "      <td>Dresden</td>\n",
       "      <td>Ungültige Stimmen</td>\n",
       "      <td>Erststimme</td>\n",
       "      <td>2691</td>\n",
       "      <td>1.0</td>\n",
       "    </tr>\n",
       "    <tr>\n",
       "      <th>38</th>\n",
       "      <td>14612000</td>\n",
       "      <td>Dresden</td>\n",
       "      <td>dieBasis</td>\n",
       "      <td>Erststimme</td>\n",
       "      <td>3009</td>\n",
       "      <td>1.1</td>\n",
       "    </tr>\n",
       "    <tr>\n",
       "      <th>40</th>\n",
       "      <td>14612000</td>\n",
       "      <td>Dresden</td>\n",
       "      <td>gültige Stimmen</td>\n",
       "      <td>Erststimme</td>\n",
       "      <td>263882</td>\n",
       "      <td>99.0</td>\n",
       "    </tr>\n",
       "    <tr>\n",
       "      <th>42</th>\n",
       "      <td>14612000</td>\n",
       "      <td>Dresden</td>\n",
       "      <td>ÖDP</td>\n",
       "      <td>Erststimme</td>\n",
       "      <td>2272</td>\n",
       "      <td>0.9</td>\n",
       "    </tr>\n",
       "  </tbody>\n",
       "</table>\n",
       "<p>5285 rows × 6 columns</p>\n",
       "</div>"
      ],
      "text/plain": [
       "         AGS      Ort             Partei    Stimmart  Stimmen  Anteil\n",
       "0   14730010  Arzberg  Ungültige Stimmen  Erststimme        7     0.9\n",
       "2   14730010  Arzberg    gültige Stimmen  Erststimme      793    99.1\n",
       "4   14730010  Arzberg                AfD  Erststimme      198    25.0\n",
       "6   14730010  Arzberg                CDU  Erststimme       98    12.4\n",
       "8   14730010  Arzberg              LINKE  Erststimme      100    12.6\n",
       "..       ...      ...                ...         ...      ...     ...\n",
       "30  14612000  Dresden                SPD  Erststimme    65702    24.9\n",
       "34  14612000  Dresden  Ungültige Stimmen  Erststimme     2691     1.0\n",
       "38  14612000  Dresden           dieBasis  Erststimme     3009     1.1\n",
       "40  14612000  Dresden    gültige Stimmen  Erststimme   263882    99.0\n",
       "42  14612000  Dresden                ÖDP  Erststimme     2272     0.9\n",
       "\n",
       "[5285 rows x 6 columns]"
      ]
     },
     "execution_count": 160,
     "metadata": {},
     "output_type": "execute_result"
    }
   ],
   "source": [
    "# df_es \n",
    "\n"
   ]
  },
  {
   "cell_type": "code",
   "execution_count": null,
   "id": "64ab6290",
   "metadata": {},
   "outputs": [],
   "source": []
  },
  {
   "cell_type": "code",
   "execution_count": null,
   "id": "a3f1b485",
   "metadata": {},
   "outputs": [],
   "source": []
  },
  {
   "cell_type": "markdown",
   "id": "d4d4a6c6",
   "metadata": {},
   "source": [
    "## Kandidaten für jede Partei und Wahlkreis herausfiltern "
   ]
  },
  {
   "cell_type": "code",
   "execution_count": 60,
   "id": "bc067529",
   "metadata": {
    "ExecuteTime": {
     "end_time": "2021-09-25T15:43:06.592921Z",
     "start_time": "2021-09-25T15:43:06.444138Z"
    }
   },
   "outputs": [],
   "source": [
    "df_k = pd.read_excel(\"./data/statistik-sachsen_bundestagswahl2021_direktbewerber.xlsx\", header=1)"
   ]
  },
  {
   "cell_type": "code",
   "execution_count": 54,
   "id": "6fb519b0",
   "metadata": {
    "ExecuteTime": {
     "end_time": "2021-09-25T15:41:03.609737Z",
     "start_time": "2021-09-25T15:41:03.563783Z"
    }
   },
   "outputs": [
    {
     "name": "stderr",
     "output_type": "stream",
     "text": [
      "<ipython-input-54-9ed62e74cfbf>:4: SettingWithCopyWarning: \n",
      "A value is trying to be set on a copy of a slice from a DataFrame.\n",
      "Try using .loc[row_indexer,col_indexer] = value instead\n",
      "\n",
      "See the caveats in the documentation: https://pandas.pydata.org/pandas-docs/stable/user_guide/indexing.html#returning-a-view-versus-a-copy\n",
      "  df_kandidaten[\"Full_Name\"] = df_kandidaten['Name'] +\" (\" + df_kandidaten['Wahlvorschlag \\nKurzbezeichnung']+\")\"\n",
      "c:\\users\\c_knoop\\appdata\\local\\programs\\python\\python39\\lib\\site-packages\\pandas\\core\\frame.py:5034: SettingWithCopyWarning: \n",
      "A value is trying to be set on a copy of a slice from a DataFrame\n",
      "\n",
      "See the caveats in the documentation: https://pandas.pydata.org/pandas-docs/stable/user_guide/indexing.html#returning-a-view-versus-a-copy\n",
      "  return super().rename(\n",
      "<ipython-input-54-9ed62e74cfbf>:11: SettingWithCopyWarning: \n",
      "A value is trying to be set on a copy of a slice from a DataFrame.\n",
      "Try using .loc[row_indexer,col_indexer] = value instead\n",
      "\n",
      "See the caveats in the documentation: https://pandas.pydata.org/pandas-docs/stable/user_guide/indexing.html#returning-a-view-versus-a-copy\n",
      "  df_kandidaten[\"Wahlkreis\"] = df_kandidaten[\"Wahlkreis\"].astype(str)\n",
      "<ipython-input-54-9ed62e74cfbf>:12: SettingWithCopyWarning: \n",
      "A value is trying to be set on a copy of a slice from a DataFrame.\n",
      "Try using .loc[row_indexer,col_indexer] = value instead\n",
      "\n",
      "See the caveats in the documentation: https://pandas.pydata.org/pandas-docs/stable/user_guide/indexing.html#returning-a-view-versus-a-copy\n",
      "  df_kandidaten[\"Listennummer\"] = df_kandidaten[\"Listennummer\"].astype(str)\n"
     ]
    }
   ],
   "source": [
    "# # nur Kandidaten der sechs größeren Parteien behalten\n",
    "# liste_parteien = [\"AfD\", \"CDU\", \"DIE LINKE\", \"FDP\", \"GRÜNE\", \"SPD\"]\n",
    "# df_kandidaten = df_k[df_k[\"Wahlvorschlag \\nKurzbezeichnung\"].isin(liste_parteien)] \n",
    "# df_kandidaten[\"Full_Name\"] = df_kandidaten['Name'] +\" (\" + df_kandidaten['Wahlvorschlag \\nKurzbezeichnung']+\")\"\n",
    "\n",
    "# df_kandidaten.rename(columns={\"Wahlkreis 151 Nordsachsen\":\"Wahlkreis\", \"Nummer\":\"Listennummer\", \\\n",
    "#                              \"Wahlvorschlag \\nKurzbezeichnung\": \"Partei\", \\\n",
    "#                               \"Wahlvorschlag \\nLangbezeichnung\": \"Partei_lang\", \\\n",
    "#                              \"Name\":\"Name\", \"Full_Name\": \"Name_lang\"}, inplace=True)\n",
    "# # richtige Formate vergeben\n",
    "# df_kandidaten[\"Wahlkreis\"] = df_kandidaten[\"Wahlkreis\"].astype(str)\n",
    "# df_kandidaten[\"Listennummer\"] = df_kandidaten[\"Listennummer\"].astype(str)"
   ]
  },
  {
   "cell_type": "code",
   "execution_count": null,
   "id": "e36a3f5d",
   "metadata": {},
   "outputs": [],
   "source": []
  },
  {
   "cell_type": "code",
   "execution_count": 78,
   "id": "efcf65ac",
   "metadata": {
    "ExecuteTime": {
     "end_time": "2021-09-25T15:54:09.271859Z",
     "start_time": "2021-09-25T15:54:09.153427Z"
    }
   },
   "outputs": [
    {
     "ename": "KeyError",
     "evalue": "'Wahlkreis'",
     "output_type": "error",
     "traceback": [
      "\u001b[1;31m---------------------------------------------------------------------------\u001b[0m",
      "\u001b[1;31mKeyError\u001b[0m                                  Traceback (most recent call last)",
      "\u001b[1;32mc:\\users\\c_knoop\\appdata\\local\\programs\\python\\python39\\lib\\site-packages\\pandas\\core\\indexes\\base.py\u001b[0m in \u001b[0;36mget_loc\u001b[1;34m(self, key, method, tolerance)\u001b[0m\n\u001b[0;32m   3360\u001b[0m             \u001b[1;32mtry\u001b[0m\u001b[1;33m:\u001b[0m\u001b[1;33m\u001b[0m\u001b[1;33m\u001b[0m\u001b[0m\n\u001b[1;32m-> 3361\u001b[1;33m                 \u001b[1;32mreturn\u001b[0m \u001b[0mself\u001b[0m\u001b[1;33m.\u001b[0m\u001b[0m_engine\u001b[0m\u001b[1;33m.\u001b[0m\u001b[0mget_loc\u001b[0m\u001b[1;33m(\u001b[0m\u001b[0mcasted_key\u001b[0m\u001b[1;33m)\u001b[0m\u001b[1;33m\u001b[0m\u001b[1;33m\u001b[0m\u001b[0m\n\u001b[0m\u001b[0;32m   3362\u001b[0m             \u001b[1;32mexcept\u001b[0m \u001b[0mKeyError\u001b[0m \u001b[1;32mas\u001b[0m \u001b[0merr\u001b[0m\u001b[1;33m:\u001b[0m\u001b[1;33m\u001b[0m\u001b[1;33m\u001b[0m\u001b[0m\n",
      "\u001b[1;32mc:\\users\\c_knoop\\appdata\\local\\programs\\python\\python39\\lib\\site-packages\\pandas\\_libs\\index.pyx\u001b[0m in \u001b[0;36mpandas._libs.index.IndexEngine.get_loc\u001b[1;34m()\u001b[0m\n",
      "\u001b[1;32mc:\\users\\c_knoop\\appdata\\local\\programs\\python\\python39\\lib\\site-packages\\pandas\\_libs\\index.pyx\u001b[0m in \u001b[0;36mpandas._libs.index.IndexEngine.get_loc\u001b[1;34m()\u001b[0m\n",
      "\u001b[1;32mpandas\\_libs\\hashtable_class_helper.pxi\u001b[0m in \u001b[0;36mpandas._libs.hashtable.PyObjectHashTable.get_item\u001b[1;34m()\u001b[0m\n",
      "\u001b[1;32mpandas\\_libs\\hashtable_class_helper.pxi\u001b[0m in \u001b[0;36mpandas._libs.hashtable.PyObjectHashTable.get_item\u001b[1;34m()\u001b[0m\n",
      "\u001b[1;31mKeyError\u001b[0m: 'Wahlkreis'",
      "\nThe above exception was the direct cause of the following exception:\n",
      "\u001b[1;31mKeyError\u001b[0m                                  Traceback (most recent call last)",
      "\u001b[1;32m<ipython-input-78-57324605d2d6>\u001b[0m in \u001b[0;36m<module>\u001b[1;34m\u001b[0m\n\u001b[0;32m     19\u001b[0m                              \"Name\":\"Name\", \"Full_Name\": \"Name_lang\", \"Nummer\":\"ParteiId\"}, inplace=True)\n\u001b[0;32m     20\u001b[0m \u001b[1;31m# richtige Formate vergeben\u001b[0m\u001b[1;33m\u001b[0m\u001b[1;33m\u001b[0m\u001b[1;33m\u001b[0m\u001b[0m\n\u001b[1;32m---> 21\u001b[1;33m \u001b[0mdf_kandidaten_all\u001b[0m\u001b[1;33m[\u001b[0m\u001b[1;34m\"Wahlkreis\"\u001b[0m\u001b[1;33m]\u001b[0m \u001b[1;33m=\u001b[0m \u001b[0mdf_kandidaten_all\u001b[0m\u001b[1;33m[\u001b[0m\u001b[1;34m\"Wahlkreis\"\u001b[0m\u001b[1;33m]\u001b[0m\u001b[1;33m.\u001b[0m\u001b[0mastype\u001b[0m\u001b[1;33m(\u001b[0m\u001b[0mstr\u001b[0m\u001b[1;33m)\u001b[0m\u001b[1;33m\u001b[0m\u001b[1;33m\u001b[0m\u001b[0m\n\u001b[0m\u001b[0;32m     22\u001b[0m \u001b[0mdf_kandidaten_all\u001b[0m\u001b[1;33m[\u001b[0m\u001b[1;34m\"Listennummer\"\u001b[0m\u001b[1;33m]\u001b[0m \u001b[1;33m=\u001b[0m \u001b[0mdf_kandidaten_all\u001b[0m\u001b[1;33m[\u001b[0m\u001b[1;34m\"Listennummer\"\u001b[0m\u001b[1;33m]\u001b[0m\u001b[1;33m.\u001b[0m\u001b[0mastype\u001b[0m\u001b[1;33m(\u001b[0m\u001b[0mstr\u001b[0m\u001b[1;33m)\u001b[0m\u001b[1;33m\u001b[0m\u001b[1;33m\u001b[0m\u001b[0m\n",
      "\u001b[1;32mc:\\users\\c_knoop\\appdata\\local\\programs\\python\\python39\\lib\\site-packages\\pandas\\core\\frame.py\u001b[0m in \u001b[0;36m__getitem__\u001b[1;34m(self, key)\u001b[0m\n\u001b[0;32m   3453\u001b[0m             \u001b[1;32mif\u001b[0m \u001b[0mself\u001b[0m\u001b[1;33m.\u001b[0m\u001b[0mcolumns\u001b[0m\u001b[1;33m.\u001b[0m\u001b[0mnlevels\u001b[0m \u001b[1;33m>\u001b[0m \u001b[1;36m1\u001b[0m\u001b[1;33m:\u001b[0m\u001b[1;33m\u001b[0m\u001b[1;33m\u001b[0m\u001b[0m\n\u001b[0;32m   3454\u001b[0m                 \u001b[1;32mreturn\u001b[0m \u001b[0mself\u001b[0m\u001b[1;33m.\u001b[0m\u001b[0m_getitem_multilevel\u001b[0m\u001b[1;33m(\u001b[0m\u001b[0mkey\u001b[0m\u001b[1;33m)\u001b[0m\u001b[1;33m\u001b[0m\u001b[1;33m\u001b[0m\u001b[0m\n\u001b[1;32m-> 3455\u001b[1;33m             \u001b[0mindexer\u001b[0m \u001b[1;33m=\u001b[0m \u001b[0mself\u001b[0m\u001b[1;33m.\u001b[0m\u001b[0mcolumns\u001b[0m\u001b[1;33m.\u001b[0m\u001b[0mget_loc\u001b[0m\u001b[1;33m(\u001b[0m\u001b[0mkey\u001b[0m\u001b[1;33m)\u001b[0m\u001b[1;33m\u001b[0m\u001b[1;33m\u001b[0m\u001b[0m\n\u001b[0m\u001b[0;32m   3456\u001b[0m             \u001b[1;32mif\u001b[0m \u001b[0mis_integer\u001b[0m\u001b[1;33m(\u001b[0m\u001b[0mindexer\u001b[0m\u001b[1;33m)\u001b[0m\u001b[1;33m:\u001b[0m\u001b[1;33m\u001b[0m\u001b[1;33m\u001b[0m\u001b[0m\n\u001b[0;32m   3457\u001b[0m                 \u001b[0mindexer\u001b[0m \u001b[1;33m=\u001b[0m \u001b[1;33m[\u001b[0m\u001b[0mindexer\u001b[0m\u001b[1;33m]\u001b[0m\u001b[1;33m\u001b[0m\u001b[1;33m\u001b[0m\u001b[0m\n",
      "\u001b[1;32mc:\\users\\c_knoop\\appdata\\local\\programs\\python\\python39\\lib\\site-packages\\pandas\\core\\indexes\\base.py\u001b[0m in \u001b[0;36mget_loc\u001b[1;34m(self, key, method, tolerance)\u001b[0m\n\u001b[0;32m   3361\u001b[0m                 \u001b[1;32mreturn\u001b[0m \u001b[0mself\u001b[0m\u001b[1;33m.\u001b[0m\u001b[0m_engine\u001b[0m\u001b[1;33m.\u001b[0m\u001b[0mget_loc\u001b[0m\u001b[1;33m(\u001b[0m\u001b[0mcasted_key\u001b[0m\u001b[1;33m)\u001b[0m\u001b[1;33m\u001b[0m\u001b[1;33m\u001b[0m\u001b[0m\n\u001b[0;32m   3362\u001b[0m             \u001b[1;32mexcept\u001b[0m \u001b[0mKeyError\u001b[0m \u001b[1;32mas\u001b[0m \u001b[0merr\u001b[0m\u001b[1;33m:\u001b[0m\u001b[1;33m\u001b[0m\u001b[1;33m\u001b[0m\u001b[0m\n\u001b[1;32m-> 3363\u001b[1;33m                 \u001b[1;32mraise\u001b[0m \u001b[0mKeyError\u001b[0m\u001b[1;33m(\u001b[0m\u001b[0mkey\u001b[0m\u001b[1;33m)\u001b[0m \u001b[1;32mfrom\u001b[0m \u001b[0merr\u001b[0m\u001b[1;33m\u001b[0m\u001b[1;33m\u001b[0m\u001b[0m\n\u001b[0m\u001b[0;32m   3364\u001b[0m \u001b[1;33m\u001b[0m\u001b[0m\n\u001b[0;32m   3365\u001b[0m         \u001b[1;32mif\u001b[0m \u001b[0mis_scalar\u001b[0m\u001b[1;33m(\u001b[0m\u001b[0mkey\u001b[0m\u001b[1;33m)\u001b[0m \u001b[1;32mand\u001b[0m \u001b[0misna\u001b[0m\u001b[1;33m(\u001b[0m\u001b[0mkey\u001b[0m\u001b[1;33m)\u001b[0m \u001b[1;32mand\u001b[0m \u001b[1;32mnot\u001b[0m \u001b[0mself\u001b[0m\u001b[1;33m.\u001b[0m\u001b[0mhasnans\u001b[0m\u001b[1;33m:\u001b[0m\u001b[1;33m\u001b[0m\u001b[1;33m\u001b[0m\u001b[0m\n",
      "\u001b[1;31mKeyError\u001b[0m: 'Wahlkreis'"
     ]
    }
   ],
   "source": [
    "#alle Kandidaten behalten \n",
    "df_kandidaten_all = df_k.copy()\n",
    "def new_name(el):\n",
    "    \n",
    "    try:\n",
    "        new_list = el.split(\", \")\n",
    "    \n",
    "        new_name = new_list[1] + \" \" + new_list[0]\n",
    "       \n",
    "        return new_name\n",
    "    except: \n",
    "        return el\n",
    "df_kandidaten_all[\"Name\"] = df_kandidaten_all[\"Name\"].map(new_name)\n",
    "df_kandidaten_all[\"Full_Name\"] = df_kandidaten_all['Name'] +\" (\" + df_kandidaten_all['Wahlvorschlag \\nKurzbezeichnung']+\")\"\n",
    "\n",
    "df_kandidaten_all.rename(columns={\"Wahlkreis 151 Nordsachsen\":\"KreisId\", \"Nummer\":\"Listennummer\", \\\n",
    "                             \"Wahlvorschlag \\nKurzbezeichnung\": \"Partei\", \\\n",
    "                              \"Wahlvorschlag \\nLangbezeichnung\": \"Partei_lang\", \\\n",
    "                             \"Name\":\"Name\", \"Full_Name\": \"Name_lang\", \"Nummer\":\"ParteiId\"}, inplace=True)\n",
    "# richtige Formate vergeben\n",
    "#df_kandidaten_all[\"Wahlkreis\"] = df_kandidaten_all[\"Wahlkreis\"].astype(str)\n",
    "#df_kandidaten_all[\"Listennummer\"] = df_kandidaten_all[\"Listennummer\"].astype(str)"
   ]
  },
  {
   "cell_type": "code",
   "execution_count": 80,
   "id": "65709aec",
   "metadata": {
    "ExecuteTime": {
     "end_time": "2021-09-25T15:54:28.023345Z",
     "start_time": "2021-09-25T15:54:28.013369Z"
    }
   },
   "outputs": [
    {
     "name": "stdout",
     "output_type": "stream",
     "text": [
      "<class 'pandas.core.frame.DataFrame'>\n",
      "RangeIndex: 205 entries, 0 to 204\n",
      "Data columns (total 6 columns):\n",
      " #   Column       Non-Null Count  Dtype \n",
      "---  ------       --------------  ----- \n",
      " 0   KreisId      205 non-null    object\n",
      " 1   ParteiId     205 non-null    object\n",
      " 2   Partei       205 non-null    object\n",
      " 3   Partei_lang  205 non-null    object\n",
      " 4   Name         205 non-null    object\n",
      " 5   Name_lang    205 non-null    object\n",
      "dtypes: object(6)\n",
      "memory usage: 9.7+ KB\n"
     ]
    }
   ],
   "source": [
    "df_kandidaten_all.info()"
   ]
  },
  {
   "cell_type": "markdown",
   "id": "c43bf0b4",
   "metadata": {},
   "source": [
    "## dict Übersetzung WK-Id WK-Name"
   ]
  },
  {
   "cell_type": "code",
   "execution_count": null,
   "id": "cb7b2ae8",
   "metadata": {},
   "outputs": [],
   "source": []
  },
  {
   "cell_type": "code",
   "execution_count": 81,
   "id": "66564f8f",
   "metadata": {
    "ExecuteTime": {
     "end_time": "2021-09-25T15:54:34.211639Z",
     "start_time": "2021-09-25T15:54:34.207641Z"
    }
   },
   "outputs": [],
   "source": [
    "wk_dict = {\"151\": \"Nordsachsen\", \"152\":\"Leipzig I\", \"153\": \"Leipzig II\", \"154\":\"Leipziger Land\", \\\n",
    "          \"155\": \"Meißen\", \"156\":\"Bautzen I\", \"157\":\"Görlitz\", \"158\":\"SSOE\", \"159\": \"Dresden I\", \\\n",
    "          \"160\": \"Dresden II/Bautzen II\", \"161\": \"Mittelsachsen\", \"162\":\"Chemnitz\", \"163\":\"Chemnitzer Uml./Erzg. II\", \\\n",
    "          \"164\": \"Erzgebirgskreis I\", \"165\":\"Zwickau\", \"166\":\"Vogtlandkreis\"}"
   ]
  },
  {
   "cell_type": "code",
   "execution_count": null,
   "id": "7aa3781d",
   "metadata": {},
   "outputs": [],
   "source": []
  },
  {
   "cell_type": "markdown",
   "id": "49ffd49d",
   "metadata": {},
   "source": [
    "## Ergebnisse und Daten mergen"
   ]
  },
  {
   "cell_type": "code",
   "execution_count": 82,
   "id": "e372edf1",
   "metadata": {
    "ExecuteTime": {
     "end_time": "2021-09-25T15:54:35.191687Z",
     "start_time": "2021-09-25T15:54:35.181177Z"
    }
   },
   "outputs": [
    {
     "name": "stderr",
     "output_type": "stream",
     "text": [
      "c:\\users\\c_knoop\\appdata\\local\\programs\\python\\python39\\lib\\site-packages\\pandas\\core\\generic.py:5516: SettingWithCopyWarning: \n",
      "A value is trying to be set on a copy of a slice from a DataFrame.\n",
      "Try using .loc[row_indexer,col_indexer] = value instead\n",
      "\n",
      "See the caveats in the documentation: https://pandas.pydata.org/pandas-docs/stable/user_guide/indexing.html#returning-a-view-versus-a-copy\n",
      "  self[name] = value\n"
     ]
    }
   ],
   "source": [
    "df_es.KreisId = df_es.KreisId.astype(str)\n",
    "df_es.ParteiId = df_es.ParteiId.astype(str)\n",
    "\n",
    "df_kandidaten_all.KreisId = df_kandidaten_all.KreisId.astype(str)\n",
    "df_kandidaten_all.ParteiId = df_kandidaten_all.ParteiId.astype(str)"
   ]
  },
  {
   "cell_type": "code",
   "execution_count": 83,
   "id": "c91d599b",
   "metadata": {
    "ExecuteTime": {
     "end_time": "2021-09-25T15:54:35.611813Z",
     "start_time": "2021-09-25T15:54:35.600842Z"
    }
   },
   "outputs": [],
   "source": [
    "df_all = pd.merge(df_es, df_kandidaten_all[[\"KreisId\", \"ParteiId\", \"Name_lang\", \"Name\"]], \\\n",
    "                     on=[\"KreisId\", \"ParteiId\"])"
   ]
  },
  {
   "cell_type": "code",
   "execution_count": 84,
   "id": "f4a6a38a",
   "metadata": {
    "ExecuteTime": {
     "end_time": "2021-09-25T15:54:36.222127Z",
     "start_time": "2021-09-25T15:54:36.208198Z"
    }
   },
   "outputs": [
    {
     "data": {
      "text/html": [
       "<div>\n",
       "<style scoped>\n",
       "    .dataframe tbody tr th:only-of-type {\n",
       "        vertical-align: middle;\n",
       "    }\n",
       "\n",
       "    .dataframe tbody tr th {\n",
       "        vertical-align: top;\n",
       "    }\n",
       "\n",
       "    .dataframe thead th {\n",
       "        text-align: right;\n",
       "    }\n",
       "</style>\n",
       "<table border=\"1\" class=\"dataframe\">\n",
       "  <thead>\n",
       "    <tr style=\"text-align: right;\">\n",
       "      <th></th>\n",
       "      <th>AGS</th>\n",
       "      <th>KreisId</th>\n",
       "      <th>Ort</th>\n",
       "      <th>Partei</th>\n",
       "      <th>ParteiId</th>\n",
       "      <th>Stimmart</th>\n",
       "      <th>Stimmen</th>\n",
       "      <th>Anteil</th>\n",
       "      <th>Name_lang</th>\n",
       "      <th>Name</th>\n",
       "    </tr>\n",
       "  </thead>\n",
       "  <tbody>\n",
       "    <tr>\n",
       "      <th>0</th>\n",
       "      <td>14730010</td>\n",
       "      <td>151</td>\n",
       "      <td>Arzberg</td>\n",
       "      <td>AfD</td>\n",
       "      <td>1</td>\n",
       "      <td>Erststimme</td>\n",
       "      <td>198</td>\n",
       "      <td>25.0</td>\n",
       "      <td>René Bochmann (AfD)</td>\n",
       "      <td>René Bochmann</td>\n",
       "    </tr>\n",
       "    <tr>\n",
       "      <th>1</th>\n",
       "      <td>14730020</td>\n",
       "      <td>151</td>\n",
       "      <td>Bad Düben, Stadt</td>\n",
       "      <td>AfD</td>\n",
       "      <td>1</td>\n",
       "      <td>Erststimme</td>\n",
       "      <td>1110</td>\n",
       "      <td>25.2</td>\n",
       "      <td>René Bochmann (AfD)</td>\n",
       "      <td>René Bochmann</td>\n",
       "    </tr>\n",
       "    <tr>\n",
       "      <th>2</th>\n",
       "      <td>14730030</td>\n",
       "      <td>151</td>\n",
       "      <td>Beilrode</td>\n",
       "      <td>AfD</td>\n",
       "      <td>1</td>\n",
       "      <td>Erststimme</td>\n",
       "      <td>568</td>\n",
       "      <td>25.3</td>\n",
       "      <td>René Bochmann (AfD)</td>\n",
       "      <td>René Bochmann</td>\n",
       "    </tr>\n",
       "    <tr>\n",
       "      <th>3</th>\n",
       "      <td>14730045</td>\n",
       "      <td>151</td>\n",
       "      <td>Belgern-Schildau, Stadt</td>\n",
       "      <td>AfD</td>\n",
       "      <td>1</td>\n",
       "      <td>Erststimme</td>\n",
       "      <td>932</td>\n",
       "      <td>25.0</td>\n",
       "      <td>René Bochmann (AfD)</td>\n",
       "      <td>René Bochmann</td>\n",
       "    </tr>\n",
       "    <tr>\n",
       "      <th>4</th>\n",
       "      <td>14730050</td>\n",
       "      <td>151</td>\n",
       "      <td>Cavertitz</td>\n",
       "      <td>AfD</td>\n",
       "      <td>1</td>\n",
       "      <td>Erststimme</td>\n",
       "      <td>283</td>\n",
       "      <td>24.5</td>\n",
       "      <td>René Bochmann (AfD)</td>\n",
       "      <td>René Bochmann</td>\n",
       "    </tr>\n",
       "    <tr>\n",
       "      <th>...</th>\n",
       "      <td>...</td>\n",
       "      <td>...</td>\n",
       "      <td>...</td>\n",
       "      <td>...</td>\n",
       "      <td>...</td>\n",
       "      <td>...</td>\n",
       "      <td>...</td>\n",
       "      <td>...</td>\n",
       "      <td>...</td>\n",
       "      <td>...</td>\n",
       "    </tr>\n",
       "    <tr>\n",
       "      <th>4008</th>\n",
       "      <td>14523420</td>\n",
       "      <td>166</td>\n",
       "      <td>Tirpersdorf</td>\n",
       "      <td>III. Weg</td>\n",
       "      <td>17</td>\n",
       "      <td>Erststimme</td>\n",
       "      <td>69</td>\n",
       "      <td>6.6</td>\n",
       "      <td>Udo Sieghart (III. Weg)</td>\n",
       "      <td>Udo Sieghart</td>\n",
       "    </tr>\n",
       "    <tr>\n",
       "      <th>4009</th>\n",
       "      <td>14523430</td>\n",
       "      <td>166</td>\n",
       "      <td>Treuen, Stadt</td>\n",
       "      <td>III. Weg</td>\n",
       "      <td>17</td>\n",
       "      <td>Erststimme</td>\n",
       "      <td>28</td>\n",
       "      <td>0.6</td>\n",
       "      <td>Udo Sieghart (III. Weg)</td>\n",
       "      <td>Udo Sieghart</td>\n",
       "    </tr>\n",
       "    <tr>\n",
       "      <th>4010</th>\n",
       "      <td>14523440</td>\n",
       "      <td>166</td>\n",
       "      <td>Triebel/Vogtl.</td>\n",
       "      <td>III. Weg</td>\n",
       "      <td>17</td>\n",
       "      <td>Erststimme</td>\n",
       "      <td>0</td>\n",
       "      <td>0.0</td>\n",
       "      <td>Udo Sieghart (III. Weg)</td>\n",
       "      <td>Udo Sieghart</td>\n",
       "    </tr>\n",
       "    <tr>\n",
       "      <th>4011</th>\n",
       "      <td>14523450</td>\n",
       "      <td>166</td>\n",
       "      <td>Weischlitz</td>\n",
       "      <td>III. Weg</td>\n",
       "      <td>17</td>\n",
       "      <td>Erststimme</td>\n",
       "      <td>0</td>\n",
       "      <td>0.0</td>\n",
       "      <td>Udo Sieghart (III. Weg)</td>\n",
       "      <td>Udo Sieghart</td>\n",
       "    </tr>\n",
       "    <tr>\n",
       "      <th>4012</th>\n",
       "      <td>14523460</td>\n",
       "      <td>166</td>\n",
       "      <td>Werda</td>\n",
       "      <td>III. Weg</td>\n",
       "      <td>17</td>\n",
       "      <td>Erststimme</td>\n",
       "      <td>0</td>\n",
       "      <td>0.0</td>\n",
       "      <td>Udo Sieghart (III. Weg)</td>\n",
       "      <td>Udo Sieghart</td>\n",
       "    </tr>\n",
       "  </tbody>\n",
       "</table>\n",
       "<p>4013 rows × 10 columns</p>\n",
       "</div>"
      ],
      "text/plain": [
       "           AGS KreisId                      Ort    Partei ParteiId  \\\n",
       "0     14730010     151                  Arzberg       AfD        1   \n",
       "1     14730020     151         Bad Düben, Stadt       AfD        1   \n",
       "2     14730030     151                 Beilrode       AfD        1   \n",
       "3     14730045     151  Belgern-Schildau, Stadt       AfD        1   \n",
       "4     14730050     151                Cavertitz       AfD        1   \n",
       "...        ...     ...                      ...       ...      ...   \n",
       "4008  14523420     166              Tirpersdorf  III. Weg       17   \n",
       "4009  14523430     166            Treuen, Stadt  III. Weg       17   \n",
       "4010  14523440     166           Triebel/Vogtl.  III. Weg       17   \n",
       "4011  14523450     166               Weischlitz  III. Weg       17   \n",
       "4012  14523460     166                    Werda  III. Weg       17   \n",
       "\n",
       "        Stimmart  Stimmen  Anteil                Name_lang           Name  \n",
       "0     Erststimme      198    25.0      René Bochmann (AfD)  René Bochmann  \n",
       "1     Erststimme     1110    25.2      René Bochmann (AfD)  René Bochmann  \n",
       "2     Erststimme      568    25.3      René Bochmann (AfD)  René Bochmann  \n",
       "3     Erststimme      932    25.0      René Bochmann (AfD)  René Bochmann  \n",
       "4     Erststimme      283    24.5      René Bochmann (AfD)  René Bochmann  \n",
       "...          ...      ...     ...                      ...            ...  \n",
       "4008  Erststimme       69     6.6  Udo Sieghart (III. Weg)   Udo Sieghart  \n",
       "4009  Erststimme       28     0.6  Udo Sieghart (III. Weg)   Udo Sieghart  \n",
       "4010  Erststimme        0     0.0  Udo Sieghart (III. Weg)   Udo Sieghart  \n",
       "4011  Erststimme        0     0.0  Udo Sieghart (III. Weg)   Udo Sieghart  \n",
       "4012  Erststimme        0     0.0  Udo Sieghart (III. Weg)   Udo Sieghart  \n",
       "\n",
       "[4013 rows x 10 columns]"
      ]
     },
     "execution_count": 84,
     "metadata": {},
     "output_type": "execute_result"
    }
   ],
   "source": [
    "df_all"
   ]
  },
  {
   "cell_type": "markdown",
   "id": "15066bb6",
   "metadata": {},
   "source": [
    "## Gewinner/Verlierer sortieren"
   ]
  },
  {
   "cell_type": "code",
   "execution_count": 85,
   "id": "0da7f9f1",
   "metadata": {
    "ExecuteTime": {
     "end_time": "2021-09-25T15:54:39.962846Z",
     "start_time": "2021-09-25T15:54:39.958858Z"
    }
   },
   "outputs": [],
   "source": [
    "dict_colors = {\"AfD\":\"#009ee0\", \"CDU\":\"#32302e\", \"SPD\":\"#e3000f\", \"DIE LINKE\":\"#ab006d\", \\\n",
    "               \"GRÜNE\":\"#a0c864\", \"FDP\":\"#fccc00\", \"FREIE WÄHLER\":\"#f39401\"}\n",
    "\n"
   ]
  },
  {
   "cell_type": "code",
   "execution_count": 86,
   "id": "fdef0dee",
   "metadata": {
    "ExecuteTime": {
     "end_time": "2021-09-25T15:54:43.687881Z",
     "start_time": "2021-09-25T15:54:40.576391Z"
    }
   },
   "outputs": [],
   "source": [
    "def create_erststimme_datawrapper(df): \n",
    "    \n",
    "    cols = [\"AGS\", \"Ort\", \"KreisId\", \"KreisName\", \"Gewinner_Partei\", \"Gewinner_Name\", \"Gewinner_c\", \\\n",
    "            \"Partei_1\", \"Partei_1_k\", \"Partei_1_c\", \"Partei_1_a\", \\\n",
    "           \"Partei_2\", \"Partei_2_k\", \"Partei_2_c\", \"Partei_2_a\",\n",
    "           \"Partei_3\", \"Partei_3_k\", \"Partei_3_c\", \"Partei_3_a\",\n",
    "           \"fließtext_rest\"]\n",
    "    \n",
    "    new_df = pd.DataFrame(columns=cols)\n",
    "    \n",
    "    \n",
    "    \n",
    "    \n",
    "    \n",
    "    all_ags = df.AGS.unique()\n",
    "    for ags in all_ags:\n",
    "        \n",
    "        \n",
    "        \n",
    "        df_ = df[df.AGS==ags]\n",
    "        ort = df_[\"Ort\"].unique()[0]\n",
    "        kreis = df_[\"KreisId\"].unique()[0]\n",
    "        kreisname = wk_dict[kreis]\n",
    "        no_parties = [\"Ungültige Stimmen\", \"gültige Stimmen\"]\n",
    "        df_reduce = df_[~df_.Partei.isin(no_parties)]\n",
    "        \n",
    "        df_sort = df_reduce.sort_values(by=\"Anteil\", ascending=False)\n",
    "        \n",
    "         # HELPER get color\n",
    "        def get_color(partei): \n",
    "            try: \n",
    "                return dict_colors[partei]\n",
    "            except: \n",
    "                return \"#b5152b\"\n",
    "        \n",
    "        # Gewinner\n",
    "        gewinner_partei = df_sort.iloc[0].Partei\n",
    "        gewinner_name = df_sort.iloc[0].Name\n",
    "        gewinner_color = get_color(gewinner_partei)\n",
    "        \n",
    "       \n",
    "        \n",
    "        # ersten drei Kandidaten\n",
    "        partei1 = df_sort.iloc[0].Partei\n",
    "        partei1_k = df_sort.iloc[0].Name\n",
    "        partei1_c = get_color(partei1)\n",
    "        partei1_a = df_sort.iloc[0].Anteil\n",
    "        \n",
    "         # ersten drei Kandidaten\n",
    "        partei2 = df_sort.iloc[1].Partei\n",
    "        partei2_k = df_sort.iloc[1].Name\n",
    "        partei2_c = get_color(partei2)\n",
    "        partei2_a = df_sort.iloc[1].Anteil\n",
    "        \n",
    "         # ersten drei Kandidaten\n",
    "        partei3 = df_sort.iloc[2].Partei\n",
    "        partei3_k = df_sort.iloc[2].Name\n",
    "        partei3_c = get_color(partei3)\n",
    "        partei3_a = df_sort.iloc[2].Anteil\n",
    "        \n",
    "        long_string = \"\"\n",
    "        \n",
    "        for i in range(2, len(df_sort)):\n",
    "        \n",
    "            party_string = f\" +++ {df_sort.iloc[i].Name_lang}, {df_sort.iloc[i].Anteil}%\"\n",
    "            long_string = long_string + party_string\n",
    "    \n",
    "       \n",
    "       \n",
    "        \n",
    "        \n",
    "        data_ser = [ags, ort, kreis, kreisname, gewinner_partei, gewinner_name, gewinner_color, \\\n",
    "                   partei1, partei1_k, partei1_c, partei1_a, \\\n",
    "                   partei2, partei2_k, partei2_c, partei2_a, \\\n",
    "                   partei3, partei3_k, partei3_c, partei3_a, \\\n",
    "                   long_string]\n",
    "        \n",
    "        new_ser = pd.Series(data_ser, index=cols)\n",
    "        \n",
    "        new_df = new_df.append(new_ser, ignore_index=True)\n",
    "    \n",
    "    return new_df\n",
    "    \n",
    "df_es_dw = create_erststimme_datawrapper(df_all)"
   ]
  },
  {
   "cell_type": "markdown",
   "id": "144a4573",
   "metadata": {},
   "source": [
    "## Grafik aktualisieren"
   ]
  },
  {
   "cell_type": "code",
   "execution_count": 87,
   "id": "1e75acba",
   "metadata": {
    "ExecuteTime": {
     "end_time": "2021-09-25T15:54:43.890206Z",
     "start_time": "2021-09-25T15:54:43.865272Z"
    }
   },
   "outputs": [
    {
     "data": {
      "text/html": [
       "<div>\n",
       "<style scoped>\n",
       "    .dataframe tbody tr th:only-of-type {\n",
       "        vertical-align: middle;\n",
       "    }\n",
       "\n",
       "    .dataframe tbody tr th {\n",
       "        vertical-align: top;\n",
       "    }\n",
       "\n",
       "    .dataframe thead th {\n",
       "        text-align: right;\n",
       "    }\n",
       "</style>\n",
       "<table border=\"1\" class=\"dataframe\">\n",
       "  <thead>\n",
       "    <tr style=\"text-align: right;\">\n",
       "      <th></th>\n",
       "      <th>AGS</th>\n",
       "      <th>Ort</th>\n",
       "      <th>KreisId</th>\n",
       "      <th>KreisName</th>\n",
       "      <th>Gewinner_Partei</th>\n",
       "      <th>Gewinner_Name</th>\n",
       "      <th>Gewinner_c</th>\n",
       "      <th>Partei_1</th>\n",
       "      <th>Partei_1_k</th>\n",
       "      <th>Partei_1_c</th>\n",
       "      <th>Partei_1_a</th>\n",
       "      <th>Partei_2</th>\n",
       "      <th>Partei_2_k</th>\n",
       "      <th>Partei_2_c</th>\n",
       "      <th>Partei_2_a</th>\n",
       "      <th>Partei_3</th>\n",
       "      <th>Partei_3_k</th>\n",
       "      <th>Partei_3_c</th>\n",
       "      <th>Partei_3_a</th>\n",
       "      <th>fließtext_rest</th>\n",
       "    </tr>\n",
       "  </thead>\n",
       "  <tbody>\n",
       "    <tr>\n",
       "      <th>0</th>\n",
       "      <td>14730010</td>\n",
       "      <td>Arzberg</td>\n",
       "      <td>151</td>\n",
       "      <td>Nordsachsen</td>\n",
       "      <td>AfD</td>\n",
       "      <td>René Bochmann</td>\n",
       "      <td>#009ee0</td>\n",
       "      <td>AfD</td>\n",
       "      <td>René Bochmann</td>\n",
       "      <td>#009ee0</td>\n",
       "      <td>25.0</td>\n",
       "      <td>SPD</td>\n",
       "      <td>Rüdiger Kleinke</td>\n",
       "      <td>#e3000f</td>\n",
       "      <td>24.2</td>\n",
       "      <td>Die Partei</td>\n",
       "      <td>Karsten Gutjahr</td>\n",
       "      <td>#b5152b</td>\n",
       "      <td>16.8</td>\n",
       "      <td>+++ Karsten Gutjahr (Die PARTEI), 16.8% +++ P...</td>\n",
       "    </tr>\n",
       "    <tr>\n",
       "      <th>1</th>\n",
       "      <td>14730020</td>\n",
       "      <td>Bad Düben, Stadt</td>\n",
       "      <td>151</td>\n",
       "      <td>Nordsachsen</td>\n",
       "      <td>AfD</td>\n",
       "      <td>René Bochmann</td>\n",
       "      <td>#009ee0</td>\n",
       "      <td>AfD</td>\n",
       "      <td>René Bochmann</td>\n",
       "      <td>#009ee0</td>\n",
       "      <td>25.2</td>\n",
       "      <td>SPD</td>\n",
       "      <td>Rüdiger Kleinke</td>\n",
       "      <td>#e3000f</td>\n",
       "      <td>25.0</td>\n",
       "      <td>CDU</td>\n",
       "      <td>Dr. Christiane Schenderlein</td>\n",
       "      <td>#32302e</td>\n",
       "      <td>12.5</td>\n",
       "      <td>+++ Dr. Christiane Schenderlein (CDU), 12.5% ...</td>\n",
       "    </tr>\n",
       "    <tr>\n",
       "      <th>2</th>\n",
       "      <td>14730030</td>\n",
       "      <td>Beilrode</td>\n",
       "      <td>151</td>\n",
       "      <td>Nordsachsen</td>\n",
       "      <td>AfD</td>\n",
       "      <td>René Bochmann</td>\n",
       "      <td>#009ee0</td>\n",
       "      <td>AfD</td>\n",
       "      <td>René Bochmann</td>\n",
       "      <td>#009ee0</td>\n",
       "      <td>25.3</td>\n",
       "      <td>SPD</td>\n",
       "      <td>Rüdiger Kleinke</td>\n",
       "      <td>#e3000f</td>\n",
       "      <td>25.2</td>\n",
       "      <td>CDU</td>\n",
       "      <td>Dr. Christiane Schenderlein</td>\n",
       "      <td>#32302e</td>\n",
       "      <td>12.7</td>\n",
       "      <td>+++ Dr. Christiane Schenderlein (CDU), 12.7% ...</td>\n",
       "    </tr>\n",
       "    <tr>\n",
       "      <th>3</th>\n",
       "      <td>14730045</td>\n",
       "      <td>Belgern-Schildau, Stadt</td>\n",
       "      <td>151</td>\n",
       "      <td>Nordsachsen</td>\n",
       "      <td>SPD</td>\n",
       "      <td>Rüdiger Kleinke</td>\n",
       "      <td>#e3000f</td>\n",
       "      <td>SPD</td>\n",
       "      <td>Rüdiger Kleinke</td>\n",
       "      <td>#e3000f</td>\n",
       "      <td>25.1</td>\n",
       "      <td>AfD</td>\n",
       "      <td>René Bochmann</td>\n",
       "      <td>#009ee0</td>\n",
       "      <td>25.0</td>\n",
       "      <td>Die Partei</td>\n",
       "      <td>Karsten Gutjahr</td>\n",
       "      <td>#b5152b</td>\n",
       "      <td>14.2</td>\n",
       "      <td>+++ Karsten Gutjahr (Die PARTEI), 14.2% +++ D...</td>\n",
       "    </tr>\n",
       "    <tr>\n",
       "      <th>4</th>\n",
       "      <td>14730050</td>\n",
       "      <td>Cavertitz</td>\n",
       "      <td>151</td>\n",
       "      <td>Nordsachsen</td>\n",
       "      <td>SPD</td>\n",
       "      <td>Rüdiger Kleinke</td>\n",
       "      <td>#e3000f</td>\n",
       "      <td>SPD</td>\n",
       "      <td>Rüdiger Kleinke</td>\n",
       "      <td>#e3000f</td>\n",
       "      <td>24.7</td>\n",
       "      <td>AfD</td>\n",
       "      <td>René Bochmann</td>\n",
       "      <td>#009ee0</td>\n",
       "      <td>24.5</td>\n",
       "      <td>Die Partei</td>\n",
       "      <td>Karsten Gutjahr</td>\n",
       "      <td>#b5152b</td>\n",
       "      <td>15.1</td>\n",
       "      <td>+++ Karsten Gutjahr (Die PARTEI), 15.1% +++ D...</td>\n",
       "    </tr>\n",
       "    <tr>\n",
       "      <th>...</th>\n",
       "      <td>...</td>\n",
       "      <td>...</td>\n",
       "      <td>...</td>\n",
       "      <td>...</td>\n",
       "      <td>...</td>\n",
       "      <td>...</td>\n",
       "      <td>...</td>\n",
       "      <td>...</td>\n",
       "      <td>...</td>\n",
       "      <td>...</td>\n",
       "      <td>...</td>\n",
       "      <td>...</td>\n",
       "      <td>...</td>\n",
       "      <td>...</td>\n",
       "      <td>...</td>\n",
       "      <td>...</td>\n",
       "      <td>...</td>\n",
       "      <td>...</td>\n",
       "      <td>...</td>\n",
       "      <td>...</td>\n",
       "    </tr>\n",
       "    <tr>\n",
       "      <th>416</th>\n",
       "      <td>14523420</td>\n",
       "      <td>Tirpersdorf</td>\n",
       "      <td>166</td>\n",
       "      <td>Vogtlandkreis</td>\n",
       "      <td>AfD</td>\n",
       "      <td>Mathias Weiser</td>\n",
       "      <td>#009ee0</td>\n",
       "      <td>AfD</td>\n",
       "      <td>Mathias Weiser</td>\n",
       "      <td>#009ee0</td>\n",
       "      <td>24.2</td>\n",
       "      <td>SPD</td>\n",
       "      <td>Kay Burmeister</td>\n",
       "      <td>#e3000f</td>\n",
       "      <td>24.1</td>\n",
       "      <td>CDU</td>\n",
       "      <td>Yvonne Magwas</td>\n",
       "      <td>#32302e</td>\n",
       "      <td>12.7</td>\n",
       "      <td>+++ Yvonne Magwas (CDU), 12.7% +++ Johannes H...</td>\n",
       "    </tr>\n",
       "    <tr>\n",
       "      <th>417</th>\n",
       "      <td>14523430</td>\n",
       "      <td>Treuen, Stadt</td>\n",
       "      <td>166</td>\n",
       "      <td>Vogtlandkreis</td>\n",
       "      <td>AfD</td>\n",
       "      <td>Mathias Weiser</td>\n",
       "      <td>#009ee0</td>\n",
       "      <td>AfD</td>\n",
       "      <td>Mathias Weiser</td>\n",
       "      <td>#009ee0</td>\n",
       "      <td>25.2</td>\n",
       "      <td>SPD</td>\n",
       "      <td>Kay Burmeister</td>\n",
       "      <td>#e3000f</td>\n",
       "      <td>25.0</td>\n",
       "      <td>ÖDP</td>\n",
       "      <td>Dietmar Eichhorn</td>\n",
       "      <td>#b5152b</td>\n",
       "      <td>13.1</td>\n",
       "      <td>+++ Dietmar Eichhorn (ÖDP), 13.1% +++ Yvonne ...</td>\n",
       "    </tr>\n",
       "    <tr>\n",
       "      <th>418</th>\n",
       "      <td>14523440</td>\n",
       "      <td>Triebel/Vogtl.</td>\n",
       "      <td>166</td>\n",
       "      <td>Vogtlandkreis</td>\n",
       "      <td>SPD</td>\n",
       "      <td>Kay Burmeister</td>\n",
       "      <td>#e3000f</td>\n",
       "      <td>SPD</td>\n",
       "      <td>Kay Burmeister</td>\n",
       "      <td>#e3000f</td>\n",
       "      <td>25.5</td>\n",
       "      <td>AfD</td>\n",
       "      <td>Mathias Weiser</td>\n",
       "      <td>#009ee0</td>\n",
       "      <td>24.8</td>\n",
       "      <td>ÖDP</td>\n",
       "      <td>Dietmar Eichhorn</td>\n",
       "      <td>#b5152b</td>\n",
       "      <td>13.2</td>\n",
       "      <td>+++ Dietmar Eichhorn (ÖDP), 13.2% +++ Yvonne ...</td>\n",
       "    </tr>\n",
       "    <tr>\n",
       "      <th>419</th>\n",
       "      <td>14523450</td>\n",
       "      <td>Weischlitz</td>\n",
       "      <td>166</td>\n",
       "      <td>Vogtlandkreis</td>\n",
       "      <td>AfD</td>\n",
       "      <td>Mathias Weiser</td>\n",
       "      <td>#009ee0</td>\n",
       "      <td>AfD</td>\n",
       "      <td>Mathias Weiser</td>\n",
       "      <td>#009ee0</td>\n",
       "      <td>24.9</td>\n",
       "      <td>SPD</td>\n",
       "      <td>Kay Burmeister</td>\n",
       "      <td>#e3000f</td>\n",
       "      <td>24.6</td>\n",
       "      <td>Die Linke</td>\n",
       "      <td>Johannes Höfer</td>\n",
       "      <td>#b5152b</td>\n",
       "      <td>12.6</td>\n",
       "      <td>+++ Johannes Höfer (DIE LINKE), 12.6% +++ Yvo...</td>\n",
       "    </tr>\n",
       "    <tr>\n",
       "      <th>420</th>\n",
       "      <td>14523460</td>\n",
       "      <td>Werda</td>\n",
       "      <td>166</td>\n",
       "      <td>Vogtlandkreis</td>\n",
       "      <td>AfD</td>\n",
       "      <td>Mathias Weiser</td>\n",
       "      <td>#009ee0</td>\n",
       "      <td>AfD</td>\n",
       "      <td>Mathias Weiser</td>\n",
       "      <td>#009ee0</td>\n",
       "      <td>25.3</td>\n",
       "      <td>SPD</td>\n",
       "      <td>Kay Burmeister</td>\n",
       "      <td>#e3000f</td>\n",
       "      <td>24.8</td>\n",
       "      <td>ÖDP</td>\n",
       "      <td>Dietmar Eichhorn</td>\n",
       "      <td>#b5152b</td>\n",
       "      <td>12.6</td>\n",
       "      <td>+++ Dietmar Eichhorn (ÖDP), 12.6% +++ Yvonne ...</td>\n",
       "    </tr>\n",
       "  </tbody>\n",
       "</table>\n",
       "<p>421 rows × 20 columns</p>\n",
       "</div>"
      ],
      "text/plain": [
       "          AGS                      Ort KreisId      KreisName Gewinner_Partei  \\\n",
       "0    14730010                  Arzberg     151    Nordsachsen             AfD   \n",
       "1    14730020         Bad Düben, Stadt     151    Nordsachsen             AfD   \n",
       "2    14730030                 Beilrode     151    Nordsachsen             AfD   \n",
       "3    14730045  Belgern-Schildau, Stadt     151    Nordsachsen             SPD   \n",
       "4    14730050                Cavertitz     151    Nordsachsen             SPD   \n",
       "..        ...                      ...     ...            ...             ...   \n",
       "416  14523420              Tirpersdorf     166  Vogtlandkreis             AfD   \n",
       "417  14523430            Treuen, Stadt     166  Vogtlandkreis             AfD   \n",
       "418  14523440           Triebel/Vogtl.     166  Vogtlandkreis             SPD   \n",
       "419  14523450               Weischlitz     166  Vogtlandkreis             AfD   \n",
       "420  14523460                    Werda     166  Vogtlandkreis             AfD   \n",
       "\n",
       "       Gewinner_Name Gewinner_c Partei_1       Partei_1_k Partei_1_c  \\\n",
       "0      René Bochmann    #009ee0      AfD    René Bochmann    #009ee0   \n",
       "1      René Bochmann    #009ee0      AfD    René Bochmann    #009ee0   \n",
       "2      René Bochmann    #009ee0      AfD    René Bochmann    #009ee0   \n",
       "3    Rüdiger Kleinke    #e3000f      SPD  Rüdiger Kleinke    #e3000f   \n",
       "4    Rüdiger Kleinke    #e3000f      SPD  Rüdiger Kleinke    #e3000f   \n",
       "..               ...        ...      ...              ...        ...   \n",
       "416   Mathias Weiser    #009ee0      AfD   Mathias Weiser    #009ee0   \n",
       "417   Mathias Weiser    #009ee0      AfD   Mathias Weiser    #009ee0   \n",
       "418   Kay Burmeister    #e3000f      SPD   Kay Burmeister    #e3000f   \n",
       "419   Mathias Weiser    #009ee0      AfD   Mathias Weiser    #009ee0   \n",
       "420   Mathias Weiser    #009ee0      AfD   Mathias Weiser    #009ee0   \n",
       "\n",
       "     Partei_1_a Partei_2       Partei_2_k Partei_2_c  Partei_2_a    Partei_3  \\\n",
       "0          25.0      SPD  Rüdiger Kleinke    #e3000f        24.2  Die Partei   \n",
       "1          25.2      SPD  Rüdiger Kleinke    #e3000f        25.0         CDU   \n",
       "2          25.3      SPD  Rüdiger Kleinke    #e3000f        25.2         CDU   \n",
       "3          25.1      AfD    René Bochmann    #009ee0        25.0  Die Partei   \n",
       "4          24.7      AfD    René Bochmann    #009ee0        24.5  Die Partei   \n",
       "..          ...      ...              ...        ...         ...         ...   \n",
       "416        24.2      SPD   Kay Burmeister    #e3000f        24.1         CDU   \n",
       "417        25.2      SPD   Kay Burmeister    #e3000f        25.0         ÖDP   \n",
       "418        25.5      AfD   Mathias Weiser    #009ee0        24.8         ÖDP   \n",
       "419        24.9      SPD   Kay Burmeister    #e3000f        24.6   Die Linke   \n",
       "420        25.3      SPD   Kay Burmeister    #e3000f        24.8         ÖDP   \n",
       "\n",
       "                      Partei_3_k Partei_3_c  Partei_3_a  \\\n",
       "0                Karsten Gutjahr    #b5152b        16.8   \n",
       "1    Dr. Christiane Schenderlein    #32302e        12.5   \n",
       "2    Dr. Christiane Schenderlein    #32302e        12.7   \n",
       "3                Karsten Gutjahr    #b5152b        14.2   \n",
       "4                Karsten Gutjahr    #b5152b        15.1   \n",
       "..                           ...        ...         ...   \n",
       "416                Yvonne Magwas    #32302e        12.7   \n",
       "417             Dietmar Eichhorn    #b5152b        13.1   \n",
       "418             Dietmar Eichhorn    #b5152b        13.2   \n",
       "419               Johannes Höfer    #b5152b        12.6   \n",
       "420             Dietmar Eichhorn    #b5152b        12.6   \n",
       "\n",
       "                                        fließtext_rest  \n",
       "0     +++ Karsten Gutjahr (Die PARTEI), 16.8% +++ P...  \n",
       "1     +++ Dr. Christiane Schenderlein (CDU), 12.5% ...  \n",
       "2     +++ Dr. Christiane Schenderlein (CDU), 12.7% ...  \n",
       "3     +++ Karsten Gutjahr (Die PARTEI), 14.2% +++ D...  \n",
       "4     +++ Karsten Gutjahr (Die PARTEI), 15.1% +++ D...  \n",
       "..                                                 ...  \n",
       "416   +++ Yvonne Magwas (CDU), 12.7% +++ Johannes H...  \n",
       "417   +++ Dietmar Eichhorn (ÖDP), 13.1% +++ Yvonne ...  \n",
       "418   +++ Dietmar Eichhorn (ÖDP), 13.2% +++ Yvonne ...  \n",
       "419   +++ Johannes Höfer (DIE LINKE), 12.6% +++ Yvo...  \n",
       "420   +++ Dietmar Eichhorn (ÖDP), 12.6% +++ Yvonne ...  \n",
       "\n",
       "[421 rows x 20 columns]"
      ]
     },
     "execution_count": 87,
     "metadata": {},
     "output_type": "execute_result"
    }
   ],
   "source": [
    "df_es_dw"
   ]
  },
  {
   "cell_type": "code",
   "execution_count": 93,
   "id": "1b152c0e",
   "metadata": {
    "ExecuteTime": {
     "end_time": "2021-09-25T16:11:35.482761Z",
     "start_time": "2021-09-25T16:11:31.234462Z"
    }
   },
   "outputs": [
    {
     "name": "stdout",
     "output_type": "stream",
     "text": [
      "Chart updated!\n",
      "Chart's metadata updated!\n",
      "Aktualisierung Erststimme Gemeindekarte abgeschlossen.\n"
     ]
    }
   ],
   "source": [
    "\n",
    "# chart_id = \"pLIgz\"\n",
    "#testid\n",
    "#chart_id = \"i8QRf\"\n",
    "\n",
    "#test2\n",
    "chart_id = \"5OhSu\"\n",
    "dw.add_data(chart_id, df_es_dw)\n",
    "\n",
    "# Wahlbeteiligung und Quellen eintragen: \n",
    "source_name = \"<b style='color: grey'>Landeswahlleiter</b>\"\n",
    "source_url = \"https://wahlen.sachsen.de/bundestagswahl-2021.html\"\n",
    "byline = \"Christoph Knoop | Die Mehrwertmacher GmbH\"\n",
    "\n",
    "unterzeile = f\"<b>Ergebnis Erststimmen für Direktkandidaten</b><br>Graugefärbte Gemeinden noch ohne Ergebnis.\"\n",
    "dw.update_description(chart_id,source_name=source_name, source_url=source_url,\\\n",
    "                      byline=byline, intro=unterzeile)\n",
    "\n",
    "# Datenstand und Auszählungsstand eintragen\n",
    "string_1 = \"<b>Ergebnisse auf Gemeindeeben. Kandidaten, die in einer Gemeinde gewonnen haben, können trotzdem im gesamten Wahlkreis unterlegen sein.</b><br>\"\n",
    "string_date1 = f\"Datenstand: {datenstand}.\"\n",
    "#string_date1 = datenstand\n",
    "#string_date2 = f\" <b>{abfrage} ausgezählt.</b>\"\n",
    "string_final = string_1 + string_date1\n",
    "props = {'annotate': {'notes': string_final}}\n",
    "dw.update_metadata(chart_id, props)\n",
    "dw.publish_chart(chart_id, display=False)\n",
    "#endregion\n",
    "print(\"Aktualisierung Erststimme Gemeindekarte abgeschlossen.\")"
   ]
  },
  {
   "cell_type": "code",
   "execution_count": 92,
   "id": "63226966",
   "metadata": {
    "ExecuteTime": {
     "end_time": "2021-09-25T16:06:21.554595Z",
     "start_time": "2021-09-25T16:06:21.536645Z"
    }
   },
   "outputs": [
    {
     "data": {
      "text/html": [
       "<div>\n",
       "<style scoped>\n",
       "    .dataframe tbody tr th:only-of-type {\n",
       "        vertical-align: middle;\n",
       "    }\n",
       "\n",
       "    .dataframe tbody tr th {\n",
       "        vertical-align: top;\n",
       "    }\n",
       "\n",
       "    .dataframe thead th {\n",
       "        text-align: right;\n",
       "    }\n",
       "</style>\n",
       "<table border=\"1\" class=\"dataframe\">\n",
       "  <thead>\n",
       "    <tr style=\"text-align: right;\">\n",
       "      <th></th>\n",
       "      <th>AGS</th>\n",
       "      <th>Ort</th>\n",
       "      <th>KreisId</th>\n",
       "      <th>KreisName</th>\n",
       "      <th>Gewinner_Partei</th>\n",
       "      <th>Gewinner_Name</th>\n",
       "      <th>Gewinner_c</th>\n",
       "      <th>Partei_1</th>\n",
       "      <th>Partei_1_k</th>\n",
       "      <th>Partei_1_c</th>\n",
       "      <th>Partei_1_a</th>\n",
       "      <th>Partei_2</th>\n",
       "      <th>Partei_2_k</th>\n",
       "      <th>Partei_2_c</th>\n",
       "      <th>Partei_2_a</th>\n",
       "      <th>Partei_3</th>\n",
       "      <th>Partei_3_k</th>\n",
       "      <th>Partei_3_c</th>\n",
       "      <th>Partei_3_a</th>\n",
       "      <th>fließtext_rest</th>\n",
       "    </tr>\n",
       "  </thead>\n",
       "  <tbody>\n",
       "    <tr>\n",
       "      <th>231</th>\n",
       "      <td>146120001</td>\n",
       "      <td>Dresden I</td>\n",
       "      <td>159</td>\n",
       "      <td>Dresden I</td>\n",
       "      <td>AfD</td>\n",
       "      <td>Jens Maier</td>\n",
       "      <td>#009ee0</td>\n",
       "      <td>AfD</td>\n",
       "      <td>Jens Maier</td>\n",
       "      <td>#009ee0</td>\n",
       "      <td>25.0</td>\n",
       "      <td>SPD</td>\n",
       "      <td>Rasha Nasr</td>\n",
       "      <td>#e3000f</td>\n",
       "      <td>24.9</td>\n",
       "      <td>Die Linke</td>\n",
       "      <td>Katja Kipping</td>\n",
       "      <td>#b5152b</td>\n",
       "      <td>12.5</td>\n",
       "      <td>+++ Katja Kipping (DIE LINKE), 12.5% +++ Dr. ...</td>\n",
       "    </tr>\n",
       "    <tr>\n",
       "      <th>232</th>\n",
       "      <td>146120002</td>\n",
       "      <td>Dresden II</td>\n",
       "      <td>160</td>\n",
       "      <td>Dresden II/Bautzen II</td>\n",
       "      <td>SPD</td>\n",
       "      <td>Stephan Schumann</td>\n",
       "      <td>#e3000f</td>\n",
       "      <td>SPD</td>\n",
       "      <td>Stephan Schumann</td>\n",
       "      <td>#e3000f</td>\n",
       "      <td>24.9</td>\n",
       "      <td>AfD</td>\n",
       "      <td>Andreas Harlaß</td>\n",
       "      <td>#009ee0</td>\n",
       "      <td>24.8</td>\n",
       "      <td>Die Linke</td>\n",
       "      <td>Silvio Lang</td>\n",
       "      <td>#b5152b</td>\n",
       "      <td>12.5</td>\n",
       "      <td>+++ Silvio Lang (DIE LINKE), 12.5% +++ Lars R...</td>\n",
       "    </tr>\n",
       "  </tbody>\n",
       "</table>\n",
       "</div>"
      ],
      "text/plain": [
       "           AGS         Ort KreisId              KreisName Gewinner_Partei  \\\n",
       "231  146120001   Dresden I     159              Dresden I             AfD   \n",
       "232  146120002  Dresden II     160  Dresden II/Bautzen II             SPD   \n",
       "\n",
       "        Gewinner_Name Gewinner_c Partei_1        Partei_1_k Partei_1_c  \\\n",
       "231        Jens Maier    #009ee0      AfD        Jens Maier    #009ee0   \n",
       "232  Stephan Schumann    #e3000f      SPD  Stephan Schumann    #e3000f   \n",
       "\n",
       "     Partei_1_a Partei_2      Partei_2_k Partei_2_c  Partei_2_a   Partei_3  \\\n",
       "231        25.0      SPD      Rasha Nasr    #e3000f        24.9  Die Linke   \n",
       "232        24.9      AfD  Andreas Harlaß    #009ee0        24.8  Die Linke   \n",
       "\n",
       "        Partei_3_k Partei_3_c  Partei_3_a  \\\n",
       "231  Katja Kipping    #b5152b        12.5   \n",
       "232    Silvio Lang    #b5152b        12.5   \n",
       "\n",
       "                                        fließtext_rest  \n",
       "231   +++ Katja Kipping (DIE LINKE), 12.5% +++ Dr. ...  \n",
       "232   +++ Silvio Lang (DIE LINKE), 12.5% +++ Lars R...  "
      ]
     },
     "execution_count": 92,
     "metadata": {},
     "output_type": "execute_result"
    }
   ],
   "source": [
    "df_es_dw[df_es_dw[\"Ort\"].str.contains(\"Dresden\")]"
   ]
  },
  {
   "cell_type": "markdown",
   "id": "47ce3ee5",
   "metadata": {},
   "source": [
    "## Grafik als Png ausspielen"
   ]
  },
  {
   "cell_type": "code",
   "execution_count": null,
   "id": "e9409f6b",
   "metadata": {},
   "outputs": [],
   "source": []
  },
  {
   "cell_type": "markdown",
   "id": "61f5ce75",
   "metadata": {},
   "source": [
    "## PNG an Server schicken"
   ]
  },
  {
   "cell_type": "code",
   "execution_count": null,
   "id": "9e13968d",
   "metadata": {},
   "outputs": [],
   "source": []
  }
 ],
 "metadata": {
  "hide_input": false,
  "kernelspec": {
   "display_name": "Python 3",
   "language": "python",
   "name": "python3"
  },
  "language_info": {
   "codemirror_mode": {
    "name": "ipython",
    "version": 3
   },
   "file_extension": ".py",
   "mimetype": "text/x-python",
   "name": "python",
   "nbconvert_exporter": "python",
   "pygments_lexer": "ipython3",
   "version": "3.9.5"
  },
  "toc": {
   "base_numbering": 1,
   "nav_menu": {},
   "number_sections": true,
   "sideBar": true,
   "skip_h1_title": false,
   "title_cell": "Table of Contents",
   "title_sidebar": "Contents",
   "toc_cell": false,
   "toc_position": {},
   "toc_section_display": true,
   "toc_window_display": false
  },
  "varInspector": {
   "cols": {
    "lenName": 16,
    "lenType": 16,
    "lenVar": 40
   },
   "kernels_config": {
    "python": {
     "delete_cmd_postfix": "",
     "delete_cmd_prefix": "del ",
     "library": "var_list.py",
     "varRefreshCmd": "print(var_dic_list())"
    },
    "r": {
     "delete_cmd_postfix": ") ",
     "delete_cmd_prefix": "rm(",
     "library": "var_list.r",
     "varRefreshCmd": "cat(var_dic_list()) "
    }
   },
   "types_to_exclude": [
    "module",
    "function",
    "builtin_function_or_method",
    "instance",
    "_Feature"
   ],
   "window_display": false
  }
 },
 "nbformat": 4,
 "nbformat_minor": 5
}
