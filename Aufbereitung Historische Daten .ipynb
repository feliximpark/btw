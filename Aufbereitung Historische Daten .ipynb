{
 "cells": [
  {
   "cell_type": "code",
   "execution_count": 1,
   "id": "23f93064",
   "metadata": {
    "ExecuteTime": {
     "end_time": "2021-09-12T08:22:09.191601Z",
     "start_time": "2021-09-12T08:22:04.132911Z"
    }
   },
   "outputs": [],
   "source": [
    "import pandas as pd"
   ]
  },
  {
   "cell_type": "code",
   "execution_count": null,
   "id": "1e70100e",
   "metadata": {
    "ExecuteTime": {
     "end_time": "2021-09-11T15:26:33.136552Z",
     "start_time": "2021-09-11T15:26:30.486654Z"
    }
   },
   "outputs": [],
   "source": []
  },
  {
   "cell_type": "markdown",
   "id": "a81b780b",
   "metadata": {},
   "source": [
    "# Wahlergebnisse Gemeinden"
   ]
  },
  {
   "cell_type": "code",
   "execution_count": 23,
   "id": "c6320411",
   "metadata": {
    "ExecuteTime": {
     "end_time": "2021-09-12T08:39:44.991531Z",
     "start_time": "2021-09-12T08:39:44.598665Z"
    }
   },
   "outputs": [],
   "source": [
    "ergebnisse_ge = pd.read_excel(\"./data/BW17_Ergebnisse_ORIGINALE.xlsx\", sheet_name=\"BW17_Ergebnisse_GE_TG\")\n",
    "dfge = ergebnisse_ge.copy()\n",
    "dfge = dfge[['WK-Nr', 'AGS', 'Ortname',\n",
    "      'Wahlberechtigte', 'Wähler', 'ungültige_2', 'gültige_2', 'CDU_2',\n",
    "       'DIE LINKE_2', 'SPD_2', 'AfD_2', 'GRÜNE_2', 'NPD_2', 'FDP_2',\n",
    "       'PIRATEN_2', 'FREIE WÄHLER_2', 'BüSo_2', 'MLPD_2', 'BGE_2', 'DiB_2',\n",
    "       'ÖDP_2', 'Die PARTEI_2', 'Tierschutzpartei_2', 'V-Partei³_2']]"
   ]
  },
  {
   "cell_type": "code",
   "execution_count": 24,
   "id": "c5fefb04",
   "metadata": {
    "ExecuteTime": {
     "end_time": "2021-09-12T08:39:47.804729Z",
     "start_time": "2021-09-12T08:39:47.798744Z"
    }
   },
   "outputs": [],
   "source": [
    "dfge[\"WK-Nr\"] = dfge[\"WK-Nr\"].astype(str)\n",
    "dfge[\"AGS\"] = dfge[\"AGS\"].astype(str)"
   ]
  },
  {
   "cell_type": "code",
   "execution_count": 25,
   "id": "e5354442",
   "metadata": {
    "ExecuteTime": {
     "end_time": "2021-09-12T08:39:49.786293Z",
     "start_time": "2021-09-12T08:39:49.776320Z"
    }
   },
   "outputs": [
    {
     "name": "stdout",
     "output_type": "stream",
     "text": [
      "<class 'pandas.core.frame.DataFrame'>\n",
      "RangeIndex: 424 entries, 0 to 423\n",
      "Data columns (total 24 columns):\n",
      " #   Column              Non-Null Count  Dtype \n",
      "---  ------              --------------  ----- \n",
      " 0   WK-Nr               424 non-null    object\n",
      " 1   AGS                 424 non-null    object\n",
      " 2   Ortname             424 non-null    object\n",
      " 3   Wahlberechtigte     424 non-null    int64 \n",
      " 4   Wähler              424 non-null    int64 \n",
      " 5   ungültige_2         424 non-null    int64 \n",
      " 6   gültige_2           424 non-null    int64 \n",
      " 7   CDU_2               424 non-null    int64 \n",
      " 8   DIE LINKE_2         424 non-null    int64 \n",
      " 9   SPD_2               424 non-null    int64 \n",
      " 10  AfD_2               424 non-null    int64 \n",
      " 11  GRÜNE_2             424 non-null    int64 \n",
      " 12  NPD_2               424 non-null    int64 \n",
      " 13  FDP_2               424 non-null    int64 \n",
      " 14  PIRATEN_2           424 non-null    int64 \n",
      " 15  FREIE WÄHLER_2      424 non-null    int64 \n",
      " 16  BüSo_2              424 non-null    int64 \n",
      " 17  MLPD_2              424 non-null    int64 \n",
      " 18  BGE_2               424 non-null    int64 \n",
      " 19  DiB_2               424 non-null    int64 \n",
      " 20  ÖDP_2               424 non-null    int64 \n",
      " 21  Die PARTEI_2        424 non-null    int64 \n",
      " 22  Tierschutzpartei_2  424 non-null    int64 \n",
      " 23  V-Partei³_2         424 non-null    int64 \n",
      "dtypes: int64(21), object(3)\n",
      "memory usage: 79.6+ KB\n"
     ]
    }
   ],
   "source": [
    "dfge.info()"
   ]
  },
  {
   "cell_type": "markdown",
   "id": "fc80f228",
   "metadata": {
    "ExecuteTime": {
     "end_time": "2021-09-12T08:23:17.513082Z",
     "start_time": "2021-09-12T08:23:17.507098Z"
    }
   },
   "source": [
    "## Leipzig und Dresden zusammenfassen"
   ]
  },
  {
   "cell_type": "code",
   "execution_count": 26,
   "id": "1011854e",
   "metadata": {
    "ExecuteTime": {
     "end_time": "2021-09-12T08:40:40.441484Z",
     "start_time": "2021-09-12T08:40:40.435099Z"
    }
   },
   "outputs": [
    {
     "data": {
      "text/plain": [
       "Index(['WK-Nr', 'AGS', 'Ortname', 'Wahlberechtigte', 'Wähler', 'ungültige_2',\n",
       "       'gültige_2', 'CDU_2', 'DIE LINKE_2', 'SPD_2', 'AfD_2', 'GRÜNE_2',\n",
       "       'NPD_2', 'FDP_2', 'PIRATEN_2', 'FREIE WÄHLER_2', 'BüSo_2', 'MLPD_2',\n",
       "       'BGE_2', 'DiB_2', 'ÖDP_2', 'Die PARTEI_2', 'Tierschutzpartei_2',\n",
       "       'V-Partei³_2'],\n",
       "      dtype='object')"
      ]
     },
     "execution_count": 26,
     "metadata": {},
     "output_type": "execute_result"
    }
   ],
   "source": [
    "dfge.columns"
   ]
  },
  {
   "cell_type": "code",
   "execution_count": 46,
   "id": "1d4451d8",
   "metadata": {
    "ExecuteTime": {
     "end_time": "2021-09-12T08:58:49.652494Z",
     "start_time": "2021-09-12T08:58:49.635540Z"
    }
   },
   "outputs": [
    {
     "data": {
      "text/html": [
       "<div>\n",
       "<style scoped>\n",
       "    .dataframe tbody tr th:only-of-type {\n",
       "        vertical-align: middle;\n",
       "    }\n",
       "\n",
       "    .dataframe tbody tr th {\n",
       "        vertical-align: top;\n",
       "    }\n",
       "\n",
       "    .dataframe thead th {\n",
       "        text-align: right;\n",
       "    }\n",
       "</style>\n",
       "<table border=\"1\" class=\"dataframe\">\n",
       "  <thead>\n",
       "    <tr style=\"text-align: right;\">\n",
       "      <th></th>\n",
       "      <th>WK-Nr</th>\n",
       "      <th>AGS</th>\n",
       "      <th>Ortname</th>\n",
       "      <th>Wahlberechtigte</th>\n",
       "      <th>Wähler</th>\n",
       "      <th>ungültige_2</th>\n",
       "      <th>gültige_2</th>\n",
       "      <th>CDU_2</th>\n",
       "      <th>DIE LINKE_2</th>\n",
       "      <th>SPD_2</th>\n",
       "      <th>...</th>\n",
       "      <th>PIRATEN_2</th>\n",
       "      <th>FREIE WÄHLER_2</th>\n",
       "      <th>BüSo_2</th>\n",
       "      <th>MLPD_2</th>\n",
       "      <th>BGE_2</th>\n",
       "      <th>DiB_2</th>\n",
       "      <th>ÖDP_2</th>\n",
       "      <th>Die PARTEI_2</th>\n",
       "      <th>Tierschutzpartei_2</th>\n",
       "      <th>V-Partei³_2</th>\n",
       "    </tr>\n",
       "  </thead>\n",
       "  <tbody>\n",
       "    <tr>\n",
       "      <th>278</th>\n",
       "      <td>163</td>\n",
       "      <td>14521040</td>\n",
       "      <td>Auerbach</td>\n",
       "      <td>2153</td>\n",
       "      <td>1668</td>\n",
       "      <td>26</td>\n",
       "      <td>1642</td>\n",
       "      <td>498</td>\n",
       "      <td>226</td>\n",
       "      <td>182</td>\n",
       "      <td>...</td>\n",
       "      <td>4</td>\n",
       "      <td>25</td>\n",
       "      <td>2</td>\n",
       "      <td>1</td>\n",
       "      <td>5</td>\n",
       "      <td>5</td>\n",
       "      <td>4</td>\n",
       "      <td>14</td>\n",
       "      <td>26</td>\n",
       "      <td>1</td>\n",
       "    </tr>\n",
       "    <tr>\n",
       "      <th>318</th>\n",
       "      <td>164</td>\n",
       "      <td>14521030</td>\n",
       "      <td>Aue, Stadt</td>\n",
       "      <td>13507</td>\n",
       "      <td>9473</td>\n",
       "      <td>142</td>\n",
       "      <td>9331</td>\n",
       "      <td>2587</td>\n",
       "      <td>1637</td>\n",
       "      <td>976</td>\n",
       "      <td>...</td>\n",
       "      <td>30</td>\n",
       "      <td>138</td>\n",
       "      <td>7</td>\n",
       "      <td>11</td>\n",
       "      <td>30</td>\n",
       "      <td>21</td>\n",
       "      <td>23</td>\n",
       "      <td>97</td>\n",
       "      <td>155</td>\n",
       "      <td>21</td>\n",
       "    </tr>\n",
       "    <tr>\n",
       "      <th>388</th>\n",
       "      <td>166</td>\n",
       "      <td>14523020</td>\n",
       "      <td>Auerbach/Vogtl., Stadt</td>\n",
       "      <td>15763</td>\n",
       "      <td>11529</td>\n",
       "      <td>136</td>\n",
       "      <td>11393</td>\n",
       "      <td>3766</td>\n",
       "      <td>1855</td>\n",
       "      <td>1282</td>\n",
       "      <td>...</td>\n",
       "      <td>29</td>\n",
       "      <td>82</td>\n",
       "      <td>8</td>\n",
       "      <td>11</td>\n",
       "      <td>25</td>\n",
       "      <td>15</td>\n",
       "      <td>20</td>\n",
       "      <td>107</td>\n",
       "      <td>174</td>\n",
       "      <td>11</td>\n",
       "    </tr>\n",
       "  </tbody>\n",
       "</table>\n",
       "<p>3 rows × 24 columns</p>\n",
       "</div>"
      ],
      "text/plain": [
       "    WK-Nr       AGS                 Ortname  Wahlberechtigte  Wähler  \\\n",
       "278   163  14521040                Auerbach             2153    1668   \n",
       "318   164  14521030              Aue, Stadt            13507    9473   \n",
       "388   166  14523020  Auerbach/Vogtl., Stadt            15763   11529   \n",
       "\n",
       "     ungültige_2  gültige_2  CDU_2  DIE LINKE_2  SPD_2  ...  PIRATEN_2  \\\n",
       "278           26       1642    498          226    182  ...          4   \n",
       "318          142       9331   2587         1637    976  ...         30   \n",
       "388          136      11393   3766         1855   1282  ...         29   \n",
       "\n",
       "     FREIE WÄHLER_2  BüSo_2  MLPD_2  BGE_2  DiB_2  ÖDP_2  Die PARTEI_2  \\\n",
       "278              25       2       1      5      5      4            14   \n",
       "318             138       7      11     30     21     23            97   \n",
       "388              82       8      11     25     15     20           107   \n",
       "\n",
       "     Tierschutzpartei_2  V-Partei³_2  \n",
       "278                  26            1  \n",
       "318                 155           21  \n",
       "388                 174           11  \n",
       "\n",
       "[3 rows x 24 columns]"
      ]
     },
     "execution_count": 46,
     "metadata": {},
     "output_type": "execute_result"
    }
   ],
   "source": [
    "dfge[dfge[\"Ortname\"].str.contains(\"Aue\")]"
   ]
  },
  {
   "cell_type": "code",
   "execution_count": null,
   "id": "1f478cdc",
   "metadata": {},
   "outputs": [],
   "source": [
    "# Aue Stadt 14521030 \n",
    "# Bad Schlema 14521050 wK 164\n",
    "# Neu: Aue-Bad Schlema 14521035 wk 164"
   ]
  },
  {
   "cell_type": "code",
   "execution_count": 47,
   "id": "986ae89e",
   "metadata": {
    "ExecuteTime": {
     "end_time": "2021-09-12T08:59:37.383239Z",
     "start_time": "2021-09-12T08:59:37.376258Z"
    }
   },
   "outputs": [],
   "source": [
    "# Aue/Bad Schlema zusammenführen\n",
    "dfge.loc[dfge[\"AGS\"]==\"14521030\", \"Ortname\"] = \"Aue-Bad Schlema\"\n",
    "dfge.loc[dfge[\"AGS\"]==\"14521050\", \"Ortname\"] = \"Aue-Bad Schlema\""
   ]
  },
  {
   "cell_type": "code",
   "execution_count": 48,
   "id": "38a5f979",
   "metadata": {
    "ExecuteTime": {
     "end_time": "2021-09-12T09:00:07.277595Z",
     "start_time": "2021-09-12T09:00:07.248672Z"
    }
   },
   "outputs": [
    {
     "name": "stderr",
     "output_type": "stream",
     "text": [
      "<ipython-input-48-5962a3eab774>:4: SettingWithCopyWarning: \n",
      "A value is trying to be set on a copy of a slice from a DataFrame.\n",
      "Try using .loc[row_indexer,col_indexer] = value instead\n",
      "\n",
      "See the caveats in the documentation: https://pandas.pydata.org/pandas-docs/stable/user_guide/indexing.html#returning-a-view-versus-a-copy\n",
      "  dfc[\"Ortname\"] = city\n"
     ]
    }
   ],
   "source": [
    "def summarize_cities(df, city, ags=\"14612000\", wknr = \"159-160\"): \n",
    "    \n",
    "    dfc = df[df[\"Ortname\"].str.contains(city)]\n",
    "    dfc[\"Ortname\"] = city\n",
    "    \n",
    "    dfc_group = dfc.groupby(\"Ortname\", as_index=False).sum()\n",
    "    dfc_group[\"AGS\"] = ags\n",
    "    dfc_group[\"WK-Nr\"] = wknr\n",
    "    dfc_group =dfc_group[['WK-Nr', 'AGS', 'Ortname', 'Wahlberechtigte', 'Wähler', 'ungültige_2',\n",
    "       'gültige_2', 'CDU_2', 'DIE LINKE_2', 'SPD_2', 'AfD_2', 'GRÜNE_2',\n",
    "       'NPD_2', 'FDP_2', 'PIRATEN_2', 'FREIE WÄHLER_2', 'BüSo_2', 'MLPD_2',\n",
    "       'BGE_2', 'DiB_2', 'ÖDP_2', 'Die PARTEI_2', 'Tierschutzpartei_2',\n",
    "       'V-Partei³_2']]\n",
    "   \n",
    "    df_neu = df[~df.Ortname.str.contains(city)]\n",
    "    df_neu = df_neu.append(dfc_group)\n",
    "    return df_neu\n",
    "\n",
    "\n",
    "df_cit = summarize_cities(dfge, \"Dresden\")\n",
    "df_cit = summarize_cities(df_cit, \"Leipzig\", ags=\"14713000\", wknr = \"152-153\")\n",
    "df_cit = summarize_cities(df_cit, \"Aue-Bad Schlema\", ags=\"14521035\", wknr = \"164\")\n",
    "# Aue-BadSchlema zusammenfassen\n"
   ]
  },
  {
   "cell_type": "code",
   "execution_count": null,
   "id": "ffc8d1cd",
   "metadata": {},
   "outputs": [],
   "source": []
  },
  {
   "cell_type": "code",
   "execution_count": 49,
   "id": "d798bd78",
   "metadata": {
    "ExecuteTime": {
     "end_time": "2021-09-12T09:00:10.946974Z",
     "start_time": "2021-09-12T09:00:10.020214Z"
    }
   },
   "outputs": [],
   "source": [
    "def create_results(df, id_name=\"AGS\" ,ort_name = \"Ortname\"): \n",
    "    #\"1\":\"AfD\", \"2\":\"CDU\", \"3\":\"LINKE\", \"4\":\"SPD\", \"5\":\"FDP\", \"6\":\"GRÜNE\"\n",
    "    \n",
    "    cols = [\"AGS\", \"Ort\", \"2017_AfD_%\", \"2017_CDU_%\", \"2017_LINKE_%\", \"2017_SPD_%\", \"2017_FDP_%\", \"2017_GRÜNE_%\", \"2017_andere_%\"]\n",
    "    \n",
    "    new_df = pd.DataFrame(columns = cols)\n",
    "    \n",
    "    for ags in df[id_name].unique():\n",
    "        df_ = df[df[id_name]==ags]\n",
    "        ort = df_[ort_name].item()\n",
    "        gültige_zweitstimmen = df_.gültige_2.item()\n",
    "        \n",
    "        afd = df_.AfD_2.item()\n",
    "        afd_p = round(afd / gültige_zweitstimmen * 100,1)\n",
    "        cdu = df_.CDU_2.item()\n",
    "        cdu_p = round(cdu / gültige_zweitstimmen * 100,1)\n",
    "        linke = df_[\"DIE LINKE_2\"].item()\n",
    "        linke_p = round(linke / gültige_zweitstimmen * 100,1)\n",
    "        spd = df_.SPD_2.item()\n",
    "        spd_p = round(spd / gültige_zweitstimmen * 100,1)\n",
    "        fdp = df_.FDP_2.item()\n",
    "        fdp_p = round(fdp / gültige_zweitstimmen * 100,1)\n",
    "        grüne = df_.GRÜNE_2.item()\n",
    "        grüne_p = round(grüne / gültige_zweitstimmen * 100,1)\n",
    "        andere = gültige_zweitstimmen - (afd + cdu + linke + spd + fdp + grüne)\n",
    "        andere_p = round(andere/gültige_zweitstimmen * 100,1)\n",
    "        \n",
    "        new_ser = pd.Series([ags, ort, afd_p, cdu_p, linke_p, spd_p, fdp_p, grüne_p, andere_p ], index=cols)\n",
    "        new_df = new_df.append(new_ser, ignore_index=True)\n",
    "        \n",
    "    return new_df\n",
    "\n",
    "df = create_results(df_cit)\n",
    "        \n",
    "    "
   ]
  },
  {
   "cell_type": "code",
   "execution_count": 50,
   "id": "c38f0d44",
   "metadata": {
    "ExecuteTime": {
     "end_time": "2021-09-12T09:00:11.229580Z",
     "start_time": "2021-09-12T09:00:11.203607Z"
    }
   },
   "outputs": [],
   "source": [
    "df.to_csv(\"./data/BTW_2017_GE.csv\", index=False)"
   ]
  },
  {
   "cell_type": "code",
   "execution_count": 43,
   "id": "d5316dcb",
   "metadata": {
    "ExecuteTime": {
     "end_time": "2021-09-12T08:53:06.435378Z",
     "start_time": "2021-09-12T08:53:06.420386Z"
    }
   },
   "outputs": [
    {
     "data": {
      "text/html": [
       "<div>\n",
       "<style scoped>\n",
       "    .dataframe tbody tr th:only-of-type {\n",
       "        vertical-align: middle;\n",
       "    }\n",
       "\n",
       "    .dataframe tbody tr th {\n",
       "        vertical-align: top;\n",
       "    }\n",
       "\n",
       "    .dataframe thead th {\n",
       "        text-align: right;\n",
       "    }\n",
       "</style>\n",
       "<table border=\"1\" class=\"dataframe\">\n",
       "  <thead>\n",
       "    <tr style=\"text-align: right;\">\n",
       "      <th></th>\n",
       "      <th>AGS</th>\n",
       "      <th>Ort</th>\n",
       "      <th>2017_AfD_%</th>\n",
       "      <th>2017_CDU_%</th>\n",
       "      <th>2017_LINKE_%</th>\n",
       "      <th>2017_SPD_%</th>\n",
       "      <th>2017_FDP_%</th>\n",
       "      <th>2017_GRÜNE_%</th>\n",
       "      <th>2017_andere_%</th>\n",
       "    </tr>\n",
       "  </thead>\n",
       "  <tbody>\n",
       "    <tr>\n",
       "      <th>273</th>\n",
       "      <td>14511000</td>\n",
       "      <td>Chemnitz, Stadt</td>\n",
       "      <td>24.3</td>\n",
       "      <td>24.9</td>\n",
       "      <td>19.2</td>\n",
       "      <td>11.9</td>\n",
       "      <td>8.4</td>\n",
       "      <td>4.7</td>\n",
       "      <td>6.7</td>\n",
       "    </tr>\n",
       "  </tbody>\n",
       "</table>\n",
       "</div>"
      ],
      "text/plain": [
       "          AGS              Ort  2017_AfD_%  2017_CDU_%  2017_LINKE_%  \\\n",
       "273  14511000  Chemnitz, Stadt        24.3        24.9          19.2   \n",
       "\n",
       "     2017_SPD_%  2017_FDP_%  2017_GRÜNE_%  2017_andere_%  \n",
       "273        11.9         8.4           4.7            6.7  "
      ]
     },
     "execution_count": 43,
     "metadata": {},
     "output_type": "execute_result"
    }
   ],
   "source": [
    "df[df[\"Ort\"].str.contains(\"Chemnitz\")]14511000"
   ]
  },
  {
   "cell_type": "markdown",
   "id": "ee2deb7e",
   "metadata": {},
   "source": [
    "# Wahlergebnis WK"
   ]
  },
  {
   "cell_type": "code",
   "execution_count": 17,
   "id": "4b99fb13",
   "metadata": {
    "ExecuteTime": {
     "end_time": "2021-09-11T15:47:26.036534Z",
     "start_time": "2021-09-11T15:47:25.775477Z"
    }
   },
   "outputs": [],
   "source": [
    "ergebnisse_wk = pd.read_excel(\"./data/BW17_Ergebnisse_ORIGINALE.xlsx\", sheet_name=\"BW17_Ergebnisse_WK\")\n",
    "dfwk = ergebnisse_wk.copy()"
   ]
  },
  {
   "cell_type": "code",
   "execution_count": 23,
   "id": "f4e245bd",
   "metadata": {
    "ExecuteTime": {
     "end_time": "2021-09-11T15:49:42.211309Z",
     "start_time": "2021-09-11T15:49:42.159370Z"
    }
   },
   "outputs": [],
   "source": [
    "df_wk = create_results(dfwk, id_name=\"WK-Nr\", ort_name=\"WK-Name\")"
   ]
  },
  {
   "cell_type": "code",
   "execution_count": 24,
   "id": "eaca9ae3",
   "metadata": {
    "ExecuteTime": {
     "end_time": "2021-09-11T15:49:45.218558Z",
     "start_time": "2021-09-11T15:49:45.198453Z"
    }
   },
   "outputs": [
    {
     "data": {
      "text/html": [
       "<div>\n",
       "<style scoped>\n",
       "    .dataframe tbody tr th:only-of-type {\n",
       "        vertical-align: middle;\n",
       "    }\n",
       "\n",
       "    .dataframe tbody tr th {\n",
       "        vertical-align: top;\n",
       "    }\n",
       "\n",
       "    .dataframe thead th {\n",
       "        text-align: right;\n",
       "    }\n",
       "</style>\n",
       "<table border=\"1\" class=\"dataframe\">\n",
       "  <thead>\n",
       "    <tr style=\"text-align: right;\">\n",
       "      <th></th>\n",
       "      <th>AGS</th>\n",
       "      <th>Ort</th>\n",
       "      <th>AfD_%</th>\n",
       "      <th>CDU_%</th>\n",
       "      <th>LINKE_%</th>\n",
       "      <th>SPD_%</th>\n",
       "      <th>FDP_%</th>\n",
       "      <th>GRÜNE_%</th>\n",
       "      <th>andere</th>\n",
       "    </tr>\n",
       "  </thead>\n",
       "  <tbody>\n",
       "    <tr>\n",
       "      <th>0</th>\n",
       "      <td>151</td>\n",
       "      <td>Nordsachsen</td>\n",
       "      <td>26.9</td>\n",
       "      <td>29.4</td>\n",
       "      <td>14.7</td>\n",
       "      <td>12.5</td>\n",
       "      <td>7.9</td>\n",
       "      <td>2.6</td>\n",
       "      <td>6.0</td>\n",
       "    </tr>\n",
       "    <tr>\n",
       "      <th>1</th>\n",
       "      <td>152</td>\n",
       "      <td>Leipzig I</td>\n",
       "      <td>20.8</td>\n",
       "      <td>23.5</td>\n",
       "      <td>19.5</td>\n",
       "      <td>12.9</td>\n",
       "      <td>8.5</td>\n",
       "      <td>7.1</td>\n",
       "      <td>7.7</td>\n",
       "    </tr>\n",
       "    <tr>\n",
       "      <th>2</th>\n",
       "      <td>153</td>\n",
       "      <td>Leipzig II</td>\n",
       "      <td>16.0</td>\n",
       "      <td>21.9</td>\n",
       "      <td>22.5</td>\n",
       "      <td>13.1</td>\n",
       "      <td>8.6</td>\n",
       "      <td>10.4</td>\n",
       "      <td>7.5</td>\n",
       "    </tr>\n",
       "    <tr>\n",
       "      <th>3</th>\n",
       "      <td>154</td>\n",
       "      <td>Leipzig-Land</td>\n",
       "      <td>26.9</td>\n",
       "      <td>30.1</td>\n",
       "      <td>14.7</td>\n",
       "      <td>11.4</td>\n",
       "      <td>8.1</td>\n",
       "      <td>3.2</td>\n",
       "      <td>5.7</td>\n",
       "    </tr>\n",
       "    <tr>\n",
       "      <th>4</th>\n",
       "      <td>155</td>\n",
       "      <td>Meißen</td>\n",
       "      <td>32.9</td>\n",
       "      <td>26.1</td>\n",
       "      <td>13.3</td>\n",
       "      <td>8.7</td>\n",
       "      <td>8.7</td>\n",
       "      <td>3.7</td>\n",
       "      <td>6.6</td>\n",
       "    </tr>\n",
       "    <tr>\n",
       "      <th>5</th>\n",
       "      <td>156</td>\n",
       "      <td>Bautzen I</td>\n",
       "      <td>32.8</td>\n",
       "      <td>27.1</td>\n",
       "      <td>14.2</td>\n",
       "      <td>9.1</td>\n",
       "      <td>7.6</td>\n",
       "      <td>2.4</td>\n",
       "      <td>6.9</td>\n",
       "    </tr>\n",
       "    <tr>\n",
       "      <th>6</th>\n",
       "      <td>157</td>\n",
       "      <td>Görlitz</td>\n",
       "      <td>32.9</td>\n",
       "      <td>26.7</td>\n",
       "      <td>14.0</td>\n",
       "      <td>9.3</td>\n",
       "      <td>7.0</td>\n",
       "      <td>2.9</td>\n",
       "      <td>7.2</td>\n",
       "    </tr>\n",
       "    <tr>\n",
       "      <th>7</th>\n",
       "      <td>158</td>\n",
       "      <td>Sächsische Schweiz-Osterzgebirge</td>\n",
       "      <td>35.5</td>\n",
       "      <td>25.6</td>\n",
       "      <td>12.8</td>\n",
       "      <td>7.8</td>\n",
       "      <td>8.3</td>\n",
       "      <td>3.0</td>\n",
       "      <td>7.0</td>\n",
       "    </tr>\n",
       "    <tr>\n",
       "      <th>8</th>\n",
       "      <td>159</td>\n",
       "      <td>Dresden I</td>\n",
       "      <td>23.1</td>\n",
       "      <td>24.4</td>\n",
       "      <td>17.1</td>\n",
       "      <td>10.6</td>\n",
       "      <td>10.3</td>\n",
       "      <td>7.7</td>\n",
       "      <td>6.8</td>\n",
       "    </tr>\n",
       "    <tr>\n",
       "      <th>9</th>\n",
       "      <td>160</td>\n",
       "      <td>Dresden II - Bautzen II</td>\n",
       "      <td>23.3</td>\n",
       "      <td>23.1</td>\n",
       "      <td>17.3</td>\n",
       "      <td>9.7</td>\n",
       "      <td>9.6</td>\n",
       "      <td>9.0</td>\n",
       "      <td>8.1</td>\n",
       "    </tr>\n",
       "    <tr>\n",
       "      <th>10</th>\n",
       "      <td>161</td>\n",
       "      <td>Mittelsachsen</td>\n",
       "      <td>31.2</td>\n",
       "      <td>27.7</td>\n",
       "      <td>14.5</td>\n",
       "      <td>9.7</td>\n",
       "      <td>7.9</td>\n",
       "      <td>2.8</td>\n",
       "      <td>6.2</td>\n",
       "    </tr>\n",
       "    <tr>\n",
       "      <th>11</th>\n",
       "      <td>162</td>\n",
       "      <td>Chemnitz</td>\n",
       "      <td>24.3</td>\n",
       "      <td>24.9</td>\n",
       "      <td>19.2</td>\n",
       "      <td>11.9</td>\n",
       "      <td>8.4</td>\n",
       "      <td>4.7</td>\n",
       "      <td>6.7</td>\n",
       "    </tr>\n",
       "    <tr>\n",
       "      <th>12</th>\n",
       "      <td>163</td>\n",
       "      <td>Chemnitzer Umland - Erzgebirgskreis II</td>\n",
       "      <td>26.8</td>\n",
       "      <td>30.6</td>\n",
       "      <td>15.3</td>\n",
       "      <td>10.6</td>\n",
       "      <td>7.7</td>\n",
       "      <td>2.8</td>\n",
       "      <td>6.3</td>\n",
       "    </tr>\n",
       "    <tr>\n",
       "      <th>13</th>\n",
       "      <td>164</td>\n",
       "      <td>Erzgebirgskreis I</td>\n",
       "      <td>29.2</td>\n",
       "      <td>31.0</td>\n",
       "      <td>14.1</td>\n",
       "      <td>9.4</td>\n",
       "      <td>7.4</td>\n",
       "      <td>2.2</td>\n",
       "      <td>6.7</td>\n",
       "    </tr>\n",
       "    <tr>\n",
       "      <th>14</th>\n",
       "      <td>165</td>\n",
       "      <td>Zwickau</td>\n",
       "      <td>26.2</td>\n",
       "      <td>30.3</td>\n",
       "      <td>16.6</td>\n",
       "      <td>10.8</td>\n",
       "      <td>7.6</td>\n",
       "      <td>2.9</td>\n",
       "      <td>5.6</td>\n",
       "    </tr>\n",
       "    <tr>\n",
       "      <th>15</th>\n",
       "      <td>166</td>\n",
       "      <td>Vogtlandkreis</td>\n",
       "      <td>26.4</td>\n",
       "      <td>30.2</td>\n",
       "      <td>16.0</td>\n",
       "      <td>11.4</td>\n",
       "      <td>7.2</td>\n",
       "      <td>3.0</td>\n",
       "      <td>5.7</td>\n",
       "    </tr>\n",
       "  </tbody>\n",
       "</table>\n",
       "</div>"
      ],
      "text/plain": [
       "    AGS                                     Ort  AfD_%  CDU_%  LINKE_%  SPD_%  \\\n",
       "0   151                             Nordsachsen   26.9   29.4     14.7   12.5   \n",
       "1   152                               Leipzig I   20.8   23.5     19.5   12.9   \n",
       "2   153                              Leipzig II   16.0   21.9     22.5   13.1   \n",
       "3   154                            Leipzig-Land   26.9   30.1     14.7   11.4   \n",
       "4   155                                  Meißen   32.9   26.1     13.3    8.7   \n",
       "5   156                               Bautzen I   32.8   27.1     14.2    9.1   \n",
       "6   157                                 Görlitz   32.9   26.7     14.0    9.3   \n",
       "7   158        Sächsische Schweiz-Osterzgebirge   35.5   25.6     12.8    7.8   \n",
       "8   159                               Dresden I   23.1   24.4     17.1   10.6   \n",
       "9   160                 Dresden II - Bautzen II   23.3   23.1     17.3    9.7   \n",
       "10  161                           Mittelsachsen   31.2   27.7     14.5    9.7   \n",
       "11  162                                Chemnitz   24.3   24.9     19.2   11.9   \n",
       "12  163  Chemnitzer Umland - Erzgebirgskreis II   26.8   30.6     15.3   10.6   \n",
       "13  164                       Erzgebirgskreis I   29.2   31.0     14.1    9.4   \n",
       "14  165                                 Zwickau   26.2   30.3     16.6   10.8   \n",
       "15  166                           Vogtlandkreis   26.4   30.2     16.0   11.4   \n",
       "\n",
       "    FDP_%  GRÜNE_%  andere  \n",
       "0     7.9      2.6     6.0  \n",
       "1     8.5      7.1     7.7  \n",
       "2     8.6     10.4     7.5  \n",
       "3     8.1      3.2     5.7  \n",
       "4     8.7      3.7     6.6  \n",
       "5     7.6      2.4     6.9  \n",
       "6     7.0      2.9     7.2  \n",
       "7     8.3      3.0     7.0  \n",
       "8    10.3      7.7     6.8  \n",
       "9     9.6      9.0     8.1  \n",
       "10    7.9      2.8     6.2  \n",
       "11    8.4      4.7     6.7  \n",
       "12    7.7      2.8     6.3  \n",
       "13    7.4      2.2     6.7  \n",
       "14    7.6      2.9     5.6  \n",
       "15    7.2      3.0     5.7  "
      ]
     },
     "execution_count": 24,
     "metadata": {},
     "output_type": "execute_result"
    }
   ],
   "source": []
  },
  {
   "cell_type": "code",
   "execution_count": null,
   "id": "90fec38b",
   "metadata": {},
   "outputs": [],
   "source": []
  },
  {
   "cell_type": "code",
   "execution_count": null,
   "id": "c1dee58a",
   "metadata": {},
   "outputs": [],
   "source": []
  },
  {
   "cell_type": "code",
   "execution_count": null,
   "id": "edfb8289",
   "metadata": {},
   "outputs": [],
   "source": []
  },
  {
   "cell_type": "code",
   "execution_count": null,
   "id": "3bd33b13",
   "metadata": {},
   "outputs": [],
   "source": []
  }
 ],
 "metadata": {
  "hide_input": false,
  "kernelspec": {
   "display_name": "Python 3",
   "language": "python",
   "name": "python3"
  },
  "language_info": {
   "codemirror_mode": {
    "name": "ipython",
    "version": 3
   },
   "file_extension": ".py",
   "mimetype": "text/x-python",
   "name": "python",
   "nbconvert_exporter": "python",
   "pygments_lexer": "ipython3",
   "version": "3.9.5"
  },
  "toc": {
   "base_numbering": 1,
   "nav_menu": {},
   "number_sections": true,
   "sideBar": true,
   "skip_h1_title": false,
   "title_cell": "Table of Contents",
   "title_sidebar": "Contents",
   "toc_cell": false,
   "toc_position": {},
   "toc_section_display": true,
   "toc_window_display": false
  },
  "varInspector": {
   "cols": {
    "lenName": 16,
    "lenType": 16,
    "lenVar": 40
   },
   "kernels_config": {
    "python": {
     "delete_cmd_postfix": "",
     "delete_cmd_prefix": "del ",
     "library": "var_list.py",
     "varRefreshCmd": "print(var_dic_list())"
    },
    "r": {
     "delete_cmd_postfix": ") ",
     "delete_cmd_prefix": "rm(",
     "library": "var_list.r",
     "varRefreshCmd": "cat(var_dic_list()) "
    }
   },
   "types_to_exclude": [
    "module",
    "function",
    "builtin_function_or_method",
    "instance",
    "_Feature"
   ],
   "window_display": false
  }
 },
 "nbformat": 4,
 "nbformat_minor": 5
}
